{
 "cells": [
  {
   "cell_type": "code",
   "execution_count": null,
   "metadata": {},
   "outputs": [],
   "source": [
    "import os "
   ]
  },
  {
   "cell_type": "code",
   "execution_count": null,
   "metadata": {},
   "outputs": [],
   "source": [
    "train_path = '/media/space/ssd_1_tb_evo_sumsung/MishaHW/train_embeddings.tsv'\n",
    "test_path = '/media/space/ssd_1_tb_evo_sumsung/MishaHW/test_embeddings.tsv'"
   ]
  },
  {
   "cell_type": "code",
   "execution_count": null,
   "metadata": {},
   "outputs": [],
   "source": [
    "path_foldes = '/media/space/ssd_1_tb_evo_sumsung/MishaHW/20news-bydate-train'\n",
    "\n",
    "labels = os.listdir(path_foldes)\n",
    "for catalog in labels:\n",
    "    include_catalog = os.listdir(os.path.join(path_foldes, catalog))\n",
    "    for file in include_catalog:\n",
    "        if os.path.isdir(os.path.join(path_foldes, f'{catalog}/{file}')):\n",
    "            labels.append(f'{catalog}/{file}')"
   ]
  },
  {
   "cell_type": "code",
   "execution_count": null,
   "metadata": {},
   "outputs": [],
   "source": [
    "def dataloader(filepath):\n",
    "    x = list()\n",
    "    y = list()\n",
    "    with open(filepath) as f:\n",
    "        lines = f.readlines()\n",
    "        for line in lines:\n",
    "            split_data = line.split()\n",
    "            class_label = split_data[0].split('/')[0]\n",
    "            x_data = list(map(float, split_data[1:]))\n",
    "            \n",
    "            x.append(x_data)\n",
    "            y.append(class_label)\n",
    "    return x, y"
   ]
  },
  {
   "cell_type": "code",
   "execution_count": null,
   "metadata": {},
   "outputs": [],
   "source": [
    "X_train, y_train = dataloader(train_path)\n",
    "X_test, y_test = dataloader(test_path)"
   ]
  },
  {
   "cell_type": "code",
   "execution_count": null,
   "metadata": {},
   "outputs": [],
   "source": [
    "len(set(y_train))"
   ]
  },
  {
   "cell_type": "code",
   "execution_count": null,
   "metadata": {},
   "outputs": [],
   "source": [
    "encode = {}\n",
    "count = 0 \n",
    "for label in set(y_train):\n",
    "    encode[label] = count\n",
    "    count += 1"
   ]
  },
  {
   "cell_type": "code",
   "execution_count": null,
   "metadata": {},
   "outputs": [],
   "source": [
    "Y_train = []\n",
    "for label in y_train:\n",
    "    if label in encode.keys():\n",
    "            Y_train.append(encode[label])\n",
    "y_train = Y_train"
   ]
  },
  {
   "cell_type": "code",
   "execution_count": null,
   "metadata": {},
   "outputs": [],
   "source": [
    "Y_test = []\n",
    "for label in y_test:\n",
    "    if label in encode.keys():\n",
    "            Y_test.append(encode[label])\n",
    "y_test = Y_test"
   ]
  },
  {
   "cell_type": "code",
   "execution_count": null,
   "metadata": {},
   "outputs": [],
   "source": [
    "import numpy as np\n",
    "from tqdm import tqdm"
   ]
  },
  {
   "cell_type": "code",
   "execution_count": null,
   "metadata": {},
   "outputs": [],
   "source": [
    "from sklearn import svm\n",
    "import time\n",
    "import torch\n",
    "import torch.nn as nn\n",
    "import torch.optim as optim\n",
    "from torch.utils.data import TensorDataset, DataLoader"
   ]
  },
  {
   "cell_type": "code",
   "execution_count": null,
   "metadata": {},
   "outputs": [],
   "source": [
    "class MLPModel(nn.Module):\n",
    "    def __init__(self, input_size, hidden_size1, hidden_size2, output_size):\n",
    "        super(MLPModel, self).__init__()\n",
    "        self.fc1 = nn.Linear(input_size, hidden_size1)\n",
    "        self.relu1 = nn.ReLU()\n",
    "        self.fc2 = nn.Linear(hidden_size1, hidden_size2)\n",
    "        self.relu2 = nn.ReLU()\n",
    "        self.fc3 = nn.Linear(hidden_size2, output_size)\n",
    "\n",
    "    def forward(self, x):\n",
    "        x = self.fc1(x)\n",
    "        x = self.relu1(x)\n",
    "        x = self.fc2(x)\n",
    "        x = self.relu2(x)\n",
    "        x = self.fc3(x)\n",
    "        return x\n"
   ]
  },
  {
   "cell_type": "code",
   "execution_count": null,
   "metadata": {},
   "outputs": [],
   "source": [
    "def fit_MLP(model, X, y, epochs):\n",
    "\n",
    "    start_time = time.time()\n",
    "\n",
    "    criterion = nn.CrossEntropyLoss()\n",
    "    optimizer = optim.Adam(model.parameters(), lr=0.001)\n",
    "\n",
    "    x_train_tensor = torch.Tensor(X)\n",
    "    y_train_tensor = torch.LongTensor(y)\n",
    "\n",
    "    dataset = TensorDataset(x_train_tensor, y_train_tensor)\n",
    "    dataloader = DataLoader(dataset, batch_size=64, shuffle=True)\n",
    "    for epoch in range(epochs):\n",
    "        for inputs, labels in dataloader:\n",
    "            optimizer.zero_grad()\n",
    "            outputs = model(inputs)\n",
    "            loss = criterion(outputs, labels)\n",
    "            loss.backward()\n",
    "            optimizer.step()\n",
    "\n",
    "        #print(f'Epoch [{epoch+1}/{epochs}], Loss: {loss.item()}')\n",
    "    return model, time.time() - start_time\n",
    "\n",
    "def eval_MLP(model, X):\n",
    "    answer = list()\n",
    "    for item in tqdm(X, desc = \"Evaluation\"):\n",
    "        model.eval()\n",
    "        with torch.no_grad():\n",
    "            y_pred = model(torch.Tensor(item))\n",
    "            answer.append(torch.argmax(y_pred).item())\n",
    "    return answer\n"
   ]
  },
  {
   "cell_type": "code",
   "execution_count": null,
   "metadata": {},
   "outputs": [],
   "source": [
    "model = svm.SVC(kernel='linear')\n",
    "\n",
    "model_poly = svm.SVC(kernel='poly', degree=3)\n",
    "\n",
    "model_rbf = svm.SVC(kernel='rbf')"
   ]
  },
  {
   "cell_type": "markdown",
   "metadata": {},
   "source": [
    "linear"
   ]
  },
  {
   "cell_type": "code",
   "execution_count": null,
   "metadata": {},
   "outputs": [],
   "source": [
    "start_time = time.time()\n",
    "model.fit(X_train, y_train)\n",
    "training_time = time.time() - start_time"
   ]
  },
  {
   "cell_type": "code",
   "execution_count": null,
   "metadata": {},
   "outputs": [],
   "source": [
    "y_pred = model.predict(X_test)"
   ]
  },
  {
   "cell_type": "code",
   "execution_count": null,
   "metadata": {},
   "outputs": [],
   "source": [
    "from collections import defaultdict\n",
    "import numpy as np\n",
    "\n",
    "def metrics_multiclass(true_labels, predicted_labels):\n",
    "    true_positive = defaultdict(int)\n",
    "    false_positive = defaultdict(int)\n",
    "    false_negative = defaultdict(int)\n",
    "    true_negative = defaultdict(int)\n",
    "\n",
    "    unique_classes = set(true_labels) | set(predicted_labels)\n",
    "    for cls in unique_classes:\n",
    "        for t, p in zip(true_labels, predicted_labels):\n",
    "            if t == cls and p == cls:\n",
    "                true_positive[cls] += 1\n",
    "            elif t == cls and p != cls:\n",
    "                false_negative[cls] += 1\n",
    "            elif t != cls and p == cls:\n",
    "                false_positive[cls] += 1\n",
    "            elif t != cls and p != cls:\n",
    "                true_negative[cls] += 1\n",
    "\n",
    "    precision = {}\n",
    "    recall = {}\n",
    "    f1_score = {}\n",
    "    correct_predictions = 0\n",
    "\n",
    "    for cls in unique_classes:\n",
    "        precision[cls] = (true_positive[cls] / (true_positive[cls] + false_positive[cls])) if (true_positive[cls] + false_positive[cls]) > 0 else 0\n",
    "        recall[cls] = (true_positive[cls] / (true_positive[cls] + false_negative[cls])) if (true_positive[cls] + false_negative[cls]) > 0 else 0\n",
    "        f1_score[cls] = (2 * precision[cls] * recall[cls] / (precision[cls] + recall[cls])) if (precision[cls] + recall[cls]) > 0 else 0\n",
    "        correct_predictions += true_positive[cls]\n",
    "\n",
    "    avg_precision = np.mean(list(precision.values()))\n",
    "    avg_recall = np.mean(list(recall.values()))\n",
    "    avg_f1_score = np.mean(list(f1_score.values()))\n",
    "    total_accuracy = correct_predictions / len(true_labels)\n",
    "\n",
    "    return avg_precision, avg_recall, avg_f1_score, total_accuracy"
   ]
  },
  {
   "cell_type": "code",
   "execution_count": null,
   "metadata": {},
   "outputs": [],
   "source": [
    "avg_precision, avg_recall, avg_f1, accuracy = metrics_multiclass(y_test, y_pred)\n",
    "print(\"Precision:\", avg_precision)\n",
    "print(\"Recall:\", avg_recall)\n",
    "print(\"F1 Score:\", avg_f1)\n",
    "print(\"Total Accuracy:\", accuracy)\n",
    "print(f\"Training-time: {training_time} sec\")"
   ]
  },
  {
   "cell_type": "code",
   "execution_count": null,
   "metadata": {},
   "outputs": [],
   "source": [
    "start_time = time.time()\n",
    "model_poly.fit(X_train, y_train)\n",
    "training_time = time.time() - start_time"
   ]
  },
  {
   "cell_type": "code",
   "execution_count": null,
   "metadata": {},
   "outputs": [],
   "source": [
    "y_pred = model_poly.predict(X_test)"
   ]
  },
  {
   "cell_type": "code",
   "execution_count": null,
   "metadata": {},
   "outputs": [],
   "source": [
    "avg_precision, avg_recall, avg_f1, accuracy = metrics_multiclass(y_test, y_pred)\n",
    "print(\"Precision:\", avg_precision)\n",
    "print(\"Recall:\", avg_recall)\n",
    "print(\"F1 Score:\", avg_f1)\n",
    "print(\"Total Accuracy:\", accuracy)\n",
    "print(f\"Training-time: {training_time} sec\")"
   ]
  },
  {
   "cell_type": "code",
   "execution_count": null,
   "metadata": {},
   "outputs": [],
   "source": [
    "start_time = time.time()\n",
    "model_rbf.fit(X_train, y_train)\n",
    "training_time = time.time() - start_time"
   ]
  },
  {
   "cell_type": "code",
   "execution_count": null,
   "metadata": {},
   "outputs": [],
   "source": [
    "y_pred = model_rbf.predict(X_test)"
   ]
  },
  {
   "cell_type": "code",
   "execution_count": null,
   "metadata": {},
   "outputs": [],
   "source": [
    "avg_precision, avg_recall, avg_f1, accuracy = metrics_multiclass(y_test, y_pred)\n",
    "print(\"Precision:\", avg_precision)\n",
    "print(\"Recall:\", avg_recall)\n",
    "print(\"F1 Score:\", avg_f1)\n",
    "print(\"Total Accuracy:\", accuracy)\n",
    "print(f\"Training-time: {training_time} sec\")"
   ]
  },
  {
   "cell_type": "code",
   "execution_count": null,
   "metadata": {},
   "outputs": [],
   "source": [
    "input_size = np.array(X_train).shape[1]\n",
    "output_size = len(set(y_train))\n",
    "\n",
    "hidden_size1 = 50\n",
    "hidden_size2 = 40\n",
    "\n",
    "num_epochs = 100\n",
    "\n",
    "model_mlp = MLPModel(input_size, hidden_size1, hidden_size2, output_size)\n",
    "mlp, training_time = fit_MLP(model_mlp, X_train, y_train, 60)"
   ]
  },
  {
   "cell_type": "code",
   "execution_count": null,
   "metadata": {},
   "outputs": [],
   "source": [
    "y_pred = eval_MLP(mlp, X_test)"
   ]
  },
  {
   "cell_type": "code",
   "execution_count": null,
   "metadata": {},
   "outputs": [],
   "source": [
    "avg_precision, avg_recall, avg_f1, accuracy = metrics_multiclass(y_test, y_pred)\n",
    "print(\"Precision:\", avg_precision)\n",
    "print(\"Recall:\", avg_recall)\n",
    "print(\"F1 Score:\", avg_f1)\n",
    "print(\"Total Accuracy:\", accuracy)\n",
    "print(f\"Training-time: {training_time} sec\")"
   ]
  },
  {
   "cell_type": "code",
   "execution_count": null,
   "metadata": {},
   "outputs": [],
   "source": [
    "len(X_train)"
   ]
  },
  {
   "cell_type": "code",
   "execution_count": null,
   "metadata": {},
   "outputs": [],
   "source": [
    "kernel = ['Linear', 'Poly', 'RBF']\n",
    "for i, m in enumerate([model, model_poly, model_rbf]):\n",
    "    start_time = time.time()\n",
    "    m.fit(X_train[:8000], y_train[:8000])\n",
    "    training_time = time.time() - start_time\n",
    "    y_pred = m.predict(X_test)\n",
    "    avg_precision, avg_recall, avg_f1, accuracy = metrics_multiclass(y_test, y_pred)\n",
    "    print(f\"Model kernel: {kernel[i]}\")\n",
    "    print(\"Precision:\", avg_precision)\n",
    "    print(\"Recall:\", avg_recall)\n",
    "    print(\"F1 Score:\", avg_f1)\n",
    "    print(\"Total Accuracy:\", accuracy)\n",
    "    print(f\"Training-time: {training_time} sec\")\n",
    "    print(\"\")\n",
    "\n",
    "input_size = np.array(X_train[:8000]).shape[1]\n",
    "output_size = 20\n",
    "\n",
    "hidden_size1 = 50\n",
    "hidden_size2 = 40\n",
    "\n",
    "num_epochs = 100\n",
    "\n",
    "model_mlp = MLPModel(input_size, hidden_size1, hidden_size2, output_size)\n",
    "mlp, training_time = fit_MLP(model_mlp, X_train[:8000], y_train[:8000], 60)\n",
    "\n",
    "y_pred = eval_MLP(mlp, X_test)\n",
    "avg_precision, avg_recall, avg_f1, accuracy = metrics_multiclass(y_test, y_pred)\n",
    "print()\n",
    "print(\"Model: MLP\")\n",
    "print(\"Precision:\", avg_precision)\n",
    "print(\"Recall:\", avg_recall)\n",
    "print(\"F1 Score:\", avg_f1)\n",
    "print(\"Total Accuracy:\", accuracy)\n",
    "print(f\"Training-time: {training_time} sec\")"
   ]
  },
  {
   "cell_type": "code",
   "execution_count": null,
   "metadata": {},
   "outputs": [],
   "source": [
    "kernel = ['Linear', 'Poly', 'RBF']\n",
    "for i, m in enumerate([model, model_poly, model_rbf]):\n",
    "    start_time = time.time()\n",
    "    m.fit(X_train[:4000], y_train[:4000])\n",
    "    training_time = time.time() - start_time\n",
    "    y_pred = m.predict(X_test)\n",
    "    avg_precision, avg_recall, avg_f1, accuracy = metrics_multiclass(y_test, y_pred)\n",
    "    print(f\"Model kernel: {kernel[i]}\")\n",
    "    print(\"Precision:\", avg_precision)\n",
    "    print(\"Recall:\", avg_recall)\n",
    "    print(\"F1 Score:\", avg_f1)\n",
    "    print(\"Total Accuracy:\", accuracy)\n",
    "    print(f\"Training-time: {training_time} sec\")\n",
    "    print(\"\")\n",
    "\n",
    "input_size = np.array(X_train[:4000]).shape[1]\n",
    "output_size = 20\n",
    "\n",
    "hidden_size1 = 50\n",
    "hidden_size2 = 40\n",
    "\n",
    "num_epochs = 100\n",
    "\n",
    "model_mlp = MLPModel(input_size, hidden_size1, hidden_size2, output_size)\n",
    "mlp, training_time = fit_MLP(model_mlp, X_train[:4000], y_train[:4000], 60)\n",
    "\n",
    "y_pred = eval_MLP(mlp, X_test)\n",
    "avg_precision, avg_recall, avg_f1, accuracy = metrics_multiclass(y_test, y_pred)\n",
    "print()\n",
    "print(\"Model: MLP\")\n",
    "print(\"Precision:\", avg_precision)\n",
    "print(\"Recall:\", avg_recall)\n",
    "print(\"F1 Score:\", avg_f1)\n",
    "print(\"Total Accuracy:\", accuracy)\n",
    "print(f\"Training-time: {training_time} sec\")"
   ]
  },
  {
   "cell_type": "code",
   "execution_count": null,
   "metadata": {},
   "outputs": [],
   "source": [
    "from sklearn.decomposition import PCA\n",
    "\n",
    "pca = PCA(n_components=60)\n",
    "pca.fit(X_train)"
   ]
  },
  {
   "cell_type": "code",
   "execution_count": null,
   "metadata": {},
   "outputs": [],
   "source": [
    "kernel = ['Linear', 'Poly', 'RBF']\n",
    "for i, m in enumerate([model, model_poly, model_rbf]):\n",
    "    start_time = time.time()\n",
    "    m.fit(pca.transform(X_train), y_train)\n",
    "    training_time = time.time() - start_time\n",
    "    y_pred = m.predict(pca.transform(X_test))\n",
    "    avg_precision, avg_recall, avg_f1, accuracy = metrics_multiclass(y_test, y_pred)\n",
    "    print(f\"Model kernel: {kernel[i]}\")\n",
    "    print(\"Precision:\", avg_precision)\n",
    "    print(\"Recall:\", avg_recall)\n",
    "    print(\"F1 Score:\", avg_f1)\n",
    "    print(\"Total Accuracy:\", accuracy)\n",
    "    print(f\"Training-time: {training_time} sec\")\n",
    "    print(\"\")\n",
    "\n",
    "input_size = np.array(pca.transform(X_train)).shape[1]\n",
    "output_size = 20\n",
    "\n",
    "hidden_size1 = 50\n",
    "hidden_size2 = 40\n",
    "\n",
    "num_epochs = 100\n",
    "\n",
    "model_mlp = MLPModel(input_size, hidden_size1, hidden_size2, output_size)\n",
    "mlp, training_time = fit_MLP(model_mlp, pca.transform(X_train), y_train, 60)\n",
    "\n",
    "y_pred = eval_MLP(mlp, pca.transform(X_test))\n",
    "avg_precision, avg_recall, avg_f1, accuracy = metrics_multiclass(y_test, y_pred)\n",
    "print()\n",
    "print(\"Model: MLP\")\n",
    "print(\"Precision:\", avg_precision)\n",
    "print(\"Recall:\", avg_recall)\n",
    "print(\"F1 Score:\", avg_f1)\n",
    "print(\"Total Accuracy:\", accuracy)\n",
    "print(f\"Training-time: {training_time} sec\")"
   ]
  },
  {
   "cell_type": "code",
   "execution_count": null,
   "metadata": {},
   "outputs": [],
   "source": [
    "pca = PCA(n_components=80)\n",
    "pca.fit(X_train)"
   ]
  },
  {
   "cell_type": "code",
   "execution_count": null,
   "metadata": {},
   "outputs": [],
   "source": [
    "kernel = ['Linear', 'Poly', 'RBF']\n",
    "for i, m in enumerate([model, model_poly, model_rbf]):\n",
    "    start_time = time.time()\n",
    "    m.fit(pca.transform(X_train), y_train)\n",
    "    training_time = time.time() - start_time\n",
    "    y_pred = m.predict(pca.transform(X_test))\n",
    "    avg_precision, avg_recall, avg_f1, accuracy = metrics_multiclass(y_test, y_pred)\n",
    "    print(f\"Model kernel: {kernel[i]}\")\n",
    "    print(\"Precision:\", avg_precision)\n",
    "    print(\"Recall:\", avg_recall)\n",
    "    print(\"F1 Score:\", avg_f1)\n",
    "    print(\"Total Accuracy:\", accuracy)\n",
    "    print(f\"Training-time: {training_time} sec\")\n",
    "    print(\"\")\n",
    "\n",
    "input_size = np.array(pca.transform(X_train)).shape[1]\n",
    "output_size = 20\n",
    "\n",
    "hidden_size1 = 50\n",
    "hidden_size2 = 40\n",
    "\n",
    "num_epochs = 100\n",
    "\n",
    "model_mlp = MLPModel(input_size, hidden_size1, hidden_size2, output_size)\n",
    "mlp, training_time = fit_MLP(model_mlp, pca.transform(X_train), y_train, 60)\n",
    "\n",
    "y_pred = eval_MLP(mlp, pca.transform(X_test))\n",
    "avg_precision, avg_recall, avg_f1, accuracy = metrics_multiclass(y_test, y_pred)\n",
    "print()\n",
    "print(\"Model: MLP\")\n",
    "print(\"Precision:\", avg_precision)\n",
    "print(\"Recall:\", avg_recall)\n",
    "print(\"F1 Score:\", avg_f1)\n",
    "print(\"Total Accuracy:\", accuracy)\n",
    "print(f\"Training-time: {training_time} sec\")"
   ]
  },
  {
   "cell_type": "code",
   "execution_count": null,
   "metadata": {},
   "outputs": [],
   "source": [
    "np.array(X_train).shape"
   ]
  },
  {
   "cell_type": "code",
   "execution_count": null,
   "metadata": {},
   "outputs": [],
   "source": [
    "x_train_ext = np.concatenate((X_train, np.sin(X_train), np.cos(X_train)), axis=1)\n",
    "x_test_ext = np.concatenate((X_test, np.sin(X_test), np.cos(X_test)), axis=1)"
   ]
  },
  {
   "cell_type": "code",
   "execution_count": null,
   "metadata": {},
   "outputs": [],
   "source": [
    "kernel = ['Linear', 'Poly', 'RBF']\n",
    "for i, m in enumerate([model, model_poly, model_rbf]):\n",
    "    start_time = time.time()\n",
    "    m.fit(x_train_ext, y_train)\n",
    "    training_time = time.time() - start_time\n",
    "    y_pred = m.predict(x_test_ext)\n",
    "    avg_precision, avg_recall, avg_f1, accuracy = metrics_multiclass(y_test, y_pred)\n",
    "    print(f\"Model kernel: {kernel[i]}\")\n",
    "    print(\"Precision:\", avg_precision)\n",
    "    print(\"Recall:\", avg_recall)\n",
    "    print(\"F1 Score:\", avg_f1)\n",
    "    print(\"Total Accuracy:\", accuracy)\n",
    "    print(f\"Training-time: {training_time} sec\")\n",
    "    print(\"\")\n",
    "\n",
    "input_size = np.array(x_train_ext).shape[1]\n",
    "output_size = 20\n",
    "\n",
    "hidden_size1 = 50\n",
    "hidden_size2 = 40\n",
    "\n",
    "num_epochs = 100\n",
    "\n",
    "model_mlp = MLPModel(input_size, hidden_size1, hidden_size2, output_size)\n",
    "mlp, training_time = fit_MLP(model_mlp, x_train_ext, y_train, 60)\n",
    "\n",
    "y_pred = eval_MLP(mlp, x_test_ext)\n",
    "avg_precision, avg_recall, avg_f1, accuracy = metrics_multiclass(y_test, y_pred)\n",
    "print()\n",
    "print(\"Model: MLP\")\n",
    "print(\"Precision:\", avg_precision)\n",
    "print(\"Recall:\", avg_recall)\n",
    "print(\"F1 Score:\", avg_f1)\n",
    "print(\"Total Accuracy:\", accuracy)\n",
    "print(f\"Training-time: {training_time} sec\")"
   ]
  }
 ],
 "metadata": {
  "kernelspec": {
   "display_name": "NLP",
   "language": "python",
   "name": "python3"
  },
  "language_info": {
   "codemirror_mode": {
    "name": "ipython",
    "version": 3
   },
   "file_extension": ".py",
   "mimetype": "text/x-python",
   "name": "python",
   "nbconvert_exporter": "python",
   "pygments_lexer": "ipython3",
   "version": "3.8.18"
  }
 },
 "nbformat": 4,
 "nbformat_minor": 2
}
