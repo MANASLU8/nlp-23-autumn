{
 "cells": [
  {
   "attachments": {},
   "cell_type": "markdown",
   "metadata": {},
   "source": [
    "# Laboratory work #6 (QA)"
   ]
  },
  {
   "cell_type": "code",
   "execution_count": null,
   "metadata": {},
   "outputs": [],
   "source": [
    "from huggingface_hub import hf_hub_download\n",
    "from llama_cpp import Llama\n",
    "\n",
    "from db_utils import ChromaDataBase"
   ]
  },
  {
   "cell_type": "code",
   "execution_count": null,
   "metadata": {},
   "outputs": [],
   "source": [
    "model_name = \"TheBloke/Mistral-7B-OpenOrca-GGUF\"\n",
    "model_file = \"mistral-7b-openorca.Q4_K_M.gguf\""
   ]
  },
  {
   "cell_type": "code",
   "execution_count": null,
   "metadata": {},
   "outputs": [],
   "source": [
    "model_path = hf_hub_download(model_name, filename=model_file)"
   ]
  },
  {
   "cell_type": "code",
   "execution_count": null,
   "metadata": {},
   "outputs": [],
   "source": [
    "model_kwargs = {\n",
    "  \"n_ctx\":4096,    # Context length to use\n",
    "  \"n_threads\":4,   # Number of CPU threads to use\n",
    "  \"n_gpu_layers\":0,# Number of model layers to offload to GPU. Set to 0 if only using CPU\n",
    "}\n",
    "\n",
    "## Instantiate model from downloaded file\n",
    "llm = Llama(model_path=model_path, **model_kwargs)"
   ]
  },
  {
   "cell_type": "code",
   "execution_count": null,
   "metadata": {},
   "outputs": [],
   "source": [
    "## Generation kwargs\n",
    "generation_kwargs = {\n",
    "    \"max_tokens\":200, # Max number of new tokens to generate\n",
    "    \"stop\":[\"<|endoftext|>\", \"</s>\"], # Text sequences to stop generation on\n",
    "    \"echo\":False, # Echo the prompt in the output\n",
    "    \"top_k\":1 # This is essentially greedy decoding, since the model will always return the highest-probability token. Set this value > 1 for sampling decoding\n",
    "}\n",
    "\n",
    "prompt = \"The meaning of life is \""
   ]
  },
  {
   "cell_type": "code",
   "execution_count": null,
   "metadata": {},
   "outputs": [],
   "source": [
    "res = llm(prompt, **generation_kwargs) # Res is a dictionary\n",
    "\n",
    "## Unpack and the generated text from the LLM response dictionary and print it\n",
    "print(res[\"choices\"][0][\"text\"])"
   ]
  },
  {
   "cell_type": "code",
   "execution_count": null,
   "metadata": {},
   "outputs": [],
   "source": [
    "db = ChromaDataBase()\n",
    "db.collection.count()"
   ]
  },
  {
   "cell_type": "code",
   "execution_count": null,
   "metadata": {},
   "outputs": [],
   "source": [
    "def answer_on(question, verbose=True):\n",
    "    result = db.query(\n",
    "        query_texts=[question],\n",
    "        n_results=10,\n",
    "        where={'class': 1}\n",
    "    )\n",
    "    \n",
    "    context = ' '.join(result['documents'][0])\n",
    "    prompt = f'Here is the context: {context}. Here is the question: {question}. Here is the answer to this question:'\n",
    "    \n",
    "    if verbose:\n",
    "        print(f'Prompt: {prompt}')\n",
    "    \n",
    "    res = llm(prompt, **generation_kwargs)\n",
    "    return res[\"choices\"][0][\"text\"]"
   ]
  },
  {
   "cell_type": "code",
   "execution_count": null,
   "metadata": {},
   "outputs": [],
   "source": [
    "questions = [\n",
    "    'Where is the Catalan pro-independence party?',\n",
    "    'Who was the president of US in 2018?',\n",
    "    'Who was the president of US in 2016?',\n",
    "    'How much forest is there in Slovenia?',\n",
    "    'Is Donald Trump Republican Party nominee?',\n",
    "    'Is Donald Trump Democratic Party nominee?',\n",
    "    'What does the new U.S. tax code target?',\n",
    "    'Who is Peru’s President in 2017?',\n",
    "    'Did Google and Apple joined court papers?',\n",
    "    'Was Silvio Berlusconi an Italian prime minister?'\n",
    "]\n",
    "answers = [\n",
    "    'Catalonia, Spain',\n",
    "    'Donald Trump',\n",
    "    'Barack Obama',\n",
    "    'About 60 percent of Slovenia is covered by forests',\n",
    "    'Yes',\n",
    "    'No',\n",
    "    'The new U.S. tax code targets high-tax states',\n",
    "    'Pedro Pablo Kuczynski',\n",
    "    'Yes',\n",
    "    'Yes'\n",
    "]\n",
    "\n",
    "for i in range(len(questions)):\n",
    "    output = answer_on(questions[i], verbose=True)\n",
    "    print(f'\\nQuestion #{i}:\\n{questions[i]}\\nPossible answer: {answers[i]}\\nLLM\\'s answer: {output}\\n')"
   ]
  }
 ],
 "metadata": {
  "kernelspec": {
   "display_name": "py38_clone",
   "language": "python",
   "name": "python3"
  },
  "language_info": {
   "codemirror_mode": {
    "name": "ipython",
    "version": 3
   },
   "file_extension": ".py",
   "mimetype": "text/x-python",
   "name": "python",
   "nbconvert_exporter": "python",
   "pygments_lexer": "ipython3",
   "version": "3.8.5"
  }
 },
 "nbformat": 4,
 "nbformat_minor": 2
}
