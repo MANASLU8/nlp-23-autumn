{
 "cells": [
  {
   "cell_type": "code",
   "execution_count": null,
   "id": "d7e35c2d93e3339d",
   "metadata": {},
   "outputs": [],
   "source": [
    "import os\n",
    "import re\n",
    "import json\n",
    "import pandas as pd\n",
    "import numpy as np\n",
    "import seaborn as sns\n",
    "from nltk.corpus import stopwords\n",
    "from math import log10\n",
    "from gensim.models import Word2Vec\n",
    "from sklearn.decomposition import PCA"
   ]
  },
  {
   "cell_type": "code",
   "execution_count": null,
   "id": "initial_id",
   "metadata": {},
   "outputs": [],
   "source": [
    "train_dir = os.path.realpath(\"../assets/annotated-corpus/train\")\n",
    "result_dir = os.path.realpath(\"../assets/wordcount/train\")"
   ]
  },
  {
   "cell_type": "code",
   "execution_count": null,
   "id": "2daf173c723b6ee9",
   "metadata": {},
   "outputs": [],
   "source": [
    "topics = os.listdir(train_dir)\n",
    "topics"
   ]
  },
  {
   "cell_type": "markdown",
   "id": "2bd6102f8a656476",
   "metadata": {
    "collapsed": false
   },
   "source": [
    "# Task 1"
   ]
  },
  {
   "cell_type": "code",
   "execution_count": null,
   "id": "2559dc3e03ad4875",
   "metadata": {},
   "outputs": [],
   "source": [
    "def get_stems_processed(filepath):\n",
    "    sentences = []\n",
    "    pattern = r\"([A-Za-z]+[-.@]?)+\\w*\\.?\"\n",
    "    with open(filepath) as f:\n",
    "        lines = \"\".join(f.readlines())\n",
    "        sentences_raw = lines.split(\"\\n\\n\")\n",
    "        for s in sentences_raw:\n",
    "            stems = []\n",
    "            words = s.split(\"\\n\")\n",
    "            if len(words) == 0 or words[0] == \"\":\n",
    "                continue\n",
    "            stems_raw = list(map(lambda x: x.split(\"\\t\")[1], words))\n",
    "            lemmas = list(map(lambda x: x.split(\"\\t\")[2], words))\n",
    "            for i in range(len(stems_raw)):\n",
    "                if lemmas[i] not in stopwords.words(\"english\") and re.match(pattern, lemmas[i]) is not None:\n",
    "                    stems.append(stems_raw[i])\n",
    "            sentences.append(stems)\n",
    "    return sentences"
   ]
  },
  {
   "cell_type": "code",
   "execution_count": null,
   "id": "d5021cd9226debb6",
   "metadata": {},
   "outputs": [],
   "source": [
    "def count_words_in_sentences(sentences):\n",
    "    word_count = {}\n",
    "    sentences_count = []\n",
    "    for sentence in sentences:\n",
    "        wbs_count = {}\n",
    "        for w in sentence:\n",
    "            if w not in wbs_count.keys():\n",
    "                wbs_count[w] = 0\n",
    "            wbs_count[w] += 1\n",
    "            if w not in word_count.keys():\n",
    "                word_count[w] = 0\n",
    "            word_count[w] += 1\n",
    "        sentences_count.append(wbs_count)\n",
    "    return word_count"
   ]
  },
  {
   "cell_type": "code",
   "execution_count": null,
   "id": "b110b36a52c8306e",
   "metadata": {},
   "outputs": [],
   "source": [
    "import datetime\n",
    "\n",
    "all_documents = []\n",
    "word_dict_raw = {}\n",
    "cntr = 0\n",
    "total_len = 0\n",
    "for t in topics:\n",
    "    total_len += len(os.listdir(os.path.join(train_dir, t)))\n",
    "print(f\"Total files for process: {total_len}\")\n",
    "\n",
    "for t in topics:\n",
    "    workdir = os.path.join(train_dir, t)\n",
    "    start_time = datetime.datetime.now()\n",
    "    for filename in os.listdir(workdir):\n",
    "        stems = get_stems_processed(os.path.join(workdir, filename))\n",
    "        all_documents.append(stems)\n",
    "        counts = count_words_in_sentences(stems)\n",
    "        for w in counts.keys():\n",
    "            if w not in word_dict_raw.keys():\n",
    "                word_dict_raw[w] = 0\n",
    "            word_dict_raw[w] += counts[w]\n",
    "        cntr += 1\n",
    "        if cntr % 1000 == 0:\n",
    "            print(f\"Processed {cntr} files. 1000 files per: {(datetime.datetime.now() - start_time).total_seconds()}s\")\n",
    "            start_time = datetime.datetime.now()"
   ]
  },
  {
   "cell_type": "code",
   "execution_count": null,
   "id": "8f0bb900731d4150",
   "metadata": {},
   "outputs": [],
   "source": [
    "word_dict = dict(word_dict_raw)\n",
    "\n",
    "for w in word_dict_raw.keys():\n",
    "    if word_dict_raw[w] < 3:\n",
    "        del word_dict[w]"
   ]
  },
  {
   "cell_type": "code",
   "execution_count": null,
   "id": "d43163f1a726311",
   "metadata": {},
   "outputs": [],
   "source": [
    "if not os.path.isdir(result_dir):\n",
    "    os.makedirs(result_dir, exist_ok=True)\n",
    "with open(os.path.join(result_dir, \"dictionary.json\"), \"w\") as f:\n",
    "    json.dump(word_dict, f, indent=1)"
   ]
  },
  {
   "cell_type": "code",
   "execution_count": null,
   "id": "cf8dd1e55e8e274e",
   "metadata": {},
   "outputs": [],
   "source": [
    "doc_names = []\n",
    "matrix_arr = []\n",
    "cnt = 0\n",
    "for t in topics:\n",
    "    workdir = os.path.join(train_dir, t)\n",
    "    start_time = datetime.datetime.now()\n",
    "    for filename in os.listdir(workdir):\n",
    "        doc_names.append(t + \"/\" + filename)\n",
    "        stems = get_stems_processed(os.path.join(workdir, filename))\n",
    "        counts = count_words_in_sentences(stems)\n",
    "        vec = []\n",
    "        for w in word_dict.keys():\n",
    "            if w in counts.keys():\n",
    "                vec.append(counts[w])\n",
    "            else:\n",
    "                vec.append(0)\n",
    "        matrix_arr.append(vec)\n",
    "        if sum(vec) == 0:\n",
    "            print(\"Zero vector for document\", filename)\n",
    "        cnt += 1\n",
    "        if cnt % 1000 == 0:\n",
    "            print(f\"Processed {cnt} files. 1000 Files Per: {(datetime.datetime.now() - start_time).total_seconds()}s\")\n",
    "            start_time = datetime.datetime.now()\n"
   ]
  },
  {
   "cell_type": "code",
   "execution_count": null,
   "id": "4d728bae1e5a8110",
   "metadata": {},
   "outputs": [],
   "source": [
    "m_len = len(matrix_arr)\n",
    "m_1 = pd.DataFrame(matrix_arr[:int(m_len/4)])\n",
    "m_1.columns = word_dict.keys()\n",
    "m_1.index = doc_names[:int(m_len/4)]"
   ]
  },
  {
   "cell_type": "code",
   "execution_count": null,
   "id": "63773b3839593cc8",
   "metadata": {},
   "outputs": [],
   "source": [
    "m_1.to_csv(os.path.join(result_dir, \"term-document.csv\"))"
   ]
  },
  {
   "cell_type": "code",
   "execution_count": null,
   "id": "88365367453b4408",
   "metadata": {},
   "outputs": [],
   "source": [
    "m_len = len(matrix_arr)\n",
    "m_1 = pd.DataFrame(matrix_arr[int(3*m_len/4):])\n",
    "m_1.columns = word_dict.keys()\n",
    "m_1.index = doc_names[int(3*m_len/4):]\n",
    "m_1.to_csv(os.path.join(result_dir, \"term-document.csv\"), mode=\"a\", header=False)"
   ]
  },
  {
   "cell_type": "code",
   "execution_count": null,
   "id": "a050b57e07cf57f3",
   "metadata": {},
   "outputs": [],
   "source": []
  },
  {
   "cell_type": "code",
   "execution_count": null,
   "id": "36106ec70f48c833",
   "metadata": {},
   "outputs": [],
   "source": [
    "matrix = pd.DataFrame(matrix_arr)\n",
    "matrix.columns = word_dict.keys()\n",
    "matrix.index = doc_names"
   ]
  },
  {
   "cell_type": "code",
   "execution_count": null,
   "id": "6702d77768a1421",
   "metadata": {},
   "outputs": [],
   "source": [
    "matrix.to_csv(os.path.join(result_dir, \"term-document.csv\"))"
   ]
  },
  {
   "cell_type": "markdown",
   "id": "64b6976a8b02fb23",
   "metadata": {
    "collapsed": false
   },
   "source": [
    "# Task 2"
   ]
  },
  {
   "cell_type": "code",
   "execution_count": null,
   "id": "51d9dcb672e6d68",
   "metadata": {},
   "outputs": [],
   "source": [
    "def tf_idf(words, matrix):\n",
    "    total_words = sum(words.values())\n",
    "    total_documents = len(matrix.index)\n",
    "    result = []\n",
    "    for w in matrix.columns:\n",
    "        if w not in words:\n",
    "            result.append(0.0)\n",
    "            continue\n",
    "        t_f = words[w] / total_words\n",
    "        d_f = sum(matrix[w] > 0)\n",
    "        tfidf = t_f * (log10(total_documents + 1) - log10(d_f + 1))\n",
    "        result.append(tfidf)\n",
    "    return result"
   ]
  },
  {
   "cell_type": "code",
   "execution_count": null,
   "id": "4defd670ec7ee8bd",
   "metadata": {},
   "outputs": [],
   "source": [
    "import os\n",
    "import re\n",
    "from nltk import WordNetLemmatizer, SnowballStemmer\n",
    "from nltk.corpus import stopwords\n",
    "from pathlib import Path"
   ]
  },
  {
   "cell_type": "code",
   "execution_count": null,
   "id": "5e5ff41f7235a219",
   "metadata": {},
   "outputs": [],
   "source": [
    "def split_to_words(sentence):\n",
    "    words = re.findall(r\"\\w+@\\w+\\.\\w+|\\+\\d{1,3}-\\d{3}-\\d{3}-\\d{2}-\\d{2}|\\w+\", sentence)\n",
    "    return words"
   ]
  },
  {
   "cell_type": "code",
   "execution_count": null,
   "id": "8ff75febf3edacc1",
   "metadata": {},
   "outputs": [],
   "source": [
    "def split_to_sent(text):\n",
    "    text = re.sub(r\"(?<=&lt;).*?(?=&gt;)\", \" \", text)\n",
    "    text = re.sub(r\"&gt;\", \" \", text)\n",
    "    text = re.sub(r\"&lt;\", \" \", text)\n",
    "    sentences = re.split(\n",
    "        r\"(((?<!\\w\\.\\w.)(?<!\\s\\w\\.)(?<![A-Z][a-z]\\.)(?<=\\.|\\?|\\!)\\s(?=[A-Z]))|((?<![\\,\\-\\:])\\n(?=[A-Z]|\\\" )))\", text)[\n",
    "                ::4]\n",
    "    return sentences"
   ]
  },
  {
   "cell_type": "code",
   "execution_count": null,
   "id": "2aa70e8abb5a96a6",
   "metadata": {},
   "outputs": [],
   "source": [
    "def preprocess_text(text, by_sentences=False):\n",
    "    stemmer = SnowballStemmer(\"english\")\n",
    "    lemmatizer = WordNetLemmatizer()\n",
    "    sentences = split_to_sent(text)\n",
    "    result = []\n",
    "    for s in sentences:\n",
    "        sentence = []\n",
    "        for w in split_to_words(s):\n",
    "            w_processed = re.sub(r\"[.!?,]$\", \"\", w).lower()\n",
    "            if lemmatizer.lemmatize(w_processed) not in stopwords.words(\"english\"):\n",
    "                sentence.append(stemmer.stem(w_processed))\n",
    "        if by_sentences:\n",
    "            result.append(sentence)\n",
    "        else:\n",
    "            result += sentence\n",
    "    return result"
   ]
  },
  {
   "cell_type": "code",
   "execution_count": null,
   "id": "3cb7fdae298659b2",
   "metadata": {},
   "outputs": [],
   "source": [
    "def vectorize_tf_idf(text, matrix):\n",
    "    preprocessed = preprocess_text(text)\n",
    "    text_dict = count_words_in_sentences([preprocessed])\n",
    "    return tf_idf(text_dict, matrix)"
   ]
  },
  {
   "cell_type": "code",
   "execution_count": null,
   "id": "9cd35ecb4b091b81",
   "metadata": {},
   "outputs": [],
   "source": [
    "matrix = pd.read_csv(os.path.join(result_dir, \"term-document.csv\"), index_col=0)"
   ]
  },
  {
   "cell_type": "code",
   "execution_count": null,
   "id": "bd61b3172b8d9297",
   "metadata": {},
   "outputs": [],
   "source": [
    "t1 = \"\"\"Arab forces carried out a terrorist attack on a US military base in Iraq\"\"\""
   ]
  },
  {
   "cell_type": "code",
   "execution_count": null,
   "id": "838f6dd06cf84563",
   "metadata": {},
   "outputs": [],
   "source": [
    "t2 = \"\"\"Oil prices rose due to tensions in the Middle East region\"\"\""
   ]
  },
  {
   "cell_type": "code",
   "execution_count": null,
   "id": "a4ca8f51c13acdee",
   "metadata": {},
   "outputs": [],
   "source": [
    "vectorize_tf_idf(t1, matrix)[:100]"
   ]
  },
  {
   "cell_type": "code",
   "execution_count": null,
   "id": "38f0fd44777bb3df",
   "metadata": {},
   "outputs": [],
   "source": [
    "vectorize_tf_idf(t2, matrix)[:100]"
   ]
  },
  {
   "cell_type": "markdown",
   "id": "9679d9c138a81573",
   "metadata": {
    "collapsed": false
   },
   "source": [
    "# Task 3"
   ]
  },
  {
   "cell_type": "code",
   "execution_count": null,
   "id": "f6a868997f2a78cc",
   "metadata": {},
   "outputs": [],
   "source": [
    "w2v = Word2Vec(sentences=[sentence for document in all_documents for sentence in document], epochs=40)\n",
    "w2v.save(os.path.join(train_dir, \"..\", \"w2v_weights\"))"
   ]
  },
  {
   "cell_type": "code",
   "execution_count": null,
   "id": "2ce14f862dcbacbd",
   "metadata": {},
   "outputs": [],
   "source": [
    "w2v.wv.most_similar(\"Iraq\")"
   ]
  },
  {
   "cell_type": "markdown",
   "id": "59cceb592e3bfd59",
   "metadata": {
    "collapsed": false
   },
   "source": [
    "# Task 4"
   ]
  },
  {
   "cell_type": "code",
   "execution_count": null,
   "id": "6644db1b68e6d284",
   "metadata": {},
   "outputs": [],
   "source": [
    "def cosine_similarity(a, b):\n",
    "    return np.dot(a, b) / (np.linalg.norm(a) * np.linalg.norm(b))"
   ]
  },
  {
   "cell_type": "code",
   "execution_count": null,
   "id": "44368cd7f4aec1a0",
   "metadata": {},
   "outputs": [],
   "source": [
    "cosine_similarity(w2v.wv[\"politician\"], w2v.wv[\"Iraq\"])"
   ]
  },
  {
   "cell_type": "code",
   "execution_count": null,
   "id": "c1e9b4f634e29e44",
   "metadata": {},
   "outputs": [],
   "source": [
    "def draw_words(terms, vectors_source):\n",
    "    pca = PCA(n_components=2)\n",
    "    vectors_2d = pd.DataFrame(pca.fit_transform([vectors_source[term] for term in terms]))\n",
    "    vectors_2d.index = terms\n",
    "    vectors_2d.columns = [\"x\", \"y\"]\n",
    "    p = sns.scatterplot(data=vectors_2d, x=\"x\", y=\"y\")\n",
    "\n",
    "    for i in vectors_2d.index:\n",
    "        item = vectors_2d.loc[i]\n",
    "        p.text(item.x, item.y, i)\n",
    "    return p"
   ]
  },
  {
   "cell_type": "code",
   "execution_count": null,
   "id": "99ad3a591c7a4730",
   "metadata": {},
   "outputs": [],
   "source": [
    "terms_to_check = [\"Iraq\", \"time\", \"world\", \"true\", \"money\", \"oil\",\n",
    "                  \"wrong\", \"human\", \"person\", \"tell\", \"see\", \"opinion\", \"think\", \"view\", \"religion\", \"muslim\", \"islam\",]\n",
    "draw_words(terms_to_check, w2v.wv)"
   ]
  },
  {
   "cell_type": "markdown",
   "id": "29b07d34084b3df5",
   "metadata": {
    "collapsed": false
   },
   "source": [
    "# Task 5"
   ]
  },
  {
   "cell_type": "code",
   "execution_count": null,
   "id": "292ffa81a7262ea1",
   "metadata": {},
   "outputs": [],
   "source": [
    "def transform_to_compare(vectors):\n",
    "    pca = PCA(n_components=len(w2v.wv[0]))\n",
    "    transformed = pca.fit_transform(vectors)\n",
    "    return transformed"
   ]
  },
  {
   "cell_type": "code",
   "execution_count": null,
   "id": "6b2500ff8a80d19c",
   "metadata": {},
   "outputs": [],
   "source": [
    "terms_vectorized = [vectorize_tf_idf(i, matrix) for i in matrix.columns]"
   ]
  },
  {
   "cell_type": "markdown",
   "id": "2220719f794f1158",
   "metadata": {
    "collapsed": false
   },
   "source": [
    "# Task 6"
   ]
  },
  {
   "cell_type": "code",
   "execution_count": null,
   "id": "11173fe88a13984d",
   "metadata": {},
   "outputs": [],
   "source": [
    "to_cmp = transform_to_compare(terms_vectorized)"
   ]
  },
  {
   "cell_type": "code",
   "execution_count": null,
   "id": "c879f31ce86d9db6",
   "metadata": {},
   "outputs": [],
   "source": [
    "terms_to_compare = pd.DataFrame(to_cmp)\n",
    "terms_to_compare.index = matrix.columns"
   ]
  },
  {
   "cell_type": "code",
   "execution_count": null,
   "id": "7391dc72628e98c0",
   "metadata": {},
   "outputs": [],
   "source": [
    "def compare_methods(w1, w2):\n",
    "    print(\"Results for words\", w1, \"and\", w2)\n",
    "    print(\"W2V:\", cosine_similarity(w2v.wv[w1], w2v.wv[w2]))\n",
    "    print(\"Tf-Idf:\", cosine_similarity(terms_to_compare.loc[w1], terms_to_compare.loc[w2]))\n",
    "    print()"
   ]
  },
  {
   "cell_type": "code",
   "execution_count": null,
   "id": "2f39e2a38b956be5",
   "metadata": {},
   "outputs": [],
   "source": [
    "compare_methods(\"time\", \"muslim\")\n",
    "compare_methods(\"say\", \"tell\")\n",
    "compare_methods(\"person\", \"time\")"
   ]
  },
  {
   "cell_type": "code",
   "execution_count": null,
   "id": "a59991ba89e138f4",
   "metadata": {},
   "outputs": [],
   "source": [
    "tfidf_data = {}\n",
    "for i in range(len(matrix.columns)):\n",
    "    tfidf_data[matrix.columns[i]] = terms_vectorized[i]"
   ]
  },
  {
   "cell_type": "code",
   "execution_count": null,
   "id": "97b13c3080846ab6",
   "metadata": {},
   "outputs": [],
   "source": [
    "draw_words(terms_to_check, tfidf_data)"
   ]
  },
  {
   "cell_type": "markdown",
   "id": "1f88a9abe5f5cb37",
   "metadata": {
    "collapsed": false
   },
   "source": [
    "# Task 7"
   ]
  },
  {
   "cell_type": "code",
   "execution_count": null,
   "id": "80826ce08ee5a6d3",
   "metadata": {},
   "outputs": [],
   "source": [
    "def vectorize(sentences, w2v):\n",
    "    result_vec = np.zeros(w2v.vector_size)\n",
    "    for s in sentences:\n",
    "        sentence_vec = np.zeros(w2v.vector_size)\n",
    "        for w in s:\n",
    "            if w2v.wv.has_index_for(w):\n",
    "                sentence_vec += w2v.wv[w]\n",
    "        sentence_vec = sentence_vec / len(s) if len(s) > 0 else np.zeros(w2v.vector_size)\n",
    "        result_vec += sentence_vec\n",
    "    result_vec = result_vec / len(sentences) if len(sentences) > 0 else np.zeros(w2v.vector_size)\n",
    "    return result_vec"
   ]
  },
  {
   "cell_type": "code",
   "execution_count": null,
   "id": "9375749ba3399b2b",
   "metadata": {},
   "outputs": [],
   "source": [
    "preprocess_text(t1, True)"
   ]
  },
  {
   "cell_type": "code",
   "execution_count": null,
   "id": "c16ddc9ebaeb5f86",
   "metadata": {},
   "outputs": [],
   "source": [
    "vectorize(preprocess_text(t1, True), w2v)"
   ]
  },
  {
   "cell_type": "markdown",
   "id": "1589de74e0bde7d6",
   "metadata": {
    "collapsed": false
   },
   "source": [
    " # Task 8"
   ]
  },
  {
   "cell_type": "code",
   "execution_count": null,
   "id": "e3c2237e03de079b",
   "metadata": {},
   "outputs": [],
   "source": [
    "w2v = Word2Vec.load(os.path.join(train_dir, \"..\", \"w2v_weights\"))\n",
    "vectorized_documents = {}\n",
    "for t in topics:\n",
    "    workdir = os.path.join(train_dir, t)\n",
    "    for filename in os.listdir(workdir):\n",
    "        stems = get_stems_processed(os.path.join(workdir, filename))\n",
    "        vectorized_documents[os.path.join(t, filename)] = vectorize(stems, w2v)"
   ]
  },
  {
   "cell_type": "code",
   "execution_count": null,
   "id": "d29a38f81b9629f6",
   "metadata": {},
   "outputs": [],
   "source": [
    "with open(os.path.join(train_dir, \"..\", \"train_embeddings.tsv\"), \"w\") as f:\n",
    "    for k in vectorized_documents.keys():\n",
    "        print(k.replace(\".tsv\", \"\"), *vectorized_documents[k], sep=\"\\t\", file=f)"
   ]
  },
  {
   "cell_type": "code",
   "execution_count": null,
   "id": "d8d2e4746877d67",
   "metadata": {},
   "outputs": [],
   "source": [
    "test_dir = os.path.realpath(\"../assets/annotated-corpus/test\")\n",
    "vectorized_documents = {}\n",
    "for t in topics:\n",
    "    workdir = os.path.join(test_dir, t)\n",
    "    for filename in os.listdir(workdir):\n",
    "        stems = get_stems_processed(os.path.join(workdir, filename))\n",
    "        vectorized_documents[os.path.join(t, filename)] = vectorize(stems, w2v)"
   ]
  },
  {
   "cell_type": "code",
   "execution_count": null,
   "id": "ec4d0303f4a39ce",
   "metadata": {},
   "outputs": [],
   "source": [
    "with open(os.path.join(train_dir, \"..\", \"test_embeddings.tsv\"), \"w\") as f:\n",
    "    for k in vectorized_documents.keys():\n",
    "        print(k.replace(\".tsv\", \"\"), *vectorized_documents[k], sep=\"\\t\", file=f)"
   ]
  },
  {
   "cell_type": "code",
   "execution_count": null,
   "id": "ea53bc8382ae3f7b",
   "metadata": {},
   "outputs": [],
   "source": []
  }
 ],
 "metadata": {
  "language_info": {
   "name": "python"
  }
 },
 "nbformat": 4,
 "nbformat_minor": 5
}
