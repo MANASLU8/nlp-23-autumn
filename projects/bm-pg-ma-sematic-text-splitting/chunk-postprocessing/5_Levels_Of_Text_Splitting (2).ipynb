{
  "cells": [
    {
      "cell_type": "markdown",
      "id": "a9663ad9-217c-46d3-befc-8ccabeba890b",
      "metadata": {
        "id": "a9663ad9-217c-46d3-befc-8ccabeba890b"
      },
      "source": [
        "# 5 Levels Of Text Splitting\n",
        "\n",
        "In this tutorial we are reviewing the 5 Levels Of Text Splitting. This is an unofficial list put together for fun and educational purposes.\n",
        "\n",
        "Ever try to put a long piece of text into ChatGPT but it tells you it’s too long? Or you're trying to give your application better long term memory, but it’s still just not quite working.\n",
        "\n",
        "One of the most effective strategies to improve performance of your language model applications is to split your large data into smaller pieces. This is call splitting or chunking (we'll use these terms interchangeably). In the world of multi-modal, splitting also applies to images.\n",
        "\n",
        "We are going to cover a lot, but if you make it to the end, I guarantee you’ll have a solid grasp on chunking theory, strategies, and resources to learn more.\n",
        "\n",
        "**Levels Of Text Splitting**\n",
        "* **Level 1: [Character Splitting](#CharacterSplitting)** - Simple static character chunks of data\n",
        "* **Level 2: [Recursive Character Text Splitting](#RecursiveCharacterSplitting)** - Recursive chunking based on a list of separators\n",
        "* **Level 3: [Document Specific Splitting](#DocumentSpecific)** - Various chunking methods for different document types (PDF, Python, Markdown)\n",
        "* **Level 4: [Semantic Splitting](#SemanticChunking)** - Embedding walk based chunking\n",
        "* **Level 5: [Agentic Splitting](#AgenticChunking)** - Experimental method of splitting text with an agent-like system. Good for if you believe that token cost will trend to $0.00\n",
        "* **\\*Bonus Level:\\*** **[Alternative Representation Chunking + Indexing](#BonusLevel)** - Derivative representations of your raw text that will aid in retrieval and indexing\n",
        "\n",
        "**Notebook resources:**\n",
        "* [Video Overview]() - Walkthrough of this code with commentary\n",
        "* [ChunkViz.com](https://www.chunkviz.com/) - Visual representation of chunk splitting methods\n",
        "* [RAGAS](https://github.com/explodinggradients/ragas) - Retrieval evaluation framework\n",
        "\n",
        "This tutorial was created with ❤️ by [Greg Kamradt](https://twitter.com/GregKamradt). MIT license, attribution is always welcome.\n",
        "\n",
        "This tutorial will use code from LangChain (`pip install langchain`) & Llama Index (`pip install llama-index`)\n",
        "\n",
        "**Evaluations**\n",
        "\n",
        "It's important to test your chunking strategies in retrieval evals. It doesn't matter how you chunk if the performance of your application isn't great.\n",
        "\n",
        "Eval Frameworks:\n",
        "\n",
        "* [LangChain Evals](https://python.langchain.com/docs/guides/evaluation/)\n",
        "* [Llama Index Evals](https://docs.llamaindex.ai/en/stable/module_guides/evaluating/root.html)\n",
        "* [RAGAS Evals](https://github.com/explodinggradients/ragas)\n",
        "\n",
        "I'm not going to demo evals for each method because success is domain specific. The arbitrary eval that I pick may not be suitable for your data. If anyone is interested in collaborating on a rigorous evaluation of different chunking strategies, please reach out (contact@dataindependent.com).\n",
        "\n",
        "If you only walk away from this tutorial with one thing have it be the **The Chunking Commandment**\n",
        "\n",
        "**The Chunking Commandment:** Your goal is not to chunk for chunking sake, our goal is to get our data in a format where it can be retrieved for value later.\n",
        "\n",
        "## Level 1: Character Splitting <a id=\"CharacterSplitting\"></a>\n",
        "Character splitting is the most basic form of splitting up your text. It is the process of simply dividing your text into N-character sized chunks regardless of their content or form.\n",
        "\n",
        "This method isn't recommended for any applications - but it's a great starting point for us to understand the basics.\n",
        "\n",
        "* **Pros:** Easy & Simple\n",
        "* **Cons:** Very rigid and doesn't take into account the structure of your text\n",
        "\n",
        "Concepts to know:\n",
        "* **Chunk Size** - The number of characters you would like in your chunks. 50, 100, 100,000, etc.\n",
        "* **Chunk Overlap** - The amount you would like your sequential chunks to overlap. This is to try to avoid cutting a single piece of context into multiple pieces. This will create duplicate data across chunks.\n",
        "\n",
        "First let's get some sample text"
      ]
    },
    {
      "cell_type": "code",
      "execution_count": null,
      "id": "c96299fc-30f5-4edf-ac23-23a29f9c7282",
      "metadata": {
        "id": "c96299fc-30f5-4edf-ac23-23a29f9c7282"
      },
      "outputs": [],
      "source": [
        "text = \"This is the text I would like to chunk up. It is the example text for this exercise\""
      ]
    },
    {
      "cell_type": "markdown",
      "id": "4e1cf67e-98d7-48bd-9867-f72be72e3f4a",
      "metadata": {
        "id": "4e1cf67e-98d7-48bd-9867-f72be72e3f4a"
      },
      "source": [
        "Then let's split this text manually"
      ]
    },
    {
      "cell_type": "code",
      "execution_count": null,
      "id": "f11fb88f-17ed-44c2-b4de-a8a527fe63c7",
      "metadata": {
        "id": "f11fb88f-17ed-44c2-b4de-a8a527fe63c7"
      },
      "outputs": [],
      "source": [
        "# Create a list that will hold your chunks\n",
        "chunks = []\n",
        "\n",
        "chunk_size = 35 # Characters\n",
        "\n",
        "# Run through the a range with the length of your text and iterate every chunk_size you want\n",
        "for i in range(0, len(text), chunk_size):\n",
        "    chunk = text[i:i + chunk_size]\n",
        "    chunks.append(chunk)\n",
        "chunks"
      ]
    },
    {
      "cell_type": "markdown",
      "id": "140085b7-c6af-4003-923c-73feb1825965",
      "metadata": {
        "id": "140085b7-c6af-4003-923c-73feb1825965"
      },
      "source": [
        "Congratulations! You just split your first text. We have long way to go but you're already making progress. Feel like a language model practitioner yet?\n",
        "\n",
        "When working with text in the language model world, we don't deal with raw strings. It is more common to work with documents. Documents are objects that hold the text you're concerned with, but also additional metadata which makes filtering and manipulation easier later.\n",
        "\n",
        "We could convert our list of strings into documents, but I'd rather start from scratch and create the docs.\n",
        "\n",
        "Let's load up LangChains `CharacterSplitter` to do this for us"
      ]
    },
    {
      "cell_type": "code",
      "execution_count": null,
      "id": "d85945f0-4a09-4bd9-bdb6-bafe03089053",
      "metadata": {
        "id": "d85945f0-4a09-4bd9-bdb6-bafe03089053"
      },
      "outputs": [],
      "source": [
        "from langchain.text_splitter import CharacterTextSplitter"
      ]
    },
    {
      "cell_type": "markdown",
      "id": "ff5f3c0a-09c9-45a9-8f47-d28baf22b201",
      "metadata": {
        "id": "ff5f3c0a-09c9-45a9-8f47-d28baf22b201"
      },
      "source": [
        "Then let's load up this text splitter. I need to specify `chunk overlap` and `separator` or else we'll get funk results. We'll get into those next"
      ]
    },
    {
      "cell_type": "code",
      "execution_count": null,
      "id": "3dcbeb8d-c5a0-4047-8250-967313c20935",
      "metadata": {
        "id": "3dcbeb8d-c5a0-4047-8250-967313c20935"
      },
      "outputs": [],
      "source": [
        "text_splitter = CharacterTextSplitter(chunk_size = 35, chunk_overlap=0, separator='', strip_whitespace=False)"
      ]
    },
    {
      "cell_type": "markdown",
      "id": "5ae25bbe-d7d1-44da-820b-3cd34a1cfc67",
      "metadata": {
        "id": "5ae25bbe-d7d1-44da-820b-3cd34a1cfc67"
      },
      "source": [
        "Then we can actually split our text via `create_documents`. Note: `create_documents` expects a list of texts, so if you just have a string (like we do) you'll need to wrap it in `[]`"
      ]
    },
    {
      "cell_type": "code",
      "execution_count": null,
      "id": "afe4945b-ce08-49aa-a5dc-65a0e59922f2",
      "metadata": {
        "id": "afe4945b-ce08-49aa-a5dc-65a0e59922f2"
      },
      "outputs": [],
      "source": [
        "text_splitter.create_documents([text])"
      ]
    },
    {
      "cell_type": "markdown",
      "id": "331025f4-6ef4-4459-bcb6-df7824e78ce4",
      "metadata": {
        "id": "331025f4-6ef4-4459-bcb6-df7824e78ce4"
      },
      "source": [
        "Notice how this time we have the same chunks, but they are in documents. These will play nicely with the rest of the LangChain world. Also notice how the trailing whitespace on the end of the 2nd chunk is missing. This is because LangChain removes it, see [this line](https://github.com/langchain-ai/langchain/blob/f36ef0739dbb548cabdb4453e6819fc3d826414f/libs/langchain/langchain/text_splitter.py#L167) for where they do it. You can avoid this with `strip_whitespace=False`"
      ]
    },
    {
      "cell_type": "markdown",
      "id": "1ed0f193-4098-4fb1-a42f-7f96cd182188",
      "metadata": {
        "id": "1ed0f193-4098-4fb1-a42f-7f96cd182188"
      },
      "source": [
        "**Chunk Overlap & Separators**\n",
        "\n",
        "**Chunk overlap** will blend together our chunks so that the tail of Chunk #1 will be the same thing and the head of Chunk #2 and so on and so forth.\n",
        "\n",
        "This time I'll load up my overlap with a value of 4, this means 4 characters of overlap"
      ]
    },
    {
      "cell_type": "code",
      "execution_count": null,
      "id": "fc66f496-7b0d-4b2a-a43d-e8f06d58c934",
      "metadata": {
        "id": "fc66f496-7b0d-4b2a-a43d-e8f06d58c934"
      },
      "outputs": [],
      "source": [
        "text_splitter = CharacterTextSplitter(chunk_size = 35, chunk_overlap=4, separator='')"
      ]
    },
    {
      "cell_type": "code",
      "execution_count": null,
      "id": "fd5d7e36-b592-430e-9069-cc025c78d7ef",
      "metadata": {
        "id": "fd5d7e36-b592-430e-9069-cc025c78d7ef"
      },
      "outputs": [],
      "source": [
        "text_splitter.create_documents([text])"
      ]
    },
    {
      "cell_type": "markdown",
      "id": "dcd4aaa8-b90b-499e-b2d5-bc623b5bb751",
      "metadata": {
        "id": "dcd4aaa8-b90b-499e-b2d5-bc623b5bb751"
      },
      "source": [
        "Notice how we have the same chunks, but now there is overlap between 1 & 2 and 2 & 3. The 'o ch' on the tail of Chunk #1 matches the 'o ch' of the head of Chunk #2.\n",
        "\n",
        "I wanted a better way to visualize this, so I made [ChunkViz.com](www.chunkviz.com) to help show it. Here's what the same text looks like.\n",
        "\n",
        "<div style=\"text-align: center;\">\n",
        "    <img src=\"static/ChunkVizCharacter34_4_w_overlap.png\" alt=\"image\" style=\"max-width: 800px;\">\n",
        "</div>\n",
        "\n",
        "static/ChunkVizCharacterRecursive.png\n",
        "\n",
        "Check out how we have three colors, with two overlaping sections.\n",
        "\n",
        "**Separators** are character(s) sequences you would like to split on. Say you wanted to chunk your data at `ch`, you can specify it."
      ]
    },
    {
      "cell_type": "code",
      "execution_count": null,
      "id": "814ce9aa-17c3-4205-b433-2eae612c2225",
      "metadata": {
        "id": "814ce9aa-17c3-4205-b433-2eae612c2225"
      },
      "outputs": [],
      "source": [
        "text_splitter = CharacterTextSplitter(chunk_size = 35, chunk_overlap=0, separator='ch')"
      ]
    },
    {
      "cell_type": "code",
      "execution_count": null,
      "id": "bb759b1f-dab0-4f5e-a0c0-220374313da6",
      "metadata": {
        "id": "bb759b1f-dab0-4f5e-a0c0-220374313da6"
      },
      "outputs": [],
      "source": [
        "text_splitter.create_documents([text])"
      ]
    },
    {
      "cell_type": "markdown",
      "id": "72c7ff4a-b6f0-4924-9a9c-2791dddc5b37",
      "metadata": {
        "id": "72c7ff4a-b6f0-4924-9a9c-2791dddc5b37"
      },
      "source": [
        "#### Llama Index\n",
        "\n",
        "[Llama Index](https://www.llamaindex.ai/) is a great choice for flexibility in the chunking and indexing process. They provide node relationships out of the box which can aid in retrieval later.\n",
        "\n",
        "Let's take a look at their sentence splitter. It is similar to the character splitter, but using its default settings, it'll split on sentences instead."
      ]
    },
    {
      "cell_type": "code",
      "execution_count": null,
      "id": "624832d6-f3fd-45c4-b52e-bbc86e5e3cd0",
      "metadata": {
        "id": "624832d6-f3fd-45c4-b52e-bbc86e5e3cd0"
      },
      "outputs": [],
      "source": [
        "from llama_index.text_splitter import SentenceSplitter\n",
        "from llama_index import SimpleDirectoryReader"
      ]
    },
    {
      "cell_type": "markdown",
      "id": "b6e77494-a253-4414-b32d-2246fcb396ef",
      "metadata": {
        "id": "b6e77494-a253-4414-b32d-2246fcb396ef"
      },
      "source": [
        "Load up your splitter"
      ]
    },
    {
      "cell_type": "code",
      "execution_count": null,
      "id": "ef9e6627-81a5-463d-9180-5ff2ff1d40f9",
      "metadata": {
        "id": "ef9e6627-81a5-463d-9180-5ff2ff1d40f9"
      },
      "outputs": [],
      "source": [
        "splitter = SentenceSplitter(\n",
        "    chunk_size=200,\n",
        "    chunk_overlap=15,\n",
        ")"
      ]
    },
    {
      "cell_type": "markdown",
      "id": "23214df1-064d-47ad-9058-f9a5f113b6cf",
      "metadata": {
        "id": "23214df1-064d-47ad-9058-f9a5f113b6cf"
      },
      "source": [
        "Load up your document"
      ]
    },
    {
      "cell_type": "code",
      "execution_count": null,
      "id": "7cafba29-b973-4b37-806f-6f4893eae02e",
      "metadata": {
        "id": "7cafba29-b973-4b37-806f-6f4893eae02e"
      },
      "outputs": [],
      "source": [
        "documents = SimpleDirectoryReader(\n",
        "    input_files=[\"../data/PaulGrahamEssayMedium/mit.txt\"]\n",
        ").load_data()"
      ]
    },
    {
      "cell_type": "markdown",
      "id": "d2ceae08-1f5e-46bc-9d98-e95182fe8c3c",
      "metadata": {
        "id": "d2ceae08-1f5e-46bc-9d98-e95182fe8c3c"
      },
      "source": [
        "Create your nodes. Nodes are similar to documents but with more relationship data added to them."
      ]
    },
    {
      "cell_type": "code",
      "execution_count": null,
      "id": "52f9a2e2-3d56-4727-afce-c81c13089324",
      "metadata": {
        "id": "52f9a2e2-3d56-4727-afce-c81c13089324"
      },
      "outputs": [],
      "source": [
        "nodes = splitter.get_nodes_from_documents(documents)"
      ]
    },
    {
      "cell_type": "markdown",
      "id": "ec353aac-ea8f-421a-9895-0af8afdc08e0",
      "metadata": {
        "id": "ec353aac-ea8f-421a-9895-0af8afdc08e0"
      },
      "source": [
        "Then let's take a look at one"
      ]
    },
    {
      "cell_type": "code",
      "execution_count": null,
      "id": "898a421f-54a0-45a4-8acb-c7087b6a883f",
      "metadata": {
        "id": "898a421f-54a0-45a4-8acb-c7087b6a883f"
      },
      "outputs": [],
      "source": [
        "nodes[0]"
      ]
    },
    {
      "cell_type": "markdown",
      "id": "539aa1a2-67b8-4585-b0d3-306703ea856b",
      "metadata": {
        "id": "539aa1a2-67b8-4585-b0d3-306703ea856b"
      },
      "source": [
        "As you can see there is a lot more relationship data held within Llama Index's nodes. We'll talk about those later, I don't want to get ahead of ourselves\n",
        "\n",
        "Basic Character splitting is likely only useful for a few applications, maybe yours!\n",
        "\n",
        "## Level 2: Recursive Character Text Splitting\n",
        "<a id=\"RecursiveCharacterSplitting\"></a>\n",
        "Let's jump a level of complexity.\n",
        "\n",
        "The problem with Level #1 is that we don't take into account the structure of our document at all. We simply split by a fix number of characters.\n",
        "\n",
        "The Recursive Character Text Splitter helps with this. With it, we'll specify a series of separatators which will be used to split our docs.\n",
        "\n",
        "You can see the default separators for LangChain [here](https://github.com/langchain-ai/langchain/blob/9ef2feb6747f5a69d186bd623b569ad722829a5e/libs/langchain/langchain/text_splitter.py#L842). Let's take a look at them one by one.\n",
        "\n",
        "* \"\\n\\n\" - Double new line, or most commonly paragraph breaks\n",
        "* \"\\n\" - New lines\n",
        "* \" \" - Spaces\n",
        "* \"\" - Characters\n",
        "\n",
        "I'm not sure why a period (\".\") isn't included on the list, perhaps it is not universal enough? If you know, let me know.\n",
        "\n",
        "This is the swiss army knife of splitters and my first choice when mocking up a quick application. If you don't know which splitter to start with, this is a good first bet.\n",
        "\n",
        "Let's try it out"
      ]
    },
    {
      "cell_type": "code",
      "execution_count": null,
      "id": "49f42bea-3d06-404d-9f8c-f15f7ff7591b",
      "metadata": {
        "id": "49f42bea-3d06-404d-9f8c-f15f7ff7591b"
      },
      "outputs": [],
      "source": [
        "from langchain.text_splitter import RecursiveCharacterTextSplitter"
      ]
    },
    {
      "cell_type": "markdown",
      "id": "bb6f79f4-769b-474b-8d7d-19cb48407cd6",
      "metadata": {
        "id": "bb6f79f4-769b-474b-8d7d-19cb48407cd6"
      },
      "source": [
        "Then let's load up a larger piece of text"
      ]
    },
    {
      "cell_type": "code",
      "execution_count": null,
      "id": "0772695d-0c5e-4e19-bb69-14e9bd7a15a7",
      "metadata": {
        "id": "0772695d-0c5e-4e19-bb69-14e9bd7a15a7"
      },
      "outputs": [],
      "source": [
        "text = \"\"\"\n",
        "One of the most important things I didn't understand about the world when I was a child is the degree to which the returns for performance are superlinear.\n",
        "\n",
        "Teachers and coaches implicitly told us the returns were linear. \"You get out,\" I heard a thousand times, \"what you put in.\" They meant well, but this is rarely true. If your product is only half as good as your competitor's, you don't get half as many customers. You get no customers, and you go out of business.\n",
        "\n",
        "It's obviously true that the returns for performance are superlinear in business. Some think this is a flaw of capitalism, and that if we changed the rules it would stop being true. But superlinear returns for performance are a feature of the world, not an artifact of rules we've invented. We see the same pattern in fame, power, military victories, knowledge, and even benefit to humanity. In all of these, the rich get richer. [1]\n",
        "\"\"\""
      ]
    },
    {
      "cell_type": "markdown",
      "id": "9fbb158c-6bbe-4f49-95df-a8b43965a566",
      "metadata": {
        "id": "9fbb158c-6bbe-4f49-95df-a8b43965a566"
      },
      "source": [
        "Now let's make our text splitter"
      ]
    },
    {
      "cell_type": "code",
      "execution_count": null,
      "id": "03ec54c4-bda6-4254-97dd-983775b1d729",
      "metadata": {
        "id": "03ec54c4-bda6-4254-97dd-983775b1d729"
      },
      "outputs": [],
      "source": [
        "text_splitter = RecursiveCharacterTextSplitter(chunk_size = 65, chunk_overlap=0)"
      ]
    },
    {
      "cell_type": "code",
      "execution_count": null,
      "id": "887c7676-1e67-4084-94d3-59689eb399c6",
      "metadata": {
        "id": "887c7676-1e67-4084-94d3-59689eb399c6"
      },
      "outputs": [],
      "source": [
        "text_splitter.create_documents([text])"
      ]
    },
    {
      "cell_type": "markdown",
      "id": "3fa00043-1655-4113-bb28-f3a998d5713a",
      "metadata": {
        "id": "3fa00043-1655-4113-bb28-f3a998d5713a"
      },
      "source": [
        "Notice how now there are more chunks that end with a period \".\". This is because those likely are the end of a paragraph and the splitter first looks for double new lines (paragraph break).\n",
        "\n",
        "Once paragraphs are split, then it looks at the chunk size, if a chunk is too big, then it'll split by the next separator. If the chunk is still too big, then it'll move onto the next one and so forth.\n",
        "\n",
        "For text of this size, let's split on something bigger."
      ]
    },
    {
      "cell_type": "code",
      "execution_count": null,
      "id": "6da8734e-47da-4a08-8459-9bf8bfed7fe4",
      "metadata": {
        "id": "6da8734e-47da-4a08-8459-9bf8bfed7fe4"
      },
      "outputs": [],
      "source": [
        "text_splitter = RecursiveCharacterTextSplitter(chunk_size = 450, chunk_overlap=0)\n",
        "text_splitter.create_documents([text])"
      ]
    },
    {
      "cell_type": "markdown",
      "id": "1e99768f-8732-44e4-b8d8-cc5ac1fe4661",
      "metadata": {
        "id": "1e99768f-8732-44e4-b8d8-cc5ac1fe4661"
      },
      "source": [
        "For this text, 450 splits the paragraphs perfectly. You can even switch the chunk size to 469 and get the same splits. This is because this splitter builds in a bit of cushion and wiggle room to allow your chunks to 'snap' to the nearest separator.\n",
        "\n",
        "Let's view this visually\n",
        "\n",
        "<div style=\"text-align: center;\">\n",
        "    <img src=\"static/ChunkVizCharacterRecursive.png\" alt=\"image\" style=\"max-width: 800px;\">\n",
        "</div>\n",
        "\n",
        "Wow - you already made it to level 2, awesome! We're on a roll. If you like the content, I send updates to email subscribers on projects I'm working on. If you want to get the scoop, sign up [here](https://mail.gregkamradt.com/signup)."
      ]
    },
    {
      "cell_type": "markdown",
      "id": "c5f32a73-0c8a-498c-a3a1-3e7dba4658c9",
      "metadata": {
        "id": "c5f32a73-0c8a-498c-a3a1-3e7dba4658c9"
      },
      "source": [
        "## Level 3: Document Specific Splitting <a id=\"DocumentSpecific\"></a>\n",
        "\n",
        "Stepping up our levels ladder, let's start to handle document types other than normal prose in a .txt. What if you have pictures? or a PDF? or code snippets?\n",
        "\n",
        "Our first two levels wouldn't work great for this so we'll need to find a different tactic.\n",
        "\n",
        "This level is all about making your chunking strategy fit your different data formats. Let's run through a bunch of examples of this in action\n",
        "\n",
        "The Markdown, Python, and JS splitters will basically be similar to Recursive Character, but with different separators.\n",
        "\n",
        "See all of LangChains document splitters [here](https://python.langchain.com/docs/modules/data_connection/document_transformers/text_splitters/code_splitter) and Llama Index ([HTML](https://docs.llamaindex.ai/en/stable/module_guides/loading/node_parsers/modules.html#htmlnodeparser), [JSON](https://docs.llamaindex.ai/en/stable/module_guides/loading/node_parsers/modules.html#jsonnodeparser), [Markdown](https://docs.llamaindex.ai/en/stable/module_guides/loading/node_parsers/modules.html#markdownnodeparser))\n",
        "\n",
        "### Markdown\n",
        "\n",
        "You can see the separators [here](https://github.com/langchain-ai/langchain/blob/9ef2feb6747f5a69d186bd623b569ad722829a5e/libs/langchain/langchain/text_splitter.py#L1175).\n",
        "\n",
        "Separators:\n",
        "* `\\n#{1,6}` - Split by new lines followed by a header (H1 through H6)\n",
        "* ```` ```\\n ```` - Code blocks\n",
        "* `\\n\\\\*\\\\*\\\\*+\\n` - Horizontal Lines\n",
        "* `\\n---+\\n` - Horizontal Lines\n",
        "* `\\n___+\\n` - Horizontal Lines\n",
        "* `\\n\\n` Double new lines\n",
        "* `\\n` - New line\n",
        "* `\" \"` - Spaces\n",
        "* `\"\"` - Character"
      ]
    },
    {
      "cell_type": "code",
      "execution_count": null,
      "id": "298fe868-0872-4fa9-9146-fa33e9dd5706",
      "metadata": {
        "id": "298fe868-0872-4fa9-9146-fa33e9dd5706"
      },
      "outputs": [],
      "source": [
        "from langchain.text_splitter import MarkdownTextSplitter"
      ]
    },
    {
      "cell_type": "code",
      "execution_count": null,
      "id": "e1d390ed-d046-44f9-a492-9760141f7982",
      "metadata": {
        "id": "e1d390ed-d046-44f9-a492-9760141f7982"
      },
      "outputs": [],
      "source": [
        "splitter = MarkdownTextSplitter(chunk_size = 40, chunk_overlap=0)"
      ]
    },
    {
      "cell_type": "code",
      "execution_count": null,
      "id": "1ba14168-451b-4e9c-b1d0-d1eac6996ad3",
      "metadata": {
        "id": "1ba14168-451b-4e9c-b1d0-d1eac6996ad3"
      },
      "outputs": [],
      "source": [
        "markdown_text = \"\"\"\n",
        "# Fun in California\n",
        "\n",
        "## Driving\n",
        "\n",
        "Try driving on the 1 down to San Diego\n",
        "\n",
        "### Food\n",
        "\n",
        "Make sure to eat a burrito while you're there\n",
        "\n",
        "## Hiking\n",
        "\n",
        "Go to Yosemite\n",
        "\"\"\""
      ]
    },
    {
      "cell_type": "code",
      "execution_count": null,
      "id": "15dcf8de-551a-4477-8e68-57c4c50ddbc4",
      "metadata": {
        "id": "15dcf8de-551a-4477-8e68-57c4c50ddbc4"
      },
      "outputs": [],
      "source": [
        "splitter.create_documents([markdown_text])"
      ]
    },
    {
      "cell_type": "markdown",
      "id": "56591620-ef0c-41c2-b539-35ad676ed20f",
      "metadata": {
        "id": "56591620-ef0c-41c2-b539-35ad676ed20f"
      },
      "source": [
        "Notice how the splits gravitate towards markdown sections. However, it's still not perfect. Check out how there is a chunk with just \"there\" in it. You'll run into this at low-sized chunks.\n",
        "\n",
        "### Python\n",
        "\n",
        "See the python splitters [here](https://github.com/langchain-ai/langchain/blob/9ef2feb6747f5a69d186bd623b569ad722829a5e/libs/langchain/langchain/text_splitter.py#L1069)\n",
        "\n",
        "* `\\nclass` - Classes first\n",
        "* `\\ndef` - Functions next\n",
        "* `\\n\\tdef` - Indented functions\n",
        "* `\\n\\n` - Double New lines\n",
        "* `\\n` - New Lines\n",
        "* `\" \"` - Spaces\n",
        "* `\"\"` - Characters\n",
        "\n",
        "\n",
        "Let's load up our splitter"
      ]
    },
    {
      "cell_type": "code",
      "execution_count": null,
      "id": "66edcde5-1e96-4b61-8636-8129d31d7850",
      "metadata": {
        "id": "66edcde5-1e96-4b61-8636-8129d31d7850"
      },
      "outputs": [],
      "source": [
        "from langchain.text_splitter import PythonCodeTextSplitter"
      ]
    },
    {
      "cell_type": "code",
      "execution_count": null,
      "id": "2afa8f93-6b07-484f-86ff-9836f5a5fae1",
      "metadata": {
        "id": "2afa8f93-6b07-484f-86ff-9836f5a5fae1"
      },
      "outputs": [],
      "source": [
        "python_text = \"\"\"\n",
        "class Person:\n",
        "  def __init__(self, name, age):\n",
        "    self.name = name\n",
        "    self.age = age\n",
        "\n",
        "p1 = Person(\"John\", 36)\n",
        "\n",
        "for i in range(10):\n",
        "    print (i)\n",
        "\"\"\""
      ]
    },
    {
      "cell_type": "code",
      "execution_count": null,
      "id": "6e8fcc85-714d-4b5c-a5ce-a3f30cfb447b",
      "metadata": {
        "id": "6e8fcc85-714d-4b5c-a5ce-a3f30cfb447b"
      },
      "outputs": [],
      "source": [
        "python_splitter = PythonCodeTextSplitter(chunk_size=100, chunk_overlap=0)"
      ]
    },
    {
      "cell_type": "code",
      "execution_count": null,
      "id": "a7b6dd89-6bb9-496a-a85d-3f1871ff9cd0",
      "metadata": {
        "id": "a7b6dd89-6bb9-496a-a85d-3f1871ff9cd0"
      },
      "outputs": [],
      "source": [
        "python_splitter.create_documents([python_text])"
      ]
    },
    {
      "cell_type": "markdown",
      "id": "6c004f19-9e67-451e-abdd-b103acce2996",
      "metadata": {
        "id": "6c004f19-9e67-451e-abdd-b103acce2996"
      },
      "source": [
        "Check out how the class stays together in a single document (good), then the rest of the code is in a second document (ok).\n",
        "\n",
        "I needed to play with the chunk size to get a clean result like that. You'll likely need to do the same for yours which is why using evaluations to determine optimal chunk sizes is crucial.\n",
        "\n",
        "### JS\n",
        "\n",
        "Very similar to python. See the separators [here](https://github.com/langchain-ai/langchain/blob/9ef2feb6747f5a69d186bd623b569ad722829a5e/libs/langchain/langchain/text_splitter.py#L983).\n",
        "\n",
        "Separators:\n",
        "* `\\nfunction` - Indicates the beginning of a function declaration\n",
        "* `\\nconst` - Used for declaring constant variables\n",
        "* `\\nlet` - Used for declaring block-scoped variables\n",
        "* `\\nvar` - Used for declaring a variable\n",
        "* `\\nclass` - Indicates the start of a class definition\n",
        "* `\\nif` - Indicates the beginning of an if statement\n",
        "* `\\nfor` - Used for for-loops\n",
        "* `\\nwhile` - Used for while-loops\n",
        "* `\\nswitch` - Used for switch statements\n",
        "* `\\ncase` - Used within switch statements\n",
        "* `\\ndefault` - Also used within switch statements\n",
        "* `\\n\\n` - Indicates a larger separation in text or code\n",
        "* `\\n` - Separates lines of code or text\n",
        "* `\" \"` - Separates words or tokens in the code\n",
        "* `\"\"` - Makes every character a separate element"
      ]
    },
    {
      "cell_type": "code",
      "execution_count": null,
      "id": "a5225b66-4d79-455b-92a1-841fa23ccc4f",
      "metadata": {
        "id": "a5225b66-4d79-455b-92a1-841fa23ccc4f"
      },
      "outputs": [],
      "source": [
        "from langchain.text_splitter import RecursiveCharacterTextSplitter, Language"
      ]
    },
    {
      "cell_type": "code",
      "execution_count": null,
      "id": "d75090fa-4d22-4348-8452-eb50eafa784d",
      "metadata": {
        "id": "d75090fa-4d22-4348-8452-eb50eafa784d"
      },
      "outputs": [],
      "source": [
        "javascript_text = \"\"\"\n",
        "// Function is called, the return value will end up in x\n",
        "let x = myFunction(4, 3);\n",
        "\n",
        "function myFunction(a, b) {\n",
        "// Function returns the product of a and b\n",
        "  return a * b;\n",
        "}\n",
        "\"\"\""
      ]
    },
    {
      "cell_type": "code",
      "execution_count": null,
      "id": "909fde28-43ba-4f07-b9ae-04c21db04055",
      "metadata": {
        "id": "909fde28-43ba-4f07-b9ae-04c21db04055"
      },
      "outputs": [],
      "source": [
        "js_splitter = RecursiveCharacterTextSplitter.from_language(\n",
        "    language=Language.JS, chunk_size=65, chunk_overlap=0\n",
        ")"
      ]
    },
    {
      "cell_type": "code",
      "execution_count": null,
      "id": "5b70d936-bc31-4ecc-b190-6dd8fffdacb9",
      "metadata": {
        "id": "5b70d936-bc31-4ecc-b190-6dd8fffdacb9"
      },
      "outputs": [],
      "source": [
        "js_splitter.create_documents([javascript_text])"
      ]
    },
    {
      "cell_type": "markdown",
      "id": "8fab2014-e705-4ade-87ea-d967a9c01593",
      "metadata": {
        "id": "8fab2014-e705-4ade-87ea-d967a9c01593"
      },
      "source": [
        "### PDFs w/ tables\n",
        "\n",
        "Ok now things will get a bit spicier.\n",
        "\n",
        "PDFs are an extremely common data type for language model work. Often they'll contain tables that contain information.\n",
        "\n",
        "This could be financial data, studies, academic papers, etc.\n",
        "\n",
        "Trying to split tables by a character based separator isn't reliable. We need to try out a different method. For a deep dive on this I recommend checking out [Lance Martin's](https://twitter.com/RLanceMartin) [tutorial](https://twitter.com/RLanceMartin/status/1721942636364456336) w/ LangChain.\n",
        "\n",
        "I'll be going through a text based methods. [Mayo](https://twitter.com/mayowaoshin) has also outlined a GPT-4V method which tries to pulls tables via vision rather than text. You can check out [here](https://twitter.com/mayowaoshin/status/1727399231734886633).\n",
        "\n",
        "A very convenient way to do this is with [Unstructured](https://unstructured.io/), a library dedicated to making your data LLM ready."
      ]
    },
    {
      "cell_type": "code",
      "execution_count": null,
      "id": "ffd078d0-5651-4ab0-b299-b2ed5a4f7cef",
      "metadata": {
        "id": "ffd078d0-5651-4ab0-b299-b2ed5a4f7cef"
      },
      "outputs": [],
      "source": [
        "import os\n",
        "from unstructured.partition.pdf import partition_pdf\n",
        "from unstructured.staging.base import elements_to_json"
      ]
    },
    {
      "cell_type": "markdown",
      "id": "b174a72b-0d43-4440-9ef8-f5f3aed0c651",
      "metadata": {
        "id": "b174a72b-0d43-4440-9ef8-f5f3aed0c651"
      },
      "source": [
        "Let's load up our PDF and then parition it. This is a PDF from a [Salesforce earning report](https://investor.salesforce.com/financials/default.aspx)."
      ]
    },
    {
      "cell_type": "code",
      "execution_count": null,
      "id": "2ae9042d-be6f-411a-8835-bda30ffa0805",
      "metadata": {
        "id": "2ae9042d-be6f-411a-8835-bda30ffa0805"
      },
      "outputs": [],
      "source": [
        "filename = \"static/SalesforceFinancial.pdf\"\n",
        "\n",
        "# Extracts the elements from the PDF\n",
        "elements = partition_pdf(\n",
        "    filename=filename,\n",
        "\n",
        "    # Unstructured Helpers\n",
        "    strategy=\"hi_res\",\n",
        "    infer_table_structure=True,\n",
        "    model_name=\"yolox\"\n",
        ")"
      ]
    },
    {
      "cell_type": "markdown",
      "id": "f65ad413-80f9-43da-8fb5-3a32373c3686",
      "metadata": {
        "id": "f65ad413-80f9-43da-8fb5-3a32373c3686"
      },
      "source": [
        "Let's look at our elements"
      ]
    },
    {
      "cell_type": "code",
      "execution_count": null,
      "id": "0f5ac388-5b4e-4dcd-bf74-84220c8cdff4",
      "metadata": {
        "id": "0f5ac388-5b4e-4dcd-bf74-84220c8cdff4"
      },
      "outputs": [],
      "source": [
        "elements"
      ]
    },
    {
      "cell_type": "markdown",
      "id": "1a081974-002c-4060-9d0c-2d4a5f270044",
      "metadata": {
        "id": "1a081974-002c-4060-9d0c-2d4a5f270044"
      },
      "source": [
        "These are just unstructured objects, we could look at them all but I want to look at the table it parsed."
      ]
    },
    {
      "cell_type": "code",
      "execution_count": null,
      "id": "9c5460db-689d-4e7a-a5bc-a10477c4a61e",
      "metadata": {
        "id": "9c5460db-689d-4e7a-a5bc-a10477c4a61e"
      },
      "outputs": [],
      "source": [
        "elements[-4].metadata.text_as_html"
      ]
    },
    {
      "cell_type": "markdown",
      "id": "8c269535-4fe9-44f2-8e0d-8578d706db7c",
      "metadata": {
        "id": "8c269535-4fe9-44f2-8e0d-8578d706db7c"
      },
      "source": [
        "That table may look messy, but because it's in HTML format, the LLM is able to parse it much more easily than if it was tab or comma separated. You can copy and paste that html into a [html viewer](https://codebeautify.org/htmlviewer) online to see it reconstructed.\n",
        "\n",
        "<div style=\"text-align: center;\">\n",
        "    <img src=\"static/SalesforceFinancialTable.png\" alt=\"image\" style=\"max-width: 800px;\">\n",
        "</div>"
      ]
    },
    {
      "cell_type": "markdown",
      "id": "1ed1a5fe-245a-4d3c-86aa-03fca86ba5cf",
      "metadata": {
        "id": "1ed1a5fe-245a-4d3c-86aa-03fca86ba5cf"
      },
      "source": [
        "Awesome, Unstructured was able to pull out the tables for us. It's not perfect, but the team is upgrading their toolset all the time.\n",
        "\n",
        "**Important Point:** Later on when we are doing semantic search over our chunks, trying to match on embeddings from the table directly will be difficult. A common practice that developers do is to *summarize* the table after you've extracted it. Then get an embedding of that summary. If the summary embedding matches what you're looking for, then pass the raw table to your LLM.\n",
        "\n",
        "### Multi-Modal (text + images)\n",
        "\n",
        "Next we'll dive into the world of multi-modal text splitting. This is a very active field and best practices are evolving. I'll show you a method that was made popular by [Lance Martin](https://twitter.com/RLanceMartin/status/1713638963255366091) of LangChain. You can check out his source code [here](https://github.com/langchain-ai/langchain/blob/master/cookbook/Semi_structured_and_multi_modal_RAG.ipynb). If you find a method that works better, share it out with the community!"
      ]
    },
    {
      "cell_type": "code",
      "execution_count": null,
      "id": "dee2ed53-96c8-4cf3-89d9-681ff5d4552f",
      "metadata": {
        "id": "dee2ed53-96c8-4cf3-89d9-681ff5d4552f"
      },
      "outputs": [],
      "source": [
        "#!pip3 install \"unstructured[all-docs]\"\n",
        "from typing import Any\n",
        "\n",
        "from pydantic import BaseModel\n",
        "from unstructured.partition.pdf import partition_pdf"
      ]
    },
    {
      "cell_type": "markdown",
      "id": "ea2f20e1-e0fb-4d17-8ec7-faa4276fba23",
      "metadata": {
        "id": "ea2f20e1-e0fb-4d17-8ec7-faa4276fba23"
      },
      "source": [
        "First, let's go get a PDF to work with. This will be from a visual instruction tuning [paper](https://llava-vl.github.io/).\n",
        "\n",
        "<div style=\"text-align: center;\">\n",
        "    <img src=\"static/VisualInstructionSnapshot.png\" alt=\"image\" style=\"max-width: 800px;\">\n",
        "</div>"
      ]
    },
    {
      "cell_type": "code",
      "execution_count": null,
      "id": "3f2d1771-7170-48c2-a614-480d7d2167df",
      "metadata": {
        "id": "3f2d1771-7170-48c2-a614-480d7d2167df"
      },
      "outputs": [],
      "source": [
        "filepath = \"static/VisualInstruction.pdf\""
      ]
    },
    {
      "cell_type": "code",
      "execution_count": null,
      "id": "d9240942-2702-45ae-8333-8ac9c3e10343",
      "metadata": {
        "id": "d9240942-2702-45ae-8333-8ac9c3e10343"
      },
      "outputs": [],
      "source": [
        "# Get elements\n",
        "raw_pdf_elements = partition_pdf(\n",
        "    filename=filepath,\n",
        "\n",
        "    # Using pdf format to find embedded image blocks\n",
        "    extract_images_in_pdf=True,\n",
        "\n",
        "    # Use layout model (YOLOX) to get bounding boxes (for tables) and find titles\n",
        "    # Titles are any sub-section of the document\n",
        "    infer_table_structure=True,\n",
        "\n",
        "    # Post processing to aggregate text once we have the title\n",
        "    chunking_strategy=\"by_title\",\n",
        "    # Chunking params to aggregate text blocks\n",
        "    # Attempt to create a new chunk 3800 chars\n",
        "    # Attempt to keep chunks > 2000 chars\n",
        "    # Hard max on chunks\n",
        "    max_characters=4000,\n",
        "    new_after_n_chars=3800,\n",
        "    combine_text_under_n_chars=2000,\n",
        "    image_output_dir_path=\"static/pdfImages/\",\n",
        ")"
      ]
    },
    {
      "cell_type": "markdown",
      "id": "2c45aab5-5f51-4d67-9ea2-17c5489a5c2a",
      "metadata": {
        "id": "2c45aab5-5f51-4d67-9ea2-17c5489a5c2a"
      },
      "source": [
        "If you head over to `static/pdfImages/` and check out the images that were parsed.\n",
        "\n",
        "But the images don't do anything sitting in a folder, we need to do something with them! Though a bit outside the scope of chunking, let's talk about how to work with these.\n",
        "\n",
        "The common tactics will either use a multi-modal model to generate summaries of the images or use the image itself for your task. Others get embeddings of images (like [CLIP](https://openai.com/research/clip)).\n",
        "\n",
        "Let's generate summaries so you'll be inspired to take this to the next step. We'll use GPT-4V. Check out other models [here](https://platform.openai.com/docs/model)."
      ]
    },
    {
      "cell_type": "code",
      "execution_count": null,
      "id": "fc40dacd-09a0-4ce0-ae8c-87a3910a1408",
      "metadata": {
        "id": "fc40dacd-09a0-4ce0-ae8c-87a3910a1408"
      },
      "outputs": [],
      "source": [
        "from langchain.chat_models import ChatOpenAI\n",
        "from langchain.schema.messages import HumanMessage\n",
        "import os\n",
        "from dotenv import load_dotenv\n",
        "from PIL import Image\n",
        "import base64\n",
        "import io\n",
        "\n",
        "load_dotenv()"
      ]
    },
    {
      "cell_type": "markdown",
      "id": "9fe7b48f-7da2-430f-a0dd-c8e1766854a3",
      "metadata": {
        "id": "9fe7b48f-7da2-430f-a0dd-c8e1766854a3"
      },
      "source": [
        "We'll be using gpt-4-vision today"
      ]
    },
    {
      "cell_type": "code",
      "execution_count": null,
      "id": "59b1b6d2-4d84-41dc-8698-8be52e6f5bd8",
      "metadata": {
        "id": "59b1b6d2-4d84-41dc-8698-8be52e6f5bd8"
      },
      "outputs": [],
      "source": [
        "llm = ChatOpenAI(model=\"gpt-4-vision-preview\")"
      ]
    },
    {
      "cell_type": "markdown",
      "id": "6ea28491-e225-4667-8666-3b0541dbf2b7",
      "metadata": {
        "id": "6ea28491-e225-4667-8666-3b0541dbf2b7"
      },
      "source": [
        "I'm creating quick helper function to convert the image from file to base64 so we can pass it to GPT-4V"
      ]
    },
    {
      "cell_type": "code",
      "execution_count": null,
      "id": "ed1f096a-abd1-4380-af24-6c65074d2420",
      "metadata": {
        "id": "ed1f096a-abd1-4380-af24-6c65074d2420"
      },
      "outputs": [],
      "source": [
        "# Function to convert image to base64\n",
        "def image_to_base64(image_path):\n",
        "    with Image.open(image_path) as image:\n",
        "        buffered = io.BytesIO()\n",
        "        image.save(buffered, format=image.format)\n",
        "        img_str = base64.b64encode(buffered.getvalue())\n",
        "        return img_str.decode('utf-8')\n",
        "\n",
        "image_str = image_to_base64(\"../RetrievalTutorials/static/pdfImages/figure-15-6.jpg\")"
      ]
    },
    {
      "cell_type": "markdown",
      "id": "80becf02-83bd-4560-af3a-dece72259296",
      "metadata": {
        "id": "80becf02-83bd-4560-af3a-dece72259296"
      },
      "source": [
        "Then we can go ahead and pass our image to the LLM"
      ]
    },
    {
      "cell_type": "code",
      "execution_count": null,
      "id": "638d7f95-d181-4b4a-aeb0-b40367f0f215",
      "metadata": {
        "id": "638d7f95-d181-4b4a-aeb0-b40367f0f215"
      },
      "outputs": [],
      "source": [
        "chat = ChatOpenAI(model=\"gpt-4-vision-preview\",\n",
        "                  max_tokens=1024)\n",
        "\n",
        "msg = chat.invoke(\n",
        "    [\n",
        "        HumanMessage(\n",
        "            content=[\n",
        "                {\"type\": \"text\", \"text\" : \"Please give a summary of the image provided. Be descriptive\"},\n",
        "                {\n",
        "                    \"type\": \"image_url\",\n",
        "                    \"image_url\": {\n",
        "                        \"url\": f\"data:image/jpeg;base64,{image_str}\"\n",
        "                    },\n",
        "                },\n",
        "            ]\n",
        "        )\n",
        "    ]\n",
        ")"
      ]
    },
    {
      "cell_type": "markdown",
      "id": "67130242-5d72-4304-a705-c9177558a7d4",
      "metadata": {
        "id": "67130242-5d72-4304-a705-c9177558a7d4"
      },
      "source": [
        "Then the summary returned is what we will put into our vectordata base. Then when it comes time to do our retrieval process, we'll use these embeddings for semantic search."
      ]
    },
    {
      "cell_type": "code",
      "execution_count": null,
      "id": "a51c2833-ee05-43b2-9cd2-6710d6e73ee8",
      "metadata": {
        "id": "a51c2833-ee05-43b2-9cd2-6710d6e73ee8"
      },
      "outputs": [],
      "source": [
        "msg.content"
      ]
    },
    {
      "cell_type": "markdown",
      "id": "b129deb0-7b11-48f6-bc3e-210658e9f8e4",
      "metadata": {
        "id": "b129deb0-7b11-48f6-bc3e-210658e9f8e4"
      },
      "source": [
        "<div style=\"text-align: center;\">\n",
        "    <img src=\"static/pdfImages/figure-15-6.jpg\" alt=\"image\" style=\"max-width: 800px;\"><br>\n",
        "    <span><i>static/pdfImages/figure-15-6.jpg</i></span>\n",
        "</div>\n",
        "\n",
        "Hm, that seems about right!\n",
        "\n",
        "There are a ton of ways to go about this (check out the bonus section for more) so don't take my word for it - try 'em."
      ]
    },
    {
      "cell_type": "markdown",
      "id": "0ba7cf0e-ec8e-4115-be32-e49aaf5adccc",
      "metadata": {
        "id": "0ba7cf0e-ec8e-4115-be32-e49aaf5adccc"
      },
      "source": [
        "## Level 4: Semantic Chunking <a id=\"SemanticChunking\"></a>\n",
        "Isn't it weird that we have a global constant for chunk size? Isn't it even weirder that our normal chunking mechanisms don't take into account the actual content?\n",
        "\n",
        "I'm not the only one who thinks so\n",
        "\n",
        "<div style=\"text-align: center;\">\n",
        "    <img src=\"static/SemanticChunkingtweet.png\" style=\"max-width:50%; height:auto;\"><br>\n",
        "    <span><i><a href=\"https://twitter.com/thesephist/status/1724159343237456248?s=46\">Source</a></i></span>\n",
        "</div>\n",
        "\n",
        "There has to be a better way - let's explore and find out.\n",
        "\n",
        "Embeddings represent the semantic meaning of a string. They don't do much on their own, but when compared to embeddings of other texts you can start to infer the relationship between chunks. I want to lean into this property and explore using embeddings to find clusters of semantically similar texts.\n",
        "\n",
        "The hypothesis is that semantically similar chunks should be held together.\n",
        "\n",
        "I tried a few methods:\n",
        "1) **Heirarchical clustering with positional reward** - I wanted to see how heirarchical clustering of sentence embeddings would do. But because I chose to split on sentences, there was an issue with small short sentences after a long one. You know? (like this last sentenence). They could change the meaning of a chunk, so I added a positional reward and clusters were more likely to form if they were sentences next to each other. This ended up being ok, but tuning the parameters was slow and unoptimal.\n",
        "2) **Find break points between sequential sentences** - Next up I tried a walk method. I started at the first sentence, got the embedding, then compared it to sentence #2, then compared #2 and #3 and so on. I was looking for \"break points\" where embedding distance was large. If it was above a threshold, then I considered it the start of a new semantic section. I originally tried taking embeddings of every sentence, but this turned out to be too noisy. So I ended up taking groups of 3 sentences (a window), then got an embedding, then dropped the first sentence, and added the next one. This worked out a bit better.\n",
        "\n",
        "I'll show method #2 here - It's not perfect by any means, but it's a good starting point for an exploration and I'd love to hear about how you think it could be improved.\n",
        "\n",
        "First, let's load up our essay that we'll run through. I'm just doing a single essay here to keep the tokens down.\n",
        "\n",
        "We'll be using Paul Graham's [MIT essay](https://paulgraham.com/mit.html)"
      ]
    },
    {
      "cell_type": "code",
      "execution_count": null,
      "id": "7c5bb388-0534-4ef5-b5d2-322e945a513b",
      "metadata": {
        "id": "7c5bb388-0534-4ef5-b5d2-322e945a513b",
        "ExecuteTime": {
          "end_time": "2024-02-23T13:53:16.422733599Z",
          "start_time": "2024-02-23T13:53:16.333726605Z"
        }
      },
      "outputs": [],
      "source": [
        "with open('mit.txt') as file:\n",
        "    essay = file.read()"
      ]
    },
    {
      "cell_type": "markdown",
      "id": "6d18623d-6fc1-4b90-a016-ee79ac28b9ad",
      "metadata": {
        "id": "6d18623d-6fc1-4b90-a016-ee79ac28b9ad"
      },
      "source": [
        "Then I want to split the entire essay into 1-sentence chunks. I'm going to split on \".\" \"?\" and \"!\". There are better ways to do this but this is quick and easy for now."
      ]
    },
    {
      "cell_type": "code",
      "execution_count": null,
      "id": "1dbbfa5a-45a2-4c6e-84f5-d774183717d0",
      "metadata": {
        "id": "1dbbfa5a-45a2-4c6e-84f5-d774183717d0",
        "ExecuteTime": {
          "end_time": "2024-02-23T13:53:18.668611508Z",
          "start_time": "2024-02-23T13:53:18.529366623Z"
        }
      },
      "outputs": [],
      "source": [
        "from common.utils import split_to_sentences\n",
        "\n",
        "# Splitting the essay on '.', '?', and '!'\n",
        "single_sentences_list = split_to_sentences(essay)\n",
        "print (f\"{len(single_sentences_list)} senteneces were found\")"
      ]
    },
    {
      "cell_type": "code",
      "outputs": [],
      "source": [
        "from chunk_module import split_to_chunks\n",
        "\n",
        "chunks2 = split_to_chunks(single_sentences_list, min_chunk_size=1500, max_chunk_size=2000, min_percentage_splitting=80)"
      ],
      "metadata": {
        "ExecuteTime": {
          "end_time": "2024-02-23T13:53:31.406605698Z",
          "start_time": "2024-02-23T13:53:24.416010775Z"
        },
        "id": "db52794f07b8e82a"
      },
      "id": "db52794f07b8e82a",
      "execution_count": null
    },
    {
      "cell_type": "code",
      "outputs": [],
      "source": [
        "lens = [len(chunk['combined_sentence']) for chunk in chunks2]\n",
        "texts = [chunk['combined_sentence'] for chunk in chunks2 if len(chunk['combined_sentence']) < 100]\n",
        "print(len(lens))"
      ],
      "metadata": {
        "ExecuteTime": {
          "end_time": "2024-02-23T13:55:00.502499453Z",
          "start_time": "2024-02-23T13:54:59.803336094Z"
        },
        "id": "22775a214d706c9c"
      },
      "id": "22775a214d706c9c",
      "execution_count": null
    },
    {
      "cell_type": "code",
      "outputs": [],
      "source": [
        "lens"
      ],
      "metadata": {
        "ExecuteTime": {
          "end_time": "2024-02-23T14:01:34.696836476Z",
          "start_time": "2024-02-23T14:01:34.047906692Z"
        },
        "id": "162fcb93191b9af9"
      },
      "id": "162fcb93191b9af9",
      "execution_count": null
    },
    {
      "cell_type": "code",
      "outputs": [],
      "source": [
        "import matplotlib.pyplot as plt\n",
        "import numpy as np\n",
        "\n",
        "# counts, bins = np.histogram(lens)\n",
        "# plt.hist(lens)\n",
        "\n",
        "mu = 121\n",
        "sigma = 21\n",
        "x = mu + sigma * np.random.randn(1000)\n",
        "\n",
        "num_bins = 20\n",
        "\n",
        "n, bins, patches = plt.hist(lens, num_bins,\n",
        "                            density = 1,\n",
        "                            color ='green',\n",
        "                            alpha = 0.7)\n",
        "\n",
        "y = ((1 / (np.sqrt(2 * np.pi) * sigma)) *\n",
        "     np.exp(-0.5 * (1 / sigma * (bins - mu))**2))\n",
        "\n",
        "plt.plot(bins, y, '--', color ='black')"
      ],
      "metadata": {
        "ExecuteTime": {
          "end_time": "2024-02-23T14:04:14.984840690Z",
          "start_time": "2024-02-23T14:04:14.319195517Z"
        },
        "id": "3295fee8407bbca0"
      },
      "id": "3295fee8407bbca0",
      "execution_count": null
    },
    {
      "cell_type": "code",
      "outputs": [],
      "source": [
        "import pandas as pd\n",
        "import os\n",
        "\n",
        "df = pd.read_csv(os.path.join('../dataset/raw/train.csv'), names=['label', 'Title', 'Description'])\n",
        "df['text'] = (df['Title'] + '. ' + df['Description'])\n",
        "df.drop(columns=['Title', 'Description'], axis=1, inplace=True)"
      ],
      "metadata": {
        "ExecuteTime": {
          "end_time": "2024-02-23T14:16:23.653890552Z",
          "start_time": "2024-02-23T14:16:22.919354642Z"
        },
        "id": "5fc5ac56e7941635"
      },
      "id": "5fc5ac56e7941635",
      "execution_count": null
    },
    {
      "cell_type": "code",
      "outputs": [],
      "source": [
        "df.drop(columns=['label'], axis=1, inplace=True)\n",
        "df"
      ],
      "metadata": {
        "ExecuteTime": {
          "end_time": "2024-02-23T14:17:06.784502203Z",
          "start_time": "2024-02-23T14:17:06.107954235Z"
        },
        "id": "4113b3f57adaa336"
      },
      "id": "4113b3f57adaa336",
      "execution_count": null
    },
    {
      "cell_type": "code",
      "outputs": [],
      "source": [
        "len(df['text'])"
      ],
      "metadata": {
        "ExecuteTime": {
          "end_time": "2024-02-23T14:21:09.464182337Z",
          "start_time": "2024-02-23T14:21:08.819254123Z"
        },
        "id": "ea9eb0d977b6efa9"
      },
      "id": "ea9eb0d977b6efa9",
      "execution_count": null
    },
    {
      "cell_type": "code",
      "outputs": [],
      "source": [
        "unique_text = df['text'].map(str.strip).drop_duplicates()\n",
        "len(unique_text)"
      ],
      "metadata": {
        "ExecuteTime": {
          "end_time": "2024-02-23T14:21:51.764337369Z",
          "start_time": "2024-02-23T14:21:51.093724309Z"
        },
        "id": "fca92b16653d8d14"
      },
      "id": "fca92b16653d8d14",
      "execution_count": null
    },
    {
      "cell_type": "code",
      "outputs": [],
      "source": [
        "total_text = ''.join(df['text'])\n",
        "total_text"
      ],
      "metadata": {
        "id": "2d8c5e76c17f3e28"
      },
      "id": "2d8c5e76c17f3e28",
      "execution_count": null
    },
    {
      "cell_type": "code",
      "outputs": [],
      "source": [
        "single_sentences_list_from_txt = split_to_sentences(total_text)\n",
        "print (f\"{len(single_sentences_list_from_txt)} senteneces were found\")\n",
        "\n",
        "chunks3 = split_to_chunks(single_sentences_list_from_txt, min_chunk_size=500, max_chunk_size=2500, min_percentage_splitting=5)"
      ],
      "metadata": {
        "ExecuteTime": {
          "end_time": "2024-02-23T16:04:21.930714618Z",
          "start_time": "2024-02-23T15:50:02.442256891Z"
        },
        "id": "94747286175b708d"
      },
      "id": "94747286175b708d",
      "execution_count": null
    },
    {
      "cell_type": "code",
      "outputs": [],
      "source": [
        "chunks3 = np.array(chunks3)"
      ],
      "metadata": {
        "ExecuteTime": {
          "end_time": "2024-02-23T16:09:27.373380482Z",
          "start_time": "2024-02-23T16:09:27.229074023Z"
        },
        "id": "b513c42ac667b734"
      },
      "id": "b513c42ac667b734",
      "execution_count": null
    },
    {
      "cell_type": "code",
      "outputs": [],
      "source": [
        "for chunk in chunks3:\n",
        "    if len(chunk['combined_sentence']) > 2500:\n",
        "        print(chunk['combined_sentence'])"
      ],
      "metadata": {
        "ExecuteTime": {
          "end_time": "2024-02-23T16:09:31.356732788Z",
          "start_time": "2024-02-23T16:09:31.340812244Z"
        },
        "id": "46e11a58c4a6eaad"
      },
      "id": "46e11a58c4a6eaad",
      "execution_count": null
    },
    {
      "cell_type": "code",
      "outputs": [],
      "source": [
        "lens2 = [len(chunk['combined_sentence']) for chunk in chunks3]\n",
        "# texts2 = [chunk['combined_sentence'] for chunk in chunks3 if len(chunk['combined_sentence']) < 100]\n",
        "print(len(lens2))"
      ],
      "metadata": {
        "ExecuteTime": {
          "end_time": "2024-02-23T16:13:49.599772701Z",
          "start_time": "2024-02-23T16:13:49.526745893Z"
        },
        "id": "121e489e301c44f4"
      },
      "id": "121e489e301c44f4",
      "execution_count": null
    },
    {
      "cell_type": "code",
      "outputs": [],
      "source": [
        "lens2 = np.array(lens2)"
      ],
      "metadata": {
        "ExecuteTime": {
          "end_time": "2024-02-23T16:13:54.781849386Z",
          "start_time": "2024-02-23T16:13:54.609544887Z"
        },
        "id": "37174f67a41cef80"
      },
      "id": "37174f67a41cef80",
      "execution_count": null
    },
    {
      "cell_type": "code",
      "outputs": [],
      "source": [
        "lens2[lens2 < 500]"
      ],
      "metadata": {
        "ExecuteTime": {
          "end_time": "2024-02-23T16:13:58.885221146Z",
          "start_time": "2024-02-23T16:13:58.879214486Z"
        },
        "id": "9e14a42aef1a329e"
      },
      "id": "9e14a42aef1a329e",
      "execution_count": null
    },
    {
      "cell_type": "code",
      "outputs": [],
      "source": [
        "chunks3[0]['combined_sentence']"
      ],
      "metadata": {
        "ExecuteTime": {
          "end_time": "2024-02-23T15:40:50.864028751Z",
          "start_time": "2024-02-23T15:40:50.186692058Z"
        },
        "id": "f590f60f9c391cf0"
      },
      "id": "f590f60f9c391cf0",
      "execution_count": null
    },
    {
      "cell_type": "code",
      "outputs": [],
      "source": [
        "import pickle\n",
        "\n",
        "with open('train-chunks-min5.pickle', 'wb') as f:\n",
        "    pickle.dump(chunks3, f)"
      ],
      "metadata": {
        "ExecuteTime": {
          "end_time": "2024-02-23T18:01:28.878184329Z",
          "start_time": "2024-02-23T18:01:27.751404727Z"
        },
        "id": "252d5bb19ba2e7ee"
      },
      "id": "252d5bb19ba2e7ee",
      "execution_count": null
    },
    {
      "cell_type": "code",
      "outputs": [],
      "source": [
        "plt.hist(lens2, 20)"
      ],
      "metadata": {
        "ExecuteTime": {
          "end_time": "2024-02-23T14:59:32.303011684Z",
          "start_time": "2024-02-23T14:59:31.589104783Z"
        },
        "id": "3f24faa9a6c15ed7"
      },
      "id": "3f24faa9a6c15ed7",
      "execution_count": null
    },
    {
      "cell_type": "code",
      "outputs": [],
      "source": [
        "import matplotlib.pyplot as plt\n",
        "import numpy as np\n",
        "\n",
        "# counts, bins = np.histogram(lens)\n",
        "# plt.hist(lens)\n",
        "\n",
        "mu = 121\n",
        "sigma = 21\n",
        "x = mu + sigma * np.random.randn(1000)\n",
        "\n",
        "num_bins = 20\n",
        "\n",
        "n, bins, patches = plt.hist(lens2, num_bins,\n",
        "                            density=1,\n",
        "                            color='green',\n",
        "                            alpha=0.7)\n",
        "\n",
        "y = ((1 / (np.sqrt(2 * np.pi) * sigma)) *\n",
        "     np.exp(-0.5 * (1 / sigma * (bins - mu)) ** 2))\n",
        "\n",
        "plt.plot(bins, y, '--', color='black')"
      ],
      "metadata": {
        "ExecuteTime": {
          "end_time": "2024-02-23T14:25:11.067360074Z",
          "start_time": "2024-02-23T14:25:10.399596134Z"
        },
        "id": "c5a17b19b36ba774"
      },
      "id": "c5a17b19b36ba774",
      "execution_count": null
    },
    {
      "cell_type": "markdown",
      "source": [
        "But a list of sentences can be tough to add more data too. I'm going to turn this into a list of dictionaries (`List[dict]`), of which, the sentences will be a key-value. Then we can start to add more data to each sentence."
      ],
      "metadata": {
        "id": "6340df5c-bae9-4f04-a69a-4263c7e912de"
      },
      "id": "6340df5c-bae9-4f04-a69a-4263c7e912de"
    },
    {
      "cell_type": "code",
      "outputs": [],
      "source": [
        "sentences = [{'sentence': x, 'index' : i} for i, x in enumerate(single_sentences_list)]\n",
        "sentences[:3]"
      ],
      "metadata": {
        "id": "b1bc484a-5d6f-4df5-a1ec-7803908fac95",
        "ExecuteTime": {
          "end_time": "2024-02-21T15:10:34.836744970Z",
          "start_time": "2024-02-21T15:10:34.795561350Z"
        }
      },
      "id": "b1bc484a-5d6f-4df5-a1ec-7803908fac95",
      "execution_count": null
    },
    {
      "cell_type": "markdown",
      "source": [
        "Great, now that we have our sentences, I want to combine the sentence before and after so that we reduce noise and capture more of the relationships between sequential sentences.\n",
        "\n",
        "Let's create a function so we can use it again. The `buffer_size` is configurable so you can select how big of a window you want. Keep this number in mind for the later steps. I'll just use `buffer_size=1` for now."
      ],
      "metadata": {
        "id": "7655fbb4-73a8-43dd-a6b7-565ecf85890a"
      },
      "id": "7655fbb4-73a8-43dd-a6b7-565ecf85890a"
    },
    {
      "cell_type": "code",
      "outputs": [],
      "source": [
        "def combine_sentences(sentences, buffer_size=1):\n",
        "    # Go through each sentence dict\n",
        "    for i in range(len(sentences)):\n",
        "\n",
        "        # Create a string that will hold the sentences which are joined\n",
        "        combined_sentence = ''\n",
        "\n",
        "        # Add sentences before the current one, based on the buffer size.\n",
        "        for j in range(i - buffer_size, i):\n",
        "            # Check if the index j is not negative (to avoid index out of range like on the first one)\n",
        "            if j >= 0:\n",
        "                # Add the sentence at index j to the combined_sentence string\n",
        "                combined_sentence += sentences[j]['sentence'] + ' '\n",
        "\n",
        "        # Add the current sentence\n",
        "        combined_sentence += sentences[i]['sentence']\n",
        "\n",
        "        # Add sentences after the current one, based on the buffer size\n",
        "        for j in range(i + 1, i + 1 + buffer_size):\n",
        "            # Check if the index j is within the range of the sentences list\n",
        "            if j < len(sentences):\n",
        "                # Add the sentence at index j to the combined_sentence string\n",
        "                combined_sentence += ' ' + sentences[j]['sentence']\n",
        "\n",
        "        # Then add the whole thing to your dict\n",
        "        # Store the combined sentence in the current sentence dict\n",
        "        sentences[i]['combined_sentence'] = combined_sentence\n",
        "\n",
        "    return sentences\n",
        "\n",
        "sentences = combine_sentences(sentences)"
      ],
      "metadata": {
        "id": "c2c5e5ef-bfbe-4680-9761-0ba7615cc645",
        "ExecuteTime": {
          "end_time": "2024-02-21T15:10:36.854442907Z",
          "start_time": "2024-02-21T15:10:36.815889442Z"
        }
      },
      "id": "c2c5e5ef-bfbe-4680-9761-0ba7615cc645",
      "execution_count": null
    },
    {
      "cell_type": "code",
      "outputs": [],
      "source": [
        "sentences[:3]"
      ],
      "metadata": {
        "id": "a0c06ebf-af2c-4f14-924d-e0d0cab05f09",
        "ExecuteTime": {
          "end_time": "2024-02-21T15:10:38.617552558Z",
          "start_time": "2024-02-21T15:10:38.455428428Z"
        }
      },
      "id": "a0c06ebf-af2c-4f14-924d-e0d0cab05f09",
      "execution_count": null
    },
    {
      "cell_type": "markdown",
      "source": [
        "Check out how the 2nd sentence (index #1) has the first sentence and 3rd sentence in its `combined_sentence` key now.\n",
        "\n",
        "Now I want to get embeddings for the combined sentences, so we can get the distances between the groups of 3 and find breakpoints. I'll use OpenAI's embeddings for this."
      ],
      "metadata": {
        "id": "0deb04a6-d0ad-4757-af8c-d6d600794357"
      },
      "id": "0deb04a6-d0ad-4757-af8c-d6d600794357"
    },
    {
      "cell_type": "code",
      "outputs": [],
      "source": [
        "!pip install langchain"
      ],
      "metadata": {
        "id": "GeQt_UZN9zpP",
        "ExecuteTime": {
          "end_time": "2024-02-20T16:30:40.428786174Z",
          "start_time": "2024-02-20T16:30:33.565916300Z"
        }
      },
      "id": "GeQt_UZN9zpP",
      "execution_count": null
    },
    {
      "cell_type": "code",
      "outputs": [],
      "source": [
        "!pip install openai"
      ],
      "metadata": {
        "id": "Wyy0v8iH-l1D",
        "ExecuteTime": {
          "end_time": "2024-02-20T16:30:42.395981679Z",
          "start_time": "2024-02-20T16:30:40.437159164Z"
        }
      },
      "id": "Wyy0v8iH-l1D",
      "execution_count": null
    },
    {
      "cell_type": "code",
      "outputs": [],
      "source": [
        "!pip install tiktoken cohere"
      ],
      "metadata": {
        "id": "Purez1yT-zYU",
        "ExecuteTime": {
          "end_time": "2024-02-20T16:30:44.360490694Z",
          "start_time": "2024-02-20T16:30:42.397229327Z"
        }
      },
      "id": "Purez1yT-zYU",
      "execution_count": null
    },
    {
      "cell_type": "code",
      "outputs": [],
      "source": [
        "from langchain.embeddings import OpenAIEmbeddings\n",
        "oaiembeds = OpenAIEmbeddings(api_key='secret')"
      ],
      "metadata": {
        "id": "d757106f-d6cd-4504-96f1-4fe1f82e0b7e"
      },
      "id": "d757106f-d6cd-4504-96f1-4fe1f82e0b7e",
      "execution_count": null
    },
    {
      "cell_type": "markdown",
      "source": [
        "Now let's go get our embeddings. We'll do this in batch to make it quicker."
      ],
      "metadata": {
        "id": "9d5da984-67dc-43ce-b871-b5e91186767a"
      },
      "id": "9d5da984-67dc-43ce-b871-b5e91186767a"
    },
    {
      "cell_type": "code",
      "outputs": [],
      "source": [
        "import pickle\n",
        "import os\n",
        "\n",
        "file_name = 'embs.pickle'\n",
        "if not os.path.exists(file_name):\n",
        "  embeddings = oaiembeds.embed_documents([x['combined_sentence'] for x in sentences])\n",
        "  with open(file_name, 'wb') as f:\n",
        "    pickle.dump(embeddings, f)\n",
        "else:\n",
        "  with open(file_name, 'rb') as f:\n",
        "    embeddings = pickle.load(f)"
      ],
      "metadata": {
        "id": "6IvEddZIBJzZ",
        "ExecuteTime": {
          "end_time": "2024-02-21T15:10:49.279240406Z",
          "start_time": "2024-02-21T15:10:49.227388063Z"
        }
      },
      "id": "6IvEddZIBJzZ",
      "execution_count": null
    },
    {
      "cell_type": "markdown",
      "source": [
        "Now we have a list of embeddings, but we need to add them to our list of dicts"
      ],
      "metadata": {
        "id": "6a2cdc46-ad21-4e8e-a540-548aa3604212"
      },
      "id": "6a2cdc46-ad21-4e8e-a540-548aa3604212"
    },
    {
      "cell_type": "code",
      "outputs": [],
      "source": [
        "for i, sentence in enumerate(sentences):\n",
        "    sentence['combined_sentence_embedding'] = embeddings[i]"
      ],
      "metadata": {
        "id": "45828ce9-31cf-4810-a5e8-2098201a91dd",
        "ExecuteTime": {
          "end_time": "2024-02-21T15:10:56.415301395Z",
          "start_time": "2024-02-21T15:10:56.361616244Z"
        }
      },
      "id": "45828ce9-31cf-4810-a5e8-2098201a91dd",
      "execution_count": null
    },
    {
      "cell_type": "markdown",
      "source": [
        "Great, now we're getting to the cool part, let's check out the cosine distances between sequential embedding pairs to see where the break points are. We'll add 'distance_to_next' as another key"
      ],
      "metadata": {
        "id": "7a4f5f3e-f436-4374-be90-a1f5f819e518"
      },
      "id": "7a4f5f3e-f436-4374-be90-a1f5f819e518"
    },
    {
      "cell_type": "code",
      "outputs": [],
      "source": [
        "from sklearn.metrics.pairwise import cosine_similarity\n",
        "\n",
        "def calculate_cosine_distances(sentences):\n",
        "    distances = []\n",
        "    for i in range(len(sentences) - 1):\n",
        "        embedding_current = sentences[i]['combined_sentence_embedding']\n",
        "        embedding_next = sentences[i + 1]['combined_sentence_embedding']\n",
        "\n",
        "        # Calculate cosine similarity\n",
        "        similarity = cosine_similarity([embedding_current], [embedding_next])[0][0]\n",
        "\n",
        "        # Convert to cosine distance\n",
        "        distance = 1 - similarity\n",
        "\n",
        "        # Append cosine distance to the list\n",
        "        distances.append(distance)\n",
        "\n",
        "        # Store distance in the dictionary\n",
        "        sentences[i]['distance_to_next'] = distance\n",
        "\n",
        "    # Optionally handle the last sentence\n",
        "    # sentences[-1]['distance_to_next'] = None  # or a default value\n",
        "\n",
        "    return distances, sentences"
      ],
      "metadata": {
        "id": "95792785-a966-4b40-a9c4-c76eaed71766",
        "ExecuteTime": {
          "end_time": "2024-02-21T15:11:00.379179591Z",
          "start_time": "2024-02-21T15:10:59.849150387Z"
        }
      },
      "id": "95792785-a966-4b40-a9c4-c76eaed71766",
      "execution_count": null
    },
    {
      "cell_type": "markdown",
      "source": [
        "Great, now let's pull out the distances from our sentences and then add them as well"
      ],
      "metadata": {
        "id": "45abeb2e-605b-4556-82ca-b7c99eec742a"
      },
      "id": "45abeb2e-605b-4556-82ca-b7c99eec742a"
    },
    {
      "cell_type": "code",
      "outputs": [],
      "source": [
        "distances, sentences = calculate_cosine_distances(sentences)"
      ],
      "metadata": {
        "id": "336bf78a-8109-4fc5-92b3-28aa049b9f99",
        "ExecuteTime": {
          "end_time": "2024-02-21T15:11:02.236230231Z",
          "start_time": "2024-02-21T15:11:01.977542071Z"
        }
      },
      "id": "336bf78a-8109-4fc5-92b3-28aa049b9f99",
      "execution_count": null
    },
    {
      "cell_type": "markdown",
      "source": [
        "Let's take a look at what our distances array looks like."
      ],
      "metadata": {
        "id": "57eeacef-1594-41ea-a5f9-70f99b8878f3"
      },
      "id": "57eeacef-1594-41ea-a5f9-70f99b8878f3"
    },
    {
      "cell_type": "code",
      "outputs": [],
      "source": [
        "distances[:3]"
      ],
      "metadata": {
        "id": "3c330493-20f9-456e-a6f7-7e16cac4f3d1",
        "ExecuteTime": {
          "end_time": "2024-02-20T16:31:44.007330864Z",
          "start_time": "2024-02-20T16:31:43.807689946Z"
        }
      },
      "id": "3c330493-20f9-456e-a6f7-7e16cac4f3d1",
      "execution_count": null
    },
    {
      "cell_type": "code",
      "outputs": [],
      "source": [
        "sentences[:3]"
      ],
      "metadata": {
        "id": "QjHnj0JSDBxI",
        "ExecuteTime": {
          "end_time": "2024-02-20T16:31:46.623575200Z",
          "start_time": "2024-02-20T16:31:46.388341254Z"
        }
      },
      "id": "QjHnj0JSDBxI",
      "execution_count": null
    },
    {
      "cell_type": "markdown",
      "source": [
        "Hm, yep, just a bunch of numbers that aren't fun to look at. Let's plot them."
      ],
      "metadata": {
        "id": "7e960090-8714-4481-adec-33fe39c31bc4"
      },
      "id": "7e960090-8714-4481-adec-33fe39c31bc4"
    },
    {
      "cell_type": "code",
      "outputs": [],
      "source": [
        "import matplotlib.pyplot as plt\n",
        "\n",
        "plt.plot(distances);"
      ],
      "metadata": {
        "id": "986e4885-b079-4a4a-9ae4-a1227d6ce1bc",
        "ExecuteTime": {
          "end_time": "2024-02-21T15:11:10.152094334Z",
          "start_time": "2024-02-21T15:11:09.760584600Z"
        }
      },
      "id": "986e4885-b079-4a4a-9ae4-a1227d6ce1bc",
      "execution_count": null
    },
    {
      "cell_type": "markdown",
      "source": [
        "Hm, cool! It's interesting to see sections where distances are smaller and then areas of larger distances. What stands out to me most is the outliers which are spread out.\n",
        "\n",
        "There are many ways to chunk up the essay based off these distances, but I'm going to consider any distance above the 95th percentile of distances as a break point. This is the only parameter we'll need to config.\n",
        "\n",
        "I'm going to build in the final viz, check out the video for an iterative build and an overview."
      ],
      "metadata": {
        "id": "f4703f6b-9bf1-45ef-b0ea-a4fb95cc9007"
      },
      "id": "f4703f6b-9bf1-45ef-b0ea-a4fb95cc9007"
    },
    {
      "cell_type": "markdown",
      "source": [
        "Let's look at the chunks that came out"
      ],
      "metadata": {
        "id": "5044cd49-ef33-4d00-a629-bc3411b7939e"
      },
      "id": "5044cd49-ef33-4d00-a629-bc3411b7939e"
    },
    {
      "cell_type": "code",
      "outputs": [],
      "source": [
        "import numpy as np\n",
        "\n",
        "plt.plot(distances);\n",
        "\n",
        "y_upper_bound = .2\n",
        "plt.ylim(0, y_upper_bound)\n",
        "plt.xlim(0, len(distances))\n",
        "\n",
        "# We need to get the distance threshold that we'll consider an outlier\n",
        "# We'll use numpy .percentile() for this\n",
        "breakpoint_percentile_threshold = 95\n",
        "breakpoint_distance_threshold = np.percentile(distances, breakpoint_percentile_threshold) # If you want more chunks, lower the percentile cutoff\n",
        "plt.axhline(y=breakpoint_distance_threshold, color='r', linestyle='-');\n",
        "\n",
        "# Then we'll see how many distances are actually above this one\n",
        "num_distances_above_theshold = len([x for x in distances if x > breakpoint_distance_threshold]) # The amount of distances above your threshold\n",
        "plt.text(x=(len(distances)*.01), y=y_upper_bound/50, s=f\"{num_distances_above_theshold + 1} Chunks\");\n",
        "\n",
        "# Then we'll get the index of the distances that are above the threshold. This will tell us where we should split our text\n",
        "indices_above_thresh = [i for i, x in enumerate(distances) if x > breakpoint_distance_threshold] # The indices of those breakpoints on your list\n",
        "\n",
        "# Start of the shading and text\n",
        "colors = ['b', 'g', 'r', 'c', 'm', 'y', 'k']\n",
        "for i, breakpoint_index in enumerate(indices_above_thresh):\n",
        "    start_index = 0 if i == 0 else indices_above_thresh[i - 1]\n",
        "    end_index = breakpoint_index if i < len(indices_above_thresh) - 1 else len(distances)\n",
        "\n",
        "    plt.axvspan(start_index, end_index, facecolor=colors[i % len(colors)], alpha=0.25)\n",
        "    plt.text(x=np.average([start_index, end_index]),\n",
        "             y=breakpoint_distance_threshold + (y_upper_bound)/ 20,\n",
        "             s=f\"Chunk #{i}\", horizontalalignment='center',\n",
        "             rotation='vertical')\n",
        "\n",
        "# # Additional step to shade from the last breakpoint to the end of the dataset\n",
        "if indices_above_thresh:\n",
        "    last_breakpoint = indices_above_thresh[-1]\n",
        "    if last_breakpoint < len(distances):\n",
        "        plt.axvspan(last_breakpoint, len(distances), facecolor=colors[len(indices_above_thresh) % len(colors)], alpha=0.25)\n",
        "        plt.text(x=np.average([last_breakpoint, len(distances)]),\n",
        "                 y=breakpoint_distance_threshold + (y_upper_bound)/ 20,\n",
        "                 s=f\"Chunk #{i+1}\",\n",
        "                 rotation='vertical')\n",
        "\n",
        "plt.title(\"PG Essay Chunks Based On Embedding Breakpoints\")\n",
        "plt.xlabel(\"Index of sentences in essay (Sentence Position)\")\n",
        "plt.ylabel(\"Cosine distance between sequential sentences\")\n",
        "plt.show()"
      ],
      "metadata": {
        "id": "cba11136-a6fb-4ec6-83db-0476c9efc5e0",
        "ExecuteTime": {
          "end_time": "2024-02-21T15:11:19.067546407Z",
          "start_time": "2024-02-21T15:11:18.800687412Z"
        }
      },
      "id": "cba11136-a6fb-4ec6-83db-0476c9efc5e0",
      "execution_count": null
    },
    {
      "cell_type": "markdown",
      "source": [
        "Well now that we've succefully distracted ourselves with a visualization, now we need to combine the sentences into chunks.\n",
        "\n",
        "Because we have our breakpoints [23, 40, 51...] I want to make the first chunk 0-22, since the distance jumped on sentence 23."
      ],
      "metadata": {
        "id": "6c942fe5-cfb4-44b2-8177-35983e88ea82"
      },
      "id": "6c942fe5-cfb4-44b2-8177-35983e88ea82"
    },
    {
      "cell_type": "code",
      "outputs": [],
      "source": [
        "sentences"
      ],
      "metadata": {
        "id": "rYvGfhfeT5KC",
        "ExecuteTime": {
          "end_time": "2024-02-20T16:34:24.616817843Z",
          "start_time": "2024-02-20T16:34:22.435523148Z"
        }
      },
      "id": "rYvGfhfeT5KC",
      "execution_count": null
    },
    {
      "cell_type": "code",
      "outputs": [],
      "source": [
        "# Initialize the start index\n",
        "start_index = 0\n",
        "\n",
        "# Create a list to hold the grouped sentences\n",
        "chunks = []\n",
        "\n",
        "# Iterate through the breakpoints to slice the sentences\n",
        "for index in indices_above_thresh:\n",
        "    # The end index is the current breakpoint\n",
        "    end_index = index\n",
        "\n",
        "    # Slice the sentence_dicts from the current start index to the end index\n",
        "    group = sentences[start_index:end_index + 1]\n",
        "    combined_text = ' '.join([d['sentence'] for d in group])\n",
        "    chunks.append({\"combined_sentence\": combined_text, \"combined_sentence_embedding\": [d[\"combined_sentence_embedding\"] for d in group]})\n",
        "\n",
        "    # Update the start index for the next group\n",
        "    start_index = index + 1\n",
        "\n",
        "# The last group, if any sentences remain\n",
        "if start_index < len(sentences):\n",
        "    combined_text = ' '.join([d['sentence'] for d in sentences[start_index:]])\n",
        "    chunks.append({\"combined_sentence\": combined_text, \"combined_sentence_embedding\": [d[\"combined_sentence_embedding\"] for d in sentences[start_index:]]})\n",
        "    # chunks.append(combined_text)\n",
        "\n",
        "# grouped_sentences now contains the chunked sentences"
      ],
      "metadata": {
        "id": "f17828f0-4d1b-4514-ad87-343301cb8450",
        "ExecuteTime": {
          "end_time": "2024-02-21T15:11:27.718536015Z",
          "start_time": "2024-02-21T15:11:27.663760909Z"
        }
      },
      "id": "f17828f0-4d1b-4514-ad87-343301cb8450",
      "execution_count": null
    },
    {
      "cell_type": "markdown",
      "source": [
        "Great now let's manually inspect a few to make sure they look ok."
      ],
      "metadata": {
        "id": "8418f022-d929-427e-9977-ec12c4eb0236"
      },
      "id": "8418f022-d929-427e-9977-ec12c4eb0236"
    },
    {
      "cell_type": "code",
      "outputs": [],
      "source": [
        "lens = np.array([len(chunk[\"combined_sentence\"]) for chunk in chunks])"
      ],
      "metadata": {
        "id": "7DqXjfAUJnoI",
        "ExecuteTime": {
          "end_time": "2024-02-21T15:11:29.369530627Z",
          "start_time": "2024-02-21T15:11:29.296438942Z"
        }
      },
      "id": "7DqXjfAUJnoI",
      "execution_count": null
    },
    {
      "cell_type": "code",
      "outputs": [],
      "source": [
        "lens"
      ],
      "metadata": {
        "ExecuteTime": {
          "end_time": "2024-02-21T15:11:30.815371007Z",
          "start_time": "2024-02-21T15:11:30.701099924Z"
        },
        "id": "6f4923f11f659f87"
      },
      "id": "6f4923f11f659f87",
      "execution_count": null
    },
    {
      "cell_type": "code",
      "outputs": [],
      "source": [
        "lens = np.array([len(chunk[\"combined_sentence\"]) for chunk in chunks2])\n",
        "lens"
      ],
      "metadata": {
        "ExecuteTime": {
          "end_time": "2024-02-21T15:14:49.785698324Z",
          "start_time": "2024-02-21T15:14:49.153784859Z"
        },
        "id": "73e58711e7770db3"
      },
      "id": "73e58711e7770db3",
      "execution_count": null
    },
    {
      "cell_type": "code",
      "execution_count": null,
      "id": "d709135b-6465-4720-8eb8-60dc9f91efac",
      "metadata": {
        "id": "d709135b-6465-4720-8eb8-60dc9f91efac"
      },
      "outputs": [],
      "source": [
        "for i, chunk in enumerate(chunks[:2]):\n",
        "    buffer = 200\n",
        "\n",
        "    print (f\"Chunk #{i}\")\n",
        "    print (chunk['combined_sentence'][:buffer].strip())\n",
        "    print (\"...\")\n",
        "    print (chunk['combined_sentence'][-buffer:].strip())\n",
        "    print (\"\\n\")"
      ]
    },
    {
      "cell_type": "markdown",
      "id": "c4a86473-b267-483d-ac45-e0f4d30b67e6",
      "metadata": {
        "id": "c4a86473-b267-483d-ac45-e0f4d30b67e6"
      },
      "source": [
        "I want to re-emphasize that this is an exploration of a method that is far from usable yet. This method should be tested with RAG eval to ensure that it works for your use case.\n",
        "\n",
        "I didn't worry about chunk size or overlap with this method, but you could recursively split large chunks if you needed to.\n",
        "\n",
        "How should it be improved? Let me [know](https://twitter.com/GregKamradt)! See me tease this [here](https://twitter.com/GregKamradt/status/1737921395974430953)."
      ]
    },
    {
      "cell_type": "code",
      "source": [
        "min_len = 1500\n",
        "max_len = 2000"
      ],
      "metadata": {
        "id": "38oluAFwKLjb",
        "ExecuteTime": {
          "end_time": "2024-02-20T16:39:52.749692885Z",
          "start_time": "2024-02-20T16:39:52.635961727Z"
        }
      },
      "id": "38oluAFwKLjb",
      "execution_count": null,
      "outputs": []
    },
    {
      "cell_type": "code",
      "source": [
        "from scipy.spatial.distance import cosine\n",
        "\n",
        "def combine_chunks(chunks_copy, min_length, max_length):\n",
        "    combined_chunks = []\n",
        "    chunks_copy = chunks_copy.copy()\n",
        "    idx_to_delete = set()\n",
        "\n",
        "    for i, chunk in enumerate(chunks_copy):\n",
        "        if len(chunk['combined_sentence']) < min_length:\n",
        "            closest_distance = float('inf')\n",
        "            closest_chunk_index = None\n",
        "\n",
        "            for j, other_chunk in enumerate(chunks_copy):\n",
        "                if i != j:\n",
        "                    embs = chunk['combined_sentence_embedding']\n",
        "                    embs_other = other_chunk['combined_sentence_embedding']\n",
        "                    chunk_embedding = np.mean(np.array(embs), axis=0)\n",
        "                    other_chunk_embedding = np.mean(np.array(embs_other), axis=0)\n",
        "\n",
        "                    distance = cosine(chunk_embedding, other_chunk_embedding)\n",
        "                    if distance < closest_distance:\n",
        "                        closest_distance = distance\n",
        "                        closest_chunk_index = j\n",
        "\n",
        "            # Если нашли подходящий chunk для объединения\n",
        "            if closest_chunk_index is not None:\n",
        "                # Объединяем предложения и эмбеддинги\n",
        "                combined_sentence = chunk['combined_sentence'] + chunks_copy[closest_chunk_index]['combined_sentence']\n",
        "                combined_embedding = chunk['combined_sentence_embedding'] + chunks_copy[closest_chunk_index]['combined_sentence_embedding']\n",
        "                combined_chunk = {'combined_sentence': combined_sentence, 'combined_sentence_embedding': combined_embedding}\n",
        "\n",
        "                idx_to_delete.add(closest_chunk_index)\n",
        "                idx_to_delete.add(i)\n",
        "\n",
        "                combined_chunks.append(combined_chunk)\n",
        "\n",
        "    chunks_copy = [e[1] for e in enumerate(chunks_copy) if e[0] not in idx_to_delete]\n",
        "    return chunks_copy + combined_chunks"
      ],
      "metadata": {
        "id": "5SjYFmQ0KRJL",
        "ExecuteTime": {
          "end_time": "2024-02-20T17:47:04.515625475Z",
          "start_time": "2024-02-20T17:47:04.355873644Z"
        }
      },
      "id": "5SjYFmQ0KRJL",
      "execution_count": null,
      "outputs": []
    },
    {
      "cell_type": "code",
      "outputs": [],
      "source": [
        "def test_smallest_chunks(new_chunks):\n",
        "    if new_chunks is None:\n",
        "        return True\n",
        "\n",
        "    flag = False\n",
        "    for chunk in new_chunks:\n",
        "      val = len(chunk['combined_sentence']) < min_len\n",
        "      flag |= val\n",
        "      if val:\n",
        "        print(len(chunk['combined_sentence']))\n",
        "    return flag"
      ],
      "metadata": {
        "ExecuteTime": {
          "end_time": "2024-02-20T17:47:05.628451491Z",
          "start_time": "2024-02-20T17:47:05.481784726Z"
        },
        "id": "c0eba124544cc5d5"
      },
      "id": "c0eba124544cc5d5",
      "execution_count": null
    },
    {
      "cell_type": "code",
      "source": [
        "new_chunks = chunks\n",
        "while test_smallest_chunks(new_chunks):\n",
        "    new_chunks = combine_chunks(new_chunks, min_len, max_len)"
      ],
      "metadata": {
        "id": "c3itaI8BaQNz",
        "ExecuteTime": {
          "end_time": "2024-02-20T17:47:31.681771074Z",
          "start_time": "2024-02-20T17:47:30.877532259Z"
        }
      },
      "id": "c3itaI8BaQNz",
      "execution_count": null,
      "outputs": []
    },
    {
      "cell_type": "code",
      "source": [
        "len(chunks)"
      ],
      "metadata": {
        "id": "aus8mQenmVWi",
        "ExecuteTime": {
          "end_time": "2024-02-20T17:47:36.094054596Z",
          "start_time": "2024-02-20T17:47:35.948133630Z"
        }
      },
      "id": "aus8mQenmVWi",
      "execution_count": null,
      "outputs": []
    },
    {
      "cell_type": "code",
      "outputs": [],
      "source": [
        "len(new_chunks)"
      ],
      "metadata": {
        "ExecuteTime": {
          "end_time": "2024-02-20T17:47:52.054210027Z",
          "start_time": "2024-02-20T17:47:51.324877194Z"
        },
        "id": "ef8b309521a34081"
      },
      "id": "ef8b309521a34081",
      "execution_count": null
    },
    {
      "cell_type": "code",
      "source": [
        "flag = False\n",
        "for chunk in chunks:\n",
        "  val = len(chunk['combined_sentence']) < min_len\n",
        "  flag |= val\n",
        "  if val:\n",
        "    print(len(chunk['combined_sentence']))\n",
        "flag"
      ],
      "metadata": {
        "id": "NzSaOlfKmnsf",
        "ExecuteTime": {
          "end_time": "2024-02-20T17:47:56.233924885Z",
          "start_time": "2024-02-20T17:47:56.082018272Z"
        }
      },
      "id": "NzSaOlfKmnsf",
      "execution_count": null,
      "outputs": []
    },
    {
      "cell_type": "code",
      "source": [
        "lens = np.array([len(chunk['combined_sentence']) for chunk in new_chunks])"
      ],
      "metadata": {
        "id": "9owKBRxvlcFg",
        "ExecuteTime": {
          "end_time": "2024-02-20T17:48:08.657889230Z",
          "start_time": "2024-02-20T17:48:07.883217375Z"
        }
      },
      "id": "9owKBRxvlcFg",
      "execution_count": null,
      "outputs": []
    },
    {
      "cell_type": "code",
      "source": [
        "lens"
      ],
      "metadata": {
        "id": "8BaYfChomGzM",
        "ExecuteTime": {
          "end_time": "2024-02-20T17:48:10.192056803Z",
          "start_time": "2024-02-20T17:48:10.054628811Z"
        }
      },
      "id": "8BaYfChomGzM",
      "execution_count": null,
      "outputs": []
    },
    {
      "cell_type": "markdown",
      "id": "949e24e2-1d32-4ff3-a16e-ada98e46d6be",
      "metadata": {
        "id": "949e24e2-1d32-4ff3-a16e-ada98e46d6be"
      },
      "source": [
        "## Wrap up\n",
        "\n",
        "Congratulations on making it to the end of this video. The aim was to educate you on the chunking theory, give a nod to retrieval, and encourage you to try out these methods on your data.\n",
        "\n",
        "I always like hearing what you think about the code, video or how you use this in your role. Let me know on [twitter](https://twitter.com/GregKamradt) or email (contact@dataindependent.com)"
      ]
    }
  ],
  "metadata": {
    "kernelspec": {
      "display_name": "Python 3 (ipykernel)",
      "language": "python",
      "name": "python3"
    },
    "language_info": {
      "codemirror_mode": {
        "name": "ipython",
        "version": 3
      },
      "file_extension": ".py",
      "mimetype": "text/x-python",
      "name": "python",
      "nbconvert_exporter": "python",
      "pygments_lexer": "ipython3",
      "version": "3.11.6"
    },
    "colab": {
      "provenance": []
    }
  },
  "nbformat": 4,
  "nbformat_minor": 5
}