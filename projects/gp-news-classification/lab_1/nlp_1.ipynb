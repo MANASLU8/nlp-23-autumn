{
 "cells": [
  {
   "cell_type": "code",
   "execution_count": null,
   "id": "initial_id",
   "metadata": {
    "collapsed": true
   },
   "outputs": [],
   "source": [
    "import nltk\n",
    "\n",
    "nltk.download('punkt')\n",
    "import pandas as pd"
   ]
  },
  {
   "cell_type": "code",
   "execution_count": null,
   "outputs": [],
   "source": [
    "import os\n",
    "\n",
    "df = pd.read_csv(os.path.join('data.csv'), names=['label', 'Title', 'Description'])\n",
    "df['text'] = (df['Title'] + '. ' + df['Description'])\n",
    "df.drop(columns=['Title', 'Description'], axis=1, inplace=True)\n",
    "print(df.head())\n",
    "print(df['text'][1])"
   ],
   "metadata": {
    "collapsed": false
   },
   "id": "10d57caa4259352a"
  },
  {
   "cell_type": "code",
   "execution_count": null,
   "outputs": [],
   "source": [
    "df['label']"
   ],
   "metadata": {
    "collapsed": false
   },
   "id": "ad6c6f57643b7841"
  },
  {
   "cell_type": "code",
   "execution_count": null,
   "outputs": [],
   "source": [
    "import re\n",
    "\n",
    "def split_to_sent(text):\n",
    "    sentences = re.split(\n",
    "        r\"(((?<!\\w\\.\\w.)(?<!\\s\\w\\.)(?<![A-Z][a-z]\\.)(?<=\\.|\\?|\\!)\\s(?=[A-Z]))|((?<![\\,\\-\\:])\\n(?=[A-Z]|\\\" )))\", text)[\n",
    "                ::4]\n",
    "    return sentences"
   ],
   "metadata": {
    "collapsed": false
   },
   "id": "f16b78e23c14172f"
  },
  {
   "cell_type": "code",
   "execution_count": null,
   "outputs": [],
   "source": [
    "def split_to_words(sentence):\n",
    "    words = re.findall(r\"\\w+@\\w+\\.\\w+|\\+\\d{1,3}-\\d{3}-\\d{3}-\\d{2}-\\d{2}|\\w+\", sentence)\n",
    "    return words"
   ],
   "metadata": {
    "collapsed": false
   },
   "id": "bded99f420ae9022"
  },
  {
   "cell_type": "code",
   "execution_count": null,
   "outputs": [],
   "source": [
    "from nltk import WordNetLemmatizer\n",
    "from nltk import SnowballStemmer\n",
    "import nltk\n",
    "nltk.download('wordnet')\n",
    "\n",
    "\n",
    "def process_file():\n",
    "    wnl = WordNetLemmatizer()\n",
    "    sst = SnowballStemmer(\"english\")\n",
    "    counter = 0\n",
    "    for index, row in df.iterrows():\n",
    "        sentences = split_to_sent(row['text'])\n",
    "        words_dic = []\n",
    "        counter += 1\n",
    "        for s in sentences:\n",
    "            words_dic += split_to_words(s)\n",
    "            words_dic.append(\"\\n\")\n",
    "        lemmatized = []\n",
    "        stemmed = []\n",
    "        original = []\n",
    "        for w in words_dic:\n",
    "            w_processed = re.sub(r\"[.!?,]$\", \"\", w).lower() # убрать удаление точек и etc. отделить от токена и сохранить отдлеьно (1 балл доделать)\n",
    "            lemmatized.append(wnl.lemmatize(w_processed))\n",
    "            stemmed.append(sst.stem(w_processed))\n",
    "            original.append(w_processed)\n",
    "        save_to_file(original, lemmatized, stemmed, os.path.join(\".\", \"assets\", \"annotated-corpus\", \"train\", str(row['label']), str(counter) + \".tsv\"))"
   ],
   "metadata": {
    "collapsed": false
   },
   "id": "b2f4a0464b92971e"
  },
  {
   "cell_type": "code",
   "execution_count": null,
   "outputs": [],
   "source": [
    "def save_to_file(original, lemmatized, stemmed, id):\n",
    "    with open(id, \"w\") as f:\n",
    "        for i in range(len(original)):\n",
    "            if original[i] == \"\\n\":\n",
    "                 print(\"\", file=f)\n",
    "            else:\n",
    "                print(original[i], stemmed[i], lemmatized[i], sep=\"\\t\", file=f)"
   ],
   "metadata": {
    "collapsed": false
   },
   "id": "eae86957a0812dbe"
  },
  {
   "cell_type": "code",
   "execution_count": null,
   "outputs": [],
   "source": [
    "process_file()"
   ],
   "metadata": {
    "collapsed": false
   },
   "id": "9dc8c43fc3a82676"
  }
 ],
 "metadata": {
  "kernelspec": {
   "display_name": "Python 3",
   "language": "python",
   "name": "python3"
  },
  "language_info": {
   "codemirror_mode": {
    "name": "ipython",
    "version": 2
   },
   "file_extension": ".py",
   "mimetype": "text/x-python",
   "name": "python",
   "nbconvert_exporter": "python",
   "pygments_lexer": "ipython2",
   "version": "2.7.6"
  }
 },
 "nbformat": 4,
 "nbformat_minor": 5
}
