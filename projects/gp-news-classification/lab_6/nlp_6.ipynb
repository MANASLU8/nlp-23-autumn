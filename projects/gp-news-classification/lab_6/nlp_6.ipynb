{
 "cells": [
  {
   "cell_type": "code",
   "execution_count": null,
   "id": "Nljr_QOTolpU",
   "metadata": {},
   "outputs": [],
   "source": [
    "!pip install sentence_transformers"
   ]
  },
  {
   "cell_type": "code",
   "execution_count": null,
   "id": "d_UCwJmyop9U",
   "metadata": {},
   "outputs": [],
   "source": [
    "!pip install chromadb"
   ]
  },
  {
   "cell_type": "code",
   "execution_count": null,
   "id": "R-7HqqlWodjc",
   "metadata": {},
   "outputs": [],
   "source": [
    "from sentence_transformers import SentenceTransformer\n",
    "import chromadb\n",
    "\n",
    "\n",
    "class EmbeddingFunction:\n",
    "    def __init__(self):\n",
    "        self.model = SentenceTransformer('sentence-transformers/paraphrase-multilingual-mpnet-base-v2')\n",
    "\n",
    "    def __call__(self, input):\n",
    "        return self.model.encode(input).tolist()\n",
    "\n",
    "\n",
    "class DB:\n",
    "\n",
    "    def __init__(self, distance_function, root_path):\n",
    "        self.ef = EmbeddingFunction()\n",
    "        self.client = chromadb.PersistentClient(path=root_path)\n",
    "        self.distance_function = distance_function\n",
    "        assert distance_function in [\"l2\", \"ip\", \"cosine\"], \"Distance function should be 'l2' or 'ip' or 'cosine'\"\n",
    "        self.collection = self.client.get_or_create_collection(\"lab5_\" + self.distance_function,\n",
    "                                                               metadata={\"hnsw:space\": self.distance_function},\n",
    "                                                               embedding_function=self.ef)\n",
    "\n",
    "    def add(self, items):\n",
    "        old_batch = 0\n",
    "        new_batch = 1000\n",
    "        while True:\n",
    "            if new_batch > len(items[\"fragments\"]):\n",
    "                break\n",
    "            self.collection.add(\n",
    "                documents=items[\"fragments\"][old_batch:new_batch],\n",
    "                metadatas=items[\"metadata\"][old_batch:new_batch],\n",
    "                ids=items[\"ids\"][old_batch:new_batch])\n",
    "            old_batch = new_batch\n",
    "            new_batch += 1000\n",
    "        self.collection.add(\n",
    "            documents=items[\"fragments\"][old_batch:],\n",
    "            metadatas=items[\"metadata\"][old_batch:],\n",
    "            ids=items[\"ids\"][old_batch:])\n",
    "\n",
    "    def query(self, query, n_results):\n",
    "        return self.collection.query(query_embeddings=self.ef(query), n_results=n_results)\n",
    "\n",
    "    def clear(self):\n",
    "        self.client.delete_collection(\"lab5_\" + self.distance_function)\n",
    "        self.collection = self.client.get_or_create_collection(\"lab5_\" + self.distance_function,\n",
    "                                                               metadata={\"hnsw:space\": self.distance_function},\n",
    "                                                               embedding_function=self.ef)"
   ]
  },
  {
   "cell_type": "code",
   "execution_count": null,
   "id": "jke92C8Dpk2q",
   "metadata": {},
   "outputs": [],
   "source": [
    "import re\n",
    "import os\n",
    "\n",
    "def split_to_sent(text):\n",
    "    sentences = re.split(\n",
    "        r\"(((?<!\\w\\.\\w.)(?<!\\s\\w\\.)(?<![A-Z][a-z]\\.)(?<=\\.|\\?|\\!)\\s(?=[A-Z]))|((?<![\\,\\-\\:])\\n(?=[A-Z]|\\\" )))\", text)[::4]\n",
    "    return sentences"
   ]
  },
  {
   "cell_type": "code",
   "execution_count": null,
   "id": "a42d23a97e41abe9",
   "metadata": {},
   "outputs": [],
   "source": [
    "def split_document(lines, fragment_limit=100):\n",
    "    sentences = split_to_sent(lines)\n",
    "    result = []\n",
    "    fragment = \"\"\n",
    "    length = 0\n",
    "    for s in sentences:\n",
    "        fragment += s + \" \"\n",
    "        length += len(s.split(\" \"))\n",
    "        if length > fragment_limit:\n",
    "            result.append(fragment)\n",
    "            fragment = \"\"\n",
    "            length = 0\n",
    "    return result"
   ]
  },
  {
   "cell_type": "code",
   "execution_count": null,
   "id": "ac5311dfa4aa41bc",
   "metadata": {},
   "outputs": [],
   "source": [
    "import pandas as pd\n",
    "\n",
    "def split_dataset(dataset_path, fragment_limit=100):\n",
    "    result_fragments = []\n",
    "    metadata = []\n",
    "    result_ids = []\n",
    "    t = \"train.csv\"\n",
    "    filepath = os.path.join(dataset_path, t)\n",
    "    df = pd.read_csv(filepath, names=['label', 'Title', 'Description'])\n",
    "    df['text'] = (df['Title'] + '. ' + df['Description'])\n",
    "    df.drop(columns=['Title', 'Description'], axis=1, inplace=True)\n",
    "    for index, row in df.iterrows():\n",
    "      fragments_raw = split_document(row['text'], fragment_limit)\n",
    "      counter = 0\n",
    "      for fragment in fragments_raw:\n",
    "          result_fragments.append(fragment.replace(\"\\n\", \" \"))\n",
    "          metadata.append({\"document\": index, \"topic\": row[\"label\"]})\n",
    "          result_ids.append(f\"{index}_{row['label']}_{counter}\")\n",
    "          counter += 1\n",
    "    return result_fragments, result_ids, metadata"
   ]
  },
  {
   "cell_type": "code",
   "execution_count": null,
   "id": "61b408be2ca2919d",
   "metadata": {},
   "outputs": [],
   "source": [
    "data_dir = os.path.realpath(\"./dataset/raw\")"
   ]
  },
  {
   "cell_type": "code",
   "execution_count": null,
   "id": "a95e853792df2cad",
   "metadata": {},
   "outputs": [],
   "source": [
    "fragments, ids, metadata = split_dataset(data_dir, fragment_limit=20)"
   ]
  },
  {
   "cell_type": "code",
   "execution_count": null,
   "id": "257d557bd839db6a",
   "metadata": {},
   "outputs": [],
   "source": [
    "database_l2 = DB(\"l2\", \"./dataset/raw/DB\")\n",
    "database_ip = DB(\"ip\", \"./dataset/raw/DB\")\n",
    "database_cosine = DB(\"cosine\", \"./dataset/raw/DB\")"
   ]
  },
  {
   "cell_type": "code",
   "execution_count": null,
   "id": "75f22e0560dc9c77",
   "metadata": {},
   "outputs": [],
   "source": [
    "database_l2.clear()\n",
    "database_l2.add({\"fragments\": fragments, \"metadata\": metadata, \"ids\": ids})"
   ]
  },
  {
   "cell_type": "code",
   "execution_count": null,
   "id": "76d033b5a7b2ec72",
   "metadata": {},
   "outputs": [],
   "source": [
    "database_ip.clear()\n",
    "database_ip.add({\"fragments\": fragments, \"metadata\": metadata, \"ids\": ids})"
   ]
  },
  {
   "cell_type": "code",
   "execution_count": null,
   "id": "ced7c16d41dbf31e",
   "metadata": {},
   "outputs": [],
   "source": [
    "database_cosine.clear()\n",
    "database_cosine.add({\"fragments\": fragments, \"metadata\": metadata, \"ids\": ids})"
   ]
  },
  {
   "cell_type": "code",
   "execution_count": null,
   "id": "3bc8bdad68549b7f",
   "metadata": {},
   "outputs": [],
   "source": [
    "database_l2.query(\"What Iraq problem is?\", 5)"
   ]
  },
  {
   "cell_type": "code",
   "execution_count": null,
   "id": "966d37fed2d55c69",
   "metadata": {},
   "outputs": [],
   "source": [
    "database_ip.query(\"What Iraq problem is?\", 5)"
   ]
  },
  {
   "cell_type": "code",
   "execution_count": null,
   "id": "1485f68145aa1c1f",
   "metadata": {},
   "outputs": [],
   "source": [
    "database_cosine.query(\"What Iraq problem is?\", 5)"
   ]
  },
  {
   "cell_type": "code",
   "execution_count": null,
   "id": "8c11fb1247d4ecb6",
   "metadata": {},
   "outputs": [],
   "source": [
    "database_l2.query(\"В чем проблема Ирака?\", 5)"
   ]
  },
  {
   "cell_type": "code",
   "execution_count": null,
   "id": "Wx_VJGagfoS3",
   "metadata": {},
   "outputs": [],
   "source": [
    "database_ip.query(\"В чем проблема Ирака?\", 5)"
   ]
  },
  {
   "cell_type": "code",
   "execution_count": null,
   "id": "60d6e5507fc9c747",
   "metadata": {},
   "outputs": [],
   "source": [
    "database_cosine.query(\"В чем проблема Ирака?\", 5)"
   ]
  },
  {
   "cell_type": "code",
   "execution_count": null,
   "id": "Rdw3gUlZ8XHq",
   "metadata": {},
   "outputs": [],
   "source": [
    "!pip install ctransformers"
   ]
  },
  {
   "cell_type": "code",
   "execution_count": null,
   "id": "sP88_bZK9FKs",
   "metadata": {},
   "outputs": [],
   "source": [
    "!pip install tiktoken\n",
    "!pip install openai\n",
    "!pip install cohere\n",
    "!pip install kaleido"
   ]
  },
  {
   "cell_type": "code",
   "execution_count": null,
   "id": "UmGPq1_v8bjq",
   "metadata": {},
   "outputs": [],
   "source": [
    "!pip install gradio==3.48.0"
   ]
  },
  {
   "cell_type": "code",
   "execution_count": null,
   "id": "277f34c2a256f513",
   "metadata": {},
   "outputs": [],
   "source": [
    "from ctransformers import AutoModelForCausalLM\n",
    "import gradio as gr"
   ]
  },
  {
   "cell_type": "code",
   "execution_count": null,
   "id": "UKpDk97j8Ku9",
   "metadata": {},
   "outputs": [],
   "source": [
    "llm = AutoModelForCausalLM.from_pretrained(\"TheBloke/Mistral-7B-OpenOrca-GGUF\", model_file=\"mistral-7b-openorca.Q4_K_M.gguf\", model_type=\"mistral\", gpu_layers=50)\n"
   ]
  },
  {
   "cell_type": "code",
   "execution_count": null,
   "id": "xqDzowNS8Ne0",
   "metadata": {},
   "outputs": [],
   "source": [
    "database_l2"
   ]
  },
  {
   "cell_type": "code",
   "execution_count": null,
   "id": "FRcCpY7L8SYZ",
   "metadata": {},
   "outputs": [],
   "source": [
    "def process_request(message, history):\n",
    "    context = \"\\n\".join(database_l2.query(message, 5)[\"documents\"][0])\n",
    "    prompt = \"Answer the question using provided context. Your answer should be in your own words and be no longer than 50 words.\\n\"\n",
    "    prompt += \"Context: \" + context + \"\\n\"\n",
    "    prompt += \"Question: \" + message + \"\\n\"\n",
    "    prompt += \"Answer: \"\n",
    "    answer = llm(prompt)\n",
    "    return f\"{prompt}\\n\\n{answer}\""
   ]
  },
  {
   "cell_type": "markdown",
   "id": "5b113af8a82b85d9",
   "metadata": {
    "collapsed": false
   },
   "source": [
    "# Выводы\n",
    "\n",
    "Были проведены сравнения работы с моделью, имеющей в примерно 2 раза меньшее количество параметров. C результатом сравнения и использумыми запросами можно ознакомиться на странице https://docs.google.com/spreadsheets/d/1hbwkQYDN5jxTs6qmNrz8bebgqDX_l5LidE6tW_GrX_Y/edit?usp=sharing.\n",
    "По результатам можно сказать, что проблема в некоторых вопорсах является не обобщающая способность, а нехватка информации в изначальном корпусе"
   ]
  },
  {
   "cell_type": "code",
   "execution_count": null,
   "id": "8TllDMH-8WRe",
   "metadata": {},
   "outputs": [],
   "source": [
    "demo = gr.ChatInterface(fn=process_request, title=\"Chat bot\")\n",
    "demo.launch()"
   ]
  },
  {
   "cell_type": "code",
   "execution_count": null,
   "id": "4BsqN54--wRL",
   "metadata": {},
   "outputs": [],
   "source": [
    "!du -h | sort -h"
   ]
  },
  {
   "cell_type": "code",
   "execution_count": null,
   "id": "3OnRUV-RCOZ4",
   "metadata": {},
   "outputs": [],
   "source": [
    "!zip -r DB.zip DB/"
   ]
  },
  {
   "cell_type": "code",
   "execution_count": null,
   "id": "wmeRtyYJKJiI",
   "metadata": {},
   "outputs": [],
   "source": [
    "from google.colab import drive\n",
    "drive.mount('/content/drive')"
   ]
  },
  {
   "cell_type": "code",
   "execution_count": null,
   "id": "0BjH45JtKKE1",
   "metadata": {},
   "outputs": [],
   "source": [
    "!cp -r ./DB ./drive/MyDrive/ITMO/NLP/lab5/"
   ]
  }
 ],
 "metadata": {
  "language_info": {
   "name": "python"
  }
 },
 "nbformat": 4,
 "nbformat_minor": 5
}
