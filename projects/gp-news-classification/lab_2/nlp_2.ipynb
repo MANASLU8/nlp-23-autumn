{
 "cells": [
  {
   "cell_type": "code",
   "execution_count": null,
   "outputs": [],
   "source": [
    "import os\n",
    "import nltk\n",
    "from nltk.corpus import stopwords"
   ],
   "metadata": {
    "collapsed": false
   },
   "id": "f786ef180e8e2f5c"
  },
  {
   "cell_type": "code",
   "execution_count": null,
   "outputs": [],
   "source": [
    "nltk.download('stopwords')"
   ],
   "metadata": {
    "collapsed": false
   },
   "id": "6f45f1ccd26ecf73"
  },
  {
   "cell_type": "code",
   "execution_count": null,
   "outputs": [],
   "source": [
    "dir = os.path.realpath(\"../pythonProject3/1\")"
   ],
   "metadata": {
    "collapsed": false
   },
   "id": "a0c48c344afa8455"
  },
  {
   "cell_type": "code",
   "execution_count": null,
   "outputs": [],
   "source": [
    "sentences = []\n",
    "for filename in os.listdir(dir):\n",
    "    with open(os.path.join(dir, filename)) as f:\n",
    "        lines = \"\".join(f.readlines())\n",
    "        sentences_raw = lines.split(\"\\n\\n\")\n",
    "        for s in sentences_raw:\n",
    "            words = s.split(\"\\n\")\n",
    "            stems_raw = list(map(lambda x: x.split(\"\\t\")[1], words))\n",
    "            lemmas_raw = list(map(lambda x: x.split(\"\\t\")[2], words))\n",
    "            lemmas = list(map(lambda x: x.split(\"\\t\")[2], words))\n",
    "            lemmas_s = []\n",
    "            for i in range(len(lemmas_raw)):\n",
    "                if lemmas[i] not in stopwords.words(\"english\"):\n",
    "                    lemmas_s.append(lemmas_raw[i])\n",
    "            sentences.append(lemmas_s)"
   ],
   "metadata": {
    "collapsed": false
   },
   "id": "be217dd1545f4024"
  },
  {
   "cell_type": "code",
   "execution_count": null,
   "outputs": [],
   "source": [
    "sentences"
   ],
   "metadata": {
    "collapsed": false
   },
   "id": "42b06ffee57703f1"
  },
  {
   "cell_type": "code",
   "execution_count": null,
   "outputs": [],
   "source": [
    "len(sentences)"
   ],
   "metadata": {
    "collapsed": false
   },
   "id": "ab84d0b03109a7b3"
  },
  {
   "cell_type": "code",
   "execution_count": null,
   "outputs": [],
   "source": [
    "ngram_length = 3"
   ],
   "metadata": {
    "collapsed": false
   },
   "id": "2c3974f8375964d"
  },
  {
   "cell_type": "code",
   "execution_count": null,
   "outputs": [],
   "source": [
    "sentences"
   ],
   "metadata": {
    "collapsed": false
   },
   "id": "de19c4f6c83ae1c3"
  },
  {
   "cell_type": "code",
   "execution_count": null,
   "outputs": [],
   "source": [
    "ngrams = []\n",
    "word_count = {}\n",
    "ngrams_count = {}\n",
    "for s in sentences:\n",
    "    counter = 0\n",
    "    for w in s:\n",
    "        if w not in word_count.keys():\n",
    "            word_count[w] = 0\n",
    "        word_count[w] += 1\n",
    "        counter += 1\n",
    "    if counter < ngram_length:\n",
    "        continue\n",
    "    for i in range(len(s) - ngram_length + 1):\n",
    "        ngram = tuple(s[i : i + ngram_length])\n",
    "        if ngram not in ngrams_count.keys():\n",
    "            ngrams_count[ngram] = 0\n",
    "        ngrams_count[ngram] += 1\n",
    "        ngrams.append(ngram)"
   ],
   "metadata": {
    "collapsed": false
   },
   "id": "903299786e4315ca"
  },
  {
   "cell_type": "code",
   "execution_count": null,
   "outputs": [],
   "source": [
    "len(ngrams)"
   ],
   "metadata": {
    "collapsed": false
   },
   "id": "2faeefc2ffe99b64"
  },
  {
   "cell_type": "code",
   "execution_count": null,
   "outputs": [],
   "source": [
    "sorted(word_count.items(), key=lambda x: -x[1])[:30]"
   ],
   "metadata": {
    "collapsed": false
   },
   "id": "af439235742ef88b"
  },
  {
   "cell_type": "code",
   "execution_count": null,
   "outputs": [],
   "source": [
    "sorted(ngrams_count.items(), key=lambda x: -x[1])[:30]"
   ],
   "metadata": {
    "collapsed": false
   },
   "id": "fb8af5375cbb8f36"
  },
  {
   "cell_type": "code",
   "execution_count": null,
   "outputs": [],
   "source": [
    "total_words = sum(word_count.values())"
   ],
   "metadata": {
    "collapsed": false
   },
   "id": "1513c88d41ddb7ed"
  },
  {
   "cell_type": "code",
   "execution_count": null,
   "outputs": [],
   "source": [
    "total_words"
   ],
   "metadata": {
    "collapsed": false
   },
   "id": "82b65486149f63fc"
  },
  {
   "cell_type": "code",
   "execution_count": null,
   "outputs": [],
   "source": [
    "from cmath import sqrt, log\n",
    "\n",
    "ngram_score = {}\n",
    "for ngram in set(ngrams):\n",
    "    count_mul_result = 1\n",
    "    for word in ngram:\n",
    "        count_mul_result *= word_count[word]\n",
    "    ngram_score[ngram] = log((ngrams_count[ngram] * total_words ** (ngram_length - 1)) / sqrt(count_mul_result))"
   ],
   "metadata": {
    "collapsed": false
   },
   "id": "ff0de04bd8419c2a"
  },
  {
   "cell_type": "code",
   "execution_count": null,
   "outputs": [],
   "source": [
    "sorted(ngrams_count.items(), key=lambda x: -x[1])[:30]"
   ],
   "metadata": {
    "collapsed": false
   },
   "id": "a562f39f3545d953"
  },
  {
   "cell_type": "code",
   "execution_count": null,
   "outputs": [],
   "source": [
    "from nltk.collocations import  *\n",
    "from nltk import Text\n",
    "import nltk"
   ],
   "metadata": {
    "collapsed": false
   },
   "id": "ef0473cc1ec74e45"
  },
  {
   "cell_type": "code",
   "execution_count": null,
   "outputs": [],
   "source": [
    "text = []\n",
    "for s in sentences:\n",
    "    text += s"
   ],
   "metadata": {
    "collapsed": false
   },
   "id": "c025ff48bb3612be"
  },
  {
   "cell_type": "code",
   "execution_count": null,
   "outputs": [],
   "source": [
    "finder = TrigramCollocationFinder.from_words(Text(text))"
   ],
   "metadata": {
    "collapsed": false
   },
   "id": "488b80f64678ad86"
  },
  {
   "cell_type": "code",
   "execution_count": null,
   "outputs": [],
   "source": [
    "finder.nbest(nltk.collocations.TrigramAssocMeasures().mi_like(), 30)"
   ],
   "metadata": {
    "collapsed": false
   },
   "id": "8381703643d4847f"
  }
 ],
 "metadata": {
  "kernelspec": {
   "display_name": "Python 3",
   "language": "python",
   "name": "python3"
  },
  "language_info": {
   "codemirror_mode": {
    "name": "ipython",
    "version": 2
   },
   "file_extension": ".py",
   "mimetype": "text/x-python",
   "name": "python",
   "nbconvert_exporter": "python",
   "pygments_lexer": "ipython2",
   "version": "2.7.6"
  }
 },
 "nbformat": 4,
 "nbformat_minor": 5
}
