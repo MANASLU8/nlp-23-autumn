{
 "cells": [
  {
   "cell_type": "code",
   "execution_count": null,
   "id": "f786ef180e8e2f5c",
   "metadata": {},
   "outputs": [],
   "source": [
    "import os\n",
    "import nltk\n",
    "from nltk.corpus import stopwords"
   ]
  },
  {
   "cell_type": "code",
   "execution_count": null,
   "id": "6f45f1ccd26ecf73",
   "metadata": {},
   "outputs": [],
   "source": [
    "nltk.download('stopwords')"
   ]
  },
  {
   "cell_type": "code",
   "execution_count": null,
   "id": "a0c48c344afa8455",
   "metadata": {},
   "outputs": [],
   "source": [
    "dir = os.path.realpath(\"../pythonProject3/1\")"
   ]
  },
  {
   "cell_type": "code",
   "execution_count": null,
   "id": "be217dd1545f4024",
   "metadata": {},
   "outputs": [],
   "source": [
    "sentences = []\n",
    "for filename in os.listdir(dir):\n",
    "    with open(os.path.join(dir, filename)) as f:\n",
    "        lines = \"\".join(f.readlines())\n",
    "        sentences_raw = lines.split(\"\\n\\n\")\n",
    "        for s in sentences_raw:\n",
    "            words = s.split(\"\\n\")\n",
    "            stems_raw = list(map(lambda x: x.split(\"\\t\")[1], words))\n",
    "            lemmas_raw = list(map(lambda x: x.split(\"\\t\")[2], words))\n",
    "            lemmas = list(map(lambda x: x.split(\"\\t\")[2], words))\n",
    "            lemmas_s = []\n",
    "            for i in range(len(lemmas_raw)):\n",
    "                if lemmas[i] not in stopwords.words(\"english\"):\n",
    "                    lemmas_s.append(lemmas_raw[i])\n",
    "            sentences.append(lemmas_s)"
   ]
  },
  {
   "cell_type": "code",
   "execution_count": null,
   "id": "42b06ffee57703f1",
   "metadata": {},
   "outputs": [],
   "source": [
    "sentences"
   ]
  },
  {
   "cell_type": "code",
   "execution_count": null,
   "id": "ab84d0b03109a7b3",
   "metadata": {},
   "outputs": [],
   "source": [
    "len(sentences)"
   ]
  },
  {
   "cell_type": "code",
   "execution_count": null,
   "id": "2c3974f8375964d",
   "metadata": {},
   "outputs": [],
   "source": [
    "ngram_length = 3"
   ]
  },
  {
   "cell_type": "code",
   "execution_count": null,
   "id": "de19c4f6c83ae1c3",
   "metadata": {},
   "outputs": [],
   "source": [
    "sentences"
   ]
  },
  {
   "cell_type": "code",
   "execution_count": null,
   "id": "903299786e4315ca",
   "metadata": {},
   "outputs": [],
   "source": [
    "ngrams = []\n",
    "word_count = {}\n",
    "ngrams_count = {}\n",
    "for s in sentences:\n",
    "    counter = 0\n",
    "    for w in s:\n",
    "        if w not in word_count.keys():\n",
    "            word_count[w] = 0\n",
    "        word_count[w] += 1\n",
    "        counter += 1\n",
    "    if counter < ngram_length:\n",
    "        continue\n",
    "    for i in range(len(s) - ngram_length + 1):\n",
    "        ngram = tuple(s[i : i + ngram_length])\n",
    "        if ngram not in ngrams_count.keys():\n",
    "            ngrams_count[ngram] = 0\n",
    "        ngrams_count[ngram] += 1\n",
    "        ngrams.append(ngram)"
   ]
  },
  {
   "cell_type": "code",
   "execution_count": null,
   "id": "2faeefc2ffe99b64",
   "metadata": {},
   "outputs": [],
   "source": [
    "len(ngrams)"
   ]
  },
  {
   "cell_type": "code",
   "execution_count": null,
   "id": "af439235742ef88b",
   "metadata": {},
   "outputs": [],
   "source": [
    "sorted(word_count.items(), key=lambda x: -x[1])[:30]"
   ]
  },
  {
   "cell_type": "code",
   "execution_count": null,
   "id": "fb8af5375cbb8f36",
   "metadata": {},
   "outputs": [],
   "source": [
    "sorted(ngrams_count.items(), key=lambda x: -x[1])[:30]"
   ]
  },
  {
   "cell_type": "code",
   "execution_count": null,
   "id": "1513c88d41ddb7ed",
   "metadata": {},
   "outputs": [],
   "source": [
    "total_words = sum(word_count.values())"
   ]
  },
  {
   "cell_type": "code",
   "execution_count": null,
   "id": "82b65486149f63fc",
   "metadata": {},
   "outputs": [],
   "source": [
    "total_words"
   ]
  },
  {
   "cell_type": "code",
   "execution_count": null,
   "id": "ff0de04bd8419c2a",
   "metadata": {},
   "outputs": [],
   "source": [
    "from cmath import sqrt, log\n",
    "\n",
    "ngram_score = {}\n",
    "for ngram in set(ngrams):\n",
    "    count_mul_result = 1\n",
    "    for word in ngram:\n",
    "        count_mul_result *= word_count[word]\n",
    "    ngram_score[ngram] = log((ngrams_count[ngram] * total_words ** (ngram_length - 1)) / sqrt(count_mul_result))"
   ]
  },
  {
   "cell_type": "code",
   "execution_count": null,
   "id": "a562f39f3545d953",
   "metadata": {},
   "outputs": [],
   "source": [
    "sorted(ngrams_count.items(), key=lambda x: -x[1])[:30]"
   ]
  },
  {
   "cell_type": "code",
   "execution_count": null,
   "id": "ef0473cc1ec74e45",
   "metadata": {},
   "outputs": [],
   "source": [
    "from nltk.collocations import  *\n",
    "from nltk import Text\n",
    "import nltk"
   ]
  },
  {
   "cell_type": "code",
   "execution_count": null,
   "id": "c025ff48bb3612be",
   "metadata": {},
   "outputs": [],
   "source": [
    "text = []\n",
    "for s in sentences:\n",
    "    text += s"
   ]
  },
  {
   "cell_type": "code",
   "execution_count": null,
   "id": "488b80f64678ad86",
   "metadata": {},
   "outputs": [],
   "source": [
    "finder = TrigramCollocationFinder.from_words(Text(text))"
   ]
  },
  {
   "cell_type": "code",
   "execution_count": null,
   "id": "8381703643d4847f",
   "metadata": {},
   "outputs": [],
   "source": [
    "finder.nbest(nltk.collocations.TrigramAssocMeasures().mi_like(), 30)"
   ]
  }
 ],
 "metadata": {
  "language_info": {
   "name": "python"
  }
 },
 "nbformat": 4,
 "nbformat_minor": 5
}
