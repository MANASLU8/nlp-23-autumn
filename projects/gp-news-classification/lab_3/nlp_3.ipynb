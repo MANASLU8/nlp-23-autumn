{
 "cells": [
  {
   "cell_type": "code",
   "execution_count": 1,
   "outputs": [],
   "source": [
    "import os\n",
    "import re\n",
    "import json\n",
    "import pandas as pd\n",
    "import numpy as np\n",
    "import seaborn as sns\n",
    "from nltk.corpus import stopwords\n",
    "from math import log10\n",
    "from gensim.models import Word2Vec\n",
    "from sklearn.decomposition import PCA"
   ],
   "metadata": {
    "collapsed": false,
    "ExecuteTime": {
     "end_time": "2023-12-27T10:38:41.365731Z",
     "start_time": "2023-12-27T10:38:41.058610Z"
    }
   },
   "id": "d7e35c2d93e3339d"
  },
  {
   "cell_type": "code",
   "execution_count": 4,
   "outputs": [],
   "source": [
    "train_dir = os.path.realpath(\"./assets/annotated-corpus/train\")\n",
    "result_dir = os.path.realpath(\"./assets/wordcount/train\")"
   ],
   "metadata": {
    "collapsed": false,
    "ExecuteTime": {
     "end_time": "2023-12-27T10:38:47.518799Z",
     "start_time": "2023-12-27T10:38:47.510521Z"
    }
   },
   "id": "initial_id"
  },
  {
   "cell_type": "code",
   "execution_count": 5,
   "outputs": [
    {
     "data": {
      "text/plain": "['1', '4', '3', '2']"
     },
     "execution_count": 5,
     "metadata": {},
     "output_type": "execute_result"
    }
   ],
   "source": [
    "topics = os.listdir(train_dir)\n",
    "topics"
   ],
   "metadata": {
    "collapsed": false,
    "ExecuteTime": {
     "end_time": "2023-12-27T10:38:48.734819Z",
     "start_time": "2023-12-27T10:38:48.724861Z"
    }
   },
   "id": "2daf173c723b6ee9"
  },
  {
   "cell_type": "markdown",
   "source": [
    "# Task 1"
   ],
   "metadata": {
    "collapsed": false
   },
   "id": "2bd6102f8a656476"
  },
  {
   "cell_type": "code",
   "execution_count": 6,
   "outputs": [],
   "source": [
    "def get_stems_processed(filepath):\n",
    "    sentences = []\n",
    "    pattern = r\"([A-Za-z]+[-.@]?)+\\w*\\.?\"\n",
    "    with open(filepath) as f:\n",
    "        lines = \"\".join(f.readlines())\n",
    "        sentences_raw = lines.split(\"\\n\\n\")\n",
    "        for s in sentences_raw:\n",
    "            stems = []\n",
    "            words = s.split(\"\\n\")\n",
    "            if len(words) == 0 or words[0] == \"\":\n",
    "                continue\n",
    "            stems_raw = list(map(lambda x: x.split(\"\\t\")[1], words))\n",
    "            lemmas = list(map(lambda x: x.split(\"\\t\")[2], words))\n",
    "            for i in range(len(stems_raw)):\n",
    "                if lemmas[i] not in stopwords.words(\"english\") and re.match(pattern, lemmas[i]) is not None:\n",
    "                    stems.append(stems_raw[i])\n",
    "            sentences.append(stems)\n",
    "    return sentences"
   ],
   "metadata": {
    "collapsed": false,
    "ExecuteTime": {
     "end_time": "2023-12-27T10:38:50.273416Z",
     "start_time": "2023-12-27T10:38:50.265111Z"
    }
   },
   "id": "2559dc3e03ad4875"
  },
  {
   "cell_type": "code",
   "execution_count": 7,
   "outputs": [],
   "source": [
    "def count_words_in_sentences(sentences):\n",
    "    word_count = {}\n",
    "    sentences_count = []\n",
    "    for sentence in sentences:\n",
    "        wbs_count = {}\n",
    "        for w in sentence:\n",
    "            if w not in wbs_count.keys():\n",
    "                wbs_count[w] = 0\n",
    "            wbs_count[w] += 1\n",
    "            if w not in word_count.keys():\n",
    "                word_count[w] = 0\n",
    "            word_count[w] += 1\n",
    "        sentences_count.append(wbs_count)\n",
    "    return sentences_count"
   ],
   "metadata": {
    "collapsed": false,
    "ExecuteTime": {
     "end_time": "2023-12-27T10:38:51.833821Z",
     "start_time": "2023-12-27T10:38:51.824839Z"
    }
   },
   "id": "d5021cd9226debb6"
  },
  {
   "cell_type": "code",
   "execution_count": 8,
   "outputs": [
    {
     "name": "stdout",
     "output_type": "stream",
     "text": [
      "Total files for process: 120000\n",
      "Processed 1000 files. 1000 files per: 2.285611s\n",
      "Processed 2000 files. 1000 files per: 2.145206s\n",
      "Processed 3000 files. 1000 files per: 2.162677s\n",
      "Processed 4000 files. 1000 files per: 2.154292s\n",
      "Processed 5000 files. 1000 files per: 2.17095s\n",
      "Processed 6000 files. 1000 files per: 2.165514s\n",
      "Processed 7000 files. 1000 files per: 2.105886s\n",
      "Processed 8000 files. 1000 files per: 2.132039s\n",
      "Processed 9000 files. 1000 files per: 2.179763s\n",
      "Processed 10000 files. 1000 files per: 2.130145s\n",
      "Processed 11000 files. 1000 files per: 2.075643s\n",
      "Processed 12000 files. 1000 files per: 2.142477s\n",
      "Processed 13000 files. 1000 files per: 2.116347s\n",
      "Processed 14000 files. 1000 files per: 2.096928s\n",
      "Processed 15000 files. 1000 files per: 2.214315s\n",
      "Processed 16000 files. 1000 files per: 2.367267s\n",
      "Processed 17000 files. 1000 files per: 2.637775s\n",
      "Processed 18000 files. 1000 files per: 2.347544s\n",
      "Processed 19000 files. 1000 files per: 2.251855s\n",
      "Processed 20000 files. 1000 files per: 2.305264s\n",
      "Processed 21000 files. 1000 files per: 2.484839s\n",
      "Processed 22000 files. 1000 files per: 2.381633s\n",
      "Processed 23000 files. 1000 files per: 2.666466s\n",
      "Processed 24000 files. 1000 files per: 2.241523s\n",
      "Processed 25000 files. 1000 files per: 2.190441s\n",
      "Processed 26000 files. 1000 files per: 2.192434s\n",
      "Processed 27000 files. 1000 files per: 2.218287s\n",
      "Processed 28000 files. 1000 files per: 2.182348s\n",
      "Processed 29000 files. 1000 files per: 2.174536s\n",
      "Processed 30000 files. 1000 files per: 2.170242s\n",
      "Processed 31000 files. 1000 files per: 2.162759s\n",
      "Processed 32000 files. 1000 files per: 2.053173s\n",
      "Processed 33000 files. 1000 files per: 2.047524s\n",
      "Processed 34000 files. 1000 files per: 2.122579s\n",
      "Processed 35000 files. 1000 files per: 2.065592s\n",
      "Processed 36000 files. 1000 files per: 2.131274s\n",
      "Processed 37000 files. 1000 files per: 2.047141s\n",
      "Processed 38000 files. 1000 files per: 2.066985s\n",
      "Processed 39000 files. 1000 files per: 2.083583s\n",
      "Processed 40000 files. 1000 files per: 2.212308s\n",
      "Processed 41000 files. 1000 files per: 2.257944s\n",
      "Processed 42000 files. 1000 files per: 2.197037s\n",
      "Processed 43000 files. 1000 files per: 2.324007s\n",
      "Processed 44000 files. 1000 files per: 2.456723s\n",
      "Processed 45000 files. 1000 files per: 2.405769s\n",
      "Processed 46000 files. 1000 files per: 2.258859s\n",
      "Processed 47000 files. 1000 files per: 2.20433s\n",
      "Processed 48000 files. 1000 files per: 2.156278s\n",
      "Processed 49000 files. 1000 files per: 2.129603s\n",
      "Processed 50000 files. 1000 files per: 2.1493s\n",
      "Processed 51000 files. 1000 files per: 2.229253s\n",
      "Processed 52000 files. 1000 files per: 2.190202s\n",
      "Processed 53000 files. 1000 files per: 2.172482s\n",
      "Processed 54000 files. 1000 files per: 2.162347s\n",
      "Processed 55000 files. 1000 files per: 2.264451s\n",
      "Processed 56000 files. 1000 files per: 2.159173s\n",
      "Processed 57000 files. 1000 files per: 2.177694s\n",
      "Processed 58000 files. 1000 files per: 2.188094s\n",
      "Processed 59000 files. 1000 files per: 2.171971s\n",
      "Processed 60000 files. 1000 files per: 2.210807s\n",
      "Processed 61000 files. 1000 files per: 2.321098s\n",
      "Processed 62000 files. 1000 files per: 2.23402s\n",
      "Processed 63000 files. 1000 files per: 2.226558s\n",
      "Processed 64000 files. 1000 files per: 2.15869s\n",
      "Processed 65000 files. 1000 files per: 2.341252s\n",
      "Processed 66000 files. 1000 files per: 2.447441s\n",
      "Processed 67000 files. 1000 files per: 2.443304s\n",
      "Processed 68000 files. 1000 files per: 2.193079s\n",
      "Processed 69000 files. 1000 files per: 2.240054s\n",
      "Processed 70000 files. 1000 files per: 2.195822s\n",
      "Processed 71000 files. 1000 files per: 2.273996s\n",
      "Processed 72000 files. 1000 files per: 2.175518s\n",
      "Processed 73000 files. 1000 files per: 2.17171s\n",
      "Processed 74000 files. 1000 files per: 2.177104s\n",
      "Processed 75000 files. 1000 files per: 2.184696s\n",
      "Processed 76000 files. 1000 files per: 2.168168s\n",
      "Processed 77000 files. 1000 files per: 2.180176s\n",
      "Processed 78000 files. 1000 files per: 2.349705s\n",
      "Processed 79000 files. 1000 files per: 2.210956s\n",
      "Processed 80000 files. 1000 files per: 2.16928s\n",
      "Processed 81000 files. 1000 files per: 2.21684s\n",
      "Processed 82000 files. 1000 files per: 2.304423s\n",
      "Processed 83000 files. 1000 files per: 2.258619s\n",
      "Processed 84000 files. 1000 files per: 2.236604s\n",
      "Processed 85000 files. 1000 files per: 2.258037s\n",
      "Processed 86000 files. 1000 files per: 2.57152s\n",
      "Processed 87000 files. 1000 files per: 2.203131s\n",
      "Processed 88000 files. 1000 files per: 2.106332s\n",
      "Processed 89000 files. 1000 files per: 2.104014s\n",
      "Processed 90000 files. 1000 files per: 2.261075s\n",
      "Processed 91000 files. 1000 files per: 2.289068s\n",
      "Processed 92000 files. 1000 files per: 2.198301s\n",
      "Processed 93000 files. 1000 files per: 2.175008s\n",
      "Processed 94000 files. 1000 files per: 2.132704s\n",
      "Processed 95000 files. 1000 files per: 2.116181s\n",
      "Processed 96000 files. 1000 files per: 2.124835s\n",
      "Processed 97000 files. 1000 files per: 2.130002s\n",
      "Processed 98000 files. 1000 files per: 2.155893s\n",
      "Processed 99000 files. 1000 files per: 2.156512s\n",
      "Processed 100000 files. 1000 files per: 2.15612s\n",
      "Processed 101000 files. 1000 files per: 2.138251s\n",
      "Processed 102000 files. 1000 files per: 2.1435s\n",
      "Processed 103000 files. 1000 files per: 2.159451s\n",
      "Processed 104000 files. 1000 files per: 2.143771s\n",
      "Processed 105000 files. 1000 files per: 2.138678s\n",
      "Processed 106000 files. 1000 files per: 2.155333s\n",
      "Processed 107000 files. 1000 files per: 2.161327s\n",
      "Processed 108000 files. 1000 files per: 2.202248s\n",
      "Processed 109000 files. 1000 files per: 2.166859s\n",
      "Processed 110000 files. 1000 files per: 2.169843s\n",
      "Processed 111000 files. 1000 files per: 2.145305s\n",
      "Processed 112000 files. 1000 files per: 2.130431s\n",
      "Processed 113000 files. 1000 files per: 2.153394s\n",
      "Processed 114000 files. 1000 files per: 2.120294s\n",
      "Processed 115000 files. 1000 files per: 2.158948s\n",
      "Processed 116000 files. 1000 files per: 2.127017s\n",
      "Processed 117000 files. 1000 files per: 2.129355s\n",
      "Processed 118000 files. 1000 files per: 2.144506s\n",
      "Processed 119000 files. 1000 files per: 2.122196s\n",
      "Processed 120000 files. 1000 files per: 2.095704s\n"
     ]
    }
   ],
   "source": [
    "import datetime\n",
    "\n",
    "all_documents = []\n",
    "word_dict_raw = {}\n",
    "cntr = 0\n",
    "total_len = 0\n",
    "for t in topics:\n",
    "    total_len += len(os.listdir(os.path.join(train_dir, t)))\n",
    "print(f\"Total files for process: {total_len}\")\n",
    "\n",
    "for t in topics:\n",
    "    workdir = os.path.join(train_dir, t)\n",
    "    start_time = datetime.datetime.now()\n",
    "    for filename in os.listdir(workdir):\n",
    "        stems = get_stems_processed(os.path.join(workdir, filename))\n",
    "        all_documents.append(stems)\n",
    "        counts = count_words_in_sentences(stems)\n",
    "        for w in counts.keys():\n",
    "            if w not in word_dict_raw.keys():\n",
    "                word_dict_raw[w] = 0\n",
    "            word_dict_raw[w] += counts[w]\n",
    "        cntr += 1\n",
    "        if cntr % 1000 == 0:\n",
    "            print(f\"Processed {cntr} files. 1000 files per: {(datetime.datetime.now() - start_time).total_seconds()}s\")\n",
    "            start_time = datetime.datetime.now()"
   ],
   "metadata": {
    "collapsed": false,
    "ExecuteTime": {
     "end_time": "2023-12-27T10:43:18.508531Z",
     "start_time": "2023-12-27T10:38:53.948154Z"
    }
   },
   "id": "b110b36a52c8306e"
  },
  {
   "cell_type": "code",
   "execution_count": 9,
   "outputs": [],
   "source": [
    "word_dict = dict(word_dict_raw)\n",
    "\n",
    "for w in word_dict_raw.keys():\n",
    "    if word_dict_raw[w] < 3:\n",
    "        del word_dict[w]"
   ],
   "metadata": {
    "collapsed": false,
    "ExecuteTime": {
     "end_time": "2023-12-27T10:43:40.226104Z",
     "start_time": "2023-12-27T10:43:40.215570Z"
    }
   },
   "id": "8f0bb900731d4150"
  },
  {
   "cell_type": "code",
   "execution_count": 10,
   "outputs": [],
   "source": [
    "if not os.path.isdir(result_dir):\n",
    "    os.makedirs(result_dir, exist_ok=True)\n",
    "with open(os.path.join(result_dir, \"dictionary.json\"), \"w\") as f:\n",
    "    json.dump(word_dict, f, indent=1)"
   ],
   "metadata": {
    "collapsed": false,
    "ExecuteTime": {
     "end_time": "2023-12-27T10:43:43.458711Z",
     "start_time": "2023-12-27T10:43:43.435306Z"
    }
   },
   "id": "d43163f1a726311"
  },
  {
   "cell_type": "code",
   "execution_count": 191,
   "outputs": [
    {
     "name": "stdout",
     "output_type": "stream",
     "text": [
      "Processed 1000 files. 1000 Files Per: 12.160512s\n",
      "Processed 2000 files. 1000 Files Per: 12.18704s\n",
      "Processed 3000 files. 1000 Files Per: 16.435404s\n",
      "Processed 4000 files. 1000 Files Per: 14.748235s\n",
      "Processed 5000 files. 1000 Files Per: 14.950337s\n",
      "Processed 6000 files. 1000 Files Per: 18.305409s\n",
      "Processed 7000 files. 1000 Files Per: 14.43797s\n",
      "Processed 8000 files. 1000 Files Per: 14.86086s\n",
      "Processed 9000 files. 1000 Files Per: 15.588874s\n",
      "Processed 10000 files. 1000 Files Per: 14.100073s\n",
      "Processed 11000 files. 1000 Files Per: 13.400248s\n",
      "Processed 12000 files. 1000 Files Per: 15.122078s\n",
      "Processed 13000 files. 1000 Files Per: 14.088672s\n",
      "Processed 14000 files. 1000 Files Per: 14.276741s\n",
      "Processed 15000 files. 1000 Files Per: 16.00925s\n",
      "Processed 16000 files. 1000 Files Per: 15.271889s\n",
      "Processed 17000 files. 1000 Files Per: 18.820368s\n",
      "Processed 18000 files. 1000 Files Per: 20.164487s\n",
      "Processed 19000 files. 1000 Files Per: 19.473286s\n",
      "Processed 20000 files. 1000 Files Per: 17.522625s\n",
      "Processed 21000 files. 1000 Files Per: 19.181564s\n",
      "Processed 22000 files. 1000 Files Per: 19.437429s\n",
      "Processed 23000 files. 1000 Files Per: 18.70371s\n",
      "Processed 24000 files. 1000 Files Per: 20.808491s\n",
      "Processed 25000 files. 1000 Files Per: 18.332085s\n",
      "Processed 26000 files. 1000 Files Per: 20.223157s\n",
      "Processed 27000 files. 1000 Files Per: 21.072935s\n",
      "Processed 28000 files. 1000 Files Per: 16.772727s\n",
      "Processed 29000 files. 1000 Files Per: 17.058209s\n",
      "Processed 30000 files. 1000 Files Per: 19.162097s\n",
      "Processed 31000 files. 1000 Files Per: 18.671586s\n",
      "Processed 32000 files. 1000 Files Per: 18.538023s\n",
      "Processed 33000 files. 1000 Files Per: 19.709582s\n",
      "Processed 34000 files. 1000 Files Per: 17.408285s\n",
      "Processed 35000 files. 1000 Files Per: 17.0639s\n",
      "Processed 36000 files. 1000 Files Per: 16.940741s\n",
      "Processed 37000 files. 1000 Files Per: 19.052053s\n",
      "Processed 38000 files. 1000 Files Per: 17.94952s\n",
      "Processed 39000 files. 1000 Files Per: 22.715976s\n",
      "Processed 40000 files. 1000 Files Per: 18.627802s\n",
      "Processed 41000 files. 1000 Files Per: 18.313042s\n",
      "Processed 42000 files. 1000 Files Per: 17.612727s\n",
      "Processed 43000 files. 1000 Files Per: 18.466283s\n",
      "Processed 44000 files. 1000 Files Per: 16.80196s\n",
      "Processed 45000 files. 1000 Files Per: 16.585977s\n",
      "Processed 46000 files. 1000 Files Per: 17.638869s\n",
      "Processed 47000 files. 1000 Files Per: 16.297506s\n",
      "Processed 48000 files. 1000 Files Per: 16.682108s\n",
      "Processed 49000 files. 1000 Files Per: 16.527363s\n",
      "Processed 50000 files. 1000 Files Per: 16.964329s\n",
      "Processed 51000 files. 1000 Files Per: 16.394657s\n",
      "Processed 52000 files. 1000 Files Per: 16.866298s\n",
      "Processed 53000 files. 1000 Files Per: 20.874197s\n",
      "Processed 54000 files. 1000 Files Per: 17.87295s\n",
      "Processed 55000 files. 1000 Files Per: 16.980673s\n",
      "Processed 56000 files. 1000 Files Per: 17.685099s\n",
      "Processed 57000 files. 1000 Files Per: 17.525609s\n",
      "Processed 58000 files. 1000 Files Per: 19.486315s\n",
      "Processed 59000 files. 1000 Files Per: 17.597316s\n",
      "Processed 60000 files. 1000 Files Per: 18.660315s\n",
      "Processed 61000 files. 1000 Files Per: 16.628183s\n",
      "Processed 62000 files. 1000 Files Per: 18.197164s\n",
      "Processed 63000 files. 1000 Files Per: 18.274978s\n",
      "Processed 64000 files. 1000 Files Per: 18.400627s\n",
      "Processed 65000 files. 1000 Files Per: 19.987822s\n",
      "Processed 66000 files. 1000 Files Per: 18.587229s\n",
      "Processed 67000 files. 1000 Files Per: 17.398274s\n",
      "Processed 68000 files. 1000 Files Per: 17.293769s\n",
      "Processed 69000 files. 1000 Files Per: 16.773619s\n",
      "Processed 70000 files. 1000 Files Per: 17.011855s\n",
      "Processed 71000 files. 1000 Files Per: 17.037521s\n",
      "Processed 72000 files. 1000 Files Per: 17.094311s\n",
      "Processed 73000 files. 1000 Files Per: 17.543312s\n",
      "Processed 74000 files. 1000 Files Per: 17.583932s\n",
      "Processed 75000 files. 1000 Files Per: 17.957356s\n",
      "Processed 76000 files. 1000 Files Per: 19.948503s\n",
      "Processed 77000 files. 1000 Files Per: 19.177697s\n",
      "Processed 78000 files. 1000 Files Per: 17.310083s\n",
      "Processed 79000 files. 1000 Files Per: 16.630298s\n",
      "Processed 80000 files. 1000 Files Per: 17.851835s\n",
      "Processed 81000 files. 1000 Files Per: 16.963725s\n",
      "Processed 82000 files. 1000 Files Per: 17.125818s\n",
      "Processed 83000 files. 1000 Files Per: 19.4457s\n",
      "Processed 84000 files. 1000 Files Per: 17.715097s\n",
      "Processed 85000 files. 1000 Files Per: 16.761527s\n",
      "Processed 86000 files. 1000 Files Per: 16.98237s\n",
      "Processed 87000 files. 1000 Files Per: 16.706387s\n",
      "Processed 88000 files. 1000 Files Per: 16.410452s\n",
      "Processed 89000 files. 1000 Files Per: 16.049217s\n",
      "Processed 90000 files. 1000 Files Per: 16.205344s\n",
      "Processed 91000 files. 1000 Files Per: 17.222708s\n",
      "Processed 92000 files. 1000 Files Per: 18.215748s\n",
      "Processed 93000 files. 1000 Files Per: 18.958604s\n",
      "Processed 94000 files. 1000 Files Per: 20.807243s\n",
      "Processed 95000 files. 1000 Files Per: 18.83469s\n",
      "Processed 96000 files. 1000 Files Per: 18.959343s\n",
      "Processed 97000 files. 1000 Files Per: 19.579079s\n",
      "Processed 98000 files. 1000 Files Per: 19.965658s\n",
      "Processed 99000 files. 1000 Files Per: 18.856945s\n",
      "Processed 100000 files. 1000 Files Per: 19.403176s\n",
      "Processed 101000 files. 1000 Files Per: 18.598561s\n",
      "Processed 102000 files. 1000 Files Per: 18.848593s\n",
      "Processed 103000 files. 1000 Files Per: 19.042709s\n",
      "Processed 104000 files. 1000 Files Per: 19.222229s\n",
      "Processed 105000 files. 1000 Files Per: 19.123664s\n",
      "Processed 106000 files. 1000 Files Per: 19.231362s\n",
      "Processed 107000 files. 1000 Files Per: 18.891714s\n",
      "Processed 108000 files. 1000 Files Per: 19.11337s\n",
      "Processed 109000 files. 1000 Files Per: 18.698241s\n",
      "Processed 110000 files. 1000 Files Per: 19.307006s\n",
      "Processed 111000 files. 1000 Files Per: 21.268865s\n",
      "Processed 112000 files. 1000 Files Per: 18.502365s\n",
      "Processed 113000 files. 1000 Files Per: 19.126389s\n",
      "Processed 114000 files. 1000 Files Per: 18.568606s\n",
      "Processed 115000 files. 1000 Files Per: 18.533775s\n",
      "Processed 116000 files. 1000 Files Per: 20.23525s\n",
      "Processed 117000 files. 1000 Files Per: 18.274011s\n",
      "Processed 118000 files. 1000 Files Per: 18.288817s\n",
      "Processed 119000 files. 1000 Files Per: 18.424287s\n",
      "Processed 120000 files. 1000 Files Per: 18.309686s\n"
     ]
    }
   ],
   "source": [
    "doc_names = []\n",
    "matrix_arr = []\n",
    "cnt = 0\n",
    "for t in topics:\n",
    "    workdir = os.path.join(train_dir, t)\n",
    "    start_time = datetime.datetime.now()\n",
    "    for filename in os.listdir(workdir):\n",
    "        doc_names.append(t + \"/\" + filename)\n",
    "        stems = get_stems_processed(os.path.join(workdir, filename))\n",
    "        counts = count_words_in_sentences(stems)\n",
    "        vec = []\n",
    "        for w in word_dict.keys():\n",
    "            if w in counts.keys():\n",
    "                vec.append(counts[w])\n",
    "            else:\n",
    "                vec.append(0)\n",
    "        matrix_arr.append(vec)\n",
    "        if sum(vec) == 0:\n",
    "            print(\"Zero vector for document\", filename)\n",
    "        cnt += 1\n",
    "        if cnt % 1000 == 0:\n",
    "            print(f\"Processed {cnt} files. 1000 Files Per: {(datetime.datetime.now() - start_time).total_seconds()}s\")\n",
    "            start_time = datetime.datetime.now()\n"
   ],
   "metadata": {
    "collapsed": false,
    "ExecuteTime": {
     "end_time": "2023-12-25T19:11:38.325039500Z",
     "start_time": "2023-12-25T18:35:59.608495300Z"
    }
   },
   "id": "cf8dd1e55e8e274e"
  },
  {
   "cell_type": "code",
   "execution_count": 211,
   "outputs": [
    {
     "ename": "KeyboardInterrupt",
     "evalue": "",
     "output_type": "error",
     "traceback": [
      "\u001B[1;31m---------------------------------------------------------------------------\u001B[0m",
      "\u001B[1;31mKeyboardInterrupt\u001B[0m                         Traceback (most recent call last)",
      "\u001B[1;32m~\\AppData\\Local\\Temp\\ipykernel_12408\\2101556052.py\u001B[0m in \u001B[0;36m<module>\u001B[1;34m\u001B[0m\n\u001B[0;32m      1\u001B[0m \u001B[0mm_len\u001B[0m \u001B[1;33m=\u001B[0m \u001B[0mlen\u001B[0m\u001B[1;33m(\u001B[0m\u001B[0mmatrix_arr\u001B[0m\u001B[1;33m)\u001B[0m\u001B[1;33m\u001B[0m\u001B[1;33m\u001B[0m\u001B[0m\n\u001B[1;32m----> 2\u001B[1;33m \u001B[0mm_1\u001B[0m \u001B[1;33m=\u001B[0m \u001B[0mpd\u001B[0m\u001B[1;33m.\u001B[0m\u001B[0mDataFrame\u001B[0m\u001B[1;33m(\u001B[0m\u001B[0mmatrix_arr\u001B[0m\u001B[1;33m[\u001B[0m\u001B[0mint\u001B[0m\u001B[1;33m(\u001B[0m\u001B[0mm_len\u001B[0m\u001B[1;33m/\u001B[0m\u001B[1;36m4\u001B[0m\u001B[1;33m)\u001B[0m\u001B[1;33m:\u001B[0m\u001B[0mint\u001B[0m\u001B[1;33m(\u001B[0m\u001B[1;36m2\u001B[0m\u001B[1;33m*\u001B[0m\u001B[0mm_len\u001B[0m\u001B[1;33m/\u001B[0m\u001B[1;36m4\u001B[0m\u001B[1;33m)\u001B[0m\u001B[1;33m]\u001B[0m\u001B[1;33m)\u001B[0m\u001B[1;33m\u001B[0m\u001B[1;33m\u001B[0m\u001B[0m\n\u001B[0m\u001B[0;32m      3\u001B[0m \u001B[0mm_1\u001B[0m\u001B[1;33m.\u001B[0m\u001B[0mcolumns\u001B[0m \u001B[1;33m=\u001B[0m \u001B[0mword_dict\u001B[0m\u001B[1;33m.\u001B[0m\u001B[0mkeys\u001B[0m\u001B[1;33m(\u001B[0m\u001B[1;33m)\u001B[0m\u001B[1;33m\u001B[0m\u001B[1;33m\u001B[0m\u001B[0m\n\u001B[0;32m      4\u001B[0m \u001B[0mm_1\u001B[0m\u001B[1;33m.\u001B[0m\u001B[0mindex\u001B[0m \u001B[1;33m=\u001B[0m \u001B[0mdoc_names\u001B[0m\u001B[1;33m[\u001B[0m\u001B[0mint\u001B[0m\u001B[1;33m(\u001B[0m\u001B[0mm_len\u001B[0m\u001B[1;33m/\u001B[0m\u001B[1;36m4\u001B[0m\u001B[1;33m)\u001B[0m\u001B[1;33m:\u001B[0m\u001B[0mint\u001B[0m\u001B[1;33m(\u001B[0m\u001B[1;36m2\u001B[0m\u001B[1;33m*\u001B[0m\u001B[0mm_len\u001B[0m\u001B[1;33m/\u001B[0m\u001B[1;36m4\u001B[0m\u001B[1;33m)\u001B[0m\u001B[1;33m]\u001B[0m\u001B[1;33m\u001B[0m\u001B[1;33m\u001B[0m\u001B[0m\n\u001B[0;32m      5\u001B[0m \u001B[0mm_1\u001B[0m\u001B[1;33m.\u001B[0m\u001B[0mto_csv\u001B[0m\u001B[1;33m(\u001B[0m\u001B[0mos\u001B[0m\u001B[1;33m.\u001B[0m\u001B[0mpath\u001B[0m\u001B[1;33m.\u001B[0m\u001B[0mjoin\u001B[0m\u001B[1;33m(\u001B[0m\u001B[0mresult_dir\u001B[0m\u001B[1;33m,\u001B[0m \u001B[1;34m\"term-document.csv\"\u001B[0m\u001B[1;33m)\u001B[0m\u001B[1;33m)\u001B[0m\u001B[1;33m\u001B[0m\u001B[1;33m\u001B[0m\u001B[0m\n",
      "\u001B[1;32mC:\\Programs\\anaconda3\\lib\\site-packages\\pandas\\core\\frame.py\u001B[0m in \u001B[0;36m__init__\u001B[1;34m(self, data, index, columns, dtype, copy)\u001B[0m\n\u001B[0;32m    719\u001B[0m                         \u001B[1;31m# ndarray], Index, Series], Sequence[Any]]\"\u001B[0m\u001B[1;33m\u001B[0m\u001B[1;33m\u001B[0m\u001B[0m\n\u001B[0;32m    720\u001B[0m                         \u001B[0mcolumns\u001B[0m \u001B[1;33m=\u001B[0m \u001B[0mensure_index\u001B[0m\u001B[1;33m(\u001B[0m\u001B[0mcolumns\u001B[0m\u001B[1;33m)\u001B[0m  \u001B[1;31m# type: ignore[arg-type]\u001B[0m\u001B[1;33m\u001B[0m\u001B[1;33m\u001B[0m\u001B[0m\n\u001B[1;32m--> 721\u001B[1;33m                     arrays, columns, index = nested_data_to_arrays(\n\u001B[0m\u001B[0;32m    722\u001B[0m                         \u001B[1;31m# error: Argument 3 to \"nested_data_to_arrays\" has incompatible\u001B[0m\u001B[1;33m\u001B[0m\u001B[1;33m\u001B[0m\u001B[0m\n\u001B[0;32m    723\u001B[0m                         \u001B[1;31m# type \"Optional[Collection[Any]]\"; expected \"Optional[Index]\"\u001B[0m\u001B[1;33m\u001B[0m\u001B[1;33m\u001B[0m\u001B[0m\n",
      "\u001B[1;32mC:\\Programs\\anaconda3\\lib\\site-packages\\pandas\\core\\internals\\construction.py\u001B[0m in \u001B[0;36mnested_data_to_arrays\u001B[1;34m(data, columns, index, dtype)\u001B[0m\n\u001B[0;32m    517\u001B[0m         \u001B[0mcolumns\u001B[0m \u001B[1;33m=\u001B[0m \u001B[0mensure_index\u001B[0m\u001B[1;33m(\u001B[0m\u001B[0mdata\u001B[0m\u001B[1;33m[\u001B[0m\u001B[1;36m0\u001B[0m\u001B[1;33m]\u001B[0m\u001B[1;33m.\u001B[0m\u001B[0m_fields\u001B[0m\u001B[1;33m)\u001B[0m\u001B[1;33m\u001B[0m\u001B[1;33m\u001B[0m\u001B[0m\n\u001B[0;32m    518\u001B[0m \u001B[1;33m\u001B[0m\u001B[0m\n\u001B[1;32m--> 519\u001B[1;33m     \u001B[0marrays\u001B[0m\u001B[1;33m,\u001B[0m \u001B[0mcolumns\u001B[0m \u001B[1;33m=\u001B[0m \u001B[0mto_arrays\u001B[0m\u001B[1;33m(\u001B[0m\u001B[0mdata\u001B[0m\u001B[1;33m,\u001B[0m \u001B[0mcolumns\u001B[0m\u001B[1;33m,\u001B[0m \u001B[0mdtype\u001B[0m\u001B[1;33m=\u001B[0m\u001B[0mdtype\u001B[0m\u001B[1;33m)\u001B[0m\u001B[1;33m\u001B[0m\u001B[1;33m\u001B[0m\u001B[0m\n\u001B[0m\u001B[0;32m    520\u001B[0m     \u001B[0mcolumns\u001B[0m \u001B[1;33m=\u001B[0m \u001B[0mensure_index\u001B[0m\u001B[1;33m(\u001B[0m\u001B[0mcolumns\u001B[0m\u001B[1;33m)\u001B[0m\u001B[1;33m\u001B[0m\u001B[1;33m\u001B[0m\u001B[0m\n\u001B[0;32m    521\u001B[0m \u001B[1;33m\u001B[0m\u001B[0m\n",
      "\u001B[1;32mC:\\Programs\\anaconda3\\lib\\site-packages\\pandas\\core\\internals\\construction.py\u001B[0m in \u001B[0;36mto_arrays\u001B[1;34m(data, columns, dtype)\u001B[0m\n\u001B[0;32m    881\u001B[0m         \u001B[0marr\u001B[0m \u001B[1;33m=\u001B[0m \u001B[0m_list_to_arrays\u001B[0m\u001B[1;33m(\u001B[0m\u001B[0mdata\u001B[0m\u001B[1;33m)\u001B[0m\u001B[1;33m\u001B[0m\u001B[1;33m\u001B[0m\u001B[0m\n\u001B[0;32m    882\u001B[0m \u001B[1;33m\u001B[0m\u001B[0m\n\u001B[1;32m--> 883\u001B[1;33m     \u001B[0mcontent\u001B[0m\u001B[1;33m,\u001B[0m \u001B[0mcolumns\u001B[0m \u001B[1;33m=\u001B[0m \u001B[0m_finalize_columns_and_data\u001B[0m\u001B[1;33m(\u001B[0m\u001B[0marr\u001B[0m\u001B[1;33m,\u001B[0m \u001B[0mcolumns\u001B[0m\u001B[1;33m,\u001B[0m \u001B[0mdtype\u001B[0m\u001B[1;33m)\u001B[0m\u001B[1;33m\u001B[0m\u001B[1;33m\u001B[0m\u001B[0m\n\u001B[0m\u001B[0;32m    884\u001B[0m     \u001B[1;32mreturn\u001B[0m \u001B[0mcontent\u001B[0m\u001B[1;33m,\u001B[0m \u001B[0mcolumns\u001B[0m\u001B[1;33m\u001B[0m\u001B[1;33m\u001B[0m\u001B[0m\n\u001B[0;32m    885\u001B[0m \u001B[1;33m\u001B[0m\u001B[0m\n",
      "\u001B[1;32mC:\\Programs\\anaconda3\\lib\\site-packages\\pandas\\core\\internals\\construction.py\u001B[0m in \u001B[0;36m_finalize_columns_and_data\u001B[1;34m(content, columns, dtype)\u001B[0m\n\u001B[0;32m    986\u001B[0m \u001B[1;33m\u001B[0m\u001B[0m\n\u001B[0;32m    987\u001B[0m     \u001B[1;32mif\u001B[0m \u001B[0mlen\u001B[0m\u001B[1;33m(\u001B[0m\u001B[0mcontents\u001B[0m\u001B[1;33m)\u001B[0m \u001B[1;32mand\u001B[0m \u001B[0mcontents\u001B[0m\u001B[1;33m[\u001B[0m\u001B[1;36m0\u001B[0m\u001B[1;33m]\u001B[0m\u001B[1;33m.\u001B[0m\u001B[0mdtype\u001B[0m \u001B[1;33m==\u001B[0m \u001B[0mnp\u001B[0m\u001B[1;33m.\u001B[0m\u001B[0mobject_\u001B[0m\u001B[1;33m:\u001B[0m\u001B[1;33m\u001B[0m\u001B[1;33m\u001B[0m\u001B[0m\n\u001B[1;32m--> 988\u001B[1;33m         \u001B[0mcontents\u001B[0m \u001B[1;33m=\u001B[0m \u001B[0m_convert_object_array\u001B[0m\u001B[1;33m(\u001B[0m\u001B[0mcontents\u001B[0m\u001B[1;33m,\u001B[0m \u001B[0mdtype\u001B[0m\u001B[1;33m=\u001B[0m\u001B[0mdtype\u001B[0m\u001B[1;33m)\u001B[0m\u001B[1;33m\u001B[0m\u001B[1;33m\u001B[0m\u001B[0m\n\u001B[0m\u001B[0;32m    989\u001B[0m \u001B[1;33m\u001B[0m\u001B[0m\n\u001B[0;32m    990\u001B[0m     \u001B[1;32mreturn\u001B[0m \u001B[0mcontents\u001B[0m\u001B[1;33m,\u001B[0m \u001B[0mcolumns\u001B[0m\u001B[1;33m\u001B[0m\u001B[1;33m\u001B[0m\u001B[0m\n",
      "\u001B[1;32mC:\\Programs\\anaconda3\\lib\\site-packages\\pandas\\core\\internals\\construction.py\u001B[0m in \u001B[0;36m_convert_object_array\u001B[1;34m(content, dtype)\u001B[0m\n\u001B[0;32m   1071\u001B[0m         \u001B[1;32mreturn\u001B[0m \u001B[0marr\u001B[0m\u001B[1;33m\u001B[0m\u001B[1;33m\u001B[0m\u001B[0m\n\u001B[0;32m   1072\u001B[0m \u001B[1;33m\u001B[0m\u001B[0m\n\u001B[1;32m-> 1073\u001B[1;33m     \u001B[0marrays\u001B[0m \u001B[1;33m=\u001B[0m \u001B[1;33m[\u001B[0m\u001B[0mconvert\u001B[0m\u001B[1;33m(\u001B[0m\u001B[0marr\u001B[0m\u001B[1;33m)\u001B[0m \u001B[1;32mfor\u001B[0m \u001B[0marr\u001B[0m \u001B[1;32min\u001B[0m \u001B[0mcontent\u001B[0m\u001B[1;33m]\u001B[0m\u001B[1;33m\u001B[0m\u001B[1;33m\u001B[0m\u001B[0m\n\u001B[0m\u001B[0;32m   1074\u001B[0m \u001B[1;33m\u001B[0m\u001B[0m\n\u001B[0;32m   1075\u001B[0m     \u001B[1;32mreturn\u001B[0m \u001B[0marrays\u001B[0m\u001B[1;33m\u001B[0m\u001B[1;33m\u001B[0m\u001B[0m\n",
      "\u001B[1;32mC:\\Programs\\anaconda3\\lib\\site-packages\\pandas\\core\\internals\\construction.py\u001B[0m in \u001B[0;36m<listcomp>\u001B[1;34m(.0)\u001B[0m\n\u001B[0;32m   1071\u001B[0m         \u001B[1;32mreturn\u001B[0m \u001B[0marr\u001B[0m\u001B[1;33m\u001B[0m\u001B[1;33m\u001B[0m\u001B[0m\n\u001B[0;32m   1072\u001B[0m \u001B[1;33m\u001B[0m\u001B[0m\n\u001B[1;32m-> 1073\u001B[1;33m     \u001B[0marrays\u001B[0m \u001B[1;33m=\u001B[0m \u001B[1;33m[\u001B[0m\u001B[0mconvert\u001B[0m\u001B[1;33m(\u001B[0m\u001B[0marr\u001B[0m\u001B[1;33m)\u001B[0m \u001B[1;32mfor\u001B[0m \u001B[0marr\u001B[0m \u001B[1;32min\u001B[0m \u001B[0mcontent\u001B[0m\u001B[1;33m]\u001B[0m\u001B[1;33m\u001B[0m\u001B[1;33m\u001B[0m\u001B[0m\n\u001B[0m\u001B[0;32m   1074\u001B[0m \u001B[1;33m\u001B[0m\u001B[0m\n\u001B[0;32m   1075\u001B[0m     \u001B[1;32mreturn\u001B[0m \u001B[0marrays\u001B[0m\u001B[1;33m\u001B[0m\u001B[1;33m\u001B[0m\u001B[0m\n",
      "\u001B[1;32mC:\\Programs\\anaconda3\\lib\\site-packages\\pandas\\core\\internals\\construction.py\u001B[0m in \u001B[0;36mconvert\u001B[1;34m(arr)\u001B[0m\n\u001B[0;32m   1068\u001B[0m         \u001B[1;32mif\u001B[0m \u001B[0mdtype\u001B[0m \u001B[1;33m!=\u001B[0m \u001B[0mnp\u001B[0m\u001B[1;33m.\u001B[0m\u001B[0mdtype\u001B[0m\u001B[1;33m(\u001B[0m\u001B[1;34m\"O\"\u001B[0m\u001B[1;33m)\u001B[0m\u001B[1;33m:\u001B[0m\u001B[1;33m\u001B[0m\u001B[1;33m\u001B[0m\u001B[0m\n\u001B[0;32m   1069\u001B[0m             \u001B[0marr\u001B[0m \u001B[1;33m=\u001B[0m \u001B[0mlib\u001B[0m\u001B[1;33m.\u001B[0m\u001B[0mmaybe_convert_objects\u001B[0m\u001B[1;33m(\u001B[0m\u001B[0marr\u001B[0m\u001B[1;33m)\u001B[0m\u001B[1;33m\u001B[0m\u001B[1;33m\u001B[0m\u001B[0m\n\u001B[1;32m-> 1070\u001B[1;33m             \u001B[0marr\u001B[0m \u001B[1;33m=\u001B[0m \u001B[0mmaybe_cast_to_datetime\u001B[0m\u001B[1;33m(\u001B[0m\u001B[0marr\u001B[0m\u001B[1;33m,\u001B[0m \u001B[0mdtype\u001B[0m\u001B[1;33m)\u001B[0m\u001B[1;33m\u001B[0m\u001B[1;33m\u001B[0m\u001B[0m\n\u001B[0m\u001B[0;32m   1071\u001B[0m         \u001B[1;32mreturn\u001B[0m \u001B[0marr\u001B[0m\u001B[1;33m\u001B[0m\u001B[1;33m\u001B[0m\u001B[0m\n\u001B[0;32m   1072\u001B[0m \u001B[1;33m\u001B[0m\u001B[0m\n",
      "\u001B[1;32mC:\\Programs\\anaconda3\\lib\\site-packages\\pandas\\core\\dtypes\\cast.py\u001B[0m in \u001B[0;36mmaybe_cast_to_datetime\u001B[1;34m(value, dtype)\u001B[0m\n\u001B[0;32m   1592\u001B[0m         \u001B[1;32mraise\u001B[0m \u001B[0mTypeError\u001B[0m\u001B[1;33m(\u001B[0m\u001B[1;34m\"value must be listlike\"\u001B[0m\u001B[1;33m)\u001B[0m\u001B[1;33m\u001B[0m\u001B[1;33m\u001B[0m\u001B[0m\n\u001B[0;32m   1593\u001B[0m \u001B[1;33m\u001B[0m\u001B[0m\n\u001B[1;32m-> 1594\u001B[1;33m     \u001B[1;32mif\u001B[0m \u001B[0mis_timedelta64_dtype\u001B[0m\u001B[1;33m(\u001B[0m\u001B[0mdtype\u001B[0m\u001B[1;33m)\u001B[0m\u001B[1;33m:\u001B[0m\u001B[1;33m\u001B[0m\u001B[1;33m\u001B[0m\u001B[0m\n\u001B[0m\u001B[0;32m   1595\u001B[0m         \u001B[1;31m# TODO: _from_sequence would raise ValueError in cases where\u001B[0m\u001B[1;33m\u001B[0m\u001B[1;33m\u001B[0m\u001B[0m\n\u001B[0;32m   1596\u001B[0m         \u001B[1;31m#  ensure_nanosecond_dtype raises TypeError\u001B[0m\u001B[1;33m\u001B[0m\u001B[1;33m\u001B[0m\u001B[0m\n",
      "\u001B[1;32mC:\\Programs\\anaconda3\\lib\\site-packages\\pandas\\core\\dtypes\\common.py\u001B[0m in \u001B[0;36mis_timedelta64_dtype\u001B[1;34m(arr_or_dtype)\u001B[0m\n\u001B[0;32m    418\u001B[0m         \u001B[1;32mreturn\u001B[0m \u001B[0marr_or_dtype\u001B[0m\u001B[1;33m.\u001B[0m\u001B[0mkind\u001B[0m \u001B[1;33m==\u001B[0m \u001B[1;34m\"m\"\u001B[0m\u001B[1;33m\u001B[0m\u001B[1;33m\u001B[0m\u001B[0m\n\u001B[0;32m    419\u001B[0m \u001B[1;33m\u001B[0m\u001B[0m\n\u001B[1;32m--> 420\u001B[1;33m     \u001B[1;32mreturn\u001B[0m \u001B[0m_is_dtype_type\u001B[0m\u001B[1;33m(\u001B[0m\u001B[0marr_or_dtype\u001B[0m\u001B[1;33m,\u001B[0m \u001B[0mclasses\u001B[0m\u001B[1;33m(\u001B[0m\u001B[0mnp\u001B[0m\u001B[1;33m.\u001B[0m\u001B[0mtimedelta64\u001B[0m\u001B[1;33m)\u001B[0m\u001B[1;33m)\u001B[0m\u001B[1;33m\u001B[0m\u001B[1;33m\u001B[0m\u001B[0m\n\u001B[0m\u001B[0;32m    421\u001B[0m \u001B[1;33m\u001B[0m\u001B[0m\n\u001B[0;32m    422\u001B[0m \u001B[1;33m\u001B[0m\u001B[0m\n",
      "\u001B[1;31mKeyboardInterrupt\u001B[0m: "
     ]
    }
   ],
   "source": [
    "m_len = len(matrix_arr)\n",
    "m_1 = pd.DataFrame(matrix_arr[:int(m_len/4)])\n",
    "m_1.columns = word_dict.keys()\n",
    "m_1.index = doc_names[:int(m_len/4)]"
   ],
   "metadata": {
    "collapsed": false,
    "ExecuteTime": {
     "end_time": "2023-12-25T19:58:52.349125800Z",
     "start_time": "2023-12-25T19:58:07.541626200Z"
    }
   },
   "id": "4d728bae1e5a8110"
  },
  {
   "cell_type": "code",
   "execution_count": null,
   "outputs": [],
   "source": [
    "m_1.to_csv(os.path.join(result_dir, \"term-document.csv\"))"
   ],
   "metadata": {
    "collapsed": false
   },
   "id": "63773b3839593cc8"
  },
  {
   "cell_type": "code",
   "execution_count": 214,
   "outputs": [],
   "source": [
    "m_len = len(matrix_arr)\n",
    "m_1 = pd.DataFrame(matrix_arr[int(3*m_len/4):])\n",
    "m_1.columns = word_dict.keys()\n",
    "m_1.index = doc_names[int(3*m_len/4):]\n",
    "m_1.to_csv(os.path.join(result_dir, \"term-document.csv\"), mode=\"a\", header=False)"
   ],
   "metadata": {
    "collapsed": false,
    "ExecuteTime": {
     "end_time": "2023-12-25T20:10:58.053851900Z",
     "start_time": "2023-12-25T20:09:00.660416900Z"
    }
   },
   "id": "88365367453b4408"
  },
  {
   "cell_type": "code",
   "execution_count": 210,
   "outputs": [],
   "source": [],
   "metadata": {
    "collapsed": false,
    "ExecuteTime": {
     "end_time": "2023-12-25T19:57:14.037836100Z",
     "start_time": "2023-12-25T19:56:23.175382100Z"
    }
   },
   "id": "a050b57e07cf57f3"
  },
  {
   "cell_type": "code",
   "execution_count": 202,
   "outputs": [
    {
     "ename": "MemoryError",
     "evalue": "Unable to allocate 5.56 GiB for an array with shape (120000, 6218) and data type object",
     "output_type": "error",
     "traceback": [
      "\u001B[1;31m---------------------------------------------------------------------------\u001B[0m",
      "\u001B[1;31mMemoryError\u001B[0m                               Traceback (most recent call last)",
      "\u001B[1;32m~\\AppData\\Local\\Temp\\ipykernel_12408\\2460612870.py\u001B[0m in \u001B[0;36m<module>\u001B[1;34m\u001B[0m\n\u001B[1;32m----> 1\u001B[1;33m \u001B[0mmatrix\u001B[0m \u001B[1;33m=\u001B[0m \u001B[0mpd\u001B[0m\u001B[1;33m.\u001B[0m\u001B[0mDataFrame\u001B[0m\u001B[1;33m(\u001B[0m\u001B[0mmatrix_arr\u001B[0m\u001B[1;33m)\u001B[0m\u001B[1;33m\u001B[0m\u001B[1;33m\u001B[0m\u001B[0m\n\u001B[0m\u001B[0;32m      2\u001B[0m \u001B[0mmatrix\u001B[0m\u001B[1;33m.\u001B[0m\u001B[0mcolumns\u001B[0m \u001B[1;33m=\u001B[0m \u001B[0mword_dict\u001B[0m\u001B[1;33m.\u001B[0m\u001B[0mkeys\u001B[0m\u001B[1;33m(\u001B[0m\u001B[1;33m)\u001B[0m\u001B[1;33m\u001B[0m\u001B[1;33m\u001B[0m\u001B[0m\n\u001B[0;32m      3\u001B[0m \u001B[0mmatrix\u001B[0m\u001B[1;33m.\u001B[0m\u001B[0mindex\u001B[0m \u001B[1;33m=\u001B[0m \u001B[0mdoc_names\u001B[0m\u001B[1;33m\u001B[0m\u001B[1;33m\u001B[0m\u001B[0m\n",
      "\u001B[1;32mC:\\Programs\\anaconda3\\lib\\site-packages\\pandas\\core\\frame.py\u001B[0m in \u001B[0;36m__init__\u001B[1;34m(self, data, index, columns, dtype, copy)\u001B[0m\n\u001B[0;32m    719\u001B[0m                         \u001B[1;31m# ndarray], Index, Series], Sequence[Any]]\"\u001B[0m\u001B[1;33m\u001B[0m\u001B[1;33m\u001B[0m\u001B[0m\n\u001B[0;32m    720\u001B[0m                         \u001B[0mcolumns\u001B[0m \u001B[1;33m=\u001B[0m \u001B[0mensure_index\u001B[0m\u001B[1;33m(\u001B[0m\u001B[0mcolumns\u001B[0m\u001B[1;33m)\u001B[0m  \u001B[1;31m# type: ignore[arg-type]\u001B[0m\u001B[1;33m\u001B[0m\u001B[1;33m\u001B[0m\u001B[0m\n\u001B[1;32m--> 721\u001B[1;33m                     arrays, columns, index = nested_data_to_arrays(\n\u001B[0m\u001B[0;32m    722\u001B[0m                         \u001B[1;31m# error: Argument 3 to \"nested_data_to_arrays\" has incompatible\u001B[0m\u001B[1;33m\u001B[0m\u001B[1;33m\u001B[0m\u001B[0m\n\u001B[0;32m    723\u001B[0m                         \u001B[1;31m# type \"Optional[Collection[Any]]\"; expected \"Optional[Index]\"\u001B[0m\u001B[1;33m\u001B[0m\u001B[1;33m\u001B[0m\u001B[0m\n",
      "\u001B[1;32mC:\\Programs\\anaconda3\\lib\\site-packages\\pandas\\core\\internals\\construction.py\u001B[0m in \u001B[0;36mnested_data_to_arrays\u001B[1;34m(data, columns, index, dtype)\u001B[0m\n\u001B[0;32m    517\u001B[0m         \u001B[0mcolumns\u001B[0m \u001B[1;33m=\u001B[0m \u001B[0mensure_index\u001B[0m\u001B[1;33m(\u001B[0m\u001B[0mdata\u001B[0m\u001B[1;33m[\u001B[0m\u001B[1;36m0\u001B[0m\u001B[1;33m]\u001B[0m\u001B[1;33m.\u001B[0m\u001B[0m_fields\u001B[0m\u001B[1;33m)\u001B[0m\u001B[1;33m\u001B[0m\u001B[1;33m\u001B[0m\u001B[0m\n\u001B[0;32m    518\u001B[0m \u001B[1;33m\u001B[0m\u001B[0m\n\u001B[1;32m--> 519\u001B[1;33m     \u001B[0marrays\u001B[0m\u001B[1;33m,\u001B[0m \u001B[0mcolumns\u001B[0m \u001B[1;33m=\u001B[0m \u001B[0mto_arrays\u001B[0m\u001B[1;33m(\u001B[0m\u001B[0mdata\u001B[0m\u001B[1;33m,\u001B[0m \u001B[0mcolumns\u001B[0m\u001B[1;33m,\u001B[0m \u001B[0mdtype\u001B[0m\u001B[1;33m=\u001B[0m\u001B[0mdtype\u001B[0m\u001B[1;33m)\u001B[0m\u001B[1;33m\u001B[0m\u001B[1;33m\u001B[0m\u001B[0m\n\u001B[0m\u001B[0;32m    520\u001B[0m     \u001B[0mcolumns\u001B[0m \u001B[1;33m=\u001B[0m \u001B[0mensure_index\u001B[0m\u001B[1;33m(\u001B[0m\u001B[0mcolumns\u001B[0m\u001B[1;33m)\u001B[0m\u001B[1;33m\u001B[0m\u001B[1;33m\u001B[0m\u001B[0m\n\u001B[0;32m    521\u001B[0m \u001B[1;33m\u001B[0m\u001B[0m\n",
      "\u001B[1;32mC:\\Programs\\anaconda3\\lib\\site-packages\\pandas\\core\\internals\\construction.py\u001B[0m in \u001B[0;36mto_arrays\u001B[1;34m(data, columns, dtype)\u001B[0m\n\u001B[0;32m    871\u001B[0m \u001B[1;33m\u001B[0m\u001B[0m\n\u001B[0;32m    872\u001B[0m     \u001B[1;32mif\u001B[0m \u001B[0misinstance\u001B[0m\u001B[1;33m(\u001B[0m\u001B[0mdata\u001B[0m\u001B[1;33m[\u001B[0m\u001B[1;36m0\u001B[0m\u001B[1;33m]\u001B[0m\u001B[1;33m,\u001B[0m \u001B[1;33m(\u001B[0m\u001B[0mlist\u001B[0m\u001B[1;33m,\u001B[0m \u001B[0mtuple\u001B[0m\u001B[1;33m)\u001B[0m\u001B[1;33m)\u001B[0m\u001B[1;33m:\u001B[0m\u001B[1;33m\u001B[0m\u001B[1;33m\u001B[0m\u001B[0m\n\u001B[1;32m--> 873\u001B[1;33m         \u001B[0marr\u001B[0m \u001B[1;33m=\u001B[0m \u001B[0m_list_to_arrays\u001B[0m\u001B[1;33m(\u001B[0m\u001B[0mdata\u001B[0m\u001B[1;33m)\u001B[0m\u001B[1;33m\u001B[0m\u001B[1;33m\u001B[0m\u001B[0m\n\u001B[0m\u001B[0;32m    874\u001B[0m     \u001B[1;32melif\u001B[0m \u001B[0misinstance\u001B[0m\u001B[1;33m(\u001B[0m\u001B[0mdata\u001B[0m\u001B[1;33m[\u001B[0m\u001B[1;36m0\u001B[0m\u001B[1;33m]\u001B[0m\u001B[1;33m,\u001B[0m \u001B[0mabc\u001B[0m\u001B[1;33m.\u001B[0m\u001B[0mMapping\u001B[0m\u001B[1;33m)\u001B[0m\u001B[1;33m:\u001B[0m\u001B[1;33m\u001B[0m\u001B[1;33m\u001B[0m\u001B[0m\n\u001B[0;32m    875\u001B[0m         \u001B[0marr\u001B[0m\u001B[1;33m,\u001B[0m \u001B[0mcolumns\u001B[0m \u001B[1;33m=\u001B[0m \u001B[0m_list_of_dict_to_arrays\u001B[0m\u001B[1;33m(\u001B[0m\u001B[0mdata\u001B[0m\u001B[1;33m,\u001B[0m \u001B[0mcolumns\u001B[0m\u001B[1;33m)\u001B[0m\u001B[1;33m\u001B[0m\u001B[1;33m\u001B[0m\u001B[0m\n",
      "\u001B[1;32mC:\\Programs\\anaconda3\\lib\\site-packages\\pandas\\core\\internals\\construction.py\u001B[0m in \u001B[0;36m_list_to_arrays\u001B[1;34m(data)\u001B[0m\n\u001B[0;32m    892\u001B[0m     \u001B[1;32melse\u001B[0m\u001B[1;33m:\u001B[0m\u001B[1;33m\u001B[0m\u001B[1;33m\u001B[0m\u001B[0m\n\u001B[0;32m    893\u001B[0m         \u001B[1;31m# list of lists\u001B[0m\u001B[1;33m\u001B[0m\u001B[1;33m\u001B[0m\u001B[0m\n\u001B[1;32m--> 894\u001B[1;33m         \u001B[0mcontent\u001B[0m \u001B[1;33m=\u001B[0m \u001B[0mlib\u001B[0m\u001B[1;33m.\u001B[0m\u001B[0mto_object_array\u001B[0m\u001B[1;33m(\u001B[0m\u001B[0mdata\u001B[0m\u001B[1;33m)\u001B[0m\u001B[1;33m\u001B[0m\u001B[1;33m\u001B[0m\u001B[0m\n\u001B[0m\u001B[0;32m    895\u001B[0m     \u001B[1;32mreturn\u001B[0m \u001B[0mcontent\u001B[0m\u001B[1;33m\u001B[0m\u001B[1;33m\u001B[0m\u001B[0m\n\u001B[0;32m    896\u001B[0m \u001B[1;33m\u001B[0m\u001B[0m\n",
      "\u001B[1;32mC:\\Programs\\anaconda3\\lib\\site-packages\\pandas\\_libs\\lib.pyx\u001B[0m in \u001B[0;36mpandas._libs.lib.to_object_array\u001B[1;34m()\u001B[0m\n",
      "\u001B[1;31mMemoryError\u001B[0m: Unable to allocate 5.56 GiB for an array with shape (120000, 6218) and data type object"
     ]
    }
   ],
   "source": [
    "matrix = pd.DataFrame(matrix_arr)\n",
    "matrix.columns = word_dict.keys()\n",
    "matrix.index = doc_names"
   ],
   "metadata": {
    "collapsed": false,
    "ExecuteTime": {
     "end_time": "2023-12-25T19:48:35.414416600Z",
     "start_time": "2023-12-25T19:48:35.346545600Z"
    }
   },
   "id": "36106ec70f48c833"
  },
  {
   "cell_type": "code",
   "execution_count": null,
   "outputs": [],
   "source": [
    "matrix.to_csv(os.path.join(result_dir, \"term-document.csv\"))"
   ],
   "metadata": {
    "collapsed": false,
    "ExecuteTime": {
     "start_time": "2023-12-25T19:36:41.748337400Z"
    }
   },
   "id": "6702d77768a1421"
  },
  {
   "cell_type": "markdown",
   "source": [
    "# Task 2"
   ],
   "metadata": {
    "collapsed": false
   },
   "id": "64b6976a8b02fb23"
  },
  {
   "cell_type": "code",
   "execution_count": 13,
   "outputs": [],
   "source": [
    "def tf_idf(words, matrix):\n",
    "    total_words = sum(words.values())\n",
    "    total_documents = len(matrix.index)\n",
    "    result = []\n",
    "    for w in matrix.columns:\n",
    "        if w not in words:\n",
    "            result.append(0.0)\n",
    "            continue\n",
    "        t_f = words[w] / total_words\n",
    "        d_f = sum(matrix[w] > 0)\n",
    "        tfidf = t_f * (log10(total_documents + 1) - log10(d_f + 1))\n",
    "        result.append(tfidf)\n",
    "    return result"
   ],
   "metadata": {
    "collapsed": false,
    "ExecuteTime": {
     "end_time": "2023-12-27T10:44:42.788029Z",
     "start_time": "2023-12-27T10:44:42.775825Z"
    }
   },
   "id": "51d9dcb672e6d68"
  },
  {
   "cell_type": "code",
   "execution_count": 15,
   "outputs": [],
   "source": [
    "import os\n",
    "import re\n",
    "from nltk import WordNetLemmatizer, SnowballStemmer\n",
    "from nltk.corpus import stopwords\n",
    "from pathlib import Path"
   ],
   "metadata": {
    "collapsed": false,
    "ExecuteTime": {
     "end_time": "2023-12-27T10:44:42.790077Z",
     "start_time": "2023-12-27T10:44:42.784Z"
    }
   },
   "id": "4defd670ec7ee8bd"
  },
  {
   "cell_type": "code",
   "execution_count": 16,
   "outputs": [],
   "source": [
    "def split_to_words(sentence):\n",
    "    words = re.findall(r\"\\w+@\\w+\\.\\w+|\\+\\d{1,3}-\\d{3}-\\d{3}-\\d{2}-\\d{2}|\\w+\", sentence)\n",
    "    return words"
   ],
   "metadata": {
    "collapsed": false,
    "ExecuteTime": {
     "end_time": "2023-12-27T10:44:42.790990Z",
     "start_time": "2023-12-27T10:44:42.786169Z"
    }
   },
   "id": "5e5ff41f7235a219"
  },
  {
   "cell_type": "code",
   "execution_count": 17,
   "outputs": [],
   "source": [
    "def split_to_sent(text):\n",
    "    sentences = re.split(\n",
    "        r\"(((?<!\\w\\.\\w.)(?<!\\s\\w\\.)(?<![A-Z][a-z]\\.)(?<=\\.|\\?|\\!)\\s(?=[A-Z]))|((?<![\\,\\-\\:])\\n(?=[A-Z]|\\\" )))\", text)[\n",
    "                ::4]\n",
    "    return sentences"
   ],
   "metadata": {
    "collapsed": false,
    "ExecuteTime": {
     "end_time": "2023-12-27T10:44:42.794344Z",
     "start_time": "2023-12-27T10:44:42.789001Z"
    }
   },
   "id": "8ff75febf3edacc1"
  },
  {
   "cell_type": "code",
   "execution_count": 18,
   "outputs": [],
   "source": [
    "def preprocess_text(text, by_sentences=False):\n",
    "    stemmer = SnowballStemmer(\"english\")\n",
    "    lemmatizer = WordNetLemmatizer()\n",
    "    sentences = split_to_sent(text)\n",
    "    result = []\n",
    "    for s in sentences:\n",
    "        sentence = []\n",
    "        for w in split_to_words(s):\n",
    "            w_processed = re.sub(r\"[.!?,]$\", \"\", w).lower()\n",
    "            if lemmatizer.lemmatize(w_processed) not in stopwords.words(\"english\"):\n",
    "                sentence.append(stemmer.stem(w_processed))\n",
    "        if by_sentences:\n",
    "            result.append(sentence)\n",
    "        else:\n",
    "            result += sentence\n",
    "    return result"
   ],
   "metadata": {
    "collapsed": false,
    "ExecuteTime": {
     "end_time": "2023-12-27T10:44:42.796842Z",
     "start_time": "2023-12-27T10:44:42.792144Z"
    }
   },
   "id": "2aa70e8abb5a96a6"
  },
  {
   "cell_type": "code",
   "execution_count": 73,
   "outputs": [],
   "source": [
    "def vectorize_tf_idf(text, matrix):\n",
    "    prepr = preprocess_text(text)\n",
    "    words_dict = count_words_in_sentences([prepr])\n",
    "    return tf_idf(words_dict, matrix)"
   ],
   "metadata": {
    "collapsed": false,
    "ExecuteTime": {
     "end_time": "2023-12-27T11:22:13.142036Z",
     "start_time": "2023-12-27T11:22:13.131192Z"
    }
   },
   "id": "3cb7fdae298659b2"
  },
  {
   "cell_type": "code",
   "execution_count": 11,
   "outputs": [],
   "source": [
    "matrix = pd.read_csv(os.path.join(result_dir, \"term-document.csv\"), index_col=0)"
   ],
   "metadata": {
    "collapsed": false,
    "ExecuteTime": {
     "end_time": "2023-12-27T10:44:42.773522Z",
     "start_time": "2023-12-27T10:44:00.335512Z"
    }
   },
   "id": "9cd35ecb4b091b81"
  },
  {
   "cell_type": "code",
   "execution_count": 69,
   "outputs": [],
   "source": [
    "t1 = \"\"\"hello man. how are you?\"\"\""
   ],
   "metadata": {
    "collapsed": false,
    "ExecuteTime": {
     "end_time": "2023-12-27T11:20:46.957426Z",
     "start_time": "2023-12-27T11:20:46.944893Z"
    }
   },
   "id": "bd61b3172b8d9297"
  },
  {
   "cell_type": "code",
   "execution_count": 21,
   "outputs": [],
   "source": [
    "t2 = \"\"\"A 49th-minute header by Moroccan defender Talal El Karkouri gave Charlton Athletic a 1-0 home win over Blackburn Rovers on Monday that lifted the London club to seventh in the Premier League.\"\"\""
   ],
   "metadata": {
    "collapsed": false,
    "ExecuteTime": {
     "end_time": "2023-12-27T10:44:48.001858Z",
     "start_time": "2023-12-27T10:44:47.994795Z"
    }
   },
   "id": "838f6dd06cf84563"
  },
  {
   "cell_type": "code",
   "execution_count": 76,
   "outputs": [
    {
     "data": {
      "text/plain": "[0.0,\n 0.0,\n 0.0,\n 0.0,\n 0.0,\n 0.0,\n 0.0,\n 0.0,\n 0.0,\n 0.0,\n 0.0,\n 0.0,\n 0.0,\n 0.0,\n 0.0,\n 0.0,\n 0.0,\n 0.0,\n 0.0,\n 0.0,\n 0.0,\n 0.0,\n 0.0,\n 0.0,\n 0.0,\n 0.0,\n 0.0,\n 0.0,\n 0.0,\n 0.0,\n 0.0,\n 0.0,\n 0.0,\n 0.0,\n 0.0,\n 0.0,\n 0.0,\n 0.0,\n 0.0,\n 0.0,\n 0.0,\n 0.0,\n 0.0,\n 0.0,\n 0.0,\n 0.0,\n 0.0,\n 0.0,\n 0.0,\n 0.0,\n 0.0,\n 0.0,\n 0.0,\n 0.0,\n 0.0,\n 0.0,\n 0.0,\n 0.0,\n 0.0,\n 0.0,\n 0.0,\n 0.0,\n 0.0,\n 0.0,\n 0.0,\n 0.0,\n 0.0,\n 0.0,\n 0.0,\n 0.0,\n 0.0,\n 0.0,\n 0.0,\n 0.0,\n 0.0,\n 0.0,\n 0.0,\n 0.0,\n 0.0,\n 0.0,\n 0.0,\n 0.0,\n 0.0,\n 0.0,\n 0.0,\n 0.0,\n 0.0,\n 0.0,\n 0.0,\n 0.0,\n 0.0,\n 0.0,\n 0.0,\n 0.0,\n 0.0,\n 0.0,\n 0.0,\n 0.0,\n 0.0,\n 0.0,\n 0.0,\n 0.0,\n 0.0,\n 0.0,\n 0.0,\n 0.0,\n 0.0,\n 0.0,\n 0.0,\n 0.0,\n 0.0,\n 0.0,\n 0.0,\n 0.0,\n 0.0,\n 0.0,\n 0.0,\n 0.0,\n 0.0,\n 0.0,\n 0.0,\n 0.0,\n 0.0,\n 0.0,\n 0.0,\n 0.0,\n 0.0,\n 0.0,\n 0.0,\n 0.0,\n 0.0,\n 0.0,\n 0.0,\n 0.0,\n 0.0,\n 0.0,\n 0.0,\n 0.0,\n 0.0,\n 0.0,\n 0.0,\n 0.0,\n 0.0,\n 0.0,\n 0.0,\n 0.0,\n 0.0,\n 0.0,\n 0.0,\n 0.0,\n 0.0,\n 0.0,\n 0.0,\n 0.8894034001412627,\n 0.0,\n 0.0,\n 0.0,\n 0.0,\n 0.0,\n 0.0,\n 0.0,\n 0.0,\n 0.0,\n 0.0,\n 0.0,\n 0.0,\n 0.0,\n 0.0,\n 0.0,\n 0.0,\n 0.0,\n 0.0,\n 0.0,\n 0.0,\n 0.0,\n 0.0,\n 0.0,\n 0.0,\n 0.0,\n 0.0,\n 0.0,\n 0.0,\n 0.0,\n 0.0,\n 0.0,\n 0.0,\n 0.0,\n 0.0,\n 0.0,\n 0.0,\n 0.0,\n 0.0,\n 0.0,\n 0.0,\n 0.0,\n 0.0,\n 0.0,\n 0.0,\n 0.0,\n 0.0,\n 0.0,\n 0.0,\n 0.0,\n 0.0,\n 0.0,\n 0.0,\n 0.0,\n 0.0,\n 0.0,\n 0.0,\n 0.0,\n 0.0,\n 0.0,\n 0.0,\n 0.0,\n 0.0,\n 0.0,\n 0.0,\n 0.0,\n 0.0,\n 0.0,\n 0.0,\n 0.0,\n 0.0,\n 0.0,\n 0.0,\n 0.0,\n 0.0,\n 0.0,\n 0.0,\n 0.0,\n 0.0,\n 0.0,\n 0.0,\n 0.0,\n 0.0,\n 0.0,\n 0.0,\n 0.0,\n 0.0,\n 0.0,\n 0.0,\n 0.0,\n 0.0,\n 0.0,\n 0.0,\n 0.0,\n 0.0,\n 0.0,\n 0.0,\n 0.0,\n 0.0,\n 0.0,\n 0.0,\n 0.0,\n 0.0,\n 0.0,\n 0.0,\n 0.0,\n 0.0,\n 0.0,\n 0.0,\n 0.0,\n 0.0,\n 0.0,\n 0.0,\n 0.0,\n 0.0,\n 0.0,\n 0.0,\n 0.0,\n 0.0,\n 0.0,\n 0.0,\n 0.0,\n 0.0,\n 0.0,\n 0.0,\n 0.0,\n 0.0,\n 0.0,\n 0.0,\n 0.0,\n 0.0,\n 0.0,\n 0.0,\n 0.0,\n 0.0,\n 0.0,\n 0.0,\n 0.0,\n 0.0,\n 0.0,\n 0.0,\n 0.0,\n 0.0,\n 0.0,\n 0.0,\n 0.0,\n 0.0,\n 0.0,\n 0.0,\n 0.0,\n 0.0,\n 0.0,\n 0.0,\n 0.0,\n 0.0,\n 0.0,\n 0.0,\n 0.0,\n 0.0,\n 0.0,\n 0.0,\n 0.0,\n 0.0,\n 0.0,\n 0.0,\n 0.0,\n 0.0,\n 0.0,\n 0.0,\n 0.0,\n 0.0,\n 0.0,\n 0.0,\n 0.0,\n 0.0,\n 0.0,\n 0.0,\n 0.0,\n 0.0,\n 0.0,\n 0.0,\n 0.0,\n 0.0,\n 0.0,\n 0.0,\n 0.0,\n 0.0,\n 0.0,\n 0.0,\n 0.0,\n 0.0,\n 0.0,\n 0.0,\n 0.0,\n 0.0,\n 0.0,\n 0.0,\n 0.0,\n 0.0,\n 0.0,\n 0.0,\n 0.0,\n 0.0,\n 0.0,\n 0.0,\n 0.0,\n 0.0,\n 0.0,\n 0.0,\n 0.0,\n 0.0,\n 0.0,\n 0.0,\n 0.0,\n 0.0,\n 0.0,\n 0.0,\n 0.0,\n 0.0,\n 0.0,\n 0.0,\n 0.0,\n 0.0,\n 0.0,\n 0.0,\n 0.0,\n 0.0,\n 0.0,\n 0.0,\n 0.0,\n 0.0,\n 0.0,\n 0.0,\n 0.0,\n 0.0,\n 0.0,\n 0.0,\n 0.0,\n 0.0,\n 0.0,\n 0.0,\n 0.0,\n 0.0,\n 0.0,\n 0.0,\n 0.0,\n 0.0,\n 0.0,\n 0.0,\n 0.0,\n 0.0,\n 0.0,\n 0.0,\n 0.0,\n 0.0,\n 0.0,\n 0.0,\n 0.0,\n 0.0,\n 0.0,\n 0.0,\n 0.0,\n 0.0,\n 0.0,\n 0.0,\n 0.0,\n 0.0,\n 0.0,\n 0.0,\n 0.0,\n 0.0,\n 0.0,\n 0.0,\n 0.0,\n 0.0,\n 0.0,\n 0.0,\n 0.0,\n 0.0,\n 0.0,\n 0.0,\n 0.0,\n 0.0,\n 0.0,\n 0.0,\n 0.0,\n 0.0,\n 0.0,\n 0.0,\n 0.0,\n 0.0,\n 0.0,\n 0.0,\n 0.0,\n 0.0,\n 0.0,\n 0.0,\n 0.0,\n 0.0,\n 0.0,\n 0.0,\n 0.0,\n 0.0,\n 0.0,\n 0.0,\n 0.0,\n 0.0,\n 0.0,\n 0.0,\n 0.0,\n 0.0,\n 0.0,\n 0.0,\n 0.0,\n 0.0,\n 0.0,\n 0.0,\n 0.0,\n 0.0,\n 0.0,\n 0.0,\n 0.0,\n 0.0,\n 0.0,\n 0.0,\n 0.0,\n 0.0,\n 0.0,\n 0.0,\n 0.0,\n 0.0,\n 0.0,\n 0.0,\n 0.0,\n 0.0,\n 0.0,\n 0.0,\n 0.0,\n 0.0,\n 0.0,\n 0.0,\n 0.0,\n 0.0,\n 0.0,\n 0.0,\n 0.0,\n 0.0,\n 0.0,\n 0.0,\n 0.0,\n 0.0,\n 0.0,\n 0.0,\n 0.0,\n 0.0,\n 0.0,\n 0.0,\n 0.0,\n 0.0,\n 0.0,\n 0.0,\n 0.0,\n 0.0,\n 0.0,\n 0.0,\n 0.0,\n 0.0,\n 0.0,\n 0.0,\n 0.0,\n 0.0,\n 0.0,\n 0.0,\n 0.0,\n 0.0,\n 0.0,\n 0.0,\n 0.0,\n 0.0,\n 0.0,\n 0.0,\n 0.0,\n 0.0,\n 0.0,\n 0.0,\n 0.0,\n 0.0,\n 0.0,\n 0.0,\n 0.0,\n 0.0,\n 0.0,\n 0.0,\n 0.0,\n 0.0,\n 0.0,\n 0.0,\n 0.0,\n 0.0,\n 0.0,\n 0.0,\n 0.0,\n 0.0,\n 0.0,\n 0.0,\n 0.0,\n 0.0,\n 0.0,\n 0.0,\n 0.0,\n 0.0,\n 0.0,\n 0.0,\n 0.0,\n 0.0,\n 0.0,\n 0.0,\n 0.0,\n 0.0,\n 0.0,\n 0.0,\n 0.0,\n 0.0,\n 0.0,\n 0.0,\n 0.0,\n 0.0,\n 0.0,\n 0.0,\n 0.0,\n 0.0,\n 0.0,\n 0.0,\n 0.0,\n 0.0,\n 0.0,\n 0.0,\n 0.0,\n 0.0,\n 0.0,\n 0.0,\n 0.0,\n 0.0,\n 0.0,\n 0.0,\n 0.0,\n 0.0,\n 0.0,\n 0.0,\n 0.0,\n 0.0,\n 0.0,\n 0.0,\n 0.0,\n 0.0,\n 0.0,\n 0.0,\n 0.0,\n 0.0,\n 0.0,\n 0.0,\n 0.0,\n 0.0,\n 0.0,\n 0.0,\n 0.0,\n 0.0,\n 0.0,\n 0.0,\n 0.0,\n 0.0,\n 0.0,\n 0.0,\n 0.0,\n 0.0,\n 0.0,\n 0.0,\n 0.0,\n 0.0,\n 0.0,\n 0.0,\n 0.0,\n 0.0,\n 0.0,\n 0.0,\n 0.0,\n 0.0,\n 0.0,\n 0.0,\n 0.0,\n 0.0,\n 0.0,\n 0.0,\n 0.0,\n 0.0,\n 0.0,\n 0.0,\n 0.0,\n 0.0,\n 0.0,\n 0.0,\n 0.0,\n 0.0,\n 0.0,\n 0.0,\n 0.0,\n 0.0,\n 0.0,\n 0.0,\n 0.0,\n 0.0,\n 0.0,\n 0.0,\n 0.0,\n 0.0,\n 0.0,\n 0.0,\n 0.0,\n 0.0,\n 0.0,\n 0.0,\n 0.0,\n 0.0,\n 0.0,\n 0.0,\n 0.0,\n 0.0,\n 0.0,\n 0.0,\n 0.0,\n 0.0,\n 0.0,\n 0.0,\n 0.0,\n 0.0,\n 0.0,\n 0.0,\n 0.0,\n 0.0,\n 0.0,\n 0.0,\n 0.0,\n 0.0,\n 0.0,\n 0.0,\n 0.0,\n 0.0,\n 0.0,\n 0.0,\n 0.0,\n 0.0,\n 0.0,\n 0.0,\n 0.0,\n 0.0,\n 0.0,\n 0.0,\n 0.0,\n 0.0,\n 0.0,\n 0.0,\n 0.0,\n 0.0,\n 0.0,\n 0.0,\n 0.0,\n 0.0,\n 0.0,\n 0.0,\n 0.0,\n 0.0,\n 0.0,\n 0.0,\n 0.0,\n 0.0,\n 0.0,\n 0.0,\n 0.0,\n 0.0,\n 0.0,\n 0.0,\n 0.0,\n 0.0,\n 0.0,\n 0.0,\n 0.0,\n 0.0,\n 0.0,\n 0.0,\n 0.0,\n 0.0,\n 0.0,\n 0.0,\n 0.0,\n 0.0,\n 0.0,\n 0.0,\n 0.0,\n 0.0,\n 0.0,\n 0.0,\n 0.0,\n 0.0,\n 0.0,\n 0.0,\n 0.0,\n 0.0,\n 0.0,\n 0.0,\n 0.0,\n 0.0,\n 0.0,\n 0.0,\n 0.0,\n 0.0,\n 0.0,\n 0.0,\n 0.0,\n 0.0,\n 0.0,\n 0.0,\n 0.0,\n 0.0,\n 0.0,\n 0.0,\n 0.0,\n 0.0,\n 0.0,\n 0.0,\n 0.0,\n 0.0,\n 0.0,\n 0.0,\n 0.0,\n 0.0,\n 0.0,\n 0.0,\n 0.0,\n 0.0,\n 0.0,\n 0.0,\n 0.0,\n 0.0,\n 0.0,\n 0.0,\n 0.0,\n 0.0,\n 0.0,\n 0.0,\n 0.0,\n 0.0,\n 0.0,\n 0.0,\n 0.0,\n 0.0,\n 0.0,\n 0.0,\n 0.0,\n 0.0,\n 0.0,\n 0.0,\n 0.0,\n 0.0,\n 0.0,\n 0.0,\n 0.0,\n 0.0,\n 0.0,\n 0.0,\n 0.0,\n 0.0,\n 0.0,\n 0.0,\n 0.0,\n 0.0,\n 0.0,\n 0.0,\n 0.0,\n 0.0,\n 0.0,\n 0.0,\n 0.0,\n 0.0,\n 0.0,\n 0.0,\n 0.0,\n 0.0,\n 0.0,\n 0.0,\n 0.0,\n 0.0,\n 0.0,\n 0.0,\n 0.0,\n 0.0,\n 0.0,\n 0.0,\n 0.0,\n 0.0,\n 0.0,\n 0.0,\n 0.0,\n 0.0,\n 0.0,\n 0.0,\n 0.0,\n 0.0,\n 0.0,\n 0.0,\n 0.0,\n 0.0,\n 0.0,\n 0.0,\n 0.0,\n 0.0,\n 0.0,\n 0.0,\n 0.0,\n 0.0,\n 0.0,\n 0.0,\n 0.0,\n 0.0,\n 0.0,\n 0.0,\n 0.0,\n 0.0,\n 0.0,\n 0.0,\n 0.0,\n 0.0,\n 0.0,\n 0.0,\n 0.0,\n 0.0,\n 0.0,\n 0.0,\n 0.0,\n 0.0,\n 0.0,\n 0.0,\n 0.0,\n 0.0,\n 0.0,\n 0.0,\n 0.0,\n 0.0,\n 0.0,\n 0.0,\n 0.0,\n 0.0,\n 0.0,\n 0.0,\n 0.0,\n 0.0,\n 0.0,\n 0.0,\n 0.0,\n 0.0,\n 0.0,\n 0.0,\n 0.0,\n 0.0,\n 0.0,\n 0.0,\n 0.0,\n 0.0,\n 0.0,\n 0.0,\n 0.0,\n 0.0,\n 0.0,\n 0.0,\n 0.0,\n 0.0,\n 0.0,\n 0.0,\n 0.0,\n 0.0,\n 0.0,\n 0.0,\n 0.0,\n 0.0,\n 0.0,\n 0.0,\n 0.0,\n 0.0,\n 0.0,\n 0.0,\n 0.0,\n 0.0,\n 0.0,\n 0.0,\n 0.0,\n 0.0,\n 0.0,\n 0.0,\n 0.0,\n 0.0,\n 0.0,\n 0.0,\n 0.0,\n 0.0,\n 0.0,\n 0.0,\n 0.0,\n 0.0,\n 0.0,\n 0.0,\n 0.0,\n 0.0,\n 0.0,\n 0.0,\n 0.0,\n 0.0,\n 0.0,\n 0.0,\n 0.0,\n 0.0,\n 0.0,\n 0.0,\n 0.0,\n 0.0,\n 0.0,\n 0.0,\n 0.0,\n 0.0,\n 0.0,\n 0.0,\n 0.0,\n 0.0,\n 0.0,\n 0.0,\n 0.0,\n 0.0,\n 0.0,\n 0.0,\n 0.0,\n 0.0,\n 0.0,\n 0.0,\n 0.0,\n 0.0,\n 0.0,\n 0.0,\n 0.0,\n 0.0,\n ...]"
     },
     "execution_count": 76,
     "metadata": {},
     "output_type": "execute_result"
    }
   ],
   "source": [
    "vectorize_tf_idf(t1, matrix)"
   ],
   "metadata": {
    "collapsed": false,
    "ExecuteTime": {
     "end_time": "2023-12-27T11:23:54.097207Z",
     "start_time": "2023-12-27T11:23:54.071254Z"
    }
   },
   "id": "a4ca8f51c13acdee"
  },
  {
   "cell_type": "code",
   "execution_count": 23,
   "outputs": [
    {
     "data": {
      "text/plain": "[0.0,\n 0.0,\n 0.0,\n 0.0,\n 0.0,\n 0.0,\n 0.0,\n 0.0,\n 0.0,\n 0.0,\n 0.0,\n 0.0,\n 0.0,\n 0.0,\n 0.0,\n 0.0,\n 0.0,\n 0.0,\n 0.0,\n 0.0,\n 0.0,\n 0.0,\n 0.0,\n 0.0,\n 0.0,\n 0.0,\n 0.0,\n 0.0,\n 0.0,\n 0.0,\n 0.0,\n 0.0,\n 0.0,\n 0.0,\n 0.0,\n 0.0,\n 0.0,\n 0.0,\n 0.0,\n 0.0,\n 0.029751089129029136,\n 0.0,\n 0.0,\n 0.0,\n 0.0,\n 0.0,\n 0.0,\n 0.0,\n 0.0,\n 0.0,\n 0.0,\n 0.0,\n 0.0,\n 0.0,\n 0.0,\n 0.0,\n 0.0,\n 0.0,\n 0.0,\n 0.0,\n 0.0,\n 0.025625816488124634,\n 0.0,\n 0.0,\n 0.0,\n 0.0,\n 0.0,\n 0.0,\n 0.0,\n 0.0,\n 0.0,\n 0.0,\n 0.0,\n 0.0,\n 0.0,\n 0.0,\n 0.0,\n 0.0,\n 0.0,\n 0.02026599618583556,\n 0.0,\n 0.0,\n 0.0,\n 0.0,\n 0.0,\n 0.0,\n 0.0,\n 0.0,\n 0.0,\n 0.0,\n 0.0,\n 0.0,\n 0.0,\n 0.0,\n 0.0,\n 0.0,\n 0.0,\n 0.0,\n 0.0,\n 0.0]"
     },
     "execution_count": 23,
     "metadata": {},
     "output_type": "execute_result"
    }
   ],
   "source": [
    "vectorize_tf_idf(t2, matrix)[:100]"
   ],
   "metadata": {
    "collapsed": false,
    "ExecuteTime": {
     "end_time": "2023-12-27T10:44:50.598478Z",
     "start_time": "2023-12-27T10:44:50.336506Z"
    }
   },
   "id": "38f0fd44777bb3df"
  },
  {
   "cell_type": "markdown",
   "source": [
    "# Task 3"
   ],
   "metadata": {
    "collapsed": false
   },
   "id": "9679d9c138a81573"
  },
  {
   "cell_type": "code",
   "execution_count": 24,
   "outputs": [],
   "source": [
    "w2v = Word2Vec(sentences=[sentence for document in all_documents for sentence in document], epochs=40)\n",
    "w2v.save(os.path.join(train_dir, \"..\", \"w2v_weights\"))"
   ],
   "metadata": {
    "collapsed": false,
    "ExecuteTime": {
     "end_time": "2023-12-27T10:45:43.059681Z",
     "start_time": "2023-12-27T10:44:53.847443Z"
    }
   },
   "id": "f6a868997f2a78cc"
  },
  {
   "cell_type": "code",
   "outputs": [
    {
     "data": {
      "text/plain": "array([ 1.3753059 , -0.6527993 , -1.9933591 , -2.0335765 , -0.6259088 ,\n        1.4006549 ,  0.7272369 ,  4.1035485 , -0.7597409 , -3.0505257 ,\n       -2.4984121 ,  1.1466949 ,  0.30387217,  5.013219  , -2.5977163 ,\n        1.5072976 , -3.197507  , -2.5066087 ,  2.0346072 , -1.5816548 ,\n       -2.475255  , -0.01434773,  1.3589938 ,  2.3195596 , -1.072113  ,\n       -0.6712122 ,  1.1802013 , -1.594049  ,  1.1249772 ,  6.6687636 ,\n        0.74001   , -2.871656  ,  1.0062395 , -0.5834692 , -1.1148587 ,\n        3.0799987 , -0.24160151,  1.6672803 , -0.83680964,  2.948808  ,\n       -1.4980687 ,  0.39835992,  0.6045767 , -0.2361063 , -0.1972433 ,\n       -1.4385386 ,  0.21345973, -0.72053087, -0.59032744, -2.732584  ,\n        2.5335586 ,  3.5449407 , -1.5516536 , -0.03954422,  2.2842336 ,\n       -0.09268351,  0.3129703 , -1.3752164 , -4.8495    ,  0.4668962 ,\n       -3.0655065 , -1.3341545 ,  0.5979031 ,  4.632379  , -1.8854225 ,\n       -0.42883158, -1.0701903 , -0.9730214 ,  3.3188572 , -0.7427847 ,\n        0.36148617, -2.463285  , -0.96330637,  1.2113581 ,  0.22697368,\n       -1.7632093 , -2.0463092 , -1.6555703 ,  1.6873271 , -0.6623771 ,\n       -0.8259299 ,  0.32726753, -0.6250005 , -5.603789  ,  0.36395574,\n       -1.6296357 , -3.5032961 , -2.8621109 ,  2.682869  , -1.8182172 ,\n        0.05431228, -3.2975347 ,  1.1260287 , -0.9263784 , -4.2544913 ,\n        1.48133   ,  0.41423705, -0.9377326 ,  0.26633063,  3.1595747 ],\n      dtype=float32)"
     },
     "execution_count": 25,
     "metadata": {},
     "output_type": "execute_result"
    }
   ],
   "source": [
    "w2v.wv['iraq']"
   ],
   "metadata": {
    "collapsed": false,
    "ExecuteTime": {
     "end_time": "2023-12-27T10:46:21.881727Z",
     "start_time": "2023-12-27T10:46:21.873365Z"
    }
   },
   "id": "fcadcc46f6e11d3a",
   "execution_count": 25
  },
  {
   "cell_type": "code",
   "outputs": [
    {
     "data": {
      "text/plain": "[('iraqi', 0.3826082646846771),\n ('dolphin', 0.3820282220840454),\n ('jaguar', 0.3721027970314026),\n ('bengal', 0.364101767539978),\n ('convoy', 0.3619471490383148),\n ('navi', 0.35479336977005005),\n ('colt', 0.35157495737075806),\n ('kbr', 0.34732553362846375),\n ('panther', 0.33328235149383545),\n ('abraham', 0.3317876160144806)]"
     },
     "execution_count": 31,
     "metadata": {},
     "output_type": "execute_result"
    }
   ],
   "source": [
    "w2v.wv.most_similar(positive=['iraq'], negative=['islam'])"
   ],
   "metadata": {
    "collapsed": false,
    "ExecuteTime": {
     "end_time": "2023-12-27T10:48:30.347432Z",
     "start_time": "2023-12-27T10:48:30.280093Z"
    }
   },
   "id": "2d49b1739396a626",
   "execution_count": 31
  },
  {
   "cell_type": "code",
   "outputs": [
    {
     "data": {
      "text/plain": "[('queen', 0.47129571437835693),\n ('throne', 0.44849470257759094),\n ('monarch', 0.442725270986557),\n ('grandson', 0.4017987847328186),\n ('pregnanc', 0.40053996443748474),\n ('norodom', 0.3867124319076538),\n ('oath', 0.3863121271133423),\n ('pm', 0.38038894534111023),\n ('father', 0.3740307688713074),\n ('sihanouk', 0.37397968769073486)]"
     },
     "execution_count": 41,
     "metadata": {},
     "output_type": "execute_result"
    }
   ],
   "source": [
    "w2v.wv.most_similar(positive=['woman', 'king'], negative=['man'])"
   ],
   "metadata": {
    "collapsed": false,
    "ExecuteTime": {
     "end_time": "2023-12-27T10:53:15.695910Z",
     "start_time": "2023-12-27T10:53:15.654631Z"
    }
   },
   "id": "9c1f4f28db11d5a6",
   "execution_count": 41
  },
  {
   "cell_type": "code",
   "execution_count": 26,
   "outputs": [
    {
     "data": {
      "text/plain": "[('iraqi', 0.7915021181106567),\n ('afghanistan', 0.5826280117034912),\n ('baghdad', 0.5312554836273193),\n ('fallujah', 0.5252335071563721),\n ('lebanon', 0.5161750316619873),\n ('insurg', 0.506945788860321),\n ('afghan', 0.4784746766090393),\n ('countri', 0.477952241897583),\n ('sudan', 0.45074230432510376),\n ('falluja', 0.43584969639778137)]"
     },
     "execution_count": 26,
     "metadata": {},
     "output_type": "execute_result"
    }
   ],
   "source": [
    "w2v.wv.most_similar(\"iraq\")"
   ],
   "metadata": {
    "collapsed": false,
    "ExecuteTime": {
     "end_time": "2023-12-27T10:46:33.421730Z",
     "start_time": "2023-12-27T10:46:33.316756Z"
    }
   },
   "id": "2ce14f862dcbacbd"
  },
  {
   "cell_type": "markdown",
   "source": [
    "# Task 4"
   ],
   "metadata": {
    "collapsed": false
   },
   "id": "59cceb592e3bfd59"
  },
  {
   "cell_type": "code",
   "execution_count": 27,
   "outputs": [],
   "source": [
    "def cosine_similarity(a, b):\n",
    "    return np.dot(a, b) / (np.linalg.norm(a) * np.linalg.norm(b))"
   ],
   "metadata": {
    "collapsed": false,
    "ExecuteTime": {
     "end_time": "2023-12-27T10:46:40.201294Z",
     "start_time": "2023-12-27T10:46:40.194464Z"
    }
   },
   "id": "6644db1b68e6d284"
  },
  {
   "cell_type": "code",
   "outputs": [
    {
     "data": {
      "text/plain": "0.123242065"
     },
     "execution_count": 92,
     "metadata": {},
     "output_type": "execute_result"
    }
   ],
   "source": [
    "cosine_similarity(w2v.wv[\"man\"], w2v.wv[\"char\"])"
   ],
   "metadata": {
    "collapsed": false,
    "ExecuteTime": {
     "end_time": "2023-12-27T13:09:19.963033Z",
     "start_time": "2023-12-27T13:09:19.957875Z"
    }
   },
   "id": "87c1a741729d5398",
   "execution_count": 92
  },
  {
   "cell_type": "code",
   "execution_count": 79,
   "outputs": [
    {
     "data": {
      "text/plain": "1.0"
     },
     "execution_count": 79,
     "metadata": {},
     "output_type": "execute_result"
    }
   ],
   "source": [
    "cosine_similarity(w2v.wv[\"man\"], w2v.wv[\"man\"])"
   ],
   "metadata": {
    "collapsed": false,
    "ExecuteTime": {
     "end_time": "2023-12-27T11:46:48.550204Z",
     "start_time": "2023-12-27T11:46:48.542922Z"
    }
   },
   "id": "44368cd7f4aec1a0"
  },
  {
   "cell_type": "code",
   "execution_count": 35,
   "outputs": [],
   "source": [
    "def draw_words(terms, vectors_source):\n",
    "    pca = PCA(n_components=2)\n",
    "    vectors_2d = pd.DataFrame(pca.fit_transform([vectors_source[term] for term in terms]))\n",
    "    vectors_2d.index = terms\n",
    "    vectors_2d.columns = [\"x\", \"y\"]\n",
    "    p = sns.scatterplot(data=vectors_2d, x=\"x\", y=\"y\")\n",
    "\n",
    "    for i in vectors_2d.index:\n",
    "        item = vectors_2d.loc[i]\n",
    "        p.text(item.x, item.y, i)\n",
    "    return p"
   ],
   "metadata": {
    "collapsed": false,
    "ExecuteTime": {
     "end_time": "2023-12-27T10:49:41.393031Z",
     "start_time": "2023-12-27T10:49:41.384164Z"
    }
   },
   "id": "c1e9b4f634e29e44"
  },
  {
   "cell_type": "code",
   "execution_count": 93,
   "outputs": [
    {
     "data": {
      "text/plain": "<Axes: xlabel='x', ylabel='y'>"
     },
     "execution_count": 93,
     "metadata": {},
     "output_type": "execute_result"
    },
    {
     "data": {
      "text/plain": "<Figure size 640x480 with 1 Axes>",
      "image/png": "[encoded data removed]"
     },
     "metadata": {},
     "output_type": "display_data"
    }
   ],
   "source": [
    "terms_to_check = [\"christian\", \"islam\", \"hell\", \"woman\", \"man\", \"children\"]\n",
    "draw_words(terms_to_check, w2v.wv)"
   ],
   "metadata": {
    "collapsed": false,
    "ExecuteTime": {
     "end_time": "2023-12-27T13:14:22.689097Z",
     "start_time": "2023-12-27T13:14:22.576426Z"
    }
   },
   "id": "99ad3a591c7a4730"
  },
  {
   "cell_type": "markdown",
   "source": [
    "# Task 5"
   ],
   "metadata": {
    "collapsed": false
   },
   "id": "29b07d34084b3df5"
  },
  {
   "cell_type": "code",
   "execution_count": 46,
   "outputs": [],
   "source": [
    "def transform_to_compare(vectors):\n",
    "    pca = PCA(n_components=len(w2v.wv[0]))\n",
    "    transformed = pca.fit_transform(vectors)\n",
    "    return transformed"
   ],
   "metadata": {
    "collapsed": false,
    "ExecuteTime": {
     "end_time": "2023-12-27T11:02:32.464882Z",
     "start_time": "2023-12-27T11:02:32.462064Z"
    }
   },
   "id": "292ffa81a7262ea1"
  },
  {
   "cell_type": "code",
   "execution_count": 47,
   "outputs": [],
   "source": [
    "terms_vectorized = [vectorize_tf_idf(i, matrix) for i in matrix.columns]"
   ],
   "metadata": {
    "collapsed": false,
    "ExecuteTime": {
     "end_time": "2023-12-27T11:03:10.332757Z",
     "start_time": "2023-12-27T11:02:34.546600Z"
    }
   },
   "id": "6b2500ff8a80d19c"
  },
  {
   "cell_type": "markdown",
   "source": [
    "# Task 6"
   ],
   "metadata": {
    "collapsed": false
   },
   "id": "2220719f794f1158"
  },
  {
   "cell_type": "code",
   "execution_count": 48,
   "outputs": [],
   "source": [
    "to_cmp = transform_to_compare(terms_vectorized)"
   ],
   "metadata": {
    "collapsed": false,
    "ExecuteTime": {
     "end_time": "2023-12-27T11:03:25.427005Z",
     "start_time": "2023-12-27T11:03:14.108967Z"
    }
   },
   "id": "11173fe88a13984d"
  },
  {
   "cell_type": "code",
   "execution_count": 49,
   "outputs": [],
   "source": [
    "terms_to_compare = pd.DataFrame(to_cmp)\n",
    "terms_to_compare.index = matrix.columns"
   ],
   "metadata": {
    "collapsed": false,
    "ExecuteTime": {
     "end_time": "2023-12-27T11:03:48.140704Z",
     "start_time": "2023-12-27T11:03:48.132857Z"
    }
   },
   "id": "c879f31ce86d9db6"
  },
  {
   "cell_type": "code",
   "execution_count": 50,
   "outputs": [],
   "source": [
    "def compare_methods(w1, w2):\n",
    "    print(\"Results for words\", w1, \"and\", w2)\n",
    "    print(\"W2V:\", cosine_similarity(w2v.wv[w1], w2v.wv[w2]))\n",
    "    print(\"Tf-Idf:\", cosine_similarity(terms_to_compare.loc[w1], terms_to_compare.loc[w2]))\n",
    "    print()"
   ],
   "metadata": {
    "collapsed": false,
    "ExecuteTime": {
     "end_time": "2023-12-27T11:03:49.402253Z",
     "start_time": "2023-12-27T11:03:49.395520Z"
    }
   },
   "id": "7391dc72628e98c0"
  },
  {
   "cell_type": "code",
   "execution_count": 96,
   "outputs": [
    {
     "name": "stdout",
     "output_type": "stream",
     "text": [
      "Results for words christian and hell\n",
      "W2V: 0.08466728\n",
      "Tf-Idf: 0.08411453500665875\n",
      "\n",
      "Results for words man and woman\n",
      "W2V: 0.5574322\n",
      "Tf-Idf: 0.9969799265832958\n"
     ]
    }
   ],
   "source": [
    "compare_methods(\"christian\", \"hell\")\n",
    "compare_methods(\"man\", \"woman\")"
   ],
   "metadata": {
    "collapsed": false,
    "ExecuteTime": {
     "end_time": "2023-12-27T13:17:42.471944Z",
     "start_time": "2023-12-27T13:17:42.465038Z"
    }
   },
   "id": "2f39e2a38b956be5"
  },
  {
   "cell_type": "code",
   "execution_count": 59,
   "outputs": [],
   "source": [
    "tfidf_data = {}\n",
    "for i in range(len(matrix.columns)):\n",
    "    tfidf_data[matrix.columns[i]] = terms_vectorized[i]"
   ],
   "metadata": {
    "collapsed": false,
    "ExecuteTime": {
     "end_time": "2023-12-27T11:08:26.078307Z",
     "start_time": "2023-12-27T11:08:26.073096Z"
    }
   },
   "id": "a59991ba89e138f4"
  },
  {
   "cell_type": "code",
   "execution_count": 95,
   "outputs": [
    {
     "data": {
      "text/plain": "<Axes: xlabel='x', ylabel='y'>"
     },
     "execution_count": 95,
     "metadata": {},
     "output_type": "execute_result"
    },
    {
     "data": {
      "text/plain": "<Figure size 640x480 with 1 Axes>",
      "image/png": "[encoded data removed]"
     },
     "metadata": {},
     "output_type": "display_data"
    }
   ],
   "source": [
    "draw_words(terms_to_check, tfidf_data)"
   ],
   "metadata": {
    "collapsed": false,
    "ExecuteTime": {
     "end_time": "2023-12-27T13:17:15.715723Z",
     "start_time": "2023-12-27T13:17:15.395026Z"
    }
   },
   "id": "97b13c3080846ab6"
  },
  {
   "cell_type": "markdown",
   "source": [
    "# Task 7"
   ],
   "metadata": {
    "collapsed": false
   },
   "id": "1f88a9abe5f5cb37"
  },
  {
   "cell_type": "code",
   "execution_count": 89,
   "outputs": [],
   "source": [
    "def vectorize(sentences, w2v):\n",
    "    result_vec = np.zeros(w2v.vector_size)\n",
    "    for s in sentences:\n",
    "        sentence_vec = np.zeros(w2v.vector_size)\n",
    "        for w in s:\n",
    "            if w2v.wv.has_index_for(w):\n",
    "                sentence_vec += w2v.wv[w]\n",
    "        sentence_vec = sentence_vec / len(s) if len(s) > 0 else np.zeros(w2v.vector_size)\n",
    "        result_vec += sentence_vec\n",
    "    result_vec = result_vec / len(sentences) if len(sentences) > 0 else np.zeros(w2v.vector_size)\n",
    "    return result_vec"
   ],
   "metadata": {
    "collapsed": false,
    "ExecuteTime": {
     "end_time": "2023-12-27T12:18:00.730012Z",
     "start_time": "2023-12-27T12:18:00.712895Z"
    }
   },
   "id": "80826ce08ee5a6d3"
  },
  {
   "cell_type": "code",
   "execution_count": 85,
   "outputs": [
    {
     "data": {
      "text/plain": "[['hello', 'man']]"
     },
     "execution_count": 85,
     "metadata": {},
     "output_type": "execute_result"
    }
   ],
   "source": [
    "preprocess_text(t1, True)"
   ],
   "metadata": {
    "collapsed": false,
    "ExecuteTime": {
     "end_time": "2023-12-27T12:16:16.046567Z",
     "start_time": "2023-12-27T12:16:16.036744Z"
    }
   },
   "id": "9375749ba3399b2b"
  },
  {
   "cell_type": "code",
   "execution_count": 90,
   "outputs": [
    {
     "data": {
      "text/plain": "array([ 0.41036576,  0.0120754 , -0.73560683,  0.15516603, -0.89255759,\n        0.72401994, -0.61282992, -1.02715608, -0.3275778 ,  1.27961437,\n       -0.10390796,  0.3083608 ,  1.42807415, -0.66750374,  0.6343964 ,\n        0.02857009, -0.47411379, -1.19629455,  0.36741744,  0.94901628,\n       -1.93093809,  0.61474094, -1.90837193,  0.94277811, -0.78394541,\n       -0.67697105,  0.32502337, -0.25949792, -0.65992478, -1.1064032 ,\n        0.45887651,  1.02905172,  0.3888519 , -0.93506735, -0.40615079,\n        1.74659054,  0.28477636,  0.75097573, -1.51563501, -1.92576882,\n        1.11761031, -1.16298844,  0.7076156 , -0.42858729, -0.28754063,\n        0.45418458,  0.31663905, -0.06421575, -0.38559178, -0.31582488,\n        0.48437441,  0.42708942, -0.00852862,  0.18740055, -0.31519018,\n        0.10585723, -0.83216604,  0.0933819 ,  0.23987745, -2.04473825,\n       -0.7638237 , -0.04131253, -1.63302606,  0.43548821, -0.26928098,\n        0.24761065,  0.28277989,  0.66974451,  0.2234791 , -0.18566965,\n       -1.35926549, -1.02948716, -0.68675496, -0.06639257,  0.35196521,\n        0.43463794,  0.32111095, -0.46636882, -0.2932167 ,  0.47857464,\n        0.00844224,  0.71909626, -0.33555636, -1.48046489, -0.86770517,\n        0.16944228,  0.40000527,  0.62442543,  0.76556969, -0.04788241,\n       -0.15294027,  1.88248059,  0.7326815 ,  1.75511238,  1.18622491,\n        0.81591421, -0.79242278, -0.22872033,  1.38985476,  0.50308277])"
     },
     "execution_count": 90,
     "metadata": {},
     "output_type": "execute_result"
    }
   ],
   "source": [
    "vectorize(preprocess_text(t1, True), w2v)"
   ],
   "metadata": {
    "collapsed": false,
    "ExecuteTime": {
     "end_time": "2023-12-27T12:18:03.511142Z",
     "start_time": "2023-12-27T12:18:03.497885Z"
    }
   },
   "id": "c16ddc9ebaeb5f86"
  },
  {
   "cell_type": "markdown",
   "source": [
    " # Task 8"
   ],
   "metadata": {
    "collapsed": false
   },
   "id": "1589de74e0bde7d6"
  },
  {
   "cell_type": "code",
   "execution_count": 37,
   "outputs": [],
   "source": [
    "w2v = Word2Vec.load(os.path.join(train_dir, \".\", \"w2v_weights\"))\n",
    "vectorized_documents = {}\n",
    "for t in topics:\n",
    "    workdir = os.path.join(train_dir, t)\n",
    "    for filename in os.listdir(workdir):\n",
    "        stems = get_stems_processed(os.path.join(workdir, filename))\n",
    "        vectorized_documents[os.path.join(t, filename)] = vectorize(stems, w2v)"
   ],
   "metadata": {
    "collapsed": false,
    "ExecuteTime": {
     "end_time": "2023-12-26T00:33:26.100681700Z",
     "start_time": "2023-12-25T23:59:28.246461600Z"
    }
   },
   "id": "e3c2237e03de079b"
  },
  {
   "cell_type": "code",
   "execution_count": 38,
   "outputs": [],
   "source": [
    "with open(os.path.join(train_dir, \".\", \"train_embeddings.tsv\"), \"w\") as f:\n",
    "    for k in vectorized_documents.keys():\n",
    "        print(k.replace(\".tsv\", \"\"), *vectorized_documents[k], sep=\"\\t\", file=f)"
   ],
   "metadata": {
    "collapsed": false,
    "ExecuteTime": {
     "end_time": "2023-12-26T00:34:03.007463100Z",
     "start_time": "2023-12-26T00:33:26.105676600Z"
    }
   },
   "id": "d29a38f81b9629f6"
  },
  {
   "cell_type": "code",
   "execution_count": 40,
   "outputs": [],
   "source": [
    "test_dir = os.path.realpath(\"./assets/annotated-corpus/test\")\n",
    "vectorized_documents = {}\n",
    "for t in topics:\n",
    "    workdir = os.path.join(test_dir, t)\n",
    "    for filename in os.listdir(workdir):\n",
    "        stems = get_stems_processed(os.path.join(workdir, filename))\n",
    "        vectorized_documents[os.path.join(t, filename)] = vectorize(stems, w2v)"
   ],
   "metadata": {
    "collapsed": false,
    "ExecuteTime": {
     "end_time": "2023-12-26T04:01:48.275454Z",
     "start_time": "2023-12-26T03:59:40.509749100Z"
    }
   },
   "id": "d8d2e4746877d67"
  },
  {
   "cell_type": "code",
   "execution_count": 41,
   "outputs": [],
   "source": [
    "with open(os.path.join(train_dir, \".\", \"test_embeddings.tsv\"), \"w\") as f:\n",
    "    for k in vectorized_documents.keys():\n",
    "        print(k.replace(\".tsv\", \"\"), *vectorized_documents[k], sep=\"\\t\", file=f)"
   ],
   "metadata": {
    "collapsed": false,
    "ExecuteTime": {
     "end_time": "2023-12-26T04:01:50.154045500Z",
     "start_time": "2023-12-26T04:01:48.279454700Z"
    }
   },
   "id": "ec4d0303f4a39ce"
  },
  {
   "cell_type": "code",
   "execution_count": null,
   "outputs": [],
   "source": [],
   "metadata": {
    "collapsed": false
   },
   "id": "ea53bc8382ae3f7b"
  }
 ],
 "metadata": {
  "kernelspec": {
   "display_name": "Python 3",
   "language": "python",
   "name": "python3"
  },
  "language_info": {
   "codemirror_mode": {
    "name": "ipython",
    "version": 2
   },
   "file_extension": ".py",
   "mimetype": "text/x-python",
   "name": "python",
   "nbconvert_exporter": "python",
   "pygments_lexer": "ipython2",
   "version": "2.7.6"
  }
 },
 "nbformat": 4,
 "nbformat_minor": 5
}
