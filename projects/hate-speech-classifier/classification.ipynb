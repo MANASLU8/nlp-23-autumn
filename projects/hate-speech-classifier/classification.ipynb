{
 "cells": [
  {
   "cell_type": "code",
   "execution_count": null,
   "metadata": {},
   "outputs": [],
   "source": [
    "import os\n",
    "from pprint import pprint\n",
    "from collections import defaultdict\n",
    "import time"
   ]
  },
  {
   "cell_type": "code",
   "execution_count": null,
   "metadata": {},
   "outputs": [],
   "source": [
    "from sklearn import svm\n",
    "from sklearn import metrics\n",
    "import pandas as pd\n",
    "import numpy as np"
   ]
  },
  {
   "cell_type": "code",
   "execution_count": null,
   "metadata": {},
   "outputs": [],
   "source": [
    "DATASET_EMBEDDINGS_TRAIN_FILE = os.path.realpath(\"./assets/embeddings/test/train_embeddings.tsv\")\n",
    "DATASET_EMBEDDINGS_TEST_FILE = os.path.realpath(\"./assets/embeddings/test/test_embeddings.tsv\")"
   ]
  },
  {
   "cell_type": "code",
   "execution_count": null,
   "metadata": {},
   "outputs": [],
   "source": [
    "embeddings_train = pd.read_csv(DATASET_EMBEDDINGS_TRAIN_FILE, sep=\"\\t\", header=None, index_col=0)\n",
    "embeddings_train.head()"
   ]
  },
  {
   "cell_type": "code",
   "execution_count": null,
   "metadata": {},
   "outputs": [],
   "source": [
    "embeddings_test = pd.read_csv(DATASET_EMBEDDINGS_TEST_FILE, sep=\"\\t\", header=None, index_col=0)\n",
    "embeddings_test.head()"
   ]
  },
  {
   "cell_type": "code",
   "execution_count": null,
   "metadata": {},
   "outputs": [],
   "source": [
    "def get_y(df: pd.DataFrame) -> pd.Index:\n",
    "    return df.index.map(lambda x: 1 if x.split(\"/\")[0] == \"toxic\" else 0)"
   ]
  },
  {
   "cell_type": "code",
   "execution_count": null,
   "metadata": {},
   "outputs": [],
   "source": [
    "train_y = get_y(embeddings_train)\n",
    "test_y = get_y(embeddings_test)"
   ]
  },
  {
   "cell_type": "code",
   "execution_count": null,
   "metadata": {},
   "outputs": [],
   "source": [
    "def train_model(raw_model, X_train, y_train, model_kwargs: dict = {}) -> tuple[svm.SVC, float]:\n",
    "    start_time = time.time()\n",
    "\n",
    "    raw_model.fit(X_train, y_train, **model_kwargs)\n",
    "\n",
    "    end_time = time.time()\n",
    "\n",
    "    t_delta = end_time - start_time\n",
    "    \n",
    "    return raw_model, t_delta"
   ]
  },
  {
   "cell_type": "code",
   "execution_count": null,
   "metadata": {},
   "outputs": [],
   "source": [
    "def test_model(model, X_test, y_test):\n",
    "    y_pred = model.predict(X_test)\n",
    "\n",
    "    prec = metrics.precision_score(y_test, y_pred)\n",
    "    rec = metrics.recall_score(y_test, y_pred)\n",
    "    acc = metrics.accuracy_score(y_test, y_pred)\n",
    "    f1 = metrics.f1_score(y_test, y_pred)\n",
    "\n",
    "    return {\n",
    "        \"precision\": prec,\n",
    "        \"recall\": rec,\n",
    "        \"accuracy\": acc,\n",
    "        \"f1\": f1,\n",
    "    }"
   ]
  },
  {
   "cell_type": "code",
   "execution_count": null,
   "metadata": {},
   "outputs": [],
   "source": [
    "model_svm_linear = svm.SVC(kernel=\"linear\")"
   ]
  },
  {
   "cell_type": "code",
   "execution_count": null,
   "metadata": {},
   "outputs": [],
   "source": [
    "model_svm_linear, training_svc_1_time = train_model(model_svm_linear, embeddings_train, train_y)"
   ]
  },
  {
   "cell_type": "code",
   "execution_count": null,
   "metadata": {},
   "outputs": [],
   "source": [
    "metrics_svc_1 = test_model(model_svm_linear, embeddings_test, test_y)"
   ]
  },
  {
   "cell_type": "code",
   "execution_count": null,
   "metadata": {},
   "outputs": [],
   "source": [
    "metrics_svc_1"
   ]
  },
  {
   "cell_type": "code",
   "execution_count": null,
   "metadata": {},
   "outputs": [],
   "source": [
    "training_svc_1_time"
   ]
  },
  {
   "cell_type": "code",
   "execution_count": null,
   "metadata": {},
   "outputs": [],
   "source": [
    "def make_experiment(model_class, models_kwargs: list[dict], X_train, y_train, X_test, y_test) -> dict:\n",
    "    metrics_out = []\n",
    "    for experiment_kwargs in models_kwargs:\n",
    "        model = model_class(**experiment_kwargs)\n",
    "        model, training_time = train_model(model, X_train, y_train)\n",
    "        metrics = test_model(model_svm_linear, X_test, y_test)\n",
    "        metrics_out.append({\"training_time\": training_time, \"metrics\": metrics})\n",
    "    \n",
    "    return metrics_out\n"
   ]
  },
  {
   "cell_type": "code",
   "execution_count": null,
   "metadata": {},
   "outputs": [],
   "source": [
    "experiments_res_1 = make_experiment(\n",
    "    svm.SVC,\n",
    "    [\n",
    "        {\n",
    "            \"kernel\": \"linear\",\n",
    "        },\n",
    "        {\n",
    "            \"kernel\": \"rbf\",\n",
    "        },\n",
    "        {\n",
    "            \"kernel\": \"sigmoid\",\n",
    "        },\n",
    "    ],\n",
    "    embeddings_train,\n",
    "    train_y,\n",
    "    embeddings_test,\n",
    "    test_y,\n",
    ")\n",
    "\n",
    "pprint(experiments_res_1)"
   ]
  },
  {
   "cell_type": "code",
   "execution_count": null,
   "metadata": {},
   "outputs": [],
   "source": [
    "X_train_exp_2 = embeddings_train.copy()\n",
    "X_test_exp_2 = embeddings_test.copy()\n",
    "\n",
    "X_train_exp_2.iloc[:,:30] = 0\n",
    "X_test_exp_2.iloc[:,:30] = 0\n",
    "\n",
    "\n",
    "X_train_exp_2"
   ]
  },
  {
   "cell_type": "code",
   "execution_count": null,
   "metadata": {},
   "outputs": [],
   "source": [
    "experiments_res_2 = make_experiment(\n",
    "    svm.SVC,\n",
    "    [\n",
    "        {\n",
    "            \"kernel\": \"linear\",\n",
    "        },\n",
    "        {\n",
    "            \"kernel\": \"rbf\",\n",
    "        },\n",
    "        {\n",
    "            \"kernel\": \"sigmoid\",\n",
    "        },\n",
    "    ],\n",
    "    X_train_exp_2,\n",
    "    train_y,\n",
    "    X_test_exp_2,\n",
    "    test_y,\n",
    ")\n",
    "\n",
    "pprint(experiments_res_2)"
   ]
  },
  {
   "cell_type": "code",
   "execution_count": null,
   "metadata": {},
   "outputs": [],
   "source": [
    "X_train_exp_3 = embeddings_train.copy()\n",
    "X_test_exp_3 = embeddings_test.copy()\n",
    "\n",
    "X_train_exp_3.iloc[:,:30] = 0\n",
    "X_test_exp_3.iloc[:,:30] = 0\n",
    "\n",
    "X_train_exp_3.iloc[:,60:] = 1\n",
    "X_test_exp_3.iloc[:,60:] = 1\n",
    "\n",
    "\n",
    "X_train_exp_3"
   ]
  },
  {
   "cell_type": "code",
   "execution_count": null,
   "metadata": {},
   "outputs": [],
   "source": [
    "experiments_res_3 = make_experiment(\n",
    "    svm.SVC,\n",
    "    [\n",
    "        {\n",
    "            \"kernel\": \"linear\",\n",
    "        },\n",
    "        {\n",
    "            \"kernel\": \"rbf\",\n",
    "        },\n",
    "        {\n",
    "            \"kernel\": \"sigmoid\",\n",
    "        },\n",
    "    ],\n",
    "    X_train_exp_3,\n",
    "    train_y,\n",
    "    X_test_exp_3,\n",
    "    test_y,\n",
    ")\n",
    "\n",
    "pprint(experiments_res_3)"
   ]
  },
  {
   "cell_type": "code",
   "execution_count": null,
   "metadata": {},
   "outputs": [],
   "source": [
    "X_train_exp_4 = embeddings_train.copy()\n",
    "X_test_exp_4 = embeddings_test.copy()\n",
    "X_train_exp_4 = np.sin(X_train_exp_4)\n",
    "X_test_exp_4 = np.sin(X_test_exp_4)\n",
    "\n",
    "X_train_exp_4"
   ]
  },
  {
   "cell_type": "code",
   "execution_count": null,
   "metadata": {},
   "outputs": [],
   "source": [
    "experiments_res_4 = make_experiment(\n",
    "    svm.SVC,\n",
    "    [\n",
    "        {\n",
    "            \"kernel\": \"linear\",\n",
    "        },\n",
    "        {\n",
    "            \"kernel\": \"rbf\",\n",
    "        },\n",
    "        {\n",
    "            \"kernel\": \"sigmoid\",\n",
    "        },\n",
    "    ],\n",
    "    X_train_exp_4,\n",
    "    train_y,\n",
    "    X_test_exp_4,\n",
    "    test_y,\n",
    ")\n",
    "\n",
    "pprint(experiments_res_4)"
   ]
  },
  {
   "cell_type": "code",
   "execution_count": null,
   "metadata": {},
   "outputs": [],
   "source": [
    "def experiments_results_to_dataframe(exp_results: list[dict], exp_params: list[dict], experiments_meta: list[dict], exp_names: list[str] = None) -> pd.DataFrame:\n",
    "    if exp_names is None:\n",
    "        exp_names = list(map(str, range(len(exp_results))))\n",
    "\n",
    "    res_table_dict = defaultdict(list)\n",
    "\n",
    "    for er in exp_results:\n",
    "        for er_per_param, exp_param, exp_meta in zip(er, exp_params, experiments_meta):\n",
    "            res_table_dict[\"training_time\"].append(er_per_param[\"training_time\"])\n",
    "            \n",
    "            for k, v in er_per_param[\"metrics\"].items():\n",
    "                res_table_dict[k].append(v)\n",
    "\n",
    "            for ep_key, ep_val in exp_param.items():\n",
    "                res_table_dict[ep_key].append(ep_val)\n",
    "\n",
    "            for meta_key, meta_val in exp_meta.items():\n",
    "                res_table_dict[meta_key].append(meta_val)\n",
    "\n",
    "    res = pd.DataFrame(data=res_table_dict)\n",
    "    \n",
    "    return res"
   ]
  },
  {
   "cell_type": "code",
   "execution_count": null,
   "metadata": {},
   "outputs": [],
   "source": [
    "experiments_df = experiments_results_to_dataframe(\n",
    "    [\n",
    "        experiments_res_1, \n",
    "        experiments_res_2,\n",
    "        experiments_res_3,\n",
    "        experiments_res_4,\n",
    "    ],\n",
    "    exp_params = [\n",
    "        {\n",
    "            \"kernel\": \"linear\",\n",
    "        },\n",
    "        {\n",
    "            \"kernel\": \"rbf\",\n",
    "        },\n",
    "        {\n",
    "            \"kernel\": \"sigmoid\",\n",
    "        },\n",
    "    ],\n",
    "    experiments_meta = [\n",
    "        {\n",
    "            \"experiment_name\": \"full_mat\",\n",
    "            \"model\": \"SVC\",\n",
    "        },\n",
    "        {\n",
    "            \"experiment_name\": \"zeros_left\",\n",
    "            \"model\": \"SVC\",\n",
    "        },\n",
    "        {\n",
    "            \"experiment_name\": \"zeros_left__ones_right\",\n",
    "            \"model\": \"SVC\",\n",
    "        },\n",
    "        {\n",
    "            \"experiment_name\": \"full_mat__sin\",\n",
    "            \"model\": \"SVC\",\n",
    "        },\n",
    "    ],\n",
    ")"
   ]
  },
  {
   "cell_type": "code",
   "execution_count": null,
   "metadata": {},
   "outputs": [],
   "source": [
    "experiments_df"
   ]
  }
 ],
 "metadata": {
  "language_info": {
   "name": "python"
  }
 },
 "nbformat": 4,
 "nbformat_minor": 2
}
