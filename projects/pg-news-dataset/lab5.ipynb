{
  "cells": [
    {
      "cell_type": "code",
      "source": [
        "from google.colab import drive\n",
        "drive.mount('/content/drive')#, force_remount=True)"
      ],
      "metadata": {
        "id": "_qFEYu0im1cb"
      },
      "execution_count": null,
      "outputs": []
    },
    {
      "cell_type": "code",
      "execution_count": null,
      "metadata": {
        "id": "lOs2jgRrmJUL"
      },
      "outputs": [],
      "source": [
        "!pip install sentence_transformers\n",
        "from sentence_transformers import SentenceTransformer\n",
        "model = SentenceTransformer('BAAI/bge-large-en-v1.5')"
      ]
    },
    {
      "cell_type": "code",
      "execution_count": null,
      "metadata": {
        "id": "JeGGHRaomJUM"
      },
      "outputs": [],
      "source": [
        "import pandas as pd\n",
        "data = pd.read_csv(\"drive/MyDrive/Сертификат/news-dataset/assets/test.csv\",header=None)"
      ]
    },
    {
      "cell_type": "code",
      "execution_count": null,
      "metadata": {
        "id": "oWER54x2mJUO"
      },
      "outputs": [],
      "source": [
        "values  = data.values"
      ]
    },
    {
      "cell_type": "code",
      "execution_count": null,
      "metadata": {
        "id": "m51ER6-EmJUO"
      },
      "outputs": [],
      "source": [
        "for i in range(len(values)):\n",
        "    values[i][0]=i"
      ]
    },
    {
      "cell_type": "code",
      "execution_count": null,
      "metadata": {
        "id": "n3Ge_5TJmJUP"
      },
      "outputs": [],
      "source": [
        "values"
      ]
    },
    {
      "cell_type": "code",
      "source": [
        "import random\n",
        "for i in range(10):\n",
        "  x = random.randint(0,7599)\n",
        "  print(values[x][2])\n",
        "  print()"
      ],
      "metadata": {
        "id": "zlPyVReOEdOD"
      },
      "execution_count": null,
      "outputs": []
    },
    {
      "cell_type": "code",
      "execution_count": null,
      "metadata": {
        "id": "Kj5aom-MmJUP"
      },
      "outputs": [],
      "source": [
        "# values"
      ]
    },
    {
      "cell_type": "code",
      "execution_count": null,
      "metadata": {
        "id": "59aPrxuemJUQ"
      },
      "outputs": [],
      "source": [
        "all_embs =  []\n",
        "from tqdm import tqdm\n",
        "for el in tqdm(values):\n",
        "    embs = model.encode([el[2]], normalize_embeddings=True)\n",
        "    all_embs.append((el[0],embs))"
      ]
    },
    {
      "cell_type": "code",
      "execution_count": null,
      "metadata": {
        "id": "OAw1n4zSmJUR"
      },
      "outputs": [],
      "source": [
        "all_embs[0][1][0].tolist()"
      ]
    },
    {
      "cell_type": "code",
      "source": [
        "!pip install chromadb"
      ],
      "metadata": {
        "id": "n99-gqCoqRWl"
      },
      "execution_count": null,
      "outputs": []
    },
    {
      "cell_type": "code",
      "source": [
        "!pip install --upgrade --force-reinstall fastapi==0.103.2\n",
        "#!pip install typing-extensions --upgrade"
      ],
      "metadata": {
        "id": "5aSRVJwk4TkZ"
      },
      "execution_count": null,
      "outputs": []
    },
    {
      "cell_type": "code",
      "execution_count": null,
      "metadata": {
        "id": "dotL3KyfmJUS"
      },
      "outputs": [],
      "source": [
        "import chromadb\n",
        "client = chromadb.Client()\n",
        "\n",
        "#collection = client.create_collection(\"db0\")\n",
        "\n",
        "collection_l2 = client.create_collection(\"l2_db\", {\"hnsw:space\": \"l2\"})\n",
        "collection_cos = client.create_collection('cos', {\"hnsw:space\": \"cosine\"})\n",
        "collection_Ip = client.create_collection('Ip_db', {\"hnsw:space\": \"ip\"})\n"
      ]
    },
    {
      "cell_type": "code",
      "execution_count": null,
      "metadata": {
        "id": "Rv5E6ttjmJUT"
      },
      "outputs": [],
      "source": [
        "abc = [el[1][0].tolist() for el in all_embs]"
      ]
    },
    {
      "cell_type": "code",
      "execution_count": null,
      "metadata": {
        "id": "wYN1Nbd7mJUU"
      },
      "outputs": [],
      "source": [
        "collection_l2.add(\n",
        "    embeddings=abc,\n",
        "    metadatas=[{\"headline\":el} for el in values[:,1].tolist()],\n",
        "    ids=[str(el[0]) for el in all_embs]\n",
        ")\n",
        "\n",
        "collection_cos.add(\n",
        "    embeddings=abc,\n",
        "    metadatas=[{\"headline\":el} for el in values[:,1].tolist()],\n",
        "    ids=[str(el[0]) for el in all_embs]\n",
        ")\n",
        "\n",
        "collection_Ip.add(\n",
        "    embeddings=abc,\n",
        "    metadatas=[{\"headline\":el} for el in values[:,1].tolist()],\n",
        "    ids=[str(el[0]) for el in all_embs]\n",
        ")"
      ]
    },
    {
      "cell_type": "code",
      "execution_count": null,
      "metadata": {
        "id": "qfwvf_A4mJUU"
      },
      "outputs": [],
      "source": [
        "import random\n",
        "random_elements = [[el[0],el[2]] for el in random.choices(values,k=10)]"
      ]
    },
    {
      "cell_type": "code",
      "execution_count": null,
      "metadata": {
        "id": "9uA0B2L_mJUV"
      },
      "outputs": [],
      "source": [
        "random_elements"
      ]
    },
    {
      "cell_type": "code",
      "execution_count": null,
      "metadata": {
        "id": "YXCm_wqimJUV"
      },
      "outputs": [],
      "source": [
        "questions_array = [\n",
        "    (6983, \"What could be the consequences for Rwanda if it does not comply with the UN Security Council’s demand for the immediate withdrawal of its troops from the Democratic Republic of Congo?\"),\n",
        "    (5994, \"What event caused stocks to rise on Wednesday, and what was the reaction of investors to the indicator of rising inflation and the merger of Kmart Holding Corp?\"),\n",
        "    (3180, \"What action does the Russian government expect its parliament to take this month regarding the Kyoto Protocol, and what would be the global impact of this action?\"),\n",
        "    (2041, \"What event 8,200 years ago caused a significant cooling of the North Atlantic region, and what are scientists currently trying to predict?\"),\n",
        "    (6888, \"Who formed a productive practice pair in 1998 for the Patriots and Cleveland, and what were their individual achievements in that year?\"),\n",
        "    (3094, \"Who was the head coach of the Philadelphia Eagles from 1961-63 and the offensive line coach on the 1960 championship team, and what recent event occurred related to him?\"),\n",
        "    (7239, \"What event has caused the maiden flight of Boeing’s new heavy-lift Delta 4 rocket to be delayed by a week?\"),\n",
        "    (1919, \"What three events delivered staggering blows to the Gulf Coast, Florida, and Caribbean island nations all within a span of five weeks?\"),\n",
        "    (5597, \"What event led to a 16 percent rise in profit for British satellite broadcaster BSkyB in the first quarter, and what was the context of this growth?\"),\n",
        "    (1340, \"What is the impact of success in big-time sports on a college’s alumni donations and the academic quality of its applicants, according to a study directed by the Knight Commission on Intercollegiate Athletics?\"),\n",
        "    (1345, \"What is my name?\")\n",
        "]"
      ]
    },
    {
      "cell_type": "code",
      "execution_count": null,
      "metadata": {
        "id": "M3vHmoUkmJUW"
      },
      "outputs": [],
      "source": [
        "instruction = \"Represent this sentence for searching relevant passages:\"\n",
        "search_results = []\n",
        "for q in questions_array:\n",
        "    query = instruction + \" \" + q[1]\n",
        "    query = model.encode(query)#, normalize_embeddings=True)\n",
        "    results = collection_l2.query(query_embeddings=[query.tolist()],n_results=7600) #l2 + normalize = cos distance\n",
        "    search_results.append(results[\"ids\"][0].index(str(q[0])))"
      ]
    },
    {
      "cell_type": "code",
      "execution_count": null,
      "metadata": {
        "id": "d5UhWZOkmJUW"
      },
      "outputs": [],
      "source": [
        "print(search_results)\n",
        "from statistics import mean\n",
        "mean(search_results)"
      ]
    },
    {
      "cell_type": "code",
      "source": [
        "instruction = \"Represent this sentence for searching relevant passages:\"\n",
        "search_results = []\n",
        "for q in questions_array:\n",
        "    query = instruction + \" \" + q[1]\n",
        "    query = model.encode(query)#, normalize_embeddings=True)\n",
        "    results = collection_cos.query(query_embeddings=[query.tolist()],n_results=7600) #l2 + normalize = cos distance\n",
        "    search_results.append(results[\"ids\"][0].index(str(q[0])))"
      ],
      "metadata": {
        "id": "LpfyRTISPaKF"
      },
      "execution_count": null,
      "outputs": []
    },
    {
      "cell_type": "code",
      "source": [
        "print(search_results)\n",
        "from statistics import mean\n",
        "mean(search_results)"
      ],
      "metadata": {
        "id": "O_tsRzWnPaHw"
      },
      "execution_count": null,
      "outputs": []
    },
    {
      "cell_type": "code",
      "source": [
        "instruction = \"Represent this sentence for searching relevant passages:\"\n",
        "search_results = []\n",
        "for q in questions_array:\n",
        "    query = instruction + \" \" + q[1]\n",
        "    query = model.encode(query)#, normalize_embeddings=True)\n",
        "    results = collection_Ip.query(query_embeddings=[query.tolist()],n_results=7600) #l2 + normalize = cos distance\n",
        "    search_results.append(results[\"ids\"][0].index(str(q[0])))"
      ],
      "metadata": {
        "id": "oD7_KYn7Po05"
      },
      "execution_count": null,
      "outputs": []
    },
    {
      "cell_type": "code",
      "source": [
        "print(search_results)\n",
        "from statistics import mean\n",
        "mean(search_results)"
      ],
      "metadata": {
        "id": "KeML0rpmPaEq"
      },
      "execution_count": null,
      "outputs": []
    },
    {
      "cell_type": "code",
      "source": [],
      "metadata": {
        "id": "U2lEmkj3PZ_s"
      },
      "execution_count": null,
      "outputs": []
    },
    {
      "cell_type": "code",
      "source": [],
      "metadata": {
        "id": "ud2P0idpPZ1R"
      },
      "execution_count": null,
      "outputs": []
    },
    {
      "cell_type": "code",
      "execution_count": null,
      "metadata": {
        "id": "pYDEMPlMmJUW"
      },
      "outputs": [],
      "source": [
        "#results[\"ids\"][0].index(str(4498))"
      ]
    },
    {
      "cell_type": "code",
      "execution_count": null,
      "metadata": {
        "id": "Dcx6wiTkmJUX"
      },
      "outputs": [],
      "source": []
    }
  ],
  "metadata": {
    "kernelspec": {
      "display_name": "Python 3",
      "name": "python3"
    },
    "language_info": {
      "codemirror_mode": {
        "name": "ipython",
        "version": 3
      },
      "file_extension": ".py",
      "mimetype": "text/x-python",
      "name": "python",
      "nbconvert_exporter": "python",
      "pygments_lexer": "ipython3",
      "version": "3.10.13"
    },
    "orig_nbformat": 4,
    "colab": {
      "provenance": [],
      "gpuType": "T4"
    },
    "accelerator": "GPU"
  },
  "nbformat": 4,
  "nbformat_minor": 0
}