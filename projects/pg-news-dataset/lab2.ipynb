{
  "cells": [
    {
      "cell_type": "code",
      "execution_count": null,
      "metadata": {
        "id": "_dYVb5NaG4rj"
      },
      "outputs": [],
      "source": [
        "from google.colab import drive\n",
        "drive.mount('/content/drive')#, force_remount=True)"
      ],
      "id": "_dYVb5NaG4rj"
    },
    {
      "cell_type": "code",
      "execution_count": null,
      "metadata": {
        "id": "6b7e22c497427904"
      },
      "outputs": [],
      "source": [
        "import os\n",
        "from math import sqrt\n",
        "import nltk\n",
        "from nltk.corpus import stopwords"
      ],
      "id": "6b7e22c497427904"
    },
    {
      "cell_type": "code",
      "execution_count": null,
      "metadata": {
        "id": "-UkVvrew2-aB"
      },
      "outputs": [],
      "source": [
        "import regex as re"
      ],
      "id": "-UkVvrew2-aB"
    },
    {
      "cell_type": "code",
      "execution_count": null,
      "metadata": {
        "id": "d01e8c336ae1c7bc"
      },
      "outputs": [],
      "source": [
        "nltk.download('stopwords')"
      ],
      "id": "d01e8c336ae1c7bc"
    },
    {
      "cell_type": "code",
      "execution_count": null,
      "metadata": {
        "id": "initial_id"
      },
      "outputs": [],
      "source": [
        "assets_dir = os.path.realpath(\"drive/MyDrive/Сертификат/news-dataset/assets/annotated-corpus\")\n",
        "train_dir = os.path.join(assets_dir, \"train\")"
      ],
      "id": "initial_id"
    },
    {
      "cell_type": "code",
      "execution_count": null,
      "metadata": {
        "id": "f88b913a1d3a0da2"
      },
      "outputs": [],
      "source": [
        "topics = os.listdir(train_dir)"
      ],
      "id": "f88b913a1d3a0da2"
    },
    {
      "cell_type": "code",
      "execution_count": null,
      "metadata": {
        "id": "vqqbiLa938TF"
      },
      "outputs": [],
      "source": [
        "!python3 --version"
      ],
      "id": "vqqbiLa938TF"
    },
    {
      "cell_type": "code",
      "execution_count": null,
      "metadata": {
        "id": "3jR0BGphC3lF"
      },
      "outputs": [],
      "source": [
        "import re\n",
        "import string"
      ],
      "id": "3jR0BGphC3lF"
    },
    {
      "cell_type": "code",
      "execution_count": null,
      "metadata": {
        "id": "X0NuKVHQ9PNE"
      },
      "outputs": [],
      "source": [],
      "id": "X0NuKVHQ9PNE"
    },
    {
      "cell_type": "code",
      "execution_count": null,
      "metadata": {
        "id": "yQjn2lMC9PJw"
      },
      "outputs": [],
      "source": [
        "sentences = []\n",
        "#for t in topics:\n",
        "#    workdir = os.path.join(train_dir, t)\n",
        "for filename in os.listdir(train_dir):\n",
        "    print(filename)\n",
        "    with open(os.path.join(train_dir, filename)) as f:\n",
        "        lines = \"\".join(f.readlines())\n",
        "        sentences_raw = lines.split(\"\\n\\n\")\n",
        "        #print(sentences_raw[0].split(\"\\n\")[:10])\n",
        "        #print(list(map(lambda x: x.split(\"\\t\")[1], sentences_raw[0].split(\"\\n\")[:10])))\n",
        "        #stems_raw = [word for word in list(map(lambda x: x.split(\"\\t\")[1], sentences_raw[0].split(\"\\n\")[:10])) if word not in string.punctuation]\n",
        "        #print(stems_raw)\n",
        "        #break\n",
        "        for s in sentences_raw:\n",
        "            words = s.split(\"\\n\")\n",
        "            if len(words) == 0 or words[0] == \"\":\n",
        "                continue\n",
        "            # падает на каких-то символах\n",
        "            #checkarr = {}\n",
        "            #for w in words:\n",
        "            #  if '\\t' not in w:\n",
        "            #    if w not in checkarr.keys():\n",
        "            #      checkarr[w] = 1\n",
        "            #    else:\n",
        "            #      checkarr[w] += 1\n",
        "            #    words.remove(w)\n",
        "            #print(checkarr)\n",
        "\n",
        "            stems_raw = []\n",
        "            lemmas = []\n",
        "            for i in range(len(words)):\n",
        "              if \"\\t\" not in words[i]:\n",
        "                continue\n",
        "              x = words[i].split(\"\\t\")\n",
        "              if len(x) < 3:\n",
        "                continue\n",
        "              if x[1] in string.punctuation:\n",
        "                continue\n",
        "              stems_raw.append(x[1])\n",
        "              lemmas.append(x[2])\n",
        "\n",
        "            #stems_raw = list(map(lambda x: x.split(\"\\t\")[1], words))\n",
        "            #stems_raw = [word for word in stems_raw if word not in string.punctuation]\n",
        "            #lemmas = list(map(lambda x: x.split(\"\\t\")[2], words))\n",
        "            #lemmas = [word for word in lemmas if word not in string.punctuation]\n",
        "            stems = []\n",
        "            for i in range(len(stems_raw)):\n",
        "                if lemmas[i] not in stopwords.words(\"english\"):\n",
        "                    stems.append(stems_raw[i])\n",
        "            sentences.append(stems)"
      ],
      "id": "yQjn2lMC9PJw"
    },
    {
      "cell_type": "code",
      "execution_count": null,
      "metadata": {
        "id": "d3QAEh-Sat7M"
      },
      "outputs": [],
      "source": [],
      "id": "d3QAEh-Sat7M"
    },
    {
      "cell_type": "code",
      "execution_count": null,
      "metadata": {
        "id": "TvnLPhqb9PHR"
      },
      "outputs": [],
      "source": [],
      "id": "TvnLPhqb9PHR"
    },
    {
      "cell_type": "code",
      "execution_count": null,
      "metadata": {
        "id": "1zP1erEw9PEj"
      },
      "outputs": [],
      "source": [
        "import re"
      ],
      "id": "1zP1erEw9PEj"
    },
    {
      "cell_type": "code",
      "execution_count": null,
      "metadata": {
        "id": "716f53f3263c0f0b"
      },
      "outputs": [],
      "source": [
        "ngram_length = 3"
      ],
      "id": "716f53f3263c0f0b"
    },
    {
      "cell_type": "code",
      "execution_count": null,
      "metadata": {
        "id": "6e821bc9b2cba3ef"
      },
      "outputs": [],
      "source": [
        "ngrams = []\n",
        "word_count = {}\n",
        "ngrams_count = {}\n",
        "for s in sentences:\n",
        "    counter = 0\n",
        "    for w in s:\n",
        "        if w not in word_count.keys():\n",
        "            word_count[w] = 0\n",
        "        word_count[w] += 1\n",
        "        counter += 1\n",
        "    if counter < ngram_length:\n",
        "        continue\n",
        "    for i in range(len(s) - ngram_length + 1):\n",
        "        ngram = tuple(s[i:i+ngram_length])\n",
        "        if ngram not in ngrams_count.keys():\n",
        "            ngrams_count[ngram] = 0\n",
        "        ngrams_count[ngram] += 1\n",
        "        ngrams.append(ngram)"
      ],
      "id": "6e821bc9b2cba3ef"
    },
    {
      "cell_type": "code",
      "execution_count": null,
      "metadata": {
        "id": "2f28dabe38244210"
      },
      "outputs": [],
      "source": [
        "len(ngrams)"
      ],
      "id": "2f28dabe38244210"
    },
    {
      "cell_type": "code",
      "execution_count": null,
      "metadata": {
        "id": "f57643e132e31aab"
      },
      "outputs": [],
      "source": [
        "sorted(word_count.items(), key=lambda x: -x[1])[:30]"
      ],
      "id": "f57643e132e31aab"
    },
    {
      "cell_type": "code",
      "execution_count": null,
      "metadata": {
        "id": "3c5c686dc4b8fe3f"
      },
      "outputs": [],
      "source": [
        "sorted(ngrams_count.items(), key=lambda x: -x[1])[:30]"
      ],
      "id": "3c5c686dc4b8fe3f"
    },
    {
      "cell_type": "code",
      "execution_count": null,
      "metadata": {
        "id": "7b1864dfd0a7f18a"
      },
      "outputs": [],
      "source": [
        "total_words = sum(word_count.values())"
      ],
      "id": "7b1864dfd0a7f18a"
    },
    {
      "cell_type": "code",
      "execution_count": null,
      "metadata": {
        "id": "fdab06b3666dc1e4"
      },
      "outputs": [],
      "source": [
        "total_words"
      ],
      "id": "fdab06b3666dc1e4"
    },
    {
      "cell_type": "code",
      "execution_count": null,
      "metadata": {
        "id": "7101b626930f67ac"
      },
      "outputs": [],
      "source": [
        "ngram_score = {}\n",
        "for ngram in set(ngrams):\n",
        "    count_mul_result = 1\n",
        "    for word in ngram:\n",
        "        count_mul_result *= word_count[word]\n",
        "    ngram_score[ngram] = (ngrams_count[ngram] - (count_mul_result / (total_words ** (ngram_length - 1)))) / sqrt(ngrams_count[ngram])"
      ],
      "id": "7101b626930f67ac"
    },
    {
      "cell_type": "code",
      "execution_count": null,
      "metadata": {
        "id": "93e0fb33255e5cd3"
      },
      "outputs": [],
      "source": [
        "sorted(ngram_score.items(), key=lambda x: -x[1])[0:30]"
      ],
      "id": "93e0fb33255e5cd3"
    },
    {
      "cell_type": "code",
      "execution_count": null,
      "metadata": {
        "id": "2a4cdf5ca193481f"
      },
      "outputs": [],
      "source": [
        "from nltk.collocations import  *\n",
        "from nltk import Text\n",
        "import nltk"
      ],
      "id": "2a4cdf5ca193481f"
    },
    {
      "cell_type": "code",
      "execution_count": null,
      "metadata": {
        "id": "30064e56d9e8a6e5"
      },
      "outputs": [],
      "source": [
        "text = []\n",
        "for s in sentences:\n",
        "    text += s"
      ],
      "id": "30064e56d9e8a6e5"
    },
    {
      "cell_type": "code",
      "execution_count": null,
      "metadata": {
        "id": "a2976f14789ad735"
      },
      "outputs": [],
      "source": [
        "finder = TrigramCollocationFinder.from_words(Text(text))"
      ],
      "id": "a2976f14789ad735"
    },
    {
      "cell_type": "code",
      "execution_count": null,
      "metadata": {
        "id": "76a1e33cb984604b"
      },
      "outputs": [],
      "source": [
        "finder.score_ngrams(nltk.collocations.TrigramAssocMeasures().student_t)[:30]"
      ],
      "id": "76a1e33cb984604b"
    },
    {
      "cell_type": "code",
      "execution_count": null,
      "metadata": {
        "id": "6ecab9001185041d"
      },
      "outputs": [],
      "source": [
        "a1 = '''[(('lt', 'b', 'gt'), 72.51082384317884), ('lt', 'b', 'gt'), 72.51082384317884),\n",
        " (('b', 'gt', 'lt'), 51.80559405991699),    (('b', 'gt', 'lt'), 51.80559405991699),\n",
        "\n",
        " (('gt', 'lt', 'b'), 50.584776129276506),  (('gt', 'lt', 'b'), 50.584776129276506),\n",
        " (('NEW', 'YORK', 'Reuters'), 46.71134502181235),  (('NEW', 'YORK', 'Reuters'), 46.71134502181235),\n",
        " (('lt', 'HREF', '\"\"\"\"'), 45.331352819825696),('lt', 'HREF', '\"\"\"\"'), 45.331352819825696),\n",
        " (('stocks', 'quickinfo', 'fullquote'), 42.57931237951692),('stocks', 'quickinfo', 'fullquote'), 42.57931237951692),\n",
        " (('target', 'stocks', 'quickinfo'), 42.579304233411754),(('target', 'stocks', 'quickinfo'), 42.579304233411754),\n",
        " (('quickinfo', 'fullquote', '\"\"\"\"'), 42.579240036339854), (('quickinfo', 'fullquote', '\"\"\"\"'), 42.579240036339854),\n",
        " (('fullquote', '\"\"\"\"', 'gt'), 42.57862866050717),('fullquote', '\"\"\"\"', 'gt'), 42.57862866050717),\n",
        " (('N', 'lt', 'gt'), 35.24072555353678), (('N', 'lt', 'gt'), 35.24072555353678)\n",
        " (('lt', 'p', 'gt'), 32.77119673405484),(('lt', 'p', 'gt'), 32.77119673405484),\n",
        " (('Quote', 'Profile', 'Research'), 31.953084929762625),('Quote', 'Profile', 'Research'), 31.9530849297626\n",
        " (('Inc', 'lt', 'HREF'), 29.444261513608797),(('Inc', 'lt', 'HREF'), 29.444261513608797),\n",
        " (('lt', 'B', 'gt'), 26.626377448542392),('lt', 'B', 'gt'), 26.626377448542392),\n",
        " (('N', 'Quote', 'Profile'), 23.727606217628082),(('N', 'Quote', 'Profile'), 23.727606217628082),\n",
        " (('p', 'gt', 'lt'), 23.172210423984303),('p', 'gt', 'lt'), 23.172210423984303),\n",
        " (('Corp.', 'lt', 'HREF'), 22.824864553848677),(('Corp.', 'lt', 'HREF'), 22.824864553848677),\n",
        " (('YORK', 'Reuters', 'U.S'), 22.713563905642545), 'YORK', 'Reuters', 'U.S'), 22.713563905642545),\n",
        " (('gt', 'lt', 'p'), 22.225015996155744), ('gt', 'lt', 'p'), 22.225015996155744),\n",
        " (('\"\"\"\"', 'gt', 'lt'), 21.967287185298904), (('\"\"\"\"', 'gt', 'lt'), 21.967287185298904),\n",
        " (('Boston', 'Red', 'Sox'), 21.908874631444363),(('Boston', 'Red', 'Sox'), 21.908874631444363),\n",
        " (('Press', 'Canadian', 'Press'), 21.236748022('Press', 'Canadian', 'Press'), 21.23674802239929),\n",
        " (('Press', 'Canadian', 'Press'), 21.23674802239929),('Canadian', 'Press', 'Canadian'), 21.23674481228819),\n",
        " (('Canadian', 'Press', 'Canadian'), 21.23674481228819),('world', '39', 'largest'), 21.02192180884219),\n",
        " (('world', '39', 'largest'), 21.02192180884219),\n",
        " (('gt', 'lt', 'FONT'), 20.59067848656859),\n",
        " (('New', 'York', 'Yankees'), 20.493799935976487),\n",
        " (('Serif', 'arial', 'helvetica'), 20.396077709129354),\n",
        " (('Sans', 'Serif', 'arial'), 20.396077700830272),\n",
        " (('verdana', 'MS', 'Sans'), 20.396077609895478),\n",
        " (('MS', 'Sans', 'Serif'), 20.396077609895478)]'''"
      ],
      "id": "6ecab9001185041d"
    }
  ],
  "metadata": {
    "colab": {
      "provenance": []
    },
    "kernelspec": {
      "display_name": "Python 3 (ipykernel)",
      "language": "python",
      "name": "python3"
    },
    "language_info": {
      "codemirror_mode": {
        "name": "ipython",
        "version": 3
      },
      "file_extension": ".py",
      "mimetype": "text/x-python",
      "name": "python",
      "nbconvert_exporter": "python",
      "pygments_lexer": "ipython3",
      "version": "3.10.12"
    }
  },
  "nbformat": 4,
  "nbformat_minor": 5
}