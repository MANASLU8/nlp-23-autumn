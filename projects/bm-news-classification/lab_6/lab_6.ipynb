{
  "cells": [
    {
      "cell_type": "code",
      "source": [
        "!pip install sentence_transformers"
      ],
      "metadata": {
        "id": "Nljr_QOTolpU"
      },
      "id": "Nljr_QOTolpU",
      "execution_count": null,
      "outputs": []
    },
    {
      "cell_type": "code",
      "source": [
        "!pip install chromadb"
      ],
      "metadata": {
        "id": "d_UCwJmyop9U"
      },
      "id": "d_UCwJmyop9U",
      "execution_count": null,
      "outputs": []
    },
    {
      "cell_type": "code",
      "source": [
        "from sentence_transformers import SentenceTransformer\n",
        "import chromadb\n",
        "\n",
        "\n",
        "class EmbeddingFunction:\n",
        "    def __init__(self):\n",
        "        self.model = SentenceTransformer('sentence-transformers/paraphrase-multilingual-mpnet-base-v2')\n",
        "\n",
        "    def __call__(self, input):\n",
        "        return self.model.encode(input).tolist()\n",
        "\n",
        "\n",
        "class DB:\n",
        "\n",
        "    def __init__(self, distance_function, root_path):\n",
        "        self.ef = EmbeddingFunction()\n",
        "        self.client = chromadb.PersistentClient(path=root_path)\n",
        "        self.distance_function = distance_function\n",
        "        assert distance_function in [\"l2\", \"ip\", \"cosine\"], \"Distance function should be 'l2' or 'ip' or 'cosine'\"\n",
        "        self.collection = self.client.get_or_create_collection(\"lab5_\" + self.distance_function,\n",
        "                                                               metadata={\"hnsw:space\": self.distance_function},\n",
        "                                                               embedding_function=self.ef)\n",
        "\n",
        "    def add(self, items):\n",
        "        old_batch = 0\n",
        "        new_batch = 1000\n",
        "        while True:\n",
        "            if new_batch > len(items[\"fragments\"]):\n",
        "                break\n",
        "            self.collection.add(\n",
        "                documents=items[\"fragments\"][old_batch:new_batch],\n",
        "                metadatas=items[\"metadata\"][old_batch:new_batch],\n",
        "                ids=items[\"ids\"][old_batch:new_batch])\n",
        "            old_batch = new_batch\n",
        "            new_batch += 1000\n",
        "        self.collection.add(\n",
        "            documents=items[\"fragments\"][old_batch:],\n",
        "            metadatas=items[\"metadata\"][old_batch:],\n",
        "            ids=items[\"ids\"][old_batch:])\n",
        "\n",
        "    def query(self, query, n_results):\n",
        "        return self.collection.query(query_embeddings=self.ef(query), n_results=n_results)\n",
        "\n",
        "    def clear(self):\n",
        "        self.client.delete_collection(\"lab5_\" + self.distance_function)\n",
        "        self.collection = self.client.get_or_create_collection(\"lab5_\" + self.distance_function,\n",
        "                                                               metadata={\"hnsw:space\": self.distance_function},\n",
        "                                                               embedding_function=self.ef)"
      ],
      "metadata": {
        "id": "R-7HqqlWodjc"
      },
      "id": "R-7HqqlWodjc",
      "execution_count": null,
      "outputs": []
    },
    {
      "cell_type": "code",
      "execution_count": null,
      "outputs": [],
      "source": [
        "database_l2 = DB(\"l2\", \"../lab_5/db\")"
      ],
      "metadata": {
        "id": "257d557bd839db6a"
      },
      "id": "257d557bd839db6a"
    },
    {
      "cell_type": "code",
      "outputs": [],
      "source": [
        "!pip install ctransformers\n",
        "!pip install tiktoken\n",
        "!pip install openai\n",
        "!pip install cohere\n",
        "!pip install kaleido\n",
        "!pip install gradio==3.48.0"
      ],
      "metadata": {
        "id": "fccf44e3f25fd456"
      },
      "id": "fccf44e3f25fd456",
      "execution_count": null
    },
    {
      "cell_type": "code",
      "outputs": [],
      "source": [
        "from ctransformers import AutoModelForCausalLM\n",
        "import gradio as gr"
      ],
      "metadata": {
        "id": "88b8c25e5cd69483"
      },
      "id": "88b8c25e5cd69483",
      "execution_count": null
    },
    {
      "cell_type": "code",
      "outputs": [],
      "source": [
        "llm = AutoModelForCausalLM.from_pretrained(\"TheBloke/Mistral-7B-OpenOrca-GGUF\",\n",
        "                                           model_file=\"mistral-7b-openorca.Q4_K_M.gguf\",\n",
        "                                           model_type=\"mistral\")"
      ],
      "metadata": {
        "id": "5e048e04b153eb02"
      },
      "id": "5e048e04b153eb02",
      "execution_count": null
    },
    {
      "cell_type": "code",
      "outputs": [],
      "source": [
        "def process_request(message, history):\n",
        "    context = \"\\n\".join(database_l2.query(message, 5)[\"documents\"][0])\n",
        "    prompt = \"Answer the question using provided context. Your answer should be in your own words and be no longer than 50 words.\\n\"\n",
        "    prompt += \"Context: \" + context + \"\\n\"\n",
        "    # prompt += f\"Previous chat history: {history}\"\n",
        "    prompt += \"Question: \" + message + \"\\n\"\n",
        "    prompt += \"Answer: \"\n",
        "    answer = llm(prompt)\n",
        "    return f\"{prompt}\\n\\n{answer}\""
      ],
      "metadata": {
        "id": "e655de6eb7d6c1c3"
      },
      "id": "e655de6eb7d6c1c3",
      "execution_count": null
    },
    {
      "cell_type": "markdown",
      "source": [
        "Список вопросов:\n",
        "1. Какова столица Франции?\n",
        "2. Какие цвета присутствуют на флаге США?\n",
        "3. Какой год начала Второй мировой войны?\n",
        "4. Кто написал \"Гарри Поттера\"?\n",
        "5. Как называется научная дисциплина, изучающая звезды и планеты?\n",
        "6. Сколько дней в году?\n",
        "7. Как называется самая высокая гора в мире?\n",
        "8. Кто изображен на американской десятидолларовой купюре?\n",
        "9. Как называется химический элемент с атомным номером 79?\n",
        "10. Какой континент является самым крупным по площади?"
      ],
      "metadata": {
        "collapsed": false,
        "id": "fc3b2ac093c3a147"
      },
      "id": "fc3b2ac093c3a147"
    },
    {
      "cell_type": "code",
      "outputs": [],
      "source": [
        "demo = gr.ChatInterface(fn=process_request, title=\"Chat bot\")"
      ],
      "metadata": {
        "id": "a11e7828725b04bc"
      },
      "id": "a11e7828725b04bc",
      "execution_count": null
    },
    {
      "cell_type": "code",
      "outputs": [],
      "source": [],
      "metadata": {
        "id": "2d86d254dc7851c4"
      },
      "id": "2d86d254dc7851c4",
      "execution_count": null
    }
  ],
  "metadata": {
    "kernelspec": {
      "name": "python3",
      "language": "python",
      "display_name": "Python 3 (ipykernel)"
    },
    "language_info": {
      "codemirror_mode": {
        "name": "ipython",
        "version": 2
      },
      "file_extension": ".py",
      "mimetype": "text/x-python",
      "name": "python",
      "nbconvert_exporter": "python",
      "pygments_lexer": "ipython2",
      "version": "2.7.6"
    },
    "colab": {
      "provenance": [],
      "gpuType": "T4"
    },
    "accelerator": "GPU"
  },
  "nbformat": 4,
  "nbformat_minor": 5
}