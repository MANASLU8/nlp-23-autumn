{
 "cells": [
  {
   "cell_type": "code",
   "execution_count": null,
   "outputs": [],
   "source": [
    "import json\n",
    "import pandas as pd\n",
    "import numpy as np\n",
    "import seaborn as sns\n",
    "import datetime\n",
    "from math import log10\n",
    "from gensim.models import Word2Vec\n",
    "from sklearn.decomposition import PCA\n",
    "import os\n",
    "import re\n",
    "from nltk import WordNetLemmatizer, SnowballStemmer\n",
    "from nltk.corpus import stopwords\n",
    "from common.utils import split_to_words, split_to_sentences"
   ],
   "metadata": {
    "collapsed": false
   },
   "id": "d7e35c2d93e3339d"
  },
  {
   "cell_type": "code",
   "execution_count": null,
   "outputs": [],
   "source": [
    "train_dir = os.path.realpath(\"../assets/annotated-corpus/train\")\n",
    "result_dir = os.path.realpath(\"../assets/wordcount/train\")"
   ],
   "metadata": {
    "collapsed": false
   },
   "id": "initial_id"
  },
  {
   "cell_type": "code",
   "execution_count": null,
   "outputs": [],
   "source": [
    "topics = os.listdir(train_dir)\n",
    "topics"
   ],
   "metadata": {
    "collapsed": false
   },
   "id": "2daf173c723b6ee9"
  },
  {
   "cell_type": "markdown",
   "source": [
    "# Task 1"
   ],
   "metadata": {
    "collapsed": false
   },
   "id": "2bd6102f8a656476"
  },
  {
   "cell_type": "code",
   "execution_count": null,
   "outputs": [],
   "source": [
    "def get_sentence_stems_processed(filepath):\n",
    "    sentences = []\n",
    "    pattern = r\"([A-Za-z]+[-.@]?)+\\w*\\.?\"\n",
    "    with open(filepath) as f:\n",
    "        lines = \"\".join(f.readlines())\n",
    "        sentences_raw = lines.split(\"\\n\\n\")\n",
    "        for sentence in sentences_raw:\n",
    "            stems = []\n",
    "            words = sentence.split(\"\\n\")\n",
    "            if len(words) == 0 or words[0] == \"\":\n",
    "                continue\n",
    "            stems_raw = list(map(lambda x: x.split(\"\\t\")[1], words))\n",
    "            lemmas = list(map(lambda x: x.split(\"\\t\")[2], words))\n",
    "            for i in range(len(stems_raw)):\n",
    "                if lemmas[i] not in stopwords.words(\"english\") and re.match(pattern, lemmas[i]) is not None:\n",
    "                    stems.append(stems_raw[i])\n",
    "            sentences.append(stems)\n",
    "    return sentences"
   ],
   "metadata": {
    "collapsed": false
   },
   "id": "2559dc3e03ad4875"
  },
  {
   "cell_type": "code",
   "execution_count": null,
   "outputs": [],
   "source": [
    "def count_words_in_sentences(sentences, count_by_sentences=False):\n",
    "    word_count = {}\n",
    "    sentences_count = []\n",
    "    for sentence in sentences:\n",
    "        wbs_count = {}\n",
    "        for word in sentence:\n",
    "            if word not in wbs_count.keys():\n",
    "                wbs_count[word] = 0\n",
    "            wbs_count[word] += 1\n",
    "            if word not in word_count.keys():\n",
    "                word_count[word] = 0\n",
    "            word_count[word] += 1\n",
    "        sentences_count.append(wbs_count)\n",
    "    return sentences_count if count_by_sentences else word_count"
   ],
   "metadata": {
    "collapsed": false
   },
   "id": "d5021cd9226debb6"
  },
  {
   "cell_type": "code",
   "execution_count": null,
   "outputs": [],
   "source": [
    "all_documents = []\n",
    "word_dict_raw = {}\n",
    "counter = 0\n",
    "total_len = 0\n",
    "for topic in topics:\n",
    "    total_len += len(os.listdir(os.path.join(train_dir, topic)))\n",
    "print(f\"Total files for process: {total_len}\")\n",
    "\n",
    "for topic in topics:\n",
    "    workdir = os.path.join(train_dir, topic)\n",
    "    start_time = datetime.datetime.now()\n",
    "    for filename in os.listdir(workdir):\n",
    "        stems = get_sentence_stems_processed(os.path.join(workdir, filename))\n",
    "        all_documents.append(stems)\n",
    "        counts = count_words_in_sentences(stems)\n",
    "        for word in counts.keys():\n",
    "            if word not in word_dict_raw.keys():\n",
    "                word_dict_raw[word] = 0\n",
    "            word_dict_raw[word] += counts[word]\n",
    "        counter += 1\n",
    "        if counter % 1000 == 0:\n",
    "            print(f\"Processed {counter} files. 1000 files per: {(datetime.datetime.now() - start_time).total_seconds()}s\")\n",
    "            start_time = datetime.datetime.now()"
   ],
   "metadata": {
    "collapsed": false
   },
   "id": "b110b36a52c8306e"
  },
  {
   "cell_type": "code",
   "execution_count": null,
   "outputs": [],
   "source": [
    "word_dict = dict(word_dict_raw)\n",
    "\n",
    "for word in word_dict_raw.keys():\n",
    "    if word_dict_raw[word] < 3:\n",
    "        del word_dict[word]"
   ],
   "metadata": {
    "collapsed": false
   },
   "id": "8f0bb900731d4150"
  },
  {
   "cell_type": "code",
   "execution_count": null,
   "outputs": [],
   "source": [
    "if not os.path.isdir(result_dir):\n",
    "    os.makedirs(result_dir, exist_ok=True)\n",
    "with open(os.path.join(result_dir, \"dictionary.json\"), \"w\") as f:\n",
    "    json.dump(word_dict, f, indent=1)"
   ],
   "metadata": {
    "collapsed": false
   },
   "id": "d43163f1a726311"
  },
  {
   "cell_type": "code",
   "execution_count": null,
   "outputs": [],
   "source": [
    "doc_names = []\n",
    "matrix_arr = []\n",
    "cnt = 0\n",
    "for topic in topics:\n",
    "    workdir = os.path.join(train_dir, topic)\n",
    "    start_time = datetime.datetime.now()\n",
    "    for filename in os.listdir(workdir):\n",
    "        doc_names.append(topic + \"/\" + filename)\n",
    "        stems = get_sentence_stems_processed(os.path.join(workdir, filename))\n",
    "        counts = count_words_in_sentences(stems)\n",
    "        vec = []\n",
    "        for word in word_dict.keys():\n",
    "            if word in counts.keys():\n",
    "                vec.append(counts[word])\n",
    "            else:\n",
    "                vec.append(0)\n",
    "        matrix_arr.append(vec)\n",
    "        if sum(vec) == 0:\n",
    "            print(\"Zero vector for document\", filename)\n",
    "        cnt += 1\n",
    "        if cnt % 1000 == 0:\n",
    "            print(f\"Processed {cnt} files. 1000 Files Per: {(datetime.datetime.now() - start_time).total_seconds()}s\")\n",
    "            start_time = datetime.datetime.now()"
   ],
   "metadata": {
    "collapsed": false
   },
   "id": "cf8dd1e55e8e274e"
  },
  {
   "cell_type": "code",
   "outputs": [],
   "source": [
    "m_len = len(matrix_arr)\n",
    "m_1 = pd.DataFrame(matrix_arr[:int(m_len/4)])\n",
    "m_1.columns = word_dict.keys()\n",
    "m_1.index = doc_names[:int(m_len/4)]"
   ],
   "metadata": {
    "collapsed": false
   },
   "id": "68394bfd9a6a1ed7",
   "execution_count": null
  },
  {
   "cell_type": "code",
   "execution_count": null,
   "outputs": [],
   "source": [
    "m_1.to_csv(os.path.join(result_dir, \"term-document.csv\"))"
   ],
   "metadata": {
    "collapsed": false
   },
   "id": "63773b3839593cc8"
  },
  {
   "cell_type": "code",
   "execution_count": null,
   "outputs": [],
   "source": [
    "# m_len = len(matrix_arr)\n",
    "# m_1 = pd.DataFrame(matrix_arr[int(3*m_len/4):])\n",
    "# m_1.columns = word_dict.keys()\n",
    "# m_1.index = doc_names[int(3*m_len/4):]\n",
    "# m_1.to_csv(os.path.join(result_dir, \"term-document.csv\"), mode=\"a\", header=False)"
   ],
   "metadata": {
    "collapsed": false
   },
   "id": "88365367453b4408"
  },
  {
   "cell_type": "code",
   "execution_count": null,
   "outputs": [],
   "source": [
    "# matrix = pd.DataFrame(matrix_arr)\n",
    "# matrix.columns = word_dict.keys()\n",
    "# matrix.index = doc_names"
   ],
   "metadata": {
    "collapsed": false
   },
   "id": "36106ec70f48c833"
  },
  {
   "cell_type": "code",
   "execution_count": null,
   "outputs": [],
   "source": [
    "# matrix.to_csv(os.path.join(result_dir, \"term-document.csv\"))"
   ],
   "metadata": {
    "collapsed": false
   },
   "id": "6702d77768a1421"
  },
  {
   "cell_type": "markdown",
   "source": [
    "# Task 2"
   ],
   "metadata": {
    "collapsed": false
   },
   "id": "64b6976a8b02fb23"
  },
  {
   "cell_type": "code",
   "execution_count": null,
   "outputs": [],
   "source": [
    "def tf_idf(words, matrix):\n",
    "    total_words = sum(words.values())\n",
    "    total_documents = len(matrix.index)\n",
    "    result = []\n",
    "    for w in matrix.columns:\n",
    "        if w not in words:\n",
    "            result.append(0.0)\n",
    "            continue\n",
    "        t_f = words[w] / total_words\n",
    "        d_f = sum(matrix[w] > 0)\n",
    "        tfidf = t_f * (log10(total_documents + 1) - log10(d_f + 1))\n",
    "        result.append(tfidf)\n",
    "    return result"
   ],
   "metadata": {
    "collapsed": false
   },
   "id": "51d9dcb672e6d68"
  },
  {
   "cell_type": "code",
   "execution_count": null,
   "outputs": [],
   "source": [
    "def preprocess_text(text, by_sentences=False):\n",
    "    stemmer = SnowballStemmer(\"english\")\n",
    "    lemmatizer = WordNetLemmatizer()\n",
    "    sentences = split_to_sentences(text)\n",
    "    result = []\n",
    "    for s in sentences:\n",
    "        sentence = []\n",
    "        for w in split_to_words(s):\n",
    "            w_processed = re.sub(r\"[.!?,]$\", \"\", w).lower()\n",
    "            if lemmatizer.lemmatize(w_processed) not in stopwords.words(\"english\"):\n",
    "                sentence.append(stemmer.stem(w_processed))\n",
    "        if by_sentences:\n",
    "            result.append(sentence)\n",
    "        else:\n",
    "            result += sentence\n",
    "    return result"
   ],
   "metadata": {
    "collapsed": false
   },
   "id": "2aa70e8abb5a96a6"
  },
  {
   "cell_type": "code",
   "execution_count": null,
   "outputs": [],
   "source": [
    "def vectorize_tf_idf(text, matrix):\n",
    "    preprocessed = preprocess_text(text)\n",
    "    text_dict = count_words_in_sentences([preprocessed])\n",
    "    return tf_idf(text_dict, matrix)"
   ],
   "metadata": {
    "collapsed": false
   },
   "id": "3cb7fdae298659b2"
  },
  {
   "cell_type": "code",
   "execution_count": null,
   "outputs": [],
   "source": [
    "matrix = pd.read_csv(os.path.join(result_dir, \"term-document.csv\"), index_col=0)"
   ],
   "metadata": {
    "collapsed": false
   },
   "id": "9cd35ecb4b091b81"
  },
  {
   "cell_type": "code",
   "outputs": [],
   "source": [
    "matrix = m_1"
   ],
   "metadata": {
    "collapsed": false
   },
   "id": "4804b42c64cbb85f",
   "execution_count": null
  },
  {
   "cell_type": "code",
   "execution_count": null,
   "outputs": [],
   "source": [
    "t1 = \"\"\"Evolution Designs sell the \"Darwin fish\".  It's a fish symbol, like the ones\n",
    "Christians stick on their cars, but with feet and the word \"Darwin\" written\n",
    "inside.  The deluxe moulded 3D plastic fish is $4.95 postpaid in the US.\"\"\""
   ],
   "metadata": {
    "collapsed": false
   },
   "id": "bd61b3172b8d9297"
  },
  {
   "cell_type": "code",
   "execution_count": null,
   "outputs": [],
   "source": [
    "t2 = \"\"\"A story based on the premise that the US Congress is mysteriously\n",
    "assassinated, and fundamentalists quickly take charge of the nation to set it\n",
    "\"right\" again.  The book is the diary of a woman's life as she tries to live\n",
    "under the new Christian theocracy.  Women's right to own property is revoked,\n",
    "and their bank accounts are closed; sinful luxuries are outlawed, and the\n",
    "radio is only used for readings from the Bible.  Crimes are punished\n",
    "retroactively: doctors who performed legal abortions in the \"old world\" are\n",
    "hunted down and hanged.  Atwood's writing style is difficult to get used to\n",
    "at first, but the tale grows more and more chilling as it goes on.\"\"\""
   ],
   "metadata": {
    "collapsed": false
   },
   "id": "838f6dd06cf84563"
  },
  {
   "cell_type": "code",
   "execution_count": null,
   "outputs": [],
   "source": [
    "vectorize_tf_idf(t1, matrix)[:100]"
   ],
   "metadata": {
    "collapsed": false
   },
   "id": "a4ca8f51c13acdee"
  },
  {
   "cell_type": "code",
   "execution_count": null,
   "outputs": [],
   "source": [
    "vectorize_tf_idf(t2, matrix)[:100]"
   ],
   "metadata": {
    "collapsed": false
   },
   "id": "38f0fd44777bb3df"
  },
  {
   "cell_type": "markdown",
   "source": [
    "# Task 3"
   ],
   "metadata": {
    "collapsed": false
   },
   "id": "9679d9c138a81573"
  },
  {
   "cell_type": "code",
   "execution_count": null,
   "outputs": [],
   "source": [
    "w2v = Word2Vec(sentences=[sentence for document in all_documents for sentence in document], epochs=40)\n",
    "w2v.save(os.path.join(train_dir, \"..\", \"w2v_weights\"))"
   ],
   "metadata": {
    "collapsed": false
   },
   "id": "f6a868997f2a78cc"
  },
  {
   "cell_type": "code",
   "execution_count": null,
   "outputs": [],
   "source": [
    "w2v.wv.most_similar(\"christian\")"
   ],
   "metadata": {
    "collapsed": false
   },
   "id": "2ce14f862dcbacbd"
  },
  {
   "cell_type": "markdown",
   "source": [
    "# Task 4"
   ],
   "metadata": {
    "collapsed": false
   },
   "id": "59cceb592e3bfd59"
  },
  {
   "cell_type": "code",
   "execution_count": null,
   "outputs": [],
   "source": [
    "def cosine_similarity(a, b):\n",
    "    return np.dot(a, b) / (np.linalg.norm(a) * np.linalg.norm(b))"
   ],
   "metadata": {
    "collapsed": false
   },
   "id": "6644db1b68e6d284"
  },
  {
   "cell_type": "code",
   "execution_count": null,
   "outputs": [],
   "source": [
    "cosine_similarity(w2v.wv[\"christian\"], w2v.wv[\"politician\"])"
   ],
   "metadata": {
    "collapsed": false
   },
   "id": "44368cd7f4aec1a0"
  },
  {
   "cell_type": "code",
   "execution_count": null,
   "outputs": [],
   "source": [
    "def draw_words(terms, vectors_source):\n",
    "    pca = PCA(n_components=2)\n",
    "    vectors_2d = pd.DataFrame(pca.fit_transform([vectors_source[term] for term in terms]))\n",
    "    vectors_2d.index = terms\n",
    "    vectors_2d.columns = [\"x\", \"y\"]\n",
    "    p = sns.scatterplot(data=vectors_2d, x=\"x\", y=\"y\")\n",
    "\n",
    "    for i in vectors_2d.index:\n",
    "        item = vectors_2d.loc[i]\n",
    "        p.text(item.x, item.y, i)\n",
    "    return p"
   ],
   "metadata": {
    "collapsed": false
   },
   "id": "c1e9b4f634e29e44"
  },
  {
   "cell_type": "code",
   "execution_count": null,
   "outputs": [],
   "source": [
    "terms_to_check = [\"christian\", \"muslim\", \"islam\", \"time\", \"world\", \"true\",\n",
    "                  \"wrong\", \"human\", \"person\", \"tell\", \"see\", \"opinion\", \"think\", \"view\", \"religion\"]\n",
    "draw_words(terms_to_check, w2v.wv)"
   ],
   "metadata": {
    "collapsed": false
   },
   "id": "99ad3a591c7a4730"
  },
  {
   "cell_type": "markdown",
   "source": [
    "# Task 5"
   ],
   "metadata": {
    "collapsed": false
   },
   "id": "29b07d34084b3df5"
  },
  {
   "cell_type": "code",
   "execution_count": null,
   "outputs": [],
   "source": [
    "def transform_to_compare(vectors):\n",
    "    pca = PCA(n_components=len(w2v.wv[0]))\n",
    "    transformed = pca.fit_transform(vectors)\n",
    "    return transformed"
   ],
   "metadata": {
    "collapsed": false
   },
   "id": "292ffa81a7262ea1"
  },
  {
   "cell_type": "code",
   "execution_count": null,
   "outputs": [],
   "source": [
    "terms_vectorized = [vectorize_tf_idf(i, matrix) for i in matrix.columns]"
   ],
   "metadata": {
    "collapsed": false
   },
   "id": "6b2500ff8a80d19c"
  },
  {
   "cell_type": "markdown",
   "source": [
    "# Task 6"
   ],
   "metadata": {
    "collapsed": false
   },
   "id": "2220719f794f1158"
  },
  {
   "cell_type": "code",
   "execution_count": null,
   "outputs": [],
   "source": [
    "to_cmp = transform_to_compare(terms_vectorized)"
   ],
   "metadata": {
    "collapsed": false
   },
   "id": "11173fe88a13984d"
  },
  {
   "cell_type": "code",
   "execution_count": null,
   "outputs": [],
   "source": [
    "terms_to_compare = pd.DataFrame(to_cmp)\n",
    "terms_to_compare.index = matrix.columns"
   ],
   "metadata": {
    "collapsed": false
   },
   "id": "c879f31ce86d9db6"
  },
  {
   "cell_type": "code",
   "execution_count": null,
   "outputs": [],
   "source": [
    "def compare_methods(w1, w2):\n",
    "    print(\"Results for words\", w1, \"and\", w2)\n",
    "    print(\"W2V:\", cosine_similarity(w2v.wv[w1], w2v.wv[w2]))\n",
    "    print(\"Tf-Idf:\", cosine_similarity(terms_to_compare.loc[w1], terms_to_compare.loc[w2]))\n",
    "    print()"
   ],
   "metadata": {
    "collapsed": false
   },
   "id": "7391dc72628e98c0"
  },
  {
   "cell_type": "code",
   "execution_count": null,
   "outputs": [],
   "source": [
    "compare_methods(\"time\", \"muslim\")\n",
    "compare_methods(\"say\", \"tell\")\n",
    "compare_methods(\"person\", \"time\")"
   ],
   "metadata": {
    "collapsed": false
   },
   "id": "2f39e2a38b956be5"
  },
  {
   "cell_type": "code",
   "execution_count": null,
   "outputs": [],
   "source": [
    "tfidf_data = {}\n",
    "for i in range(len(matrix.columns)):\n",
    "    tfidf_data[matrix.columns[i]] = terms_vectorized[i]"
   ],
   "metadata": {
    "collapsed": false
   },
   "id": "a59991ba89e138f4"
  },
  {
   "cell_type": "code",
   "execution_count": null,
   "outputs": [],
   "source": [
    "draw_words(terms_to_check, tfidf_data)"
   ],
   "metadata": {
    "collapsed": false
   },
   "id": "97b13c3080846ab6"
  },
  {
   "cell_type": "markdown",
   "source": [
    "# Task 7"
   ],
   "metadata": {
    "collapsed": false
   },
   "id": "1f88a9abe5f5cb37"
  },
  {
   "cell_type": "code",
   "execution_count": null,
   "outputs": [],
   "source": [
    "def vectorize(sentences, w2v):\n",
    "    result_vec = np.zeros(w2v.vector_size)\n",
    "    for s in sentences:\n",
    "        sentence_vec = np.zeros(w2v.vector_size)\n",
    "        for w in s:\n",
    "            if w2v.wv.has_index_for(w):\n",
    "                sentence_vec += w2v.wv[w]\n",
    "        sentence_vec = sentence_vec / len(s) if len(s) > 0 else np.zeros(w2v.vector_size)\n",
    "        result_vec += sentence_vec\n",
    "    result_vec = result_vec / len(sentences) if len(sentences) > 0 else np.zeros(w2v.vector_size)\n",
    "    return result_vec"
   ],
   "metadata": {
    "collapsed": false
   },
   "id": "80826ce08ee5a6d3"
  },
  {
   "cell_type": "code",
   "execution_count": null,
   "outputs": [],
   "source": [
    "preprocess_text(t1, True)"
   ],
   "metadata": {
    "collapsed": false
   },
   "id": "9375749ba3399b2b"
  },
  {
   "cell_type": "code",
   "execution_count": null,
   "outputs": [],
   "source": [
    "vectorize(preprocess_text(t1, True), w2v)"
   ],
   "metadata": {
    "collapsed": false
   },
   "id": "c16ddc9ebaeb5f86"
  },
  {
   "cell_type": "markdown",
   "source": [
    " # Task 8"
   ],
   "metadata": {
    "collapsed": false
   },
   "id": "1589de74e0bde7d6"
  },
  {
   "cell_type": "code",
   "execution_count": null,
   "outputs": [],
   "source": [
    "w2v = Word2Vec.load(os.path.join(train_dir, \"..\", \"w2v_weights\"))\n",
    "vectorized_documents = {}\n",
    "for topic in topics:\n",
    "    workdir = os.path.join(train_dir, topic)\n",
    "    for filename in os.listdir(workdir):\n",
    "        stems = get_sentence_stems_processed(os.path.join(workdir, filename))\n",
    "        vectorized_documents[os.path.join(topic, filename)] = vectorize(stems, w2v)"
   ],
   "metadata": {
    "collapsed": false
   },
   "id": "e3c2237e03de079b"
  },
  {
   "cell_type": "code",
   "execution_count": null,
   "outputs": [],
   "source": [
    "with open(os.path.join(train_dir, \"..\", \"train_embeddings.tsv\"), \"w\") as f:\n",
    "    for k in vectorized_documents.keys():\n",
    "        print(k.replace(\".tsv\", \"\"), *vectorized_documents[k], sep=\"\\t\", file=f)"
   ],
   "metadata": {
    "collapsed": false
   },
   "id": "d29a38f81b9629f6"
  },
  {
   "cell_type": "code",
   "execution_count": null,
   "outputs": [],
   "source": [
    "test_dir = os.path.realpath(\"../assets/annotated-corpus/test\")\n",
    "vectorized_documents = {}\n",
    "for topic in topics:\n",
    "    workdir = os.path.join(test_dir, topic)\n",
    "    for filename in os.listdir(workdir):\n",
    "        stems = get_sentence_stems_processed(os.path.join(workdir, filename))\n",
    "        vectorized_documents[os.path.join(topic, filename)] = vectorize(stems, w2v)"
   ],
   "metadata": {
    "collapsed": false
   },
   "id": "d8d2e4746877d67"
  },
  {
   "cell_type": "code",
   "execution_count": null,
   "outputs": [],
   "source": [
    "with open(os.path.join(train_dir, \"..\", \"test_embeddings.tsv\"), \"w\") as f:\n",
    "    for k in vectorized_documents.keys():\n",
    "        print(k.replace(\".tsv\", \"\"), *vectorized_documents[k], sep=\"\\t\", file=f)"
   ],
   "metadata": {
    "collapsed": false
   },
   "id": "ec4d0303f4a39ce"
  },
  {
   "cell_type": "code",
   "execution_count": null,
   "outputs": [],
   "source": [],
   "metadata": {
    "collapsed": false
   },
   "id": "ea53bc8382ae3f7b"
  }
 ],
 "metadata": {
  "kernelspec": {
   "display_name": "Python 3",
   "language": "python",
   "name": "python3"
  },
  "language_info": {
   "codemirror_mode": {
    "name": "ipython",
    "version": 2
   },
   "file_extension": ".py",
   "mimetype": "text/x-python",
   "name": "python",
   "nbconvert_exporter": "python",
   "pygments_lexer": "ipython2",
   "version": "2.7.6"
  }
 },
 "nbformat": 4,
 "nbformat_minor": 5
}
