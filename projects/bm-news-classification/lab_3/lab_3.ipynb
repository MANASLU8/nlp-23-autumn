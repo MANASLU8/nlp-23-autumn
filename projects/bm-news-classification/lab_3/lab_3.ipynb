{
 "cells": [
  {
   "cell_type": "code",
   "execution_count": 1,
   "outputs": [],
   "source": [
    "import json\n",
    "import pandas as pd\n",
    "import numpy as np\n",
    "import seaborn as sns\n",
    "import datetime\n",
    "from math import log10\n",
    "from gensim.models import Word2Vec\n",
    "from sklearn.decomposition import PCA\n",
    "import os\n",
    "import re\n",
    "from nltk import WordNetLemmatizer, SnowballStemmer\n",
    "from nltk.corpus import stopwords\n",
    "from common.utils import split_to_words, split_to_sentences"
   ],
   "metadata": {
    "collapsed": false,
    "ExecuteTime": {
     "end_time": "2024-01-17T12:54:00.907935026Z",
     "start_time": "2024-01-17T12:54:00.532487382Z"
    }
   },
   "id": "d7e35c2d93e3339d"
  },
  {
   "cell_type": "code",
   "execution_count": 2,
   "outputs": [],
   "source": [
    "train_dir = os.path.realpath(\"../assets/annotated-corpus/train\")\n",
    "result_dir = os.path.realpath(\"../assets/wordcount/train\")"
   ],
   "metadata": {
    "collapsed": false,
    "ExecuteTime": {
     "end_time": "2024-01-17T12:54:00.912932516Z",
     "start_time": "2024-01-17T12:54:00.908165844Z"
    }
   },
   "id": "initial_id"
  },
  {
   "cell_type": "code",
   "execution_count": 3,
   "outputs": [
    {
     "data": {
      "text/plain": "['4', '3', '1', '2']"
     },
     "execution_count": 3,
     "metadata": {},
     "output_type": "execute_result"
    }
   ],
   "source": [
    "topics = os.listdir(train_dir)\n",
    "topics"
   ],
   "metadata": {
    "collapsed": false,
    "ExecuteTime": {
     "end_time": "2024-01-17T12:54:00.963848932Z",
     "start_time": "2024-01-17T12:54:00.911652438Z"
    }
   },
   "id": "2daf173c723b6ee9"
  },
  {
   "cell_type": "markdown",
   "source": [
    "# Task 1"
   ],
   "metadata": {
    "collapsed": false
   },
   "id": "2bd6102f8a656476"
  },
  {
   "cell_type": "code",
   "execution_count": 4,
   "outputs": [],
   "source": [
    "def get_sentence_stems_processed(filepath):\n",
    "    sentences = []\n",
    "    pattern = r\"([A-Za-z]+[-.@]?)+\\w*\\.?\"\n",
    "    with open(filepath) as f:\n",
    "        lines = \"\".join(f.readlines())\n",
    "        sentences_raw = lines.split(\"\\n\\n\")\n",
    "        for sentence in sentences_raw:\n",
    "            stems = []\n",
    "            words = sentence.split(\"\\n\")\n",
    "            if len(words) == 0 or words[0] == \"\":\n",
    "                continue\n",
    "            stems_raw = list(map(lambda x: x.split(\"\\t\")[1], words))\n",
    "            lemmas = list(map(lambda x: x.split(\"\\t\")[2], words))\n",
    "            for i in range(len(stems_raw)):\n",
    "                if lemmas[i] not in stopwords.words(\"english\") and re.match(pattern, lemmas[i]) is not None:\n",
    "                    stems.append(stems_raw[i])\n",
    "            sentences.append(stems)\n",
    "    return sentences"
   ],
   "metadata": {
    "collapsed": false,
    "ExecuteTime": {
     "end_time": "2024-01-17T12:54:00.965903108Z",
     "start_time": "2024-01-17T12:54:00.956829898Z"
    }
   },
   "id": "2559dc3e03ad4875"
  },
  {
   "cell_type": "code",
   "execution_count": 5,
   "outputs": [],
   "source": [
    "def count_words_in_sentences(sentences, count_by_sentences=False):\n",
    "    word_count = {}\n",
    "    sentences_count = []\n",
    "    for sentence in sentences:\n",
    "        wbs_count = {}\n",
    "        for word in sentence:\n",
    "            if word not in wbs_count.keys():\n",
    "                wbs_count[word] = 0\n",
    "            wbs_count[word] += 1\n",
    "            if word not in word_count.keys():\n",
    "                word_count[word] = 0\n",
    "            word_count[word] += 1\n",
    "        sentences_count.append(wbs_count)\n",
    "    return sentences_count if count_by_sentences else word_count"
   ],
   "metadata": {
    "collapsed": false,
    "ExecuteTime": {
     "end_time": "2024-01-17T12:54:00.967818932Z",
     "start_time": "2024-01-17T12:54:00.957248853Z"
    }
   },
   "id": "d5021cd9226debb6"
  },
  {
   "cell_type": "code",
   "execution_count": 6,
   "outputs": [
    {
     "name": "stdout",
     "output_type": "stream",
     "text": [
      "Total files for process: 120000\n",
      "Processed 1000 files. 1000 files per: 2.222817s\n",
      "Processed 2000 files. 1000 files per: 2.24552s\n",
      "Processed 3000 files. 1000 files per: 2.206166s\n",
      "Processed 4000 files. 1000 files per: 2.26358s\n",
      "Processed 5000 files. 1000 files per: 2.279962s\n",
      "Processed 6000 files. 1000 files per: 2.25972s\n",
      "Processed 7000 files. 1000 files per: 2.235664s\n",
      "Processed 8000 files. 1000 files per: 2.222988s\n",
      "Processed 9000 files. 1000 files per: 2.283344s\n",
      "Processed 10000 files. 1000 files per: 2.206858s\n",
      "Processed 11000 files. 1000 files per: 2.20775s\n",
      "Processed 12000 files. 1000 files per: 2.277648s\n",
      "Processed 13000 files. 1000 files per: 2.202845s\n",
      "Processed 14000 files. 1000 files per: 2.272038s\n",
      "Processed 15000 files. 1000 files per: 2.228991s\n",
      "Processed 16000 files. 1000 files per: 2.260327s\n",
      "Processed 17000 files. 1000 files per: 2.193258s\n",
      "Processed 18000 files. 1000 files per: 2.195531s\n",
      "Processed 19000 files. 1000 files per: 2.219582s\n",
      "Processed 20000 files. 1000 files per: 2.247261s\n",
      "Processed 21000 files. 1000 files per: 2.278381s\n",
      "Processed 22000 files. 1000 files per: 2.220576s\n",
      "Processed 23000 files. 1000 files per: 2.254525s\n",
      "Processed 24000 files. 1000 files per: 2.242152s\n",
      "Processed 25000 files. 1000 files per: 2.261844s\n",
      "Processed 26000 files. 1000 files per: 2.275718s\n",
      "Processed 27000 files. 1000 files per: 2.288952s\n",
      "Processed 28000 files. 1000 files per: 2.249674s\n",
      "Processed 29000 files. 1000 files per: 2.25092s\n",
      "Processed 30000 files. 1000 files per: 2.235857s\n",
      "Processed 31000 files. 1000 files per: 2.29849s\n",
      "Processed 32000 files. 1000 files per: 2.347873s\n",
      "Processed 33000 files. 1000 files per: 2.310979s\n",
      "Processed 34000 files. 1000 files per: 2.299118s\n",
      "Processed 35000 files. 1000 files per: 2.287952s\n",
      "Processed 36000 files. 1000 files per: 2.278103s\n",
      "Processed 37000 files. 1000 files per: 2.308289s\n",
      "Processed 38000 files. 1000 files per: 2.383872s\n",
      "Processed 39000 files. 1000 files per: 2.260747s\n",
      "Processed 40000 files. 1000 files per: 2.30704s\n",
      "Processed 41000 files. 1000 files per: 2.299367s\n",
      "Processed 42000 files. 1000 files per: 2.322985s\n",
      "Processed 43000 files. 1000 files per: 2.354494s\n",
      "Processed 44000 files. 1000 files per: 2.341628s\n",
      "Processed 45000 files. 1000 files per: 2.346309s\n",
      "Processed 46000 files. 1000 files per: 2.303755s\n",
      "Processed 47000 files. 1000 files per: 2.370864s\n",
      "Processed 48000 files. 1000 files per: 2.345466s\n",
      "Processed 49000 files. 1000 files per: 2.334525s\n",
      "Processed 50000 files. 1000 files per: 2.318243s\n",
      "Processed 51000 files. 1000 files per: 2.360924s\n",
      "Processed 52000 files. 1000 files per: 2.336088s\n",
      "Processed 53000 files. 1000 files per: 2.324966s\n",
      "Processed 54000 files. 1000 files per: 2.419917s\n",
      "Processed 55000 files. 1000 files per: 2.327515s\n",
      "Processed 56000 files. 1000 files per: 2.545387s\n",
      "Processed 57000 files. 1000 files per: 2.294192s\n",
      "Processed 58000 files. 1000 files per: 2.298297s\n",
      "Processed 59000 files. 1000 files per: 2.318993s\n",
      "Processed 60000 files. 1000 files per: 2.390182s\n",
      "Processed 61000 files. 1000 files per: 2.270211s\n",
      "Processed 62000 files. 1000 files per: 2.282696s\n",
      "Processed 63000 files. 1000 files per: 2.246425s\n",
      "Processed 64000 files. 1000 files per: 2.285451s\n",
      "Processed 65000 files. 1000 files per: 2.275744s\n",
      "Processed 66000 files. 1000 files per: 2.294658s\n",
      "Processed 67000 files. 1000 files per: 2.303182s\n",
      "Processed 68000 files. 1000 files per: 2.448276s\n",
      "Processed 69000 files. 1000 files per: 2.301228s\n",
      "Processed 70000 files. 1000 files per: 2.307189s\n",
      "Processed 71000 files. 1000 files per: 2.291006s\n",
      "Processed 72000 files. 1000 files per: 2.45655s\n",
      "Processed 73000 files. 1000 files per: 2.358649s\n",
      "Processed 74000 files. 1000 files per: 2.30475s\n",
      "Processed 75000 files. 1000 files per: 2.288521s\n",
      "Processed 76000 files. 1000 files per: 2.300089s\n",
      "Processed 77000 files. 1000 files per: 2.306418s\n",
      "Processed 78000 files. 1000 files per: 2.285256s\n",
      "Processed 79000 files. 1000 files per: 2.297849s\n",
      "Processed 80000 files. 1000 files per: 2.282592s\n",
      "Processed 81000 files. 1000 files per: 2.47395s\n",
      "Processed 82000 files. 1000 files per: 2.319408s\n",
      "Processed 83000 files. 1000 files per: 2.263007s\n",
      "Processed 84000 files. 1000 files per: 2.335645s\n",
      "Processed 85000 files. 1000 files per: 2.326068s\n",
      "Processed 86000 files. 1000 files per: 2.299286s\n",
      "Processed 87000 files. 1000 files per: 2.314305s\n",
      "Processed 88000 files. 1000 files per: 2.316766s\n",
      "Processed 89000 files. 1000 files per: 2.259993s\n",
      "Processed 90000 files. 1000 files per: 2.254546s\n",
      "Processed 91000 files. 1000 files per: 2.236261s\n",
      "Processed 92000 files. 1000 files per: 2.244029s\n",
      "Processed 93000 files. 1000 files per: 2.231847s\n",
      "Processed 94000 files. 1000 files per: 2.22967s\n",
      "Processed 95000 files. 1000 files per: 2.229147s\n",
      "Processed 96000 files. 1000 files per: 2.268367s\n",
      "Processed 97000 files. 1000 files per: 2.219791s\n",
      "Processed 98000 files. 1000 files per: 2.257272s\n",
      "Processed 99000 files. 1000 files per: 2.261531s\n",
      "Processed 100000 files. 1000 files per: 2.276002s\n",
      "Processed 101000 files. 1000 files per: 2.274279s\n",
      "Processed 102000 files. 1000 files per: 2.463674s\n",
      "Processed 103000 files. 1000 files per: 2.273918s\n",
      "Processed 104000 files. 1000 files per: 2.271167s\n",
      "Processed 105000 files. 1000 files per: 2.265518s\n",
      "Processed 106000 files. 1000 files per: 2.175238s\n",
      "Processed 107000 files. 1000 files per: 2.193043s\n",
      "Processed 108000 files. 1000 files per: 2.327477s\n",
      "Processed 109000 files. 1000 files per: 2.222875s\n",
      "Processed 110000 files. 1000 files per: 2.25389s\n",
      "Processed 111000 files. 1000 files per: 2.219271s\n",
      "Processed 112000 files. 1000 files per: 2.179418s\n",
      "Processed 113000 files. 1000 files per: 2.241444s\n",
      "Processed 114000 files. 1000 files per: 2.270589s\n",
      "Processed 115000 files. 1000 files per: 2.203384s\n",
      "Processed 116000 files. 1000 files per: 2.25721s\n",
      "Processed 117000 files. 1000 files per: 2.314441s\n",
      "Processed 118000 files. 1000 files per: 2.293434s\n",
      "Processed 119000 files. 1000 files per: 2.28432s\n",
      "Processed 120000 files. 1000 files per: 2.273596s\n"
     ]
    }
   ],
   "source": [
    "all_documents = []\n",
    "word_dict_raw = {}\n",
    "counter = 0\n",
    "total_len = 0\n",
    "for topic in topics:\n",
    "    total_len += len(os.listdir(os.path.join(train_dir, topic)))\n",
    "print(f\"Total files for process: {total_len}\")\n",
    "\n",
    "for topic in topics:\n",
    "    workdir = os.path.join(train_dir, topic)\n",
    "    start_time = datetime.datetime.now()\n",
    "    for filename in os.listdir(workdir):\n",
    "        stems = get_sentence_stems_processed(os.path.join(workdir, filename))\n",
    "        all_documents.append(stems)\n",
    "        counts = count_words_in_sentences(stems)\n",
    "        for word in counts.keys():\n",
    "            if word not in word_dict_raw.keys():\n",
    "                word_dict_raw[word] = 0\n",
    "            word_dict_raw[word] += counts[word]\n",
    "        counter += 1\n",
    "        if counter % 1000 == 0:\n",
    "            print(f\"Processed {counter} files. 1000 files per: {(datetime.datetime.now() - start_time).total_seconds()}s\")\n",
    "            start_time = datetime.datetime.now()"
   ],
   "metadata": {
    "collapsed": false,
    "ExecuteTime": {
     "end_time": "2024-01-17T12:58:35.383071335Z",
     "start_time": "2024-01-17T12:54:00.957566425Z"
    }
   },
   "id": "b110b36a52c8306e"
  },
  {
   "cell_type": "code",
   "execution_count": 7,
   "outputs": [],
   "source": [
    "word_dict = dict(word_dict_raw)\n",
    "\n",
    "for word in word_dict_raw.keys():\n",
    "    if word_dict_raw[word] < 3:\n",
    "        del word_dict[word]"
   ],
   "metadata": {
    "collapsed": false,
    "ExecuteTime": {
     "end_time": "2024-01-17T12:58:35.396963350Z",
     "start_time": "2024-01-17T12:58:35.394279586Z"
    }
   },
   "id": "8f0bb900731d4150"
  },
  {
   "cell_type": "code",
   "execution_count": 8,
   "outputs": [],
   "source": [
    "if not os.path.isdir(result_dir):\n",
    "    os.makedirs(result_dir, exist_ok=True)\n",
    "with open(os.path.join(result_dir, \"dictionary.json\"), \"w\") as f:\n",
    "    json.dump(word_dict, f, indent=1)"
   ],
   "metadata": {
    "collapsed": false,
    "ExecuteTime": {
     "end_time": "2024-01-17T12:58:35.423629279Z",
     "start_time": "2024-01-17T12:58:35.396925918Z"
    }
   },
   "id": "d43163f1a726311"
  },
  {
   "cell_type": "code",
   "execution_count": 9,
   "outputs": [
    {
     "name": "stdout",
     "output_type": "stream",
     "text": [
      "Processed 1000 files. 1000 Files Per: 5.93207s\n",
      "Processed 2000 files. 1000 Files Per: 5.352863s\n",
      "Processed 3000 files. 1000 Files Per: 5.246312s\n",
      "Processed 4000 files. 1000 Files Per: 5.510729s\n",
      "Processed 5000 files. 1000 Files Per: 5.408857s\n",
      "Processed 6000 files. 1000 Files Per: 5.609525s\n",
      "Processed 7000 files. 1000 Files Per: 5.317881s\n",
      "Processed 8000 files. 1000 Files Per: 5.349153s\n",
      "Processed 9000 files. 1000 Files Per: 5.307789s\n",
      "Processed 10000 files. 1000 Files Per: 5.306511s\n",
      "Processed 11000 files. 1000 Files Per: 5.373819s\n",
      "Processed 12000 files. 1000 Files Per: 5.426513s\n",
      "Processed 13000 files. 1000 Files Per: 5.390206s\n",
      "Processed 14000 files. 1000 Files Per: 5.860162s\n",
      "Processed 15000 files. 1000 Files Per: 6.700008s\n",
      "Processed 16000 files. 1000 Files Per: 5.456767s\n",
      "Processed 17000 files. 1000 Files Per: 5.350818s\n",
      "Processed 18000 files. 1000 Files Per: 5.608322s\n",
      "Processed 19000 files. 1000 Files Per: 5.252519s\n",
      "Processed 20000 files. 1000 Files Per: 5.415826s\n",
      "Processed 21000 files. 1000 Files Per: 5.606854s\n",
      "Processed 22000 files. 1000 Files Per: 5.915632s\n",
      "Processed 23000 files. 1000 Files Per: 5.26986s\n",
      "Processed 24000 files. 1000 Files Per: 5.191366s\n",
      "Processed 25000 files. 1000 Files Per: 5.23252s\n",
      "Processed 26000 files. 1000 Files Per: 5.266641s\n",
      "Processed 27000 files. 1000 Files Per: 5.35184s\n",
      "Processed 28000 files. 1000 Files Per: 5.261539s\n",
      "Processed 29000 files. 1000 Files Per: 5.29314s\n",
      "Processed 30000 files. 1000 Files Per: 5.630411s\n",
      "Processed 31000 files. 1000 Files Per: 5.326181s\n",
      "Processed 32000 files. 1000 Files Per: 5.431963s\n",
      "Processed 33000 files. 1000 Files Per: 5.315733s\n",
      "Processed 34000 files. 1000 Files Per: 5.409151s\n",
      "Processed 35000 files. 1000 Files Per: 5.288917s\n",
      "Processed 36000 files. 1000 Files Per: 5.47696s\n",
      "Processed 37000 files. 1000 Files Per: 5.392585s\n",
      "Processed 38000 files. 1000 Files Per: 5.926056s\n",
      "Processed 39000 files. 1000 Files Per: 5.538473s\n",
      "Processed 40000 files. 1000 Files Per: 5.437134s\n",
      "Processed 41000 files. 1000 Files Per: 5.442928s\n",
      "Processed 42000 files. 1000 Files Per: 6.084718s\n",
      "Processed 43000 files. 1000 Files Per: 6.027955s\n",
      "Processed 44000 files. 1000 Files Per: 5.590139s\n",
      "Processed 45000 files. 1000 Files Per: 5.454274s\n",
      "Processed 46000 files. 1000 Files Per: 5.575589s\n",
      "Processed 47000 files. 1000 Files Per: 6.592108s\n",
      "Processed 48000 files. 1000 Files Per: 5.545565s\n",
      "Processed 49000 files. 1000 Files Per: 5.593752s\n",
      "Processed 50000 files. 1000 Files Per: 5.646663s\n",
      "Processed 51000 files. 1000 Files Per: 5.626752s\n",
      "Processed 52000 files. 1000 Files Per: 5.548021s\n",
      "Processed 53000 files. 1000 Files Per: 5.835597s\n",
      "Processed 54000 files. 1000 Files Per: 5.567603s\n",
      "Processed 55000 files. 1000 Files Per: 6.315489s\n",
      "Processed 56000 files. 1000 Files Per: 5.652575s\n",
      "Processed 57000 files. 1000 Files Per: 5.761291s\n",
      "Processed 58000 files. 1000 Files Per: 5.53406s\n",
      "Processed 59000 files. 1000 Files Per: 5.455541s\n",
      "Processed 60000 files. 1000 Files Per: 5.466467s\n",
      "Processed 61000 files. 1000 Files Per: 5.501791s\n",
      "Processed 62000 files. 1000 Files Per: 5.507583s\n",
      "Processed 63000 files. 1000 Files Per: 5.821151s\n",
      "Processed 64000 files. 1000 Files Per: 5.808537s\n",
      "Processed 65000 files. 1000 Files Per: 5.42472s\n",
      "Processed 66000 files. 1000 Files Per: 5.378894s\n",
      "Processed 67000 files. 1000 Files Per: 5.353186s\n",
      "Processed 68000 files. 1000 Files Per: 5.491465s\n",
      "Processed 69000 files. 1000 Files Per: 5.499445s\n",
      "Processed 70000 files. 1000 Files Per: 5.535118s\n",
      "Processed 71000 files. 1000 Files Per: 5.947619s\n",
      "Processed 72000 files. 1000 Files Per: 5.472616s\n",
      "Processed 73000 files. 1000 Files Per: 5.445429s\n",
      "Processed 74000 files. 1000 Files Per: 5.517171s\n",
      "Processed 75000 files. 1000 Files Per: 5.458836s\n",
      "Processed 76000 files. 1000 Files Per: 5.5222s\n",
      "Processed 77000 files. 1000 Files Per: 5.504652s\n",
      "Processed 78000 files. 1000 Files Per: 5.410543s\n",
      "Processed 79000 files. 1000 Files Per: 5.831028s\n",
      "Processed 80000 files. 1000 Files Per: 9.938761s\n",
      "Processed 81000 files. 1000 Files Per: 5.57183s\n",
      "Processed 82000 files. 1000 Files Per: 5.501072s\n",
      "Processed 83000 files. 1000 Files Per: 5.491297s\n",
      "Processed 84000 files. 1000 Files Per: 5.441956s\n",
      "Processed 85000 files. 1000 Files Per: 5.50023s\n",
      "Processed 86000 files. 1000 Files Per: 5.455723s\n",
      "Processed 87000 files. 1000 Files Per: 5.489872s\n",
      "Processed 88000 files. 1000 Files Per: 5.735764s\n",
      "Processed 89000 files. 1000 Files Per: 5.392321s\n",
      "Processed 90000 files. 1000 Files Per: 5.410696s\n",
      "Processed 91000 files. 1000 Files Per: 5.340774s\n",
      "Processed 92000 files. 1000 Files Per: 5.412569s\n",
      "Processed 93000 files. 1000 Files Per: 5.268776s\n",
      "Processed 94000 files. 1000 Files Per: 5.384348s\n",
      "Processed 95000 files. 1000 Files Per: 5.360099s\n",
      "Processed 96000 files. 1000 Files Per: 5.854397s\n",
      "Processed 97000 files. 1000 Files Per: 5.36505s\n",
      "Processed 98000 files. 1000 Files Per: 6.479291s\n",
      "Processed 99000 files. 1000 Files Per: 5.383514s\n",
      "Processed 100000 files. 1000 Files Per: 5.448616s\n",
      "Processed 101000 files. 1000 Files Per: 5.296857s\n",
      "Processed 102000 files. 1000 Files Per: 5.317497s\n",
      "Processed 103000 files. 1000 Files Per: 5.262956s\n",
      "Processed 104000 files. 1000 Files Per: 5.36176s\n",
      "Processed 105000 files. 1000 Files Per: 5.945103s\n",
      "Processed 106000 files. 1000 Files Per: 5.452671s\n",
      "Processed 107000 files. 1000 Files Per: 5.687311s\n",
      "Processed 108000 files. 1000 Files Per: 5.474132s\n",
      "Processed 109000 files. 1000 Files Per: 5.62893s\n",
      "Processed 110000 files. 1000 Files Per: 5.520084s\n",
      "Processed 111000 files. 1000 Files Per: 5.578706s\n",
      "Processed 112000 files. 1000 Files Per: 5.603359s\n",
      "Processed 113000 files. 1000 Files Per: 5.903654s\n",
      "Processed 114000 files. 1000 Files Per: 5.430011s\n",
      "Processed 115000 files. 1000 Files Per: 5.388132s\n",
      "Processed 116000 files. 1000 Files Per: 5.365557s\n",
      "Processed 117000 files. 1000 Files Per: 5.381731s\n",
      "Processed 118000 files. 1000 Files Per: 5.191728s\n",
      "Processed 119000 files. 1000 Files Per: 5.217633s\n",
      "Processed 120000 files. 1000 Files Per: 5.306062s\n"
     ]
    }
   ],
   "source": [
    "doc_names = []\n",
    "matrix_arr = []\n",
    "cnt = 0\n",
    "for topic in topics:\n",
    "    workdir = os.path.join(train_dir, topic)\n",
    "    start_time = datetime.datetime.now()\n",
    "    for filename in os.listdir(workdir):\n",
    "        doc_names.append(topic + \"/\" + filename)\n",
    "        stems = get_sentence_stems_processed(os.path.join(workdir, filename))\n",
    "        counts = count_words_in_sentences(stems)\n",
    "        vec = []\n",
    "        for word in word_dict.keys():\n",
    "            if word in counts.keys():\n",
    "                vec.append(counts[word])\n",
    "            else:\n",
    "                vec.append(0)\n",
    "        matrix_arr.append(vec)\n",
    "        if sum(vec) == 0:\n",
    "            print(\"Zero vector for document\", filename)\n",
    "        cnt += 1\n",
    "        if cnt % 1000 == 0:\n",
    "            print(f\"Processed {cnt} files. 1000 Files Per: {(datetime.datetime.now() - start_time).total_seconds()}s\")\n",
    "            start_time = datetime.datetime.now()"
   ],
   "metadata": {
    "collapsed": false,
    "ExecuteTime": {
     "end_time": "2024-01-17T13:09:43.463803054Z",
     "start_time": "2024-01-17T12:58:35.422651889Z"
    }
   },
   "id": "cf8dd1e55e8e274e"
  },
  {
   "cell_type": "code",
   "outputs": [],
   "source": [
    "m_len = len(matrix_arr)\n",
    "m_1 = pd.DataFrame(matrix_arr[:int(m_len/4)])\n",
    "m_1.columns = word_dict.keys()\n",
    "m_1.index = doc_names[:int(m_len/4)]"
   ],
   "metadata": {
    "collapsed": false,
    "ExecuteTime": {
     "end_time": "2024-01-17T13:11:27.070798061Z",
     "start_time": "2024-01-17T13:09:43.468398859Z"
    }
   },
   "id": "68394bfd9a6a1ed7",
   "execution_count": 10
  },
  {
   "cell_type": "code",
   "execution_count": 11,
   "outputs": [],
   "source": [
    "m_1.to_csv(os.path.join(result_dir, \"term-document.csv\"))"
   ],
   "metadata": {
    "collapsed": false,
    "ExecuteTime": {
     "end_time": "2024-01-17T13:16:11.329623919Z",
     "start_time": "2024-01-17T13:11:27.072653761Z"
    }
   },
   "id": "63773b3839593cc8"
  },
  {
   "cell_type": "code",
   "execution_count": 12,
   "outputs": [],
   "source": [
    "# m_len = len(matrix_arr)\n",
    "# m_1 = pd.DataFrame(matrix_arr[int(3*m_len/4):])\n",
    "# m_1.columns = word_dict.keys()\n",
    "# m_1.index = doc_names[int(3*m_len/4):]\n",
    "# m_1.to_csv(os.path.join(result_dir, \"term-document.csv\"), mode=\"a\", header=False)"
   ],
   "metadata": {
    "collapsed": false,
    "ExecuteTime": {
     "end_time": "2024-01-17T13:16:11.380436235Z",
     "start_time": "2024-01-17T13:16:11.372018543Z"
    }
   },
   "id": "88365367453b4408"
  },
  {
   "cell_type": "code",
   "execution_count": 13,
   "outputs": [],
   "source": [
    "# matrix = pd.DataFrame(matrix_arr)\n",
    "# matrix.columns = word_dict.keys()\n",
    "# matrix.index = doc_names"
   ],
   "metadata": {
    "collapsed": false,
    "ExecuteTime": {
     "end_time": "2024-01-17T13:16:11.382220537Z",
     "start_time": "2024-01-17T13:16:11.372464130Z"
    }
   },
   "id": "36106ec70f48c833"
  },
  {
   "cell_type": "code",
   "execution_count": 14,
   "outputs": [],
   "source": [
    "# matrix.to_csv(os.path.join(result_dir, \"term-document.csv\"))"
   ],
   "metadata": {
    "collapsed": false,
    "ExecuteTime": {
     "end_time": "2024-01-17T13:16:11.398203250Z",
     "start_time": "2024-01-17T13:16:11.372763850Z"
    }
   },
   "id": "6702d77768a1421"
  },
  {
   "cell_type": "markdown",
   "source": [
    "# Task 2"
   ],
   "metadata": {
    "collapsed": false
   },
   "id": "64b6976a8b02fb23"
  },
  {
   "cell_type": "code",
   "execution_count": 15,
   "outputs": [],
   "source": [
    "def tf_idf(words, matrix):\n",
    "    total_words = sum(words.values())\n",
    "    total_documents = len(matrix.index)\n",
    "    result = []\n",
    "    for w in matrix.columns:\n",
    "        if w not in words:\n",
    "            result.append(0.0)\n",
    "            continue\n",
    "        t_f = words[w] / total_words\n",
    "        d_f = sum(matrix[w] > 0)\n",
    "        tfidf = t_f * (log10(total_documents + 1) - log10(d_f + 1))\n",
    "        result.append(tfidf)\n",
    "    return result"
   ],
   "metadata": {
    "collapsed": false,
    "ExecuteTime": {
     "end_time": "2024-01-17T13:16:11.398557784Z",
     "start_time": "2024-01-17T13:16:11.373052869Z"
    }
   },
   "id": "51d9dcb672e6d68"
  },
  {
   "cell_type": "code",
   "execution_count": 16,
   "outputs": [],
   "source": [
    "def preprocess_text(text, by_sentences=False):\n",
    "    stemmer = SnowballStemmer(\"english\")\n",
    "    lemmatizer = WordNetLemmatizer()\n",
    "    sentences = split_to_sentences(text)\n",
    "    result = []\n",
    "    for s in sentences:\n",
    "        sentence = []\n",
    "        for w in split_to_words(s):\n",
    "            w_processed = re.sub(r\"[.!?,]$\", \"\", w).lower()\n",
    "            if lemmatizer.lemmatize(w_processed) not in stopwords.words(\"english\"):\n",
    "                sentence.append(stemmer.stem(w_processed))\n",
    "        if by_sentences:\n",
    "            result.append(sentence)\n",
    "        else:\n",
    "            result += sentence\n",
    "    return result"
   ],
   "metadata": {
    "collapsed": false,
    "ExecuteTime": {
     "end_time": "2024-01-17T13:16:11.400440493Z",
     "start_time": "2024-01-17T13:16:11.373304978Z"
    }
   },
   "id": "2aa70e8abb5a96a6"
  },
  {
   "cell_type": "code",
   "execution_count": 17,
   "outputs": [],
   "source": [
    "def vectorize_tf_idf(text, matrix):\n",
    "    preprocessed = preprocess_text(text)\n",
    "    text_dict = count_words_in_sentences([preprocessed])\n",
    "    return tf_idf(text_dict, matrix)"
   ],
   "metadata": {
    "collapsed": false,
    "ExecuteTime": {
     "end_time": "2024-01-17T13:16:11.402259090Z",
     "start_time": "2024-01-17T13:16:11.373731760Z"
    }
   },
   "id": "3cb7fdae298659b2"
  },
  {
   "cell_type": "code",
   "execution_count": 18,
   "outputs": [],
   "source": [
    "matrix = pd.read_csv(os.path.join(result_dir, \"term-document.csv\"), index_col=0)"
   ],
   "metadata": {
    "collapsed": false,
    "ExecuteTime": {
     "end_time": "2024-01-17T13:17:56.177115053Z",
     "start_time": "2024-01-17T13:16:11.373974832Z"
    }
   },
   "id": "9cd35ecb4b091b81"
  },
  {
   "cell_type": "code",
   "outputs": [],
   "source": [
    "matrix = m_1"
   ],
   "metadata": {
    "collapsed": false,
    "ExecuteTime": {
     "end_time": "2024-01-17T13:17:56.243125629Z",
     "start_time": "2024-01-17T13:17:56.240974651Z"
    }
   },
   "id": "4804b42c64cbb85f",
   "execution_count": 19
  },
  {
   "cell_type": "code",
   "execution_count": 20,
   "outputs": [],
   "source": [
    "t1 = \"\"\"Evolution Designs sell the \"Darwin fish\".  It's a fish symbol, like the ones\n",
    "Christians stick on their cars, but with feet and the word \"Darwin\" written\n",
    "inside.  The deluxe moulded 3D plastic fish is $4.95 postpaid in the US.\"\"\""
   ],
   "metadata": {
    "collapsed": false,
    "ExecuteTime": {
     "end_time": "2024-01-17T13:17:56.289773804Z",
     "start_time": "2024-01-17T13:17:56.243845748Z"
    }
   },
   "id": "bd61b3172b8d9297"
  },
  {
   "cell_type": "code",
   "execution_count": 21,
   "outputs": [],
   "source": [
    "t2 = \"\"\"A story based on the premise that the US Congress is mysteriously\n",
    "assassinated, and fundamentalists quickly take charge of the nation to set it\n",
    "\"right\" again.  The book is the diary of a woman's life as she tries to live\n",
    "under the new Christian theocracy.  Women's right to own property is revoked,\n",
    "and their bank accounts are closed; sinful luxuries are outlawed, and the\n",
    "radio is only used for readings from the Bible.  Crimes are punished\n",
    "retroactively: doctors who performed legal abortions in the \"old world\" are\n",
    "hunted down and hanged.  Atwood's writing style is difficult to get used to\n",
    "at first, but the tale grows more and more chilling as it goes on.\"\"\""
   ],
   "metadata": {
    "collapsed": false,
    "ExecuteTime": {
     "end_time": "2024-01-17T13:17:56.291424962Z",
     "start_time": "2024-01-17T13:17:56.287526393Z"
    }
   },
   "id": "838f6dd06cf84563"
  },
  {
   "cell_type": "code",
   "execution_count": 22,
   "outputs": [
    {
     "data": {
      "text/plain": "[0.0,\n 0.0,\n 0.0,\n 0.0,\n 0.0,\n 0.0,\n 0.0,\n 0.0,\n 0.0,\n 0.0,\n 0.0,\n 0.0,\n 0.0,\n 0.0,\n 0.0,\n 0.0,\n 0.0,\n 0.0,\n 0.0,\n 0.0,\n 0.0,\n 0.11483746296641734,\n 0.0,\n 0.0,\n 0.0,\n 0.0,\n 0.0,\n 0.0,\n 0.0,\n 0.0,\n 0.0,\n 0.0,\n 0.0,\n 0.0,\n 0.0,\n 0.0,\n 0.0,\n 0.0,\n 0.0,\n 0.0,\n 0.0,\n 0.0,\n 0.0,\n 0.0,\n 0.0,\n 0.0,\n 0.0,\n 0.0,\n 0.0,\n 0.0,\n 0.0,\n 0.0,\n 0.0,\n 0.0,\n 0.0,\n 0.0,\n 0.0,\n 0.0,\n 0.0,\n 0.0,\n 0.0,\n 0.0,\n 0.0,\n 0.0,\n 0.0,\n 0.0,\n 0.0,\n 0.0,\n 0.0,\n 0.0,\n 0.0,\n 0.0,\n 0.0,\n 0.0,\n 0.0,\n 0.0,\n 0.0,\n 0.0,\n 0.0,\n 0.0,\n 0.0,\n 0.0,\n 0.0,\n 0.0,\n 0.0,\n 0.0,\n 0.0,\n 0.0,\n 0.0,\n 0.0,\n 0.0,\n 0.0,\n 0.0,\n 0.0,\n 0.0,\n 0.0,\n 0.0,\n 0.0,\n 0.0,\n 0.0]"
     },
     "execution_count": 22,
     "metadata": {},
     "output_type": "execute_result"
    }
   ],
   "source": [
    "vectorize_tf_idf(t1, matrix)[:100]"
   ],
   "metadata": {
    "collapsed": false,
    "ExecuteTime": {
     "end_time": "2024-01-17T13:18:10.792281638Z",
     "start_time": "2024-01-17T13:17:56.287717827Z"
    }
   },
   "id": "a4ca8f51c13acdee"
  },
  {
   "cell_type": "code",
   "execution_count": 23,
   "outputs": [
    {
     "data": {
      "text/plain": "[0.0,\n 0.0,\n 0.0,\n 0.0,\n 0.0,\n 0.0,\n 0.0,\n 0.0,\n 0.0,\n 0.0,\n 0.0,\n 0.0,\n 0.0,\n 0.0,\n 0.0,\n 0.0,\n 0.0,\n 0.0,\n 0.0,\n 0.0,\n 0.0,\n 0.0,\n 0.0,\n 0.0,\n 0.0,\n 0.0,\n 0.0,\n 0.0,\n 0.0,\n 0.0,\n 0.0,\n 0.0,\n 0.0,\n 0.0,\n 0.0,\n 0.0,\n 0.0,\n 0.0,\n 0.0,\n 0.0,\n 0.0,\n 0.0,\n 0.012078994975029055,\n 0.0,\n 0.0,\n 0.0,\n 0.0,\n 0.0,\n 0.0,\n 0.0,\n 0.0,\n 0.0,\n 0.0,\n 0.0,\n 0.0,\n 0.0,\n 0.0,\n 0.0,\n 0.0,\n 0.0,\n 0.0,\n 0.0,\n 0.0,\n 0.0,\n 0.0,\n 0.0,\n 0.0,\n 0.0,\n 0.0,\n 0.0,\n 0.0,\n 0.0,\n 0.0,\n 0.0,\n 0.0,\n 0.0,\n 0.0,\n 0.019981997692395052,\n 0.0,\n 0.0,\n 0.0,\n 0.0,\n 0.0,\n 0.0,\n 0.0,\n 0.0,\n 0.0,\n 0.0,\n 0.0,\n 0.0,\n 0.0,\n 0.0,\n 0.03772109750323365,\n 0.0,\n 0.0,\n 0.0,\n 0.0,\n 0.023446846601057513,\n 0.0,\n 0.0]"
     },
     "execution_count": 23,
     "metadata": {},
     "output_type": "execute_result"
    }
   ],
   "source": [
    "vectorize_tf_idf(t2, matrix)[:100]"
   ],
   "metadata": {
    "collapsed": false,
    "ExecuteTime": {
     "end_time": "2024-01-17T13:18:10.937813496Z",
     "start_time": "2024-01-17T13:18:10.792854587Z"
    }
   },
   "id": "38f0fd44777bb3df"
  },
  {
   "cell_type": "markdown",
   "source": [
    "# Task 3"
   ],
   "metadata": {
    "collapsed": false
   },
   "id": "9679d9c138a81573"
  },
  {
   "cell_type": "code",
   "execution_count": 24,
   "outputs": [],
   "source": [
    "w2v = Word2Vec(sentences=[sentence for document in all_documents for sentence in document], epochs=40)\n",
    "w2v.save(os.path.join(train_dir, \"..\", \"w2v_weights\"))"
   ],
   "metadata": {
    "collapsed": false,
    "ExecuteTime": {
     "end_time": "2024-01-17T13:19:17.668544862Z",
     "start_time": "2024-01-17T13:18:10.931613171Z"
    }
   },
   "id": "f6a868997f2a78cc"
  },
  {
   "cell_type": "code",
   "execution_count": 25,
   "outputs": [
    {
     "data": {
      "text/plain": "[('vieri', 0.4994616210460663),\n ('cathol', 0.49830296635627747),\n ('righteous', 0.49432772397994995),\n ('chesnot', 0.4816053509712219),\n ('thinker', 0.4694572389125824),\n ('canterburi', 0.465934157371521),\n ('devout', 0.4655701220035553),\n ('mandela', 0.4594581127166748),\n ('moreno', 0.4499610364437103),\n ('malbrunot', 0.44093361496925354)]"
     },
     "execution_count": 25,
     "metadata": {},
     "output_type": "execute_result"
    }
   ],
   "source": [
    "w2v.wv.most_similar(\"christian\")"
   ],
   "metadata": {
    "collapsed": false,
    "ExecuteTime": {
     "end_time": "2024-01-17T13:19:17.699743706Z",
     "start_time": "2024-01-17T13:19:17.669085579Z"
    }
   },
   "id": "2ce14f862dcbacbd"
  },
  {
   "cell_type": "markdown",
   "source": [
    "# Task 4"
   ],
   "metadata": {
    "collapsed": false
   },
   "id": "59cceb592e3bfd59"
  },
  {
   "cell_type": "code",
   "execution_count": 26,
   "outputs": [],
   "source": [
    "def cosine_similarity(a, b):\n",
    "    return np.dot(a, b) / (np.linalg.norm(a) * np.linalg.norm(b))"
   ],
   "metadata": {
    "collapsed": false,
    "ExecuteTime": {
     "end_time": "2024-01-17T13:19:17.701189734Z",
     "start_time": "2024-01-17T13:19:17.686863196Z"
    }
   },
   "id": "6644db1b68e6d284"
  },
  {
   "cell_type": "code",
   "execution_count": 27,
   "outputs": [
    {
     "data": {
      "text/plain": "0.36901003"
     },
     "execution_count": 27,
     "metadata": {},
     "output_type": "execute_result"
    }
   ],
   "source": [
    "cosine_similarity(w2v.wv[\"christian\"], w2v.wv[\"politician\"])"
   ],
   "metadata": {
    "collapsed": false,
    "ExecuteTime": {
     "end_time": "2024-01-17T13:19:17.726835764Z",
     "start_time": "2024-01-17T13:19:17.690939843Z"
    }
   },
   "id": "44368cd7f4aec1a0"
  },
  {
   "cell_type": "code",
   "execution_count": 28,
   "outputs": [],
   "source": [
    "def draw_words(terms, vectors_source):\n",
    "    pca = PCA(n_components=2)\n",
    "    vectors_2d = pd.DataFrame(pca.fit_transform([vectors_source[term] for term in terms]))\n",
    "    vectors_2d.index = terms\n",
    "    vectors_2d.columns = [\"x\", \"y\"]\n",
    "    p = sns.scatterplot(data=vectors_2d, x=\"x\", y=\"y\")\n",
    "\n",
    "    for i in vectors_2d.index:\n",
    "        item = vectors_2d.loc[i]\n",
    "        p.text(item.x, item.y, i)\n",
    "    return p"
   ],
   "metadata": {
    "collapsed": false,
    "ExecuteTime": {
     "end_time": "2024-01-17T13:19:17.753309036Z",
     "start_time": "2024-01-17T13:19:17.694817794Z"
    }
   },
   "id": "c1e9b4f634e29e44"
  },
  {
   "cell_type": "code",
   "execution_count": 29,
   "outputs": [
    {
     "data": {
      "text/plain": "<Axes: xlabel='x', ylabel='y'>"
     },
     "execution_count": 29,
     "metadata": {},
     "output_type": "execute_result"
    },
    {
     "data": {
      "text/plain": "<Figure size 640x480 with 1 Axes>",
      "image/png": "[encoded data removed]"
     },
     "metadata": {},
     "output_type": "display_data"
    }
   ],
   "source": [
    "terms_to_check = [\"christian\", \"muslim\", \"islam\", \"time\", \"world\", \"true\",\n",
    "                  \"wrong\", \"human\", \"person\", \"tell\", \"see\", \"opinion\", \"think\", \"view\", \"religion\"]\n",
    "draw_words(terms_to_check, w2v.wv)"
   ],
   "metadata": {
    "collapsed": false,
    "ExecuteTime": {
     "end_time": "2024-01-17T13:19:17.966386461Z",
     "start_time": "2024-01-17T13:19:17.735373220Z"
    }
   },
   "id": "99ad3a591c7a4730"
  },
  {
   "cell_type": "markdown",
   "source": [
    "# Task 5"
   ],
   "metadata": {
    "collapsed": false
   },
   "id": "29b07d34084b3df5"
  },
  {
   "cell_type": "code",
   "execution_count": 30,
   "outputs": [],
   "source": [
    "def transform_to_compare(vectors):\n",
    "    pca = PCA(n_components=len(w2v.wv[0]))\n",
    "    transformed = pca.fit_transform(vectors)\n",
    "    return transformed"
   ],
   "metadata": {
    "collapsed": false,
    "ExecuteTime": {
     "end_time": "2024-01-17T13:19:17.967513282Z",
     "start_time": "2024-01-17T13:19:17.927555953Z"
    }
   },
   "id": "292ffa81a7262ea1"
  },
  {
   "cell_type": "code",
   "execution_count": 31,
   "outputs": [],
   "source": [
    "terms_vectorized = [vectorize_tf_idf(i, matrix) for i in matrix.columns]"
   ],
   "metadata": {
    "collapsed": false,
    "ExecuteTime": {
     "end_time": "2024-01-17T13:21:00.005259644Z",
     "start_time": "2024-01-17T13:19:17.927797372Z"
    }
   },
   "id": "6b2500ff8a80d19c"
  },
  {
   "cell_type": "markdown",
   "source": [
    "# Task 6"
   ],
   "metadata": {
    "collapsed": false
   },
   "id": "2220719f794f1158"
  },
  {
   "cell_type": "code",
   "execution_count": 32,
   "outputs": [],
   "source": [
    "to_cmp = transform_to_compare(terms_vectorized)"
   ],
   "metadata": {
    "collapsed": false,
    "ExecuteTime": {
     "end_time": "2024-01-17T13:21:49.897067644Z",
     "start_time": "2024-01-17T13:21:13.422117528Z"
    }
   },
   "id": "11173fe88a13984d"
  },
  {
   "cell_type": "code",
   "execution_count": 33,
   "outputs": [],
   "source": [
    "terms_to_compare = pd.DataFrame(to_cmp)\n",
    "terms_to_compare.index = matrix.columns"
   ],
   "metadata": {
    "collapsed": false,
    "ExecuteTime": {
     "end_time": "2024-01-17T13:21:49.940835451Z",
     "start_time": "2024-01-17T13:21:49.939667933Z"
    }
   },
   "id": "c879f31ce86d9db6"
  },
  {
   "cell_type": "code",
   "execution_count": 34,
   "outputs": [],
   "source": [
    "def compare_methods(w1, w2):\n",
    "    print(\"Results for words\", w1, \"and\", w2)\n",
    "    print(\"W2V:\", cosine_similarity(w2v.wv[w1], w2v.wv[w2]))\n",
    "    print(\"Tf-Idf:\", cosine_similarity(terms_to_compare.loc[w1], terms_to_compare.loc[w2]))\n",
    "    print()"
   ],
   "metadata": {
    "collapsed": false,
    "ExecuteTime": {
     "end_time": "2024-01-17T13:21:49.941899573Z",
     "start_time": "2024-01-17T13:21:49.939914501Z"
    }
   },
   "id": "7391dc72628e98c0"
  },
  {
   "cell_type": "code",
   "execution_count": 35,
   "outputs": [
    {
     "name": "stdout",
     "output_type": "stream",
     "text": [
      "Results for words time and muslim\n",
      "W2V: -0.09740019\n",
      "Tf-Idf: 0.023208958242210708\n",
      "\n",
      "Results for words say and tell\n",
      "W2V: 0.67108303\n",
      "Tf-Idf: 0.9996644686250618\n",
      "\n",
      "Results for words person and time\n",
      "W2V: 0.2013097\n",
      "Tf-Idf: 0.9999794536820122\n"
     ]
    }
   ],
   "source": [
    "compare_methods(\"time\", \"muslim\")\n",
    "compare_methods(\"say\", \"tell\")\n",
    "compare_methods(\"person\", \"time\")"
   ],
   "metadata": {
    "collapsed": false,
    "ExecuteTime": {
     "end_time": "2024-01-17T13:21:49.942969246Z",
     "start_time": "2024-01-17T13:21:49.940023769Z"
    }
   },
   "id": "2f39e2a38b956be5"
  },
  {
   "cell_type": "code",
   "execution_count": 36,
   "outputs": [],
   "source": [
    "tfidf_data = {}\n",
    "for i in range(len(matrix.columns)):\n",
    "    tfidf_data[matrix.columns[i]] = terms_vectorized[i]"
   ],
   "metadata": {
    "collapsed": false,
    "ExecuteTime": {
     "end_time": "2024-01-17T13:21:49.944334300Z",
     "start_time": "2024-01-17T13:21:49.940131894Z"
    }
   },
   "id": "a59991ba89e138f4"
  },
  {
   "cell_type": "code",
   "execution_count": 37,
   "outputs": [
    {
     "data": {
      "text/plain": "<Axes: xlabel='x', ylabel='y'>"
     },
     "execution_count": 37,
     "metadata": {},
     "output_type": "execute_result"
    },
    {
     "data": {
      "text/plain": "<Figure size 640x480 with 1 Axes>",
      "image/png": "[encoded data removed]"
     },
     "metadata": {},
     "output_type": "display_data"
    }
   ],
   "source": [
    "draw_words(terms_to_check, tfidf_data)"
   ],
   "metadata": {
    "collapsed": false,
    "ExecuteTime": {
     "end_time": "2024-01-17T13:21:50.145241593Z",
     "start_time": "2024-01-17T13:21:49.940224811Z"
    }
   },
   "id": "97b13c3080846ab6"
  },
  {
   "cell_type": "markdown",
   "source": [
    "# Task 7"
   ],
   "metadata": {
    "collapsed": false
   },
   "id": "1f88a9abe5f5cb37"
  },
  {
   "cell_type": "code",
   "execution_count": 38,
   "outputs": [],
   "source": [
    "def vectorize(sentences, w2v):\n",
    "    result_vec = np.zeros(w2v.vector_size)\n",
    "    for s in sentences:\n",
    "        sentence_vec = np.zeros(w2v.vector_size)\n",
    "        for w in s:\n",
    "            if w2v.wv.has_index_for(w):\n",
    "                sentence_vec += w2v.wv[w]\n",
    "        sentence_vec = sentence_vec / len(s) if len(s) > 0 else np.zeros(w2v.vector_size)\n",
    "        result_vec += sentence_vec\n",
    "    result_vec = result_vec / len(sentences) if len(sentences) > 0 else np.zeros(w2v.vector_size)\n",
    "    return result_vec"
   ],
   "metadata": {
    "collapsed": false,
    "ExecuteTime": {
     "end_time": "2024-01-17T13:21:50.150484645Z",
     "start_time": "2024-01-17T13:21:50.147544338Z"
    }
   },
   "id": "80826ce08ee5a6d3"
  },
  {
   "cell_type": "code",
   "execution_count": 39,
   "outputs": [
    {
     "data": {
      "text/plain": "[['evolut',\n  'design',\n  'sell',\n  'darwin',\n  'fish',\n  'fish',\n  'symbol',\n  'like',\n  'one'],\n ['christian',\n  'stick',\n  'car',\n  'feet',\n  'word',\n  'darwin',\n  'written',\n  'insid',\n  'delux',\n  'mould',\n  '3d',\n  'plastic',\n  'fish',\n  '4',\n  '95',\n  'postpaid',\n  'us']]"
     },
     "execution_count": 39,
     "metadata": {},
     "output_type": "execute_result"
    }
   ],
   "source": [
    "preprocess_text(t1, True)"
   ],
   "metadata": {
    "collapsed": false,
    "ExecuteTime": {
     "end_time": "2024-01-17T13:21:50.160435253Z",
     "start_time": "2024-01-17T13:21:50.151564898Z"
    }
   },
   "id": "9375749ba3399b2b"
  },
  {
   "cell_type": "code",
   "execution_count": 40,
   "outputs": [
    {
     "data": {
      "text/plain": "array([-0.09253543, -0.11763319, -0.31523757, -0.60454736, -0.2001412 ,\n       -0.054317  , -0.64869795, -0.09061898, -0.44987102, -0.19952022,\n       -0.20973961,  0.37395   ,  0.21356605, -0.69897042,  0.97281452,\n        0.18087294,  0.03399781, -0.74280384, -0.03253715,  0.65083814,\n       -0.01342744, -0.16917939,  0.75513106,  0.29827508, -0.3007109 ,\n        1.06502611, -0.44067597,  0.27950331,  0.46658102,  0.18858784,\n       -0.30920152,  0.2765174 ,  0.46167909,  0.5395272 , -0.22917131,\n        0.1438764 ,  0.35972917, -0.60268811, -0.09008428, -0.11472524,\n       -0.19736995,  0.62815683, -0.16253192,  0.91182862, -0.00880029,\n        0.38478401,  0.39391567,  0.12144019,  0.40593818,  0.8481242 ,\n       -0.43128024,  0.87571935,  0.00752497,  0.48076191, -0.42312132,\n       -0.6624084 , -0.32893277,  0.05545178, -0.20344505, -0.69656316,\n        0.17372733, -0.71163091, -0.3441059 ,  0.03300215, -0.59889189,\n        0.03316073, -0.46034735,  0.13815299,  0.18043963,  0.57523964,\n        0.72666568,  0.93655877,  0.32342831, -0.74720515, -1.19352149,\n        0.24021463,  0.32214569,  0.1257402 , -0.13076001, -0.34801649,\n       -0.00288808, -0.46300914, -0.14572692,  0.63378647,  0.17458807,\n        0.19164552, -0.42810516,  0.41960712, -0.18001509, -0.35178799,\n        0.18422003,  0.05215711, -0.31629062, -0.15379888, -0.25914997,\n       -0.00158979,  0.5215385 , -0.27785331,  0.10059537, -0.57197594])"
     },
     "execution_count": 40,
     "metadata": {},
     "output_type": "execute_result"
    }
   ],
   "source": [
    "vectorize(preprocess_text(t1, True), w2v)"
   ],
   "metadata": {
    "collapsed": false,
    "ExecuteTime": {
     "end_time": "2024-01-17T13:21:50.215335013Z",
     "start_time": "2024-01-17T13:21:50.161355412Z"
    }
   },
   "id": "c16ddc9ebaeb5f86"
  },
  {
   "cell_type": "markdown",
   "source": [
    " # Task 8"
   ],
   "metadata": {
    "collapsed": false
   },
   "id": "1589de74e0bde7d6"
  },
  {
   "cell_type": "code",
   "execution_count": 41,
   "outputs": [],
   "source": [
    "w2v = Word2Vec.load(os.path.join(train_dir, \"..\", \"w2v_weights\"))\n",
    "vectorized_documents = {}\n",
    "for topic in topics:\n",
    "    workdir = os.path.join(train_dir, topic)\n",
    "    for filename in os.listdir(workdir):\n",
    "        stems = get_sentence_stems_processed(os.path.join(workdir, filename))\n",
    "        vectorized_documents[os.path.join(topic, filename)] = vectorize(stems, w2v)"
   ],
   "metadata": {
    "collapsed": false,
    "ExecuteTime": {
     "end_time": "2024-01-17T13:26:14.210849374Z",
     "start_time": "2024-01-17T13:21:50.203633909Z"
    }
   },
   "id": "e3c2237e03de079b"
  },
  {
   "cell_type": "code",
   "execution_count": 42,
   "outputs": [],
   "source": [
    "with open(os.path.join(train_dir, \"..\", \"train_embeddings.tsv\"), \"w\") as f:\n",
    "    for k in vectorized_documents.keys():\n",
    "        print(k.replace(\".tsv\", \"\"), *vectorized_documents[k], sep=\"\\t\", file=f)"
   ],
   "metadata": {
    "collapsed": false,
    "ExecuteTime": {
     "end_time": "2024-01-17T13:26:21.388489708Z",
     "start_time": "2024-01-17T13:26:14.212246238Z"
    }
   },
   "id": "d29a38f81b9629f6"
  },
  {
   "cell_type": "code",
   "execution_count": 43,
   "outputs": [],
   "source": [
    "test_dir = os.path.realpath(\"../assets/annotated-corpus/test\")\n",
    "vectorized_documents = {}\n",
    "for topic in topics:\n",
    "    workdir = os.path.join(test_dir, topic)\n",
    "    for filename in os.listdir(workdir):\n",
    "        stems = get_sentence_stems_processed(os.path.join(workdir, filename))\n",
    "        vectorized_documents[os.path.join(topic, filename)] = vectorize(stems, w2v)"
   ],
   "metadata": {
    "collapsed": false,
    "ExecuteTime": {
     "end_time": "2024-01-17T13:26:38.708329206Z",
     "start_time": "2024-01-17T13:26:21.389194086Z"
    }
   },
   "id": "d8d2e4746877d67"
  },
  {
   "cell_type": "code",
   "execution_count": 44,
   "outputs": [],
   "source": [
    "with open(os.path.join(train_dir, \"..\", \"test_embeddings.tsv\"), \"w\") as f:\n",
    "    for k in vectorized_documents.keys():\n",
    "        print(k.replace(\".tsv\", \"\"), *vectorized_documents[k], sep=\"\\t\", file=f)"
   ],
   "metadata": {
    "collapsed": false,
    "ExecuteTime": {
     "end_time": "2024-01-17T13:26:39.165643656Z",
     "start_time": "2024-01-17T13:26:38.751442834Z"
    }
   },
   "id": "ec4d0303f4a39ce"
  },
  {
   "cell_type": "code",
   "execution_count": 44,
   "outputs": [],
   "source": [],
   "metadata": {
    "collapsed": false,
    "ExecuteTime": {
     "end_time": "2024-01-17T13:26:39.169209240Z",
     "start_time": "2024-01-17T13:26:39.167806355Z"
    }
   },
   "id": "ea53bc8382ae3f7b"
  }
 ],
 "metadata": {
  "kernelspec": {
   "display_name": "Python 3",
   "language": "python",
   "name": "python3"
  },
  "language_info": {
   "codemirror_mode": {
    "name": "ipython",
    "version": 2
   },
   "file_extension": ".py",
   "mimetype": "text/x-python",
   "name": "python",
   "nbconvert_exporter": "python",
   "pygments_lexer": "ipython2",
   "version": "2.7.6"
  }
 },
 "nbformat": 4,
 "nbformat_minor": 5
}
