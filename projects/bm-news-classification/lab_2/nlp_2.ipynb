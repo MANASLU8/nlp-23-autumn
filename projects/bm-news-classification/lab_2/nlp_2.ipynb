{
 "cells": [
  {
   "cell_type": "code",
   "execution_count": null,
   "id": "initial_id",
   "metadata": {
    "collapsed": true
   },
   "outputs": [],
   "source": [
    "import os\n",
    "import numpy as np\n",
    "from nltk.corpus import stopwords\n",
    "from nltk.collocations import  *\n",
    "from nltk import Text\n",
    "import nltk"
   ]
  },
  {
   "cell_type": "code",
   "execution_count": null,
   "outputs": [],
   "source": [
    "nltk.download('stopwords')"
   ],
   "metadata": {
    "collapsed": false
   },
   "id": "f4b26fb355c7206"
  },
  {
   "cell_type": "code",
   "execution_count": null,
   "outputs": [],
   "source": [
    "assets_dir = os.path.realpath(\"../assets/annotated-corpus\")\n",
    "train_dir = os.path.join(assets_dir, \"test\")"
   ],
   "metadata": {
    "collapsed": false
   },
   "id": "9420cfb06c1f3041"
  },
  {
   "cell_type": "code",
   "execution_count": null,
   "outputs": [],
   "source": [
    "topics = os.listdir(train_dir)"
   ],
   "metadata": {
    "collapsed": false
   },
   "id": "9dbffc9c44c7843f"
  },
  {
   "cell_type": "code",
   "execution_count": null,
   "outputs": [],
   "source": [
    "sentences = []\n",
    "for t in topics:\n",
    "    workdir = os.path.join(train_dir, t)\n",
    "    for filename in os.listdir(workdir):\n",
    "        with open(os.path.join(workdir, filename)) as f:\n",
    "            lines = \"\".join(f.readlines())\n",
    "            sentences_raw = lines.split(\"\\n\\n\")\n",
    "            for sentence in sentences_raw:\n",
    "                words = sentence.split(\"\\n\")\n",
    "                if len(words) == 0 or words[0] == \"\":\n",
    "                    continue\n",
    "                stems_raw = list(map(lambda x: x.split(\"\\t\")[1], words))\n",
    "                lemmas = list(map(lambda x: x.split(\"\\t\")[2], words))\n",
    "                stems = []\n",
    "                for i in range(len(stems_raw)):\n",
    "                    if lemmas[i] not in stopwords.words(\"english\"):\n",
    "                        stems.append(stems_raw[i])\n",
    "                sentences.append(stems)"
   ],
   "metadata": {
    "collapsed": false
   },
   "id": "c0e482236537c952"
  },
  {
   "cell_type": "code",
   "execution_count": null,
   "outputs": [],
   "source": [
    "len(sentences)"
   ],
   "metadata": {
    "collapsed": false
   },
   "id": "8ee431edefba4092"
  },
  {
   "cell_type": "code",
   "execution_count": null,
   "outputs": [],
   "source": [
    "ngram_length = 3"
   ],
   "metadata": {
    "collapsed": false
   },
   "id": "706b2390f64e8dc2"
  },
  {
   "cell_type": "code",
   "execution_count": null,
   "outputs": [],
   "source": [
    "ngrams = []\n",
    "word_count = {}\n",
    "ngrams_count = {}\n",
    "for sentence in sentences:\n",
    "    counter = 0\n",
    "    for word in sentence:\n",
    "        if word not in word_count.keys():\n",
    "            word_count[word] = 0\n",
    "        word_count[word] += 1\n",
    "        counter += 1\n",
    "    if counter < ngram_length:\n",
    "        continue\n",
    "    for i in range(len(sentence) - ngram_length + 1):\n",
    "        ngram = tuple(sentence[i:i + ngram_length])\n",
    "        if ngram not in ngrams_count.keys():\n",
    "            ngrams_count[ngram] = 0\n",
    "        ngrams_count[ngram] += 1\n",
    "        ngrams.append(ngram)"
   ],
   "metadata": {
    "collapsed": false
   },
   "id": "3f8232d82f82f9b5"
  },
  {
   "cell_type": "code",
   "execution_count": null,
   "outputs": [],
   "source": [
    "len(ngrams)"
   ],
   "metadata": {
    "collapsed": false
   },
   "id": "645d2bf792d524e2"
  },
  {
   "cell_type": "code",
   "execution_count": null,
   "outputs": [],
   "source": [
    "sorted(word_count.items(), key=lambda x: -x[1])[:30]"
   ],
   "metadata": {
    "collapsed": false
   },
   "id": "6439c66a95bedb34"
  },
  {
   "cell_type": "code",
   "execution_count": null,
   "outputs": [],
   "source": [
    "sorted(ngrams_count.items(), key=lambda x: -x[1])[:30]"
   ],
   "metadata": {
    "collapsed": false
   },
   "id": "dccccee88e69fef6"
  },
  {
   "cell_type": "code",
   "execution_count": null,
   "outputs": [],
   "source": [
    "total_words = sum(word_count.values())\n",
    "total_words"
   ],
   "metadata": {
    "collapsed": false
   },
   "id": "57340fb3a953ba"
  },
  {
   "cell_type": "markdown",
   "source": [
    "### f(n, c) - ngrams_count[ngram], частота встречаемости ключевого слова n в паре с коллокатом c;\n",
    "### N - total_words, общее число словоупотреблений в корпусе (тексте);\n",
    "### П_i f(u_i) - count_mul_result, Произведение абсолютных частот i-й униграммы в 3-грамме"
   ],
   "metadata": {
    "collapsed": false
   },
   "id": "8a676f2b41e06348"
  },
  {
   "cell_type": "code",
   "execution_count": null,
   "outputs": [],
   "source": [
    "ngram_score = {}\n",
    "for ngram in set(ngrams):\n",
    "    count_mul_result = 1\n",
    "    for word in ngram:\n",
    "        count_mul_result *= word_count[word]\n",
    "    ngram_score[ngram] = np.log2(ngrams_count[ngram] * (total_words**(ngram_length-1)) / count_mul_result)\n",
    "sorted(ngram_score.items(), key=lambda x: -x[1])[0:60]"
   ],
   "metadata": {
    "collapsed": false
   },
   "id": "239eade116446b8a"
  },
  {
   "cell_type": "code",
   "execution_count": null,
   "outputs": [],
   "source": [
    "text = []\n",
    "for sentence in sentences:\n",
    "    text += sentence\n",
    "finder = TrigramCollocationFinder.from_words(Text(text))\n",
    "finder.nbest(nltk.collocations.TrigramAssocMeasures().mi_like, 30)"
   ],
   "metadata": {
    "collapsed": false
   },
   "id": "7fa7f548f73d5ff4"
  }
 ],
 "metadata": {
  "kernelspec": {
   "display_name": "Python 3",
   "language": "python",
   "name": "python3"
  },
  "language_info": {
   "codemirror_mode": {
    "name": "ipython",
    "version": 2
   },
   "file_extension": ".py",
   "mimetype": "text/x-python",
   "name": "python",
   "nbconvert_exporter": "python",
   "pygments_lexer": "ipython2",
   "version": "2.7.6"
  }
 },
 "nbformat": 4,
 "nbformat_minor": 5
}
