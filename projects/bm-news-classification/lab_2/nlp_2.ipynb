{
 "cells": [
  {
   "cell_type": "code",
   "execution_count": 1,
   "id": "initial_id",
   "metadata": {
    "collapsed": true,
    "ExecuteTime": {
     "end_time": "2024-01-14T18:45:54.972291564Z",
     "start_time": "2024-01-14T18:45:54.638122613Z"
    }
   },
   "outputs": [],
   "source": [
    "import os\n",
    "import numpy as np\n",
    "from nltk.corpus import stopwords\n",
    "from nltk.collocations import  *\n",
    "from nltk import Text\n",
    "import nltk"
   ]
  },
  {
   "cell_type": "code",
   "execution_count": 2,
   "outputs": [
    {
     "name": "stderr",
     "output_type": "stream",
     "text": [
      "[nltk_data] Downloading package stopwords to /home/maxim/nltk_data...\n",
      "[nltk_data]   Package stopwords is already up-to-date!\n"
     ]
    },
    {
     "data": {
      "text/plain": "True"
     },
     "execution_count": 2,
     "metadata": {},
     "output_type": "execute_result"
    }
   ],
   "source": [
    "nltk.download('stopwords')"
   ],
   "metadata": {
    "collapsed": false,
    "ExecuteTime": {
     "end_time": "2024-01-14T18:45:55.509530195Z",
     "start_time": "2024-01-14T18:45:54.790887051Z"
    }
   },
   "id": "f4b26fb355c7206"
  },
  {
   "cell_type": "code",
   "execution_count": 3,
   "outputs": [],
   "source": [
    "assets_dir = os.path.realpath(\"../assets/annotated-corpus\")\n",
    "train_dir = os.path.join(assets_dir, \"test\")"
   ],
   "metadata": {
    "collapsed": false,
    "ExecuteTime": {
     "end_time": "2024-01-14T18:45:55.516311799Z",
     "start_time": "2024-01-14T18:45:55.511074091Z"
    }
   },
   "id": "9420cfb06c1f3041"
  },
  {
   "cell_type": "code",
   "execution_count": 4,
   "outputs": [],
   "source": [
    "topics = os.listdir(train_dir)"
   ],
   "metadata": {
    "collapsed": false,
    "ExecuteTime": {
     "end_time": "2024-01-14T18:45:55.550794016Z",
     "start_time": "2024-01-14T18:45:55.513641848Z"
    }
   },
   "id": "9dbffc9c44c7843f"
  },
  {
   "cell_type": "code",
   "execution_count": 5,
   "outputs": [],
   "source": [
    "sentences = []\n",
    "for t in topics:\n",
    "    workdir = os.path.join(train_dir, t)\n",
    "    for filename in os.listdir(workdir):\n",
    "        with open(os.path.join(workdir, filename)) as f:\n",
    "            lines = \"\".join(f.readlines())\n",
    "            sentences_raw = lines.split(\"\\n\\n\")\n",
    "            for sentence in sentences_raw:\n",
    "                words = sentence.split(\"\\n\")\n",
    "                if len(words) == 0 or words[0] == \"\":\n",
    "                    continue\n",
    "                stems_raw = list(map(lambda x: x.split(\"\\t\")[1], words))\n",
    "                lemmas = list(map(lambda x: x.split(\"\\t\")[2], words))\n",
    "                stems = []\n",
    "                for i in range(len(stems_raw)):\n",
    "                    if lemmas[i] not in stopwords.words(\"english\"):\n",
    "                        stems.append(stems_raw[i])\n",
    "                sentences.append(stems)"
   ],
   "metadata": {
    "collapsed": false,
    "ExecuteTime": {
     "end_time": "2024-01-14T18:46:11.919525700Z",
     "start_time": "2024-01-14T18:45:55.542622207Z"
    }
   },
   "id": "c0e482236537c952"
  },
  {
   "cell_type": "code",
   "execution_count": 6,
   "outputs": [
    {
     "data": {
      "text/plain": "16277"
     },
     "execution_count": 6,
     "metadata": {},
     "output_type": "execute_result"
    }
   ],
   "source": [
    "len(sentences)"
   ],
   "metadata": {
    "collapsed": false,
    "ExecuteTime": {
     "end_time": "2024-01-14T18:46:11.924326539Z",
     "start_time": "2024-01-14T18:46:11.921388541Z"
    }
   },
   "id": "8ee431edefba4092"
  },
  {
   "cell_type": "code",
   "execution_count": 7,
   "outputs": [],
   "source": [
    "ngram_length = 3"
   ],
   "metadata": {
    "collapsed": false,
    "ExecuteTime": {
     "end_time": "2024-01-14T18:46:11.929246265Z",
     "start_time": "2024-01-14T18:46:11.924914704Z"
    }
   },
   "id": "706b2390f64e8dc2"
  },
  {
   "cell_type": "code",
   "execution_count": 8,
   "outputs": [],
   "source": [
    "ngrams = []\n",
    "word_count = {}\n",
    "ngrams_count = {}\n",
    "for sentence in sentences:\n",
    "    counter = 0\n",
    "    for word in sentence:\n",
    "        if word not in word_count.keys():\n",
    "            word_count[word] = 0\n",
    "        word_count[word] += 1\n",
    "        counter += 1\n",
    "    if counter < ngram_length:\n",
    "        continue\n",
    "    for i in range(len(sentence) - ngram_length + 1):\n",
    "        ngram = tuple(sentence[i:i + ngram_length])\n",
    "        if ngram not in ngrams_count.keys():\n",
    "            ngrams_count[ngram] = 0\n",
    "        ngrams_count[ngram] += 1\n",
    "        ngrams.append(ngram)"
   ],
   "metadata": {
    "collapsed": false,
    "ExecuteTime": {
     "end_time": "2024-01-14T18:46:12.086028005Z",
     "start_time": "2024-01-14T18:46:11.930702375Z"
    }
   },
   "id": "3f8232d82f82f9b5"
  },
  {
   "cell_type": "code",
   "execution_count": 9,
   "outputs": [
    {
     "data": {
      "text/plain": "174818"
     },
     "execution_count": 9,
     "metadata": {},
     "output_type": "execute_result"
    }
   ],
   "source": [
    "len(ngrams)"
   ],
   "metadata": {
    "collapsed": false,
    "ExecuteTime": {
     "end_time": "2024-01-14T18:46:12.130476655Z",
     "start_time": "2024-01-14T18:46:12.087454830Z"
    }
   },
   "id": "645d2bf792d524e2"
  },
  {
   "cell_type": "code",
   "execution_count": 10,
   "outputs": [
    {
     "data": {
      "text/plain": "[('39', 2802),\n ('new', 1349),\n ('said', 1312),\n ('has', 1219),\n ('reuter', 1148),\n ('ap', 1038),\n ('year', 948),\n ('was', 855),\n ('us', 850),\n ('gt', 760),\n ('lt', 753),\n ('quot', 700),\n ('two', 672),\n ('compani', 660),\n ('first', 657),\n ('say', 554),\n ('one', 549),\n ('world', 536),\n ('report', 532),\n ('u', 511),\n ('monday', 510),\n ('game', 509),\n ('tuesday', 505),\n ('1', 472),\n ('state', 466),\n ('thursday', 466),\n ('win', 461),\n ('wednesday', 453),\n ('inc', 449),\n ('2', 448)]"
     },
     "execution_count": 10,
     "metadata": {},
     "output_type": "execute_result"
    }
   ],
   "source": [
    "sorted(word_count.items(), key=lambda x: -x[1])[:30]"
   ],
   "metadata": {
    "collapsed": false,
    "ExecuteTime": {
     "end_time": "2024-01-14T18:46:12.131759006Z",
     "start_time": "2024-01-14T18:46:12.130167068Z"
    }
   },
   "id": "6439c66a95bedb34"
  },
  {
   "cell_type": "code",
   "execution_count": 11,
   "outputs": [
    {
     "data": {
      "text/plain": "[(('lt', 'b', 'gt'), 348),\n (('b', 'gt', 'lt'), 174),\n (('gt', 'lt', 'b'), 174),\n (('new', 'york', 'reuter'), 141),\n (('lt', 'href', 'http'), 114),\n (('href', 'http', 'www'), 110),\n (('http', 'www', 'investor'), 96),\n (('www', 'investor', 'reuter'), 96),\n (('investor', 'reuter', 'com'), 96),\n (('reuter', 'com', 'fullquot'), 96),\n (('com', 'fullquot', 'aspx'), 96),\n (('fullquot', 'aspx', 'ticker'), 96),\n (('target', 'stock', 'quickinfo'), 96),\n (('stock', 'quickinfo', 'fullquot'), 96),\n (('quickinfo', 'fullquot', 'gt'), 96),\n (('n', 'lt', 'gt'), 72),\n (('quot', 'profil', 'research'), 71),\n (('n', 'target', 'stock'), 70),\n (('lt', 'p', 'gt'), 66),\n (('inc', 'lt', 'href'), 58),\n (('n', 'quot', 'profil'), 40),\n (('boston', 'red', 'sox'), 39),\n (('gt', 'lt', 'font'), 35),\n (('p', 'gt', 'lt'), 33),\n (('york', 'reuter', 'u'), 33),\n (('gt', 'lt', 'p'), 31),\n (('presid', 'vladimir', 'putin'), 25),\n (('lt', 'font', 'face'), 23),\n (('font', 'face', 'verdana'), 23),\n (('face', 'verdana', 'san'), 23)]"
     },
     "execution_count": 11,
     "metadata": {},
     "output_type": "execute_result"
    }
   ],
   "source": [
    "sorted(ngrams_count.items(), key=lambda x: -x[1])[:30]"
   ],
   "metadata": {
    "collapsed": false,
    "ExecuteTime": {
     "end_time": "2024-01-14T18:46:12.132584370Z",
     "start_time": "2024-01-14T18:46:12.130441799Z"
    }
   },
   "id": "dccccee88e69fef6"
  },
  {
   "cell_type": "code",
   "execution_count": 12,
   "outputs": [
    {
     "data": {
      "text/plain": "207236"
     },
     "execution_count": 12,
     "metadata": {},
     "output_type": "execute_result"
    }
   ],
   "source": [
    "total_words = sum(word_count.values())\n",
    "total_words"
   ],
   "metadata": {
    "collapsed": false,
    "ExecuteTime": {
     "end_time": "2024-01-14T18:46:12.133664187Z",
     "start_time": "2024-01-14T18:46:12.130696893Z"
    }
   },
   "id": "57340fb3a953ba"
  },
  {
   "cell_type": "markdown",
   "source": [
    "### f(n, c) - ngrams_count[ngram], частота встречаемости ключевого слова n в паре с коллокатом c;\n",
    "### N - total_words, общее число словоупотреблений в корпусе (тексте);\n",
    "### П_i f(u_i) - count_mul_result, Произведение абсолютных частот i-й униграммы в 3-грамме"
   ],
   "metadata": {
    "collapsed": false
   },
   "id": "8a676f2b41e06348"
  },
  {
   "cell_type": "code",
   "execution_count": 13,
   "outputs": [
    {
     "data": {
      "text/plain": "[(('mcteer', 'lonesom', 'dove'), 35.321830233977494),\n (('exot', 'melaleuca', 'iguana'), 35.321830233977494),\n (('lonesom', 'dove', 'aggi'), 35.321830233977494),\n (('terin', 'humphrey', 'annia'), 35.321830233977494),\n (('thelma', 'drake', 'norfolk'), 35.321830233977494),\n (('nr', 'narayana', 'murthi'), 35.321830233977494),\n (('unsign', 'adewal', 'ogunley'), 35.321830233977494),\n (('ellen', 'zane', 'oversaw'), 35.321830233977494),\n (('mou', 'tamanthi', 'hydroelectr'), 35.321830233977494),\n (('laserjet', '4345mfp', 'multifunct'), 35.321830233977494),\n (('sarwan', 'shivnarin', 'chanderpaul'), 35.321830233977494),\n (('781', '442', '0750'), 35.321830233977494),\n (('drool', 'alt', 'rocker'), 35.321830233977494),\n (('binti', 'pengiran', 'salleh'), 35.321830233977494),\n (('suitor', 'foodland', 'foa'), 35.321830233977494),\n (('bb', 'lob', 'avg'), 35.321830233977494),\n (('nokiajoinssecuredigitalindustrygroup', '2100', '1039_3'),\n  35.321830233977494),\n (('troi', 'rivier', 'que'), 35.321830233977494),\n (('4345mfp', 'multifunct', 'copier'), 35.321830233977494),\n (('intravascular', 'coagul', 'dic'), 35.321830233977494),\n (('munzala', 'arunach', 'macaqu'), 35.321830233977494),\n (('mp3s', 'blatant', 'disregard'), 35.321830233977494),\n (('guidug', 'guh', 'doo'), 35.321830233977494),\n (('kandanski', '781', '442'), 35.321830233977494),\n (('azahari', 'noordin', 'moh'), 35.321830233977494),\n (('blatant', 'disregard', 'hilari'), 35.321830233977494),\n (('bink', 'lookalik', 'gungan'), 35.321830233977494),\n (('jo', 'wilfri', 'tsonga'), 35.321830233977494),\n (('tung', 'chee', 'hwa'), 35.321830233977494),\n (('macaca', 'munzala', 'arunach'), 35.321830233977494),\n (('middleborough', 'middleboro', 'cobra'), 35.321830233977494),\n (('jane', 'westborough', 'woke'), 35.321830233977494),\n (('netinfomanag', 'postfix', 'serveradmin'), 35.321830233977494),\n (('loren', 'galler', 'rabinowitz'), 35.321830233977494),\n (('petroliam', 'nasion', 'bhd'), 35.321830233977494),\n (('ramnaresh', 'sarwan', 'shivnarin'), 35.321830233977494),\n (('fourier', 'spectromet', 'pfs'), 35.321830233977494),\n (('inver', 'caledonian', 'thistl'), 35.321830233977494),\n (('cna', 'academia', 'sinica'), 35.321830233977494),\n (('2100', '1039_3', '5365922'), 35.321830233977494),\n (('yu', 'shyi', 'kun'), 35.321830233977494),\n (('klien', 'vitantonio', 'liuzzi'), 35.321830233977494),\n (('folger', 'espresso', 'dunkin'), 35.321830233977494),\n (('olympiqu', 'marseill', '1993'), 35.321830233977494),\n (('fsb', 'fud', 'foi'), 35.321830233977494),\n (('ku', 'klux', 'klan'), 35.321830233977494),\n (('shadi', 'nook', 'cranni'), 35.321830233977494),\n (('pickoff', 'cutoff', 'bunt'), 35.321830233977494),\n (('gino', 'guidug', 'guh'), 35.321830233977494),\n (('palett', 'pastel', 'hue'), 35.321830233977494),\n (('sher', 'bahadur', 'deuba'), 35.321830233977494),\n (('humidor', 'darth', 'vader'), 35.321830233977494),\n (('nesn', 'weei', 'lhp'), 35.321830233977494),\n (('jsp', 'storyid', '53949'), 34.321830233977494),\n (('headshak', 'seti', 'headfak'), 34.321830233977494),\n (('mk', 'matan', 'vilnai'), 34.321830233977494),\n (('junki', 'whet', 'appetit'), 34.321830233977494),\n (('jar', 'bink', 'lookalik'), 34.321830233977494),\n (('fewest', 'numbest', 'unearn'), 34.321830233977494),\n (('ah', 'jaffor', 'ullah'), 34.321830233977494)]"
     },
     "execution_count": 13,
     "metadata": {},
     "output_type": "execute_result"
    }
   ],
   "source": [
    "ngram_score = {}\n",
    "for ngram in set(ngrams):\n",
    "    count_mul_result = 1\n",
    "    for word in ngram:\n",
    "        count_mul_result *= word_count[word]\n",
    "    ngram_score[ngram] = np.log2(ngrams_count[ngram] * (total_words**(ngram_length-1)) / count_mul_result)\n",
    "sorted(ngram_score.items(), key=lambda x: -x[1])[0:60]"
   ],
   "metadata": {
    "collapsed": false,
    "ExecuteTime": {
     "end_time": "2024-01-14T18:46:12.563721516Z",
     "start_time": "2024-01-14T18:46:12.195696235Z"
    }
   },
   "id": "239eade116446b8a"
  },
  {
   "cell_type": "code",
   "execution_count": 14,
   "outputs": [
    {
     "data": {
      "text/plain": "[('1913', 'doesnt', 'clearcut'),\n ('1x1', 'ord', '200301151450'),\n ('2100', '1039_3', '5365922'),\n ('4345mfp', 'multifunct', 'copier'),\n ('563', 'kph', 'vampir'),\n ('781', '442', '0750'),\n ('azahari', 'noordin', 'moh'),\n ('bb', 'lob', 'avg'),\n ('bink', 'lookalik', 'gungan'),\n ('binti', 'pengiran', 'salleh'),\n ('blatant', 'disregard', 'hilari'),\n ('cna', 'academia', 'sinica'),\n ('drool', 'alt', 'rocker'),\n ('ellen', 'zane', 'oversaw'),\n ('exot', 'melaleuca', 'iguana'),\n ('folger', 'espresso', 'dunkin'),\n ('fourier', 'spectromet', 'pfs'),\n ('fsb', 'fud', 'foi'),\n ('gino', 'guidug', 'guh'),\n ('guidug', 'guh', 'doo'),\n ('humidor', 'darth', 'vader'),\n ('intravascular', 'coagul', 'dic'),\n ('inver', 'caledonian', 'thistl'),\n ('jane', 'westborough', 'woke'),\n ('jarkko', 'nieminen', 'overpow'),\n ('jo', 'wilfri', 'tsonga'),\n ('kandanski', '781', '442'),\n ('klien', 'vitantonio', 'liuzzi'),\n ('ku', 'klux', 'klan'),\n ('laserjet', '4345mfp', 'multifunct')]"
     },
     "execution_count": 14,
     "metadata": {},
     "output_type": "execute_result"
    }
   ],
   "source": [
    "text = []\n",
    "for sentence in sentences:\n",
    "    text += sentence\n",
    "finder = TrigramCollocationFinder.from_words(Text(text))\n",
    "finder.nbest(nltk.collocations.TrigramAssocMeasures().mi_like, 30)"
   ],
   "metadata": {
    "collapsed": false,
    "ExecuteTime": {
     "end_time": "2024-01-14T18:46:13.647509678Z",
     "start_time": "2024-01-14T18:46:12.574914843Z"
    }
   },
   "id": "7fa7f548f73d5ff4"
  }
 ],
 "metadata": {
  "kernelspec": {
   "display_name": "Python 3",
   "language": "python",
   "name": "python3"
  },
  "language_info": {
   "codemirror_mode": {
    "name": "ipython",
    "version": 2
   },
   "file_extension": ".py",
   "mimetype": "text/x-python",
   "name": "python",
   "nbconvert_exporter": "python",
   "pygments_lexer": "ipython2",
   "version": "2.7.6"
  }
 },
 "nbformat": 4,
 "nbformat_minor": 5
}
