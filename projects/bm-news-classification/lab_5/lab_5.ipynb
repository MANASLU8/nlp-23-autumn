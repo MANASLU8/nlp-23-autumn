{
  "cells": [
    {
      "cell_type": "code",
      "outputs": [],
      "source": [
        "!pip install sentence_transformers\n",
        "!pip install chromadb"
      ],
      "metadata": {
        "id": "27c67a284106ed63"
      },
      "id": "27c67a284106ed63",
      "execution_count": null
    },
    {
      "cell_type": "code",
      "source": [
        "from sentence_transformers import SentenceTransformer\n",
        "import chromadb\n",
        "\n",
        "\n",
        "class EmbeddingFunction:\n",
        "    def __init__(self):\n",
        "        self.model = SentenceTransformer('sentence-transformers/paraphrase-multilingual-mpnet-base-v2')\n",
        "\n",
        "    def __call__(self, input):\n",
        "        return self.model.encode(input).tolist()\n",
        "\n",
        "\n",
        "class DB:\n",
        "\n",
        "    def __init__(self, distance_function, root_path):\n",
        "        self.ef = EmbeddingFunction()\n",
        "        self.client = chromadb.PersistentClient(path=root_path)\n",
        "        self.distance_function = distance_function\n",
        "        assert distance_function in [\"l2\", \"ip\", \"cosine\"], \"Distance function should be 'l2' or 'ip' or 'cosine'\"\n",
        "        self.collection = self.client.get_or_create_collection(\"lab5_\" + self.distance_function,\n",
        "                                                               metadata={\"hnsw:space\": self.distance_function},\n",
        "                                                               embedding_function=self.ef)\n",
        "\n",
        "    def add(self, items):\n",
        "        old_batch = 0\n",
        "        new_batch = 1000\n",
        "        while True:\n",
        "            if new_batch > len(items[\"fragments\"]):\n",
        "                break\n",
        "            self.collection.add(\n",
        "                documents=items[\"fragments\"][old_batch:new_batch],\n",
        "                metadatas=items[\"metadata\"][old_batch:new_batch],\n",
        "                ids=items[\"ids\"][old_batch:new_batch])\n",
        "            old_batch = new_batch\n",
        "            new_batch += 1000\n",
        "        self.collection.add(\n",
        "            documents=items[\"fragments\"][old_batch:],\n",
        "            metadatas=items[\"metadata\"][old_batch:],\n",
        "            ids=items[\"ids\"][old_batch:])\n",
        "\n",
        "    def query(self, query, n_results):\n",
        "        return self.collection.query(query_embeddings=self.ef(query), n_results=n_results)\n",
        "\n",
        "    def clear(self):\n",
        "        self.client.delete_collection(\"lab5_\" + self.distance_function)\n",
        "        self.collection = self.client.get_or_create_collection(\"lab5_\" + self.distance_function,\n",
        "                                                               metadata={\"hnsw:space\": self.distance_function},\n",
        "                                                               embedding_function=self.ef)"
      ],
      "metadata": {
        "id": "R-7HqqlWodjc",
        "is_executing": true
      },
      "id": "R-7HqqlWodjc",
      "execution_count": null,
      "outputs": []
    },
    {
      "cell_type": "code",
      "execution_count": null,
      "outputs": [],
      "source": [
        "from common.utils import split_to_sentences\n",
        "\n",
        "def split_document(lines, fragment_limit=100):\n",
        "    sentences = split_to_sentences(lines)\n",
        "    result = []\n",
        "    fragment = \"\"\n",
        "    length = 0\n",
        "    for s in sentences:\n",
        "        fragment += s + \" \"\n",
        "        length += len(s.split(\" \"))\n",
        "        if length > fragment_limit:\n",
        "            result.append(fragment)\n",
        "            fragment = \"\"\n",
        "            length = 0\n",
        "    return result"
      ],
      "metadata": {
        "id": "a42d23a97e41abe9"
      },
      "id": "a42d23a97e41abe9"
    },
    {
      "cell_type": "code",
      "execution_count": null,
      "outputs": [],
      "source": [
        "import os\n",
        "import pandas as pd\n",
        "\n",
        "def split_dataset(dataset_path, fragment_limit=100):\n",
        "    result_fragments = []\n",
        "    metadata = []\n",
        "    result_ids = []\n",
        "    t = \"train.csv\"\n",
        "    filepath = os.path.join(dataset_path, t)\n",
        "    df = pd.read_csv(filepath, names=['label', 'Title', 'Description'])\n",
        "    df['text'] = (df['Title'] + '. ' + df['Description'])\n",
        "    df.drop(columns=['Title', 'Description'], axis=1, inplace=True)\n",
        "    for index, row in df.iterrows():\n",
        "      fragments_raw = split_document(row['text'], fragment_limit)\n",
        "      counter = 0\n",
        "      for fragment in fragments_raw:\n",
        "          result_fragments.append(fragment.replace(\"\\n\", \" \"))\n",
        "          metadata.append({\"document\": index, \"topic\": row[\"label\"]})\n",
        "          result_ids.append(f\"{index}_{row['label']}_{counter}\")\n",
        "          counter += 1\n",
        "    return result_fragments, result_ids, metadata"
      ],
      "metadata": {
        "id": "ac5311dfa4aa41bc"
      },
      "id": "ac5311dfa4aa41bc"
    },
    {
      "cell_type": "code",
      "outputs": [],
      "source": [
        "data_dir = os.path.realpath(\"../dataset/raw\")"
      ],
      "metadata": {
        "id": "c6006c178d530f24"
      },
      "id": "c6006c178d530f24",
      "execution_count": null
    },
    {
      "cell_type": "code",
      "outputs": [],
      "source": [
        "fragments, ids, metadata = split_dataset(data_dir, fragment_limit=20)"
      ],
      "metadata": {
        "id": "87af6ad1b1a104c8"
      },
      "id": "87af6ad1b1a104c8",
      "execution_count": null
    },
    {
      "cell_type": "code",
      "outputs": [],
      "source": [
        "database_l2 = DB(\"l2\", \"./db\")\n",
        "database_ip = DB(\"ip\", \"./db\")\n",
        "database_cosine = DB(\"cosine\", \"./db\")"
      ],
      "metadata": {
        "id": "b9c8be3fe3d1c3e9"
      },
      "id": "b9c8be3fe3d1c3e9",
      "execution_count": null
    },
    {
      "cell_type": "code",
      "outputs": [],
      "source": [
        "database_l2.clear()\n",
        "database_l2.add({\"fragments\": fragments, \"metadata\": metadata, \"ids\": ids})\n",
        "database_ip.clear()\n",
        "database_ip.add({\"fragments\": fragments, \"metadata\": metadata, \"ids\": ids})\n",
        "database_cosine.clear()\n",
        "database_cosine.add({\"fragments\": fragments, \"metadata\": metadata, \"ids\": ids})"
      ],
      "metadata": {
        "id": "943c6315928275ac"
      },
      "id": "943c6315928275ac",
      "execution_count": null
    },
    {
      "cell_type": "code",
      "outputs": [],
      "source": [
        "database_l2.query(\"Who loves Christianity?\", 5)"
      ],
      "metadata": {
        "id": "9356a6dcc3c0f587"
      },
      "id": "9356a6dcc3c0f587",
      "execution_count": null
    },
    {
      "cell_type": "code",
      "outputs": [],
      "source": [
        "database_ip.query(\"Who loves Christianity?\", 5)"
      ],
      "metadata": {
        "id": "fccf44e3f25fd456"
      },
      "id": "fccf44e3f25fd456",
      "execution_count": null
    },
    {
      "cell_type": "code",
      "outputs": [],
      "source": [
        "database_cosine.query(\"Who loves Christianity?\", 5)"
      ],
      "metadata": {
        "id": "7eff959b97b17ea7"
      },
      "id": "7eff959b97b17ea7",
      "execution_count": null
    },
    {
      "cell_type": "code",
      "outputs": [],
      "source": [
        "database_l2.query(\"Кто любит христианство?\", 5)"
      ],
      "metadata": {
        "id": "7fe5a3526ed8abb"
      },
      "id": "7fe5a3526ed8abb",
      "execution_count": null
    },
    {
      "cell_type": "code",
      "outputs": [],
      "source": [
        "database_ip.query(\"Кто любит христианство?\", 5)"
      ],
      "metadata": {
        "id": "94acfaaf6741b048"
      },
      "id": "94acfaaf6741b048",
      "execution_count": null
    },
    {
      "cell_type": "code",
      "outputs": [],
      "source": [
        "database_cosine.query(\"Кто любит христианство?\", 5)"
      ],
      "metadata": {
        "id": "5207658173401a1b"
      },
      "id": "5207658173401a1b",
      "execution_count": null
    }
  ],
  "metadata": {
    "kernelspec": {
      "name": "python3",
      "language": "python",
      "display_name": "Python 3 (ipykernel)"
    },
    "language_info": {
      "codemirror_mode": {
        "name": "ipython",
        "version": 2
      },
      "file_extension": ".py",
      "mimetype": "text/x-python",
      "name": "python",
      "nbconvert_exporter": "python",
      "pygments_lexer": "ipython2",
      "version": "2.7.6"
    },
    "colab": {
      "provenance": [],
      "gpuType": "T4"
    },
    "accelerator": "GPU"
  },
  "nbformat": 4,
  "nbformat_minor": 5
}